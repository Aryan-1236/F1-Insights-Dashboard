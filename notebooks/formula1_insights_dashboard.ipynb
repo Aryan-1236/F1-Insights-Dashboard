{
 "cells": [
  {
   "cell_type": "markdown",
   "id": "7216250d",
   "metadata": {},
   "source": [
    "# 🏎️ F1 Insights Dashboard: Exploring Race Dynamics and Driver Performance\n",
    "\n",
    "Welcome to the Formula 1 Insights Dashboard project! This notebook explores race dynamics, driver performance, constructor trends, and historical patterns in Formula 1 racing using publicly available data.\n",
    "\n",
    "**Goals:**\n",
    "- Analyze career points, wins, and seasonal performance.\n",
    "- Visualize constructor and driver dominance.\n",
    "- Explore geographical and team-level distributions.\n",
    "\n",
    "---"
   ]
  },
  {
   "cell_type": "markdown",
   "id": "1dd72059",
   "metadata": {},
   "source": [
    "### 📦 Importing Required Libraries\n",
    "\n",
    "We begin by importing the necessary Python libraries for data manipulation and visualization:\n",
    "\n",
    "- **pandas**: For working with tabular data and performing data wrangling operations.\n",
    "- **matplotlib.pyplot**: For creating static, basic visualizations.\n",
    "- **seaborn**: Built on top of Matplotlib, it provides a high-level interface for attractive and informative statistical graphics.\n",
    "- **plotly.express**: For creating interactive and dynamic visualizations, ideal for dashboards.\n",
    "\n",
    "These libraries form the backbone of our analysis and visual storytelling."
   ]
  },
  {
   "cell_type": "code",
   "execution_count": 2,
   "id": "147c7ae4",
   "metadata": {},
   "outputs": [],
   "source": [
    "import pandas as pd\n",
    "import matplotlib.pyplot as plt\n",
    "import seaborn as sns\n",
    "import plotly.express as px"
   ]
  },
  {
   "cell_type": "markdown",
   "id": "4363dfdb",
   "metadata": {},
   "source": [
    "### 📥 Loading Raw Data\n",
    "\n",
    "We load the core datasets required for our analysis from the `data/raw/` directory. These CSV files were manually downloaded from Kaggle due to API limitations.\n",
    "\n",
    "The datasets include:\n",
    "\n",
    "- `driver_standings.csv`: Points and ranks of drivers per race.\n",
    "- `drivers.csv`: Metadata about F1 drivers (names, nationalities, etc.).\n",
    "- `constructors.csv`: Constructor (team) information.\n",
    "- `races.csv`: Race-level details including the year, round, and name.\n",
    "- `results.csv`: Detailed race results including driver and constructor performances.\n",
    "\n",
    "Each dataset plays a key role in shaping insights for different perspectives (driver, constructor, season)."
   ]
  },
  {
   "cell_type": "code",
   "execution_count": 27,
   "id": "c618642d",
   "metadata": {},
   "outputs": [],
   "source": [
    "driver_standings = pd.read_csv(\"../data/raw/driver_standings.csv\")\n",
    "drivers = pd.read_csv(\"../data/raw/drivers.csv\")\n",
    "constructors = pd.read_csv(\"../data/raw/constructors.csv\")\n",
    "races = pd.read_csv(\"../data/raw/races.csv\")\n",
    "results = pd.read_csv(\"../data/raw/results.csv\")"
   ]
  },
  {
   "cell_type": "markdown",
   "id": "b9954ffb",
   "metadata": {},
   "source": [
    "### 🔗 Merging Datasets for Enriched Context\n",
    "\n",
    "To perform meaningful analysis, we combine multiple datasets into a unified DataFrame called `merged_df`. This enriches the raw `driver_standings` data with contextual information from other tables:\n",
    "\n",
    "- 🔄 **Step 1**: Merge with `results.csv` to get `constructorId` for each driver-race pair.\n",
    "- 👤 **Step 2**: Merge with `drivers.csv` to attach driver surnames and nationalities.\n",
    "- 🏎️ **Step 3**: Merge with `constructors.csv` to map constructor/team names.\n",
    "- 🏁 **Step 4**: Merge with `races.csv` to extract race names and years.\n",
    "\n",
    "We then select only the relevant columns for our analysis and rename them for clarity:\n",
    "- `name` → `race_name`\n",
    "- `surname` → `driver`\n",
    "- `constructorRef` → `team`"
   ]
  },
  {
   "cell_type": "code",
   "execution_count": 28,
   "id": "cf8671ac",
   "metadata": {},
   "outputs": [],
   "source": [
    "# Merge driver_standings with results to get constructorId\n",
    "merged_df = pd.merge(driver_standings, results[['raceId', 'driverId', 'constructorId']], on=['raceId', 'driverId'], how='left')\n",
    "\n",
    "# Merge with drivers for driver name and nationality\n",
    "merged_df = pd.merge(merged_df, drivers[['driverId', 'surname', 'nationality']], on='driverId', how='left')\n",
    "\n",
    "# Merge with constructors for team name\n",
    "merged_df = pd.merge(merged_df, constructors[['constructorId', 'constructorRef']], on='constructorId', how='left')\n",
    "\n",
    "# Merge with races for year and race name\n",
    "merged_df = pd.merge(merged_df, races[['raceId', 'year', 'name']], on='raceId', how='left')\n",
    "\n",
    "# Final column selection and renaming\n",
    "merged_df = merged_df[['year', 'name', 'position', 'points', 'wins', 'surname', 'nationality', 'constructorRef']]\n",
    "merged_df.rename(columns={\n",
    "    'name': 'race_name',\n",
    "    'surname': 'driver',\n",
    "    'constructorRef': 'team'\n",
    "}, inplace=True)"
   ]
  },
  {
   "cell_type": "markdown",
   "id": "728e784e",
   "metadata": {},
   "source": [
    "### 🧹 Data Cleaning: Ensuring Numerical Consistency\n",
    "\n",
    "Before proceeding with analysis, it's important to ensure that the `points` column is correctly treated as numeric data:\n",
    "\n",
    "- ✅ Convert the `points` column to numeric using `pd.to_numeric`, coercing any invalid entries into `NaN`.\n",
    "- 🧼 Drop rows where `points` could not be converted, as those are not useful for numerical analysis."
   ]
  },
  {
   "cell_type": "code",
   "execution_count": 29,
   "id": "36ee46ab",
   "metadata": {},
   "outputs": [],
   "source": [
    "# Ensure 'points' is float\n",
    "merged_df['points'] = pd.to_numeric(merged_df['points'], errors='coerce')\n",
    "merged_df.dropna(subset=['points'], inplace=True)"
   ]
  },
  {
   "cell_type": "markdown",
   "id": "037d46c3",
   "metadata": {},
   "source": [
    "### 🏆 Career Points Analysis: Top 10 Drivers\n",
    "\n",
    "In this section, we identify the top 10 drivers based on **total career points**, considering only **season-ending standings**:\n",
    "\n",
    "- We first aggregate the final points per driver per season by grouping and taking the maximum `points` (to avoid duplicate entries from multiple races).\n",
    "- Then, we compute total career points per driver.\n",
    "- Finally, we visualize the top 10 drivers using a bar plot with Plotly.\n",
    "\n",
    "This gives us an overall view of driver consistency and performance over the years."
   ]
  },
  {
   "cell_type": "code",
   "execution_count": 35,
   "id": "d7263966",
   "metadata": {},
   "outputs": [
    {
     "data": {
      "application/vnd.plotly.v1+json": {
       "config": {
        "plotlyServerURL": "https://plot.ly"
       },
       "data": [
        {
         "hovertemplate": "Driver=%{x}<br>Career Points=%{y}<extra></extra>",
         "legendgroup": "Hamilton",
         "marker": {
          "color": "#636efa",
          "pattern": {
           "shape": ""
          }
         },
         "name": "Hamilton",
         "orientation": "v",
         "showlegend": true,
         "textposition": "auto",
         "type": "bar",
         "x": [
          "Hamilton"
         ],
         "xaxis": "x",
         "y": {
          "bdata": "AAAAAID+skA=",
          "dtype": "f8"
         },
         "yaxis": "y"
        },
        {
         "hovertemplate": "Driver=%{x}<br>Career Points=%{y}<extra></extra>",
         "legendgroup": "Vettel",
         "marker": {
          "color": "#EF553B",
          "pattern": {
           "shape": ""
          }
         },
         "name": "Vettel",
         "orientation": "v",
         "showlegend": true,
         "textposition": "auto",
         "type": "bar",
         "x": [
          "Vettel"
         ],
         "xaxis": "x",
         "y": {
          "bdata": "AAAAAAA0qEA=",
          "dtype": "f8"
         },
         "yaxis": "y"
        },
        {
         "hovertemplate": "Driver=%{x}<br>Career Points=%{y}<extra></extra>",
         "legendgroup": "Verstappen",
         "marker": {
          "color": "#00cc96",
          "pattern": {
           "shape": ""
          }
         },
         "name": "Verstappen",
         "orientation": "v",
         "showlegend": true,
         "textposition": "auto",
         "type": "bar",
         "x": [
          "Verstappen"
         ],
         "xaxis": "x",
         "y": {
          "bdata": "AAAAAADBp0A=",
          "dtype": "f8"
         },
         "yaxis": "y"
        },
        {
         "hovertemplate": "Driver=%{x}<br>Career Points=%{y}<extra></extra>",
         "legendgroup": "Alonso",
         "marker": {
          "color": "#ab63fa",
          "pattern": {
           "shape": ""
          }
         },
         "name": "Alonso",
         "orientation": "v",
         "showlegend": true,
         "textposition": "auto",
         "type": "bar",
         "x": [
          "Alonso"
         ],
         "xaxis": "x",
         "y": {
          "bdata": "AAAAAABCokA=",
          "dtype": "f8"
         },
         "yaxis": "y"
        },
        {
         "hovertemplate": "Driver=%{x}<br>Career Points=%{y}<extra></extra>",
         "legendgroup": "Räikkönen",
         "marker": {
          "color": "#FFA15A",
          "pattern": {
           "shape": ""
          }
         },
         "name": "Räikkönen",
         "orientation": "v",
         "showlegend": true,
         "textposition": "auto",
         "type": "bar",
         "x": [
          "Räikkönen"
         ],
         "xaxis": "x",
         "y": {
          "bdata": "AAAAAABEnUA=",
          "dtype": "f8"
         },
         "yaxis": "y"
        },
        {
         "hovertemplate": "Driver=%{x}<br>Career Points=%{y}<extra></extra>",
         "legendgroup": "Bottas",
         "marker": {
          "color": "#19d3f3",
          "pattern": {
           "shape": ""
          }
         },
         "name": "Bottas",
         "orientation": "v",
         "showlegend": true,
         "textposition": "auto",
         "type": "bar",
         "x": [
          "Bottas"
         ],
         "xaxis": "x",
         "y": {
          "bdata": "AAAAAAAUnEA=",
          "dtype": "f8"
         },
         "yaxis": "y"
        },
        {
         "hovertemplate": "Driver=%{x}<br>Career Points=%{y}<extra></extra>",
         "legendgroup": "Rosberg",
         "marker": {
          "color": "#FF6692",
          "pattern": {
           "shape": ""
          }
         },
         "name": "Rosberg",
         "orientation": "v",
         "showlegend": true,
         "textposition": "auto",
         "type": "bar",
         "x": [
          "Rosberg"
         ],
         "xaxis": "x",
         "y": {
          "bdata": "AAAAAABom0A=",
          "dtype": "f8"
         },
         "yaxis": "y"
        },
        {
         "hovertemplate": "Driver=%{x}<br>Career Points=%{y}<extra></extra>",
         "legendgroup": "Pérez",
         "marker": {
          "color": "#B6E880",
          "pattern": {
           "shape": ""
          }
         },
         "name": "Pérez",
         "orientation": "v",
         "showlegend": true,
         "textposition": "auto",
         "type": "bar",
         "x": [
          "Pérez"
         ],
         "xaxis": "x",
         "y": {
          "bdata": "AAAAAACYmUA=",
          "dtype": "f8"
         },
         "yaxis": "y"
        },
        {
         "hovertemplate": "Driver=%{x}<br>Career Points=%{y}<extra></extra>",
         "legendgroup": "Schumacher",
         "marker": {
          "color": "#FF97FF",
          "pattern": {
           "shape": ""
          }
         },
         "name": "Schumacher",
         "orientation": "v",
         "showlegend": true,
         "textposition": "auto",
         "type": "bar",
         "x": [
          "Schumacher"
         ],
         "xaxis": "x",
         "y": {
          "bdata": "AAAAAAC8mEA=",
          "dtype": "f8"
         },
         "yaxis": "y"
        },
        {
         "hovertemplate": "Driver=%{x}<br>Career Points=%{y}<extra></extra>",
         "legendgroup": "Leclerc",
         "marker": {
          "color": "#FECB52",
          "pattern": {
           "shape": ""
          }
         },
         "name": "Leclerc",
         "orientation": "v",
         "showlegend": true,
         "textposition": "auto",
         "type": "bar",
         "x": [
          "Leclerc"
         ],
         "xaxis": "x",
         "y": {
          "bdata": "AAAAAABYlkA=",
          "dtype": "f8"
         },
         "yaxis": "y"
        }
       ],
       "layout": {
        "barmode": "relative",
        "legend": {
         "title": {
          "text": "Driver"
         },
         "tracegroupgap": 0
        },
        "template": {
         "data": {
          "bar": [
           {
            "error_x": {
             "color": "#f2f5fa"
            },
            "error_y": {
             "color": "#f2f5fa"
            },
            "marker": {
             "line": {
              "color": "rgb(17,17,17)",
              "width": 0.5
             },
             "pattern": {
              "fillmode": "overlay",
              "size": 10,
              "solidity": 0.2
             }
            },
            "type": "bar"
           }
          ],
          "barpolar": [
           {
            "marker": {
             "line": {
              "color": "rgb(17,17,17)",
              "width": 0.5
             },
             "pattern": {
              "fillmode": "overlay",
              "size": 10,
              "solidity": 0.2
             }
            },
            "type": "barpolar"
           }
          ],
          "carpet": [
           {
            "aaxis": {
             "endlinecolor": "#A2B1C6",
             "gridcolor": "#506784",
             "linecolor": "#506784",
             "minorgridcolor": "#506784",
             "startlinecolor": "#A2B1C6"
            },
            "baxis": {
             "endlinecolor": "#A2B1C6",
             "gridcolor": "#506784",
             "linecolor": "#506784",
             "minorgridcolor": "#506784",
             "startlinecolor": "#A2B1C6"
            },
            "type": "carpet"
           }
          ],
          "choropleth": [
           {
            "colorbar": {
             "outlinewidth": 0,
             "ticks": ""
            },
            "type": "choropleth"
           }
          ],
          "contour": [
           {
            "colorbar": {
             "outlinewidth": 0,
             "ticks": ""
            },
            "colorscale": [
             [
              0,
              "#0d0887"
             ],
             [
              0.1111111111111111,
              "#46039f"
             ],
             [
              0.2222222222222222,
              "#7201a8"
             ],
             [
              0.3333333333333333,
              "#9c179e"
             ],
             [
              0.4444444444444444,
              "#bd3786"
             ],
             [
              0.5555555555555556,
              "#d8576b"
             ],
             [
              0.6666666666666666,
              "#ed7953"
             ],
             [
              0.7777777777777778,
              "#fb9f3a"
             ],
             [
              0.8888888888888888,
              "#fdca26"
             ],
             [
              1,
              "#f0f921"
             ]
            ],
            "type": "contour"
           }
          ],
          "contourcarpet": [
           {
            "colorbar": {
             "outlinewidth": 0,
             "ticks": ""
            },
            "type": "contourcarpet"
           }
          ],
          "heatmap": [
           {
            "colorbar": {
             "outlinewidth": 0,
             "ticks": ""
            },
            "colorscale": [
             [
              0,
              "#0d0887"
             ],
             [
              0.1111111111111111,
              "#46039f"
             ],
             [
              0.2222222222222222,
              "#7201a8"
             ],
             [
              0.3333333333333333,
              "#9c179e"
             ],
             [
              0.4444444444444444,
              "#bd3786"
             ],
             [
              0.5555555555555556,
              "#d8576b"
             ],
             [
              0.6666666666666666,
              "#ed7953"
             ],
             [
              0.7777777777777778,
              "#fb9f3a"
             ],
             [
              0.8888888888888888,
              "#fdca26"
             ],
             [
              1,
              "#f0f921"
             ]
            ],
            "type": "heatmap"
           }
          ],
          "histogram": [
           {
            "marker": {
             "pattern": {
              "fillmode": "overlay",
              "size": 10,
              "solidity": 0.2
             }
            },
            "type": "histogram"
           }
          ],
          "histogram2d": [
           {
            "colorbar": {
             "outlinewidth": 0,
             "ticks": ""
            },
            "colorscale": [
             [
              0,
              "#0d0887"
             ],
             [
              0.1111111111111111,
              "#46039f"
             ],
             [
              0.2222222222222222,
              "#7201a8"
             ],
             [
              0.3333333333333333,
              "#9c179e"
             ],
             [
              0.4444444444444444,
              "#bd3786"
             ],
             [
              0.5555555555555556,
              "#d8576b"
             ],
             [
              0.6666666666666666,
              "#ed7953"
             ],
             [
              0.7777777777777778,
              "#fb9f3a"
             ],
             [
              0.8888888888888888,
              "#fdca26"
             ],
             [
              1,
              "#f0f921"
             ]
            ],
            "type": "histogram2d"
           }
          ],
          "histogram2dcontour": [
           {
            "colorbar": {
             "outlinewidth": 0,
             "ticks": ""
            },
            "colorscale": [
             [
              0,
              "#0d0887"
             ],
             [
              0.1111111111111111,
              "#46039f"
             ],
             [
              0.2222222222222222,
              "#7201a8"
             ],
             [
              0.3333333333333333,
              "#9c179e"
             ],
             [
              0.4444444444444444,
              "#bd3786"
             ],
             [
              0.5555555555555556,
              "#d8576b"
             ],
             [
              0.6666666666666666,
              "#ed7953"
             ],
             [
              0.7777777777777778,
              "#fb9f3a"
             ],
             [
              0.8888888888888888,
              "#fdca26"
             ],
             [
              1,
              "#f0f921"
             ]
            ],
            "type": "histogram2dcontour"
           }
          ],
          "mesh3d": [
           {
            "colorbar": {
             "outlinewidth": 0,
             "ticks": ""
            },
            "type": "mesh3d"
           }
          ],
          "parcoords": [
           {
            "line": {
             "colorbar": {
              "outlinewidth": 0,
              "ticks": ""
             }
            },
            "type": "parcoords"
           }
          ],
          "pie": [
           {
            "automargin": true,
            "type": "pie"
           }
          ],
          "scatter": [
           {
            "marker": {
             "line": {
              "color": "#283442"
             }
            },
            "type": "scatter"
           }
          ],
          "scatter3d": [
           {
            "line": {
             "colorbar": {
              "outlinewidth": 0,
              "ticks": ""
             }
            },
            "marker": {
             "colorbar": {
              "outlinewidth": 0,
              "ticks": ""
             }
            },
            "type": "scatter3d"
           }
          ],
          "scattercarpet": [
           {
            "marker": {
             "colorbar": {
              "outlinewidth": 0,
              "ticks": ""
             }
            },
            "type": "scattercarpet"
           }
          ],
          "scattergeo": [
           {
            "marker": {
             "colorbar": {
              "outlinewidth": 0,
              "ticks": ""
             }
            },
            "type": "scattergeo"
           }
          ],
          "scattergl": [
           {
            "marker": {
             "line": {
              "color": "#283442"
             }
            },
            "type": "scattergl"
           }
          ],
          "scattermap": [
           {
            "marker": {
             "colorbar": {
              "outlinewidth": 0,
              "ticks": ""
             }
            },
            "type": "scattermap"
           }
          ],
          "scattermapbox": [
           {
            "marker": {
             "colorbar": {
              "outlinewidth": 0,
              "ticks": ""
             }
            },
            "type": "scattermapbox"
           }
          ],
          "scatterpolar": [
           {
            "marker": {
             "colorbar": {
              "outlinewidth": 0,
              "ticks": ""
             }
            },
            "type": "scatterpolar"
           }
          ],
          "scatterpolargl": [
           {
            "marker": {
             "colorbar": {
              "outlinewidth": 0,
              "ticks": ""
             }
            },
            "type": "scatterpolargl"
           }
          ],
          "scatterternary": [
           {
            "marker": {
             "colorbar": {
              "outlinewidth": 0,
              "ticks": ""
             }
            },
            "type": "scatterternary"
           }
          ],
          "surface": [
           {
            "colorbar": {
             "outlinewidth": 0,
             "ticks": ""
            },
            "colorscale": [
             [
              0,
              "#0d0887"
             ],
             [
              0.1111111111111111,
              "#46039f"
             ],
             [
              0.2222222222222222,
              "#7201a8"
             ],
             [
              0.3333333333333333,
              "#9c179e"
             ],
             [
              0.4444444444444444,
              "#bd3786"
             ],
             [
              0.5555555555555556,
              "#d8576b"
             ],
             [
              0.6666666666666666,
              "#ed7953"
             ],
             [
              0.7777777777777778,
              "#fb9f3a"
             ],
             [
              0.8888888888888888,
              "#fdca26"
             ],
             [
              1,
              "#f0f921"
             ]
            ],
            "type": "surface"
           }
          ],
          "table": [
           {
            "cells": {
             "fill": {
              "color": "#506784"
             },
             "line": {
              "color": "rgb(17,17,17)"
             }
            },
            "header": {
             "fill": {
              "color": "#2a3f5f"
             },
             "line": {
              "color": "rgb(17,17,17)"
             }
            },
            "type": "table"
           }
          ]
         },
         "layout": {
          "annotationdefaults": {
           "arrowcolor": "#f2f5fa",
           "arrowhead": 0,
           "arrowwidth": 1
          },
          "autotypenumbers": "strict",
          "coloraxis": {
           "colorbar": {
            "outlinewidth": 0,
            "ticks": ""
           }
          },
          "colorscale": {
           "diverging": [
            [
             0,
             "#8e0152"
            ],
            [
             0.1,
             "#c51b7d"
            ],
            [
             0.2,
             "#de77ae"
            ],
            [
             0.3,
             "#f1b6da"
            ],
            [
             0.4,
             "#fde0ef"
            ],
            [
             0.5,
             "#f7f7f7"
            ],
            [
             0.6,
             "#e6f5d0"
            ],
            [
             0.7,
             "#b8e186"
            ],
            [
             0.8,
             "#7fbc41"
            ],
            [
             0.9,
             "#4d9221"
            ],
            [
             1,
             "#276419"
            ]
           ],
           "sequential": [
            [
             0,
             "#0d0887"
            ],
            [
             0.1111111111111111,
             "#46039f"
            ],
            [
             0.2222222222222222,
             "#7201a8"
            ],
            [
             0.3333333333333333,
             "#9c179e"
            ],
            [
             0.4444444444444444,
             "#bd3786"
            ],
            [
             0.5555555555555556,
             "#d8576b"
            ],
            [
             0.6666666666666666,
             "#ed7953"
            ],
            [
             0.7777777777777778,
             "#fb9f3a"
            ],
            [
             0.8888888888888888,
             "#fdca26"
            ],
            [
             1,
             "#f0f921"
            ]
           ],
           "sequentialminus": [
            [
             0,
             "#0d0887"
            ],
            [
             0.1111111111111111,
             "#46039f"
            ],
            [
             0.2222222222222222,
             "#7201a8"
            ],
            [
             0.3333333333333333,
             "#9c179e"
            ],
            [
             0.4444444444444444,
             "#bd3786"
            ],
            [
             0.5555555555555556,
             "#d8576b"
            ],
            [
             0.6666666666666666,
             "#ed7953"
            ],
            [
             0.7777777777777778,
             "#fb9f3a"
            ],
            [
             0.8888888888888888,
             "#fdca26"
            ],
            [
             1,
             "#f0f921"
            ]
           ]
          },
          "colorway": [
           "#636efa",
           "#EF553B",
           "#00cc96",
           "#ab63fa",
           "#FFA15A",
           "#19d3f3",
           "#FF6692",
           "#B6E880",
           "#FF97FF",
           "#FECB52"
          ],
          "font": {
           "color": "#f2f5fa"
          },
          "geo": {
           "bgcolor": "rgb(17,17,17)",
           "lakecolor": "rgb(17,17,17)",
           "landcolor": "rgb(17,17,17)",
           "showlakes": true,
           "showland": true,
           "subunitcolor": "#506784"
          },
          "hoverlabel": {
           "align": "left"
          },
          "hovermode": "closest",
          "mapbox": {
           "style": "dark"
          },
          "paper_bgcolor": "rgb(17,17,17)",
          "plot_bgcolor": "rgb(17,17,17)",
          "polar": {
           "angularaxis": {
            "gridcolor": "#506784",
            "linecolor": "#506784",
            "ticks": ""
           },
           "bgcolor": "rgb(17,17,17)",
           "radialaxis": {
            "gridcolor": "#506784",
            "linecolor": "#506784",
            "ticks": ""
           }
          },
          "scene": {
           "xaxis": {
            "backgroundcolor": "rgb(17,17,17)",
            "gridcolor": "#506784",
            "gridwidth": 2,
            "linecolor": "#506784",
            "showbackground": true,
            "ticks": "",
            "zerolinecolor": "#C8D4E3"
           },
           "yaxis": {
            "backgroundcolor": "rgb(17,17,17)",
            "gridcolor": "#506784",
            "gridwidth": 2,
            "linecolor": "#506784",
            "showbackground": true,
            "ticks": "",
            "zerolinecolor": "#C8D4E3"
           },
           "zaxis": {
            "backgroundcolor": "rgb(17,17,17)",
            "gridcolor": "#506784",
            "gridwidth": 2,
            "linecolor": "#506784",
            "showbackground": true,
            "ticks": "",
            "zerolinecolor": "#C8D4E3"
           }
          },
          "shapedefaults": {
           "line": {
            "color": "#f2f5fa"
           }
          },
          "sliderdefaults": {
           "bgcolor": "#C8D4E3",
           "bordercolor": "rgb(17,17,17)",
           "borderwidth": 1,
           "tickwidth": 0
          },
          "ternary": {
           "aaxis": {
            "gridcolor": "#506784",
            "linecolor": "#506784",
            "ticks": ""
           },
           "baxis": {
            "gridcolor": "#506784",
            "linecolor": "#506784",
            "ticks": ""
           },
           "bgcolor": "rgb(17,17,17)",
           "caxis": {
            "gridcolor": "#506784",
            "linecolor": "#506784",
            "ticks": ""
           }
          },
          "title": {
           "x": 0.05
          },
          "updatemenudefaults": {
           "bgcolor": "#506784",
           "borderwidth": 0
          },
          "xaxis": {
           "automargin": true,
           "gridcolor": "#283442",
           "linecolor": "#506784",
           "ticks": "",
           "title": {
            "standoff": 15
           },
           "zerolinecolor": "#283442",
           "zerolinewidth": 2
          },
          "yaxis": {
           "automargin": true,
           "gridcolor": "#283442",
           "linecolor": "#506784",
           "ticks": "",
           "title": {
            "standoff": 15
           },
           "zerolinecolor": "#283442",
           "zerolinewidth": 2
          }
         }
        },
        "title": {
         "text": "Top 10 Drivers by Career Points (Season-End Only)"
        },
        "xaxis": {
         "anchor": "y",
         "categoryarray": [
          "Hamilton",
          "Vettel",
          "Verstappen",
          "Alonso",
          "Räikkönen",
          "Bottas",
          "Rosberg",
          "Pérez",
          "Schumacher",
          "Leclerc"
         ],
         "categoryorder": "array",
         "domain": [
          0,
          1
         ],
         "title": {
          "text": "Driver"
         }
        },
        "yaxis": {
         "anchor": "x",
         "domain": [
          0,
          1
         ],
         "title": {
          "text": "Career Points"
         }
        }
       }
      }
     },
     "metadata": {},
     "output_type": "display_data"
    }
   ],
   "source": [
    "# Deduplicate: Get only the final standing per driver per season\n",
    "final_standings = merged_df.groupby(['year', 'driver']).agg({\n",
    "    'points': 'max',\n",
    "    'team': 'first'\n",
    "}).reset_index()\n",
    "\n",
    "# Total career points\n",
    "career_points = final_standings.groupby('driver')['points'].sum().reset_index()\n",
    "career_points = career_points.sort_values(by='points', ascending=False).head(10)\n",
    "\n",
    "# Plot\n",
    "import plotly.express as px\n",
    "\n",
    "fig = px.bar(\n",
    "    career_points,\n",
    "    x='driver',\n",
    "    y='points',\n",
    "    title='Top 10 Drivers by Career Points (Season-End Only)',\n",
    "    labels={'points': 'Career Points', 'driver': 'Driver'},\n",
    "    template='plotly_dark',\n",
    "    color='driver'\n",
    ")\n",
    "fig.show()"
   ]
  },
  {
   "cell_type": "markdown",
   "id": "54ae9a13",
   "metadata": {},
   "source": [
    "### 📈 Season-wise Performance of Top 10 Drivers\n",
    "\n",
    "Now that we've identified the top 10 drivers by career points, we take a closer look at how their **performance varied season by season**.\n",
    "\n",
    "- We filter the dataset to include only the top 10 drivers.\n",
    "- For each year, we plot their end-of-season point totals.\n",
    "- The line plot shows how consistently each driver has performed and highlights dominant seasons.\n",
    "\n",
    "This helps us visualize career trajectories, rivalries, and peak performance years."
   ]
  },
  {
   "cell_type": "code",
   "execution_count": 36,
   "id": "6eeea2ac",
   "metadata": {},
   "outputs": [
    {
     "data": {
      "application/vnd.plotly.v1+json": {
       "config": {
        "plotlyServerURL": "https://plot.ly"
       },
       "data": [
        {
         "hovertemplate": "driver=Hamilton<br>Year=%{x}<br>Points=%{y}<extra></extra>",
         "legendgroup": "Hamilton",
         "line": {
          "color": "#636efa",
          "dash": "solid"
         },
         "marker": {
          "symbol": "circle"
         },
         "mode": "lines+markers",
         "name": "Hamilton",
         "orientation": "v",
         "showlegend": true,
         "type": "scatter",
         "x": {
          "bdata": "nwegB6EH1wfYB9kH2gfbB9wH3QfeB98H4AfhB+IH4wfkB+UH5gfnB+gH",
          "dtype": "i2"
         },
         "xaxis": "x",
         "y": {
          "bdata": "AAAAAAAAAAAAAAAAAAAAAAAAAAAAAAAAAAAAAABAW0AAAAAAAIBYQAAAAAAAgEhAAAAAAAAAbkAAAAAAAGBsQAAAAAAAwGdAAAAAAACgZ0AAAAAAAAB4QAAAAAAA0HdAAAAAAADAd0AAAAAAALB2QAAAAAAAgHlAAAAAAADQeUAAAAAAALB1QAAAAAAAOHhAAAAAAAAAbkAAAAAAAEBtQAAAAAAA4GtA",
          "dtype": "f8"
         },
         "yaxis": "y"
        },
        {
         "hovertemplate": "driver=Rosberg<br>Year=%{x}<br>Points=%{y}<extra></extra>",
         "legendgroup": "Rosberg",
         "line": {
          "color": "#EF553B",
          "dash": "solid"
         },
         "marker": {
          "symbol": "circle"
         },
         "mode": "lines+markers",
         "name": "Rosberg",
         "orientation": "v",
         "showlegend": true,
         "type": "scatter",
         "x": {
          "bdata": "uge7B7wHvQe+B78HwAfBB8IH1gfXB9gH2QfaB9sH3AfdB94H3wfgBw==",
          "dtype": "i2"
         },
         "xaxis": "x",
         "y": {
          "bdata": "AAAAAAAAAAAAAAAAAAAAAAAAAAAAABhAAAAAAAAAAAAAAAAAAABGQAAAAAAAADtAAAAAAACANEAAAAAAAABEQAAAAAAAADZAAAAAAAAAEEAAAAAAAAA0QAAAAAAAADFAAAAAAABAQUAAAAAAAMBhQAAAAAAAQFZAAAAAAABAV0AAAAAAAGBlQAAAAAAA0HNAAAAAAAAgdEAAAAAAABB4QA==",
          "dtype": "f8"
         },
         "yaxis": "y"
        },
        {
         "hovertemplate": "driver=Schumacher<br>Year=%{x}<br>Points=%{y}<extra></extra>",
         "legendgroup": "Schumacher",
         "line": {
          "color": "#00cc96",
          "dash": "solid"
         },
         "marker": {
          "symbol": "circle"
         },
         "mode": "lines+markers",
         "name": "Schumacher",
         "orientation": "v",
         "showlegend": true,
         "type": "scatter",
         "x": {
          "bdata": "xwfIB8kHygfLB8wHzQfOB88H0AfRB9IH0wfUB9UH1gfXB9oH2wfcB+UH5gc=",
          "dtype": "i2"
         },
         "xaxis": "x",
         "y": {
          "bdata": "AAAAAAAAEEAAAAAAAIBKQAAAAAAAAEpAAAAAAAAAV0AAAAAAAIBZQAAAAAAAgE1AAAAAAACAU0AAAAAAAIBVQAAAAAAAAEZAAAAAAAAAW0AAAAAAAMBeQAAAAAAAAGJAAAAAAABAV0AAAAAAAIBiQAAAAAAAAE9AAAAAAABAXkAAAAAAAAAUQAAAAAAAAFJAAAAAAAAAU0AAAAAAAIBIQAAAAAAAAAAAAAAAAAAAKEA=",
          "dtype": "f8"
         },
         "yaxis": "y"
        },
        {
         "hovertemplate": "driver=Verstappen<br>Year=%{x}<br>Points=%{y}<extra></extra>",
         "legendgroup": "Verstappen",
         "line": {
          "color": "#ab63fa",
          "dash": "solid"
         },
         "marker": {
          "symbol": "circle"
         },
         "mode": "lines+markers",
         "name": "Verstappen",
         "orientation": "v",
         "showlegend": true,
         "type": "scatter",
         "x": {
          "bdata": "ygfLB8wHzQfOB9AH0QfTB98H4AfhB+IH4wfkB+UH5gfnB+gH",
          "dtype": "i2"
         },
         "xaxis": "x",
         "y": {
          "bdata": "AAAAAAAAJEAAAAAAAAAAAAAAAAAAAPA/AAAAAAAAAAAAAAAAAAAAAAAAAAAAABRAAAAAAAAA8D8AAAAAAAAAAAAAAAAAgEhAAAAAAACAaUAAAAAAAABlQAAAAAAAIG9AAAAAAABgcUAAAAAAAMBqQAAAAAAAuHhAAAAAAABgfEAAAAAAAPiBQAAAAAAAUHtA",
          "dtype": "f8"
         },
         "yaxis": "y"
        },
        {
         "hovertemplate": "driver=Alonso<br>Year=%{x}<br>Points=%{y}<extra></extra>",
         "legendgroup": "Alonso",
         "line": {
          "color": "#FFA15A",
          "dash": "solid"
         },
         "marker": {
          "symbol": "circle"
         },
         "mode": "lines+markers",
         "name": "Alonso",
         "orientation": "v",
         "showlegend": true,
         "type": "scatter",
         "x": {
          "bdata": "0QfTB9QH1QfWB9cH2AfZB9oH2wfcB90H3gffB+AH4QfiB+UH5gfnB+gH",
          "dtype": "i2"
         },
         "xaxis": "x",
         "y": {
          "bdata": "AAAAAAAAAAAAAAAAAIBLQAAAAAAAgE1AAAAAAACgYEAAAAAAAMBgQAAAAAAAQFtAAAAAAACATkAAAAAAAAA6QAAAAAAAgG9AAAAAAAAQcEAAAAAAAGBxQAAAAAAAQG5AAAAAAAAgZEAAAAAAAAAmQAAAAAAAAEtAAAAAAAAAMUAAAAAAAABJQAAAAAAAQFRAAAAAAABAVEAAAAAAAMBpQAAAAAAAgFFA",
          "dtype": "f8"
         },
         "yaxis": "y"
        },
        {
         "hovertemplate": "driver=Räikkönen<br>Year=%{x}<br>Points=%{y}<extra></extra>",
         "legendgroup": "Räikkönen",
         "line": {
          "color": "#19d3f3",
          "dash": "solid"
         },
         "marker": {
          "symbol": "circle"
         },
         "mode": "lines+markers",
         "name": "Räikkönen",
         "orientation": "v",
         "showlegend": true,
         "type": "scatter",
         "x": {
          "bdata": "0QfSB9MH1AfVB9YH1wfYB9kH3AfdB94H3wfgB+EH4gfjB+QH5Qc=",
          "dtype": "i2"
         },
         "xaxis": "x",
         "y": {
          "bdata": "AAAAAAAAIkAAAAAAAAA4QAAAAAAAwFZAAAAAAACARkAAAAAAAABcQAAAAAAAQFBAAAAAAACAW0AAAAAAAMBSQAAAAAAAAEhAAAAAAADgaUAAAAAAAOBmQAAAAAAAgEtAAAAAAADAYkAAAAAAAEBnQAAAAAAAoGlAAAAAAABgb0AAAAAAAIBFQAAAAAAAABBAAAAAAAAAJEA=",
          "dtype": "f8"
         },
         "yaxis": "y"
        },
        {
         "hovertemplate": "driver=Vettel<br>Year=%{x}<br>Points=%{y}<extra></extra>",
         "legendgroup": "Vettel",
         "line": {
          "color": "#FF6692",
          "dash": "solid"
         },
         "marker": {
          "symbol": "circle"
         },
         "mode": "lines+markers",
         "name": "Vettel",
         "orientation": "v",
         "showlegend": true,
         "type": "scatter",
         "x": {
          "bdata": "1wfYB9kH2gfbB9wH3QfeB98H4AfhB+IH4wfkB+UH5gc=",
          "dtype": "i2"
         },
         "xaxis": "x",
         "y": {
          "bdata": "AAAAAAAAGEAAAAAAAIBBQAAAAAAAAFVAAAAAAAAAcEAAAAAAAIB4QAAAAAAAkHFAAAAAAADQeEAAAAAAAOBkQAAAAAAAYHFAAAAAAACAakAAAAAAANBzQAAAAAAAAHRAAAAAAAAAbkAAAAAAAIBAQAAAAAAAgEVAAAAAAACAQkA=",
          "dtype": "f8"
         },
         "yaxis": "y"
        },
        {
         "hovertemplate": "driver=Pérez<br>Year=%{x}<br>Points=%{y}<extra></extra>",
         "legendgroup": "Pérez",
         "line": {
          "color": "#B6E880",
          "dash": "solid"
         },
         "marker": {
          "symbol": "circle"
         },
         "mode": "lines+markers",
         "name": "Pérez",
         "orientation": "v",
         "showlegend": true,
         "type": "scatter",
         "x": {
          "bdata": "2wfcB90H3gffB+AH4QfiB+MH5AflB+YH5wfoBw==",
          "dtype": "i2"
         },
         "xaxis": "x",
         "y": {
          "bdata": "AAAAAAAALEAAAAAAAIBQQAAAAAAAgEhAAAAAAACATUAAAAAAAIBTQAAAAAAAQFlAAAAAAAAAWUAAAAAAAABPQAAAAAAAAEpAAAAAAABAX0AAAAAAAMBnQAAAAAAAEHNAAAAAAADQcUAAAAAAAABjQA==",
          "dtype": "f8"
         },
         "yaxis": "y"
        },
        {
         "hovertemplate": "driver=Bottas<br>Year=%{x}<br>Points=%{y}<extra></extra>",
         "legendgroup": "Bottas",
         "line": {
          "color": "#FF97FF",
          "dash": "solid"
         },
         "marker": {
          "symbol": "circle"
         },
         "mode": "lines+markers",
         "name": "Bottas",
         "orientation": "v",
         "showlegend": true,
         "type": "scatter",
         "x": {
          "bdata": "3QfeB98H4AfhB+IH4wfkB+UH5gfnB+gH",
          "dtype": "i2"
         },
         "xaxis": "x",
         "y": {
          "bdata": "AAAAAAAAEEAAAAAAAEBnQAAAAAAAAGFAAAAAAABAVUAAAAAAABBzQAAAAAAA4G5AAAAAAABgdEAAAAAAAOBrQAAAAAAAQGxAAAAAAACASEAAAAAAAAAkQAAAAAAAAAAA",
          "dtype": "f8"
         },
         "yaxis": "y"
        },
        {
         "hovertemplate": "driver=Leclerc<br>Year=%{x}<br>Points=%{y}<extra></extra>",
         "legendgroup": "Leclerc",
         "line": {
          "color": "#FECB52",
          "dash": "solid"
         },
         "marker": {
          "symbol": "circle"
         },
         "mode": "lines+markers",
         "name": "Leclerc",
         "orientation": "v",
         "showlegend": true,
         "type": "scatter",
         "x": {
          "bdata": "4gfjB+QH5QfmB+cH6Ac=",
          "dtype": "i2"
         },
         "xaxis": "x",
         "y": {
          "bdata": "AAAAAACAQ0AAAAAAAIBwQAAAAAAAgFhAAAAAAADgY0AAAAAAAEBzQAAAAAAAwGlAAAAAAABAdkA=",
          "dtype": "f8"
         },
         "yaxis": "y"
        }
       ],
       "layout": {
        "legend": {
         "title": {
          "text": "driver"
         },
         "tracegroupgap": 0
        },
        "template": {
         "data": {
          "bar": [
           {
            "error_x": {
             "color": "#f2f5fa"
            },
            "error_y": {
             "color": "#f2f5fa"
            },
            "marker": {
             "line": {
              "color": "rgb(17,17,17)",
              "width": 0.5
             },
             "pattern": {
              "fillmode": "overlay",
              "size": 10,
              "solidity": 0.2
             }
            },
            "type": "bar"
           }
          ],
          "barpolar": [
           {
            "marker": {
             "line": {
              "color": "rgb(17,17,17)",
              "width": 0.5
             },
             "pattern": {
              "fillmode": "overlay",
              "size": 10,
              "solidity": 0.2
             }
            },
            "type": "barpolar"
           }
          ],
          "carpet": [
           {
            "aaxis": {
             "endlinecolor": "#A2B1C6",
             "gridcolor": "#506784",
             "linecolor": "#506784",
             "minorgridcolor": "#506784",
             "startlinecolor": "#A2B1C6"
            },
            "baxis": {
             "endlinecolor": "#A2B1C6",
             "gridcolor": "#506784",
             "linecolor": "#506784",
             "minorgridcolor": "#506784",
             "startlinecolor": "#A2B1C6"
            },
            "type": "carpet"
           }
          ],
          "choropleth": [
           {
            "colorbar": {
             "outlinewidth": 0,
             "ticks": ""
            },
            "type": "choropleth"
           }
          ],
          "contour": [
           {
            "colorbar": {
             "outlinewidth": 0,
             "ticks": ""
            },
            "colorscale": [
             [
              0,
              "#0d0887"
             ],
             [
              0.1111111111111111,
              "#46039f"
             ],
             [
              0.2222222222222222,
              "#7201a8"
             ],
             [
              0.3333333333333333,
              "#9c179e"
             ],
             [
              0.4444444444444444,
              "#bd3786"
             ],
             [
              0.5555555555555556,
              "#d8576b"
             ],
             [
              0.6666666666666666,
              "#ed7953"
             ],
             [
              0.7777777777777778,
              "#fb9f3a"
             ],
             [
              0.8888888888888888,
              "#fdca26"
             ],
             [
              1,
              "#f0f921"
             ]
            ],
            "type": "contour"
           }
          ],
          "contourcarpet": [
           {
            "colorbar": {
             "outlinewidth": 0,
             "ticks": ""
            },
            "type": "contourcarpet"
           }
          ],
          "heatmap": [
           {
            "colorbar": {
             "outlinewidth": 0,
             "ticks": ""
            },
            "colorscale": [
             [
              0,
              "#0d0887"
             ],
             [
              0.1111111111111111,
              "#46039f"
             ],
             [
              0.2222222222222222,
              "#7201a8"
             ],
             [
              0.3333333333333333,
              "#9c179e"
             ],
             [
              0.4444444444444444,
              "#bd3786"
             ],
             [
              0.5555555555555556,
              "#d8576b"
             ],
             [
              0.6666666666666666,
              "#ed7953"
             ],
             [
              0.7777777777777778,
              "#fb9f3a"
             ],
             [
              0.8888888888888888,
              "#fdca26"
             ],
             [
              1,
              "#f0f921"
             ]
            ],
            "type": "heatmap"
           }
          ],
          "histogram": [
           {
            "marker": {
             "pattern": {
              "fillmode": "overlay",
              "size": 10,
              "solidity": 0.2
             }
            },
            "type": "histogram"
           }
          ],
          "histogram2d": [
           {
            "colorbar": {
             "outlinewidth": 0,
             "ticks": ""
            },
            "colorscale": [
             [
              0,
              "#0d0887"
             ],
             [
              0.1111111111111111,
              "#46039f"
             ],
             [
              0.2222222222222222,
              "#7201a8"
             ],
             [
              0.3333333333333333,
              "#9c179e"
             ],
             [
              0.4444444444444444,
              "#bd3786"
             ],
             [
              0.5555555555555556,
              "#d8576b"
             ],
             [
              0.6666666666666666,
              "#ed7953"
             ],
             [
              0.7777777777777778,
              "#fb9f3a"
             ],
             [
              0.8888888888888888,
              "#fdca26"
             ],
             [
              1,
              "#f0f921"
             ]
            ],
            "type": "histogram2d"
           }
          ],
          "histogram2dcontour": [
           {
            "colorbar": {
             "outlinewidth": 0,
             "ticks": ""
            },
            "colorscale": [
             [
              0,
              "#0d0887"
             ],
             [
              0.1111111111111111,
              "#46039f"
             ],
             [
              0.2222222222222222,
              "#7201a8"
             ],
             [
              0.3333333333333333,
              "#9c179e"
             ],
             [
              0.4444444444444444,
              "#bd3786"
             ],
             [
              0.5555555555555556,
              "#d8576b"
             ],
             [
              0.6666666666666666,
              "#ed7953"
             ],
             [
              0.7777777777777778,
              "#fb9f3a"
             ],
             [
              0.8888888888888888,
              "#fdca26"
             ],
             [
              1,
              "#f0f921"
             ]
            ],
            "type": "histogram2dcontour"
           }
          ],
          "mesh3d": [
           {
            "colorbar": {
             "outlinewidth": 0,
             "ticks": ""
            },
            "type": "mesh3d"
           }
          ],
          "parcoords": [
           {
            "line": {
             "colorbar": {
              "outlinewidth": 0,
              "ticks": ""
             }
            },
            "type": "parcoords"
           }
          ],
          "pie": [
           {
            "automargin": true,
            "type": "pie"
           }
          ],
          "scatter": [
           {
            "marker": {
             "line": {
              "color": "#283442"
             }
            },
            "type": "scatter"
           }
          ],
          "scatter3d": [
           {
            "line": {
             "colorbar": {
              "outlinewidth": 0,
              "ticks": ""
             }
            },
            "marker": {
             "colorbar": {
              "outlinewidth": 0,
              "ticks": ""
             }
            },
            "type": "scatter3d"
           }
          ],
          "scattercarpet": [
           {
            "marker": {
             "colorbar": {
              "outlinewidth": 0,
              "ticks": ""
             }
            },
            "type": "scattercarpet"
           }
          ],
          "scattergeo": [
           {
            "marker": {
             "colorbar": {
              "outlinewidth": 0,
              "ticks": ""
             }
            },
            "type": "scattergeo"
           }
          ],
          "scattergl": [
           {
            "marker": {
             "line": {
              "color": "#283442"
             }
            },
            "type": "scattergl"
           }
          ],
          "scattermap": [
           {
            "marker": {
             "colorbar": {
              "outlinewidth": 0,
              "ticks": ""
             }
            },
            "type": "scattermap"
           }
          ],
          "scattermapbox": [
           {
            "marker": {
             "colorbar": {
              "outlinewidth": 0,
              "ticks": ""
             }
            },
            "type": "scattermapbox"
           }
          ],
          "scatterpolar": [
           {
            "marker": {
             "colorbar": {
              "outlinewidth": 0,
              "ticks": ""
             }
            },
            "type": "scatterpolar"
           }
          ],
          "scatterpolargl": [
           {
            "marker": {
             "colorbar": {
              "outlinewidth": 0,
              "ticks": ""
             }
            },
            "type": "scatterpolargl"
           }
          ],
          "scatterternary": [
           {
            "marker": {
             "colorbar": {
              "outlinewidth": 0,
              "ticks": ""
             }
            },
            "type": "scatterternary"
           }
          ],
          "surface": [
           {
            "colorbar": {
             "outlinewidth": 0,
             "ticks": ""
            },
            "colorscale": [
             [
              0,
              "#0d0887"
             ],
             [
              0.1111111111111111,
              "#46039f"
             ],
             [
              0.2222222222222222,
              "#7201a8"
             ],
             [
              0.3333333333333333,
              "#9c179e"
             ],
             [
              0.4444444444444444,
              "#bd3786"
             ],
             [
              0.5555555555555556,
              "#d8576b"
             ],
             [
              0.6666666666666666,
              "#ed7953"
             ],
             [
              0.7777777777777778,
              "#fb9f3a"
             ],
             [
              0.8888888888888888,
              "#fdca26"
             ],
             [
              1,
              "#f0f921"
             ]
            ],
            "type": "surface"
           }
          ],
          "table": [
           {
            "cells": {
             "fill": {
              "color": "#506784"
             },
             "line": {
              "color": "rgb(17,17,17)"
             }
            },
            "header": {
             "fill": {
              "color": "#2a3f5f"
             },
             "line": {
              "color": "rgb(17,17,17)"
             }
            },
            "type": "table"
           }
          ]
         },
         "layout": {
          "annotationdefaults": {
           "arrowcolor": "#f2f5fa",
           "arrowhead": 0,
           "arrowwidth": 1
          },
          "autotypenumbers": "strict",
          "coloraxis": {
           "colorbar": {
            "outlinewidth": 0,
            "ticks": ""
           }
          },
          "colorscale": {
           "diverging": [
            [
             0,
             "#8e0152"
            ],
            [
             0.1,
             "#c51b7d"
            ],
            [
             0.2,
             "#de77ae"
            ],
            [
             0.3,
             "#f1b6da"
            ],
            [
             0.4,
             "#fde0ef"
            ],
            [
             0.5,
             "#f7f7f7"
            ],
            [
             0.6,
             "#e6f5d0"
            ],
            [
             0.7,
             "#b8e186"
            ],
            [
             0.8,
             "#7fbc41"
            ],
            [
             0.9,
             "#4d9221"
            ],
            [
             1,
             "#276419"
            ]
           ],
           "sequential": [
            [
             0,
             "#0d0887"
            ],
            [
             0.1111111111111111,
             "#46039f"
            ],
            [
             0.2222222222222222,
             "#7201a8"
            ],
            [
             0.3333333333333333,
             "#9c179e"
            ],
            [
             0.4444444444444444,
             "#bd3786"
            ],
            [
             0.5555555555555556,
             "#d8576b"
            ],
            [
             0.6666666666666666,
             "#ed7953"
            ],
            [
             0.7777777777777778,
             "#fb9f3a"
            ],
            [
             0.8888888888888888,
             "#fdca26"
            ],
            [
             1,
             "#f0f921"
            ]
           ],
           "sequentialminus": [
            [
             0,
             "#0d0887"
            ],
            [
             0.1111111111111111,
             "#46039f"
            ],
            [
             0.2222222222222222,
             "#7201a8"
            ],
            [
             0.3333333333333333,
             "#9c179e"
            ],
            [
             0.4444444444444444,
             "#bd3786"
            ],
            [
             0.5555555555555556,
             "#d8576b"
            ],
            [
             0.6666666666666666,
             "#ed7953"
            ],
            [
             0.7777777777777778,
             "#fb9f3a"
            ],
            [
             0.8888888888888888,
             "#fdca26"
            ],
            [
             1,
             "#f0f921"
            ]
           ]
          },
          "colorway": [
           "#636efa",
           "#EF553B",
           "#00cc96",
           "#ab63fa",
           "#FFA15A",
           "#19d3f3",
           "#FF6692",
           "#B6E880",
           "#FF97FF",
           "#FECB52"
          ],
          "font": {
           "color": "#f2f5fa"
          },
          "geo": {
           "bgcolor": "rgb(17,17,17)",
           "lakecolor": "rgb(17,17,17)",
           "landcolor": "rgb(17,17,17)",
           "showlakes": true,
           "showland": true,
           "subunitcolor": "#506784"
          },
          "hoverlabel": {
           "align": "left"
          },
          "hovermode": "closest",
          "mapbox": {
           "style": "dark"
          },
          "paper_bgcolor": "rgb(17,17,17)",
          "plot_bgcolor": "rgb(17,17,17)",
          "polar": {
           "angularaxis": {
            "gridcolor": "#506784",
            "linecolor": "#506784",
            "ticks": ""
           },
           "bgcolor": "rgb(17,17,17)",
           "radialaxis": {
            "gridcolor": "#506784",
            "linecolor": "#506784",
            "ticks": ""
           }
          },
          "scene": {
           "xaxis": {
            "backgroundcolor": "rgb(17,17,17)",
            "gridcolor": "#506784",
            "gridwidth": 2,
            "linecolor": "#506784",
            "showbackground": true,
            "ticks": "",
            "zerolinecolor": "#C8D4E3"
           },
           "yaxis": {
            "backgroundcolor": "rgb(17,17,17)",
            "gridcolor": "#506784",
            "gridwidth": 2,
            "linecolor": "#506784",
            "showbackground": true,
            "ticks": "",
            "zerolinecolor": "#C8D4E3"
           },
           "zaxis": {
            "backgroundcolor": "rgb(17,17,17)",
            "gridcolor": "#506784",
            "gridwidth": 2,
            "linecolor": "#506784",
            "showbackground": true,
            "ticks": "",
            "zerolinecolor": "#C8D4E3"
           }
          },
          "shapedefaults": {
           "line": {
            "color": "#f2f5fa"
           }
          },
          "sliderdefaults": {
           "bgcolor": "#C8D4E3",
           "bordercolor": "rgb(17,17,17)",
           "borderwidth": 1,
           "tickwidth": 0
          },
          "ternary": {
           "aaxis": {
            "gridcolor": "#506784",
            "linecolor": "#506784",
            "ticks": ""
           },
           "baxis": {
            "gridcolor": "#506784",
            "linecolor": "#506784",
            "ticks": ""
           },
           "bgcolor": "rgb(17,17,17)",
           "caxis": {
            "gridcolor": "#506784",
            "linecolor": "#506784",
            "ticks": ""
           }
          },
          "title": {
           "x": 0.05
          },
          "updatemenudefaults": {
           "bgcolor": "#506784",
           "borderwidth": 0
          },
          "xaxis": {
           "automargin": true,
           "gridcolor": "#283442",
           "linecolor": "#506784",
           "ticks": "",
           "title": {
            "standoff": 15
           },
           "zerolinecolor": "#283442",
           "zerolinewidth": 2
          },
          "yaxis": {
           "automargin": true,
           "gridcolor": "#283442",
           "linecolor": "#506784",
           "ticks": "",
           "title": {
            "standoff": 15
           },
           "zerolinecolor": "#283442",
           "zerolinewidth": 2
          }
         }
        },
        "title": {
         "text": "Season-wise Performance of Top 10 Drivers"
        },
        "xaxis": {
         "anchor": "y",
         "domain": [
          0,
          1
         ],
         "title": {
          "text": "Year"
         }
        },
        "yaxis": {
         "anchor": "x",
         "domain": [
          0,
          1
         ],
         "title": {
          "text": "Points"
         }
        }
       }
      }
     },
     "metadata": {},
     "output_type": "display_data"
    }
   ],
   "source": [
    "top_driver_names = career_points['driver'].tolist()\n",
    "\n",
    "# Filter only top 10 drivers\n",
    "seasonal_df = final_standings[final_standings['driver'].isin(top_driver_names)]\n",
    "\n",
    "# Line plot\n",
    "fig = px.line(\n",
    "    seasonal_df,\n",
    "    x='year',\n",
    "    y='points',\n",
    "    color='driver',\n",
    "    title='Season-wise Performance of Top 10 Drivers',\n",
    "    labels={'points': 'Points', 'year': 'Year'},\n",
    "    markers=True,\n",
    "    template='plotly_dark'\n",
    ")\n",
    "fig.show()"
   ]
  },
  {
   "cell_type": "markdown",
   "id": "ef2fa203",
   "metadata": {},
   "source": [
    "### 🏎️ Top 10 Constructors by Total Points\n",
    "\n",
    "In this section, we analyze constructor performance by summing up the **total points earned by each team** over the seasons.\n",
    "\n",
    "- We group the data by constructor (`team`) and compute total points.\n",
    "- The bar chart displays the **top 10 teams** based on cumulative points scored.\n",
    "\n",
    "This visualization highlights the most dominant and successful teams in Formula 1 history."
   ]
  },
  {
   "cell_type": "code",
   "execution_count": 37,
   "id": "14d28b6d",
   "metadata": {},
   "outputs": [
    {
     "data": {
      "application/vnd.plotly.v1+json": {
       "config": {
        "plotlyServerURL": "https://plot.ly"
       },
       "data": [
        {
         "hovertemplate": "team=%{x}<br>Total Points=%{y}<extra></extra>",
         "legendgroup": "ferrari",
         "marker": {
          "color": "#636efa",
          "pattern": {
           "shape": ""
          }
         },
         "name": "ferrari",
         "orientation": "v",
         "showlegend": true,
         "textposition": "auto",
         "type": "bar",
         "x": [
          "ferrari"
         ],
         "xaxis": "x",
         "y": {
          "bdata": "9ihcjyK9xEA=",
          "dtype": "f8"
         },
         "yaxis": "y"
        },
        {
         "hovertemplate": "team=%{x}<br>Total Points=%{y}<extra></extra>",
         "legendgroup": "mercedes",
         "marker": {
          "color": "#EF553B",
          "pattern": {
           "shape": ""
          }
         },
         "name": "mercedes",
         "orientation": "v",
         "showlegend": true,
         "textposition": "auto",
         "type": "bar",
         "x": [
          "mercedes"
         ],
         "xaxis": "x",
         "y": {
          "bdata": "AAAAAICKvkA=",
          "dtype": "f8"
         },
         "yaxis": "y"
        },
        {
         "hovertemplate": "team=%{x}<br>Total Points=%{y}<extra></extra>",
         "legendgroup": "red_bull",
         "marker": {
          "color": "#00cc96",
          "pattern": {
           "shape": ""
          }
         },
         "name": "red_bull",
         "orientation": "v",
         "showlegend": true,
         "textposition": "auto",
         "type": "bar",
         "x": [
          "red_bull"
         ],
         "xaxis": "x",
         "y": {
          "bdata": "AAAAAAC2vUA=",
          "dtype": "f8"
         },
         "yaxis": "y"
        },
        {
         "hovertemplate": "team=%{x}<br>Total Points=%{y}<extra></extra>",
         "legendgroup": "mclaren",
         "marker": {
          "color": "#ab63fa",
          "pattern": {
           "shape": ""
          }
         },
         "name": "mclaren",
         "orientation": "v",
         "showlegend": true,
         "textposition": "auto",
         "type": "bar",
         "x": [
          "mclaren"
         ],
         "xaxis": "x",
         "y": {
          "bdata": "AAAAAICNu0A=",
          "dtype": "f8"
         },
         "yaxis": "y"
        },
        {
         "hovertemplate": "team=%{x}<br>Total Points=%{y}<extra></extra>",
         "legendgroup": "williams",
         "marker": {
          "color": "#FFA15A",
          "pattern": {
           "shape": ""
          }
         },
         "name": "williams",
         "orientation": "v",
         "showlegend": true,
         "textposition": "auto",
         "type": "bar",
         "x": [
          "williams"
         ],
         "xaxis": "x",
         "y": {
          "bdata": "AAAAAABcrEA=",
          "dtype": "f8"
         },
         "yaxis": "y"
        },
        {
         "hovertemplate": "team=%{x}<br>Total Points=%{y}<extra></extra>",
         "legendgroup": "renault",
         "marker": {
          "color": "#19d3f3",
          "pattern": {
           "shape": ""
          }
         },
         "name": "renault",
         "orientation": "v",
         "showlegend": true,
         "textposition": "auto",
         "type": "bar",
         "x": [
          "renault"
         ],
         "xaxis": "x",
         "y": {
          "bdata": "AAAAAACsm0A=",
          "dtype": "f8"
         },
         "yaxis": "y"
        },
        {
         "hovertemplate": "team=%{x}<br>Total Points=%{y}<extra></extra>",
         "legendgroup": "force_india",
         "marker": {
          "color": "#FF6692",
          "pattern": {
           "shape": ""
          }
         },
         "name": "force_india",
         "orientation": "v",
         "showlegend": true,
         "textposition": "auto",
         "type": "bar",
         "x": [
          "force_india"
         ],
         "xaxis": "x",
         "y": {
          "bdata": "AAAAAAAokUA=",
          "dtype": "f8"
         },
         "yaxis": "y"
        },
        {
         "hovertemplate": "team=%{x}<br>Total Points=%{y}<extra></extra>",
         "legendgroup": "team_lotus",
         "marker": {
          "color": "#B6E880",
          "pattern": {
           "shape": ""
          }
         },
         "name": "team_lotus",
         "orientation": "v",
         "showlegend": true,
         "textposition": "auto",
         "type": "bar",
         "x": [
          "team_lotus"
         ],
         "xaxis": "x",
         "y": {
          "bdata": "AAAAAADgjUA=",
          "dtype": "f8"
         },
         "yaxis": "y"
        },
        {
         "hovertemplate": "team=%{x}<br>Total Points=%{y}<extra></extra>",
         "legendgroup": "benetton",
         "marker": {
          "color": "#FF97FF",
          "pattern": {
           "shape": ""
          }
         },
         "name": "benetton",
         "orientation": "v",
         "showlegend": true,
         "textposition": "auto",
         "type": "bar",
         "x": [
          "benetton"
         ],
         "xaxis": "x",
         "y": {
          "bdata": "AAAAAACUikA=",
          "dtype": "f8"
         },
         "yaxis": "y"
        },
        {
         "hovertemplate": "team=%{x}<br>Total Points=%{y}<extra></extra>",
         "legendgroup": "tyrrell",
         "marker": {
          "color": "#FECB52",
          "pattern": {
           "shape": ""
          }
         },
         "name": "tyrrell",
         "orientation": "v",
         "showlegend": true,
         "textposition": "auto",
         "type": "bar",
         "x": [
          "tyrrell"
         ],
         "xaxis": "x",
         "y": {
          "bdata": "AAAAAAAgh0A=",
          "dtype": "f8"
         },
         "yaxis": "y"
        }
       ],
       "layout": {
        "barmode": "relative",
        "legend": {
         "title": {
          "text": "team"
         },
         "tracegroupgap": 0
        },
        "template": {
         "data": {
          "bar": [
           {
            "error_x": {
             "color": "#f2f5fa"
            },
            "error_y": {
             "color": "#f2f5fa"
            },
            "marker": {
             "line": {
              "color": "rgb(17,17,17)",
              "width": 0.5
             },
             "pattern": {
              "fillmode": "overlay",
              "size": 10,
              "solidity": 0.2
             }
            },
            "type": "bar"
           }
          ],
          "barpolar": [
           {
            "marker": {
             "line": {
              "color": "rgb(17,17,17)",
              "width": 0.5
             },
             "pattern": {
              "fillmode": "overlay",
              "size": 10,
              "solidity": 0.2
             }
            },
            "type": "barpolar"
           }
          ],
          "carpet": [
           {
            "aaxis": {
             "endlinecolor": "#A2B1C6",
             "gridcolor": "#506784",
             "linecolor": "#506784",
             "minorgridcolor": "#506784",
             "startlinecolor": "#A2B1C6"
            },
            "baxis": {
             "endlinecolor": "#A2B1C6",
             "gridcolor": "#506784",
             "linecolor": "#506784",
             "minorgridcolor": "#506784",
             "startlinecolor": "#A2B1C6"
            },
            "type": "carpet"
           }
          ],
          "choropleth": [
           {
            "colorbar": {
             "outlinewidth": 0,
             "ticks": ""
            },
            "type": "choropleth"
           }
          ],
          "contour": [
           {
            "colorbar": {
             "outlinewidth": 0,
             "ticks": ""
            },
            "colorscale": [
             [
              0,
              "#0d0887"
             ],
             [
              0.1111111111111111,
              "#46039f"
             ],
             [
              0.2222222222222222,
              "#7201a8"
             ],
             [
              0.3333333333333333,
              "#9c179e"
             ],
             [
              0.4444444444444444,
              "#bd3786"
             ],
             [
              0.5555555555555556,
              "#d8576b"
             ],
             [
              0.6666666666666666,
              "#ed7953"
             ],
             [
              0.7777777777777778,
              "#fb9f3a"
             ],
             [
              0.8888888888888888,
              "#fdca26"
             ],
             [
              1,
              "#f0f921"
             ]
            ],
            "type": "contour"
           }
          ],
          "contourcarpet": [
           {
            "colorbar": {
             "outlinewidth": 0,
             "ticks": ""
            },
            "type": "contourcarpet"
           }
          ],
          "heatmap": [
           {
            "colorbar": {
             "outlinewidth": 0,
             "ticks": ""
            },
            "colorscale": [
             [
              0,
              "#0d0887"
             ],
             [
              0.1111111111111111,
              "#46039f"
             ],
             [
              0.2222222222222222,
              "#7201a8"
             ],
             [
              0.3333333333333333,
              "#9c179e"
             ],
             [
              0.4444444444444444,
              "#bd3786"
             ],
             [
              0.5555555555555556,
              "#d8576b"
             ],
             [
              0.6666666666666666,
              "#ed7953"
             ],
             [
              0.7777777777777778,
              "#fb9f3a"
             ],
             [
              0.8888888888888888,
              "#fdca26"
             ],
             [
              1,
              "#f0f921"
             ]
            ],
            "type": "heatmap"
           }
          ],
          "histogram": [
           {
            "marker": {
             "pattern": {
              "fillmode": "overlay",
              "size": 10,
              "solidity": 0.2
             }
            },
            "type": "histogram"
           }
          ],
          "histogram2d": [
           {
            "colorbar": {
             "outlinewidth": 0,
             "ticks": ""
            },
            "colorscale": [
             [
              0,
              "#0d0887"
             ],
             [
              0.1111111111111111,
              "#46039f"
             ],
             [
              0.2222222222222222,
              "#7201a8"
             ],
             [
              0.3333333333333333,
              "#9c179e"
             ],
             [
              0.4444444444444444,
              "#bd3786"
             ],
             [
              0.5555555555555556,
              "#d8576b"
             ],
             [
              0.6666666666666666,
              "#ed7953"
             ],
             [
              0.7777777777777778,
              "#fb9f3a"
             ],
             [
              0.8888888888888888,
              "#fdca26"
             ],
             [
              1,
              "#f0f921"
             ]
            ],
            "type": "histogram2d"
           }
          ],
          "histogram2dcontour": [
           {
            "colorbar": {
             "outlinewidth": 0,
             "ticks": ""
            },
            "colorscale": [
             [
              0,
              "#0d0887"
             ],
             [
              0.1111111111111111,
              "#46039f"
             ],
             [
              0.2222222222222222,
              "#7201a8"
             ],
             [
              0.3333333333333333,
              "#9c179e"
             ],
             [
              0.4444444444444444,
              "#bd3786"
             ],
             [
              0.5555555555555556,
              "#d8576b"
             ],
             [
              0.6666666666666666,
              "#ed7953"
             ],
             [
              0.7777777777777778,
              "#fb9f3a"
             ],
             [
              0.8888888888888888,
              "#fdca26"
             ],
             [
              1,
              "#f0f921"
             ]
            ],
            "type": "histogram2dcontour"
           }
          ],
          "mesh3d": [
           {
            "colorbar": {
             "outlinewidth": 0,
             "ticks": ""
            },
            "type": "mesh3d"
           }
          ],
          "parcoords": [
           {
            "line": {
             "colorbar": {
              "outlinewidth": 0,
              "ticks": ""
             }
            },
            "type": "parcoords"
           }
          ],
          "pie": [
           {
            "automargin": true,
            "type": "pie"
           }
          ],
          "scatter": [
           {
            "marker": {
             "line": {
              "color": "#283442"
             }
            },
            "type": "scatter"
           }
          ],
          "scatter3d": [
           {
            "line": {
             "colorbar": {
              "outlinewidth": 0,
              "ticks": ""
             }
            },
            "marker": {
             "colorbar": {
              "outlinewidth": 0,
              "ticks": ""
             }
            },
            "type": "scatter3d"
           }
          ],
          "scattercarpet": [
           {
            "marker": {
             "colorbar": {
              "outlinewidth": 0,
              "ticks": ""
             }
            },
            "type": "scattercarpet"
           }
          ],
          "scattergeo": [
           {
            "marker": {
             "colorbar": {
              "outlinewidth": 0,
              "ticks": ""
             }
            },
            "type": "scattergeo"
           }
          ],
          "scattergl": [
           {
            "marker": {
             "line": {
              "color": "#283442"
             }
            },
            "type": "scattergl"
           }
          ],
          "scattermap": [
           {
            "marker": {
             "colorbar": {
              "outlinewidth": 0,
              "ticks": ""
             }
            },
            "type": "scattermap"
           }
          ],
          "scattermapbox": [
           {
            "marker": {
             "colorbar": {
              "outlinewidth": 0,
              "ticks": ""
             }
            },
            "type": "scattermapbox"
           }
          ],
          "scatterpolar": [
           {
            "marker": {
             "colorbar": {
              "outlinewidth": 0,
              "ticks": ""
             }
            },
            "type": "scatterpolar"
           }
          ],
          "scatterpolargl": [
           {
            "marker": {
             "colorbar": {
              "outlinewidth": 0,
              "ticks": ""
             }
            },
            "type": "scatterpolargl"
           }
          ],
          "scatterternary": [
           {
            "marker": {
             "colorbar": {
              "outlinewidth": 0,
              "ticks": ""
             }
            },
            "type": "scatterternary"
           }
          ],
          "surface": [
           {
            "colorbar": {
             "outlinewidth": 0,
             "ticks": ""
            },
            "colorscale": [
             [
              0,
              "#0d0887"
             ],
             [
              0.1111111111111111,
              "#46039f"
             ],
             [
              0.2222222222222222,
              "#7201a8"
             ],
             [
              0.3333333333333333,
              "#9c179e"
             ],
             [
              0.4444444444444444,
              "#bd3786"
             ],
             [
              0.5555555555555556,
              "#d8576b"
             ],
             [
              0.6666666666666666,
              "#ed7953"
             ],
             [
              0.7777777777777778,
              "#fb9f3a"
             ],
             [
              0.8888888888888888,
              "#fdca26"
             ],
             [
              1,
              "#f0f921"
             ]
            ],
            "type": "surface"
           }
          ],
          "table": [
           {
            "cells": {
             "fill": {
              "color": "#506784"
             },
             "line": {
              "color": "rgb(17,17,17)"
             }
            },
            "header": {
             "fill": {
              "color": "#2a3f5f"
             },
             "line": {
              "color": "rgb(17,17,17)"
             }
            },
            "type": "table"
           }
          ]
         },
         "layout": {
          "annotationdefaults": {
           "arrowcolor": "#f2f5fa",
           "arrowhead": 0,
           "arrowwidth": 1
          },
          "autotypenumbers": "strict",
          "coloraxis": {
           "colorbar": {
            "outlinewidth": 0,
            "ticks": ""
           }
          },
          "colorscale": {
           "diverging": [
            [
             0,
             "#8e0152"
            ],
            [
             0.1,
             "#c51b7d"
            ],
            [
             0.2,
             "#de77ae"
            ],
            [
             0.3,
             "#f1b6da"
            ],
            [
             0.4,
             "#fde0ef"
            ],
            [
             0.5,
             "#f7f7f7"
            ],
            [
             0.6,
             "#e6f5d0"
            ],
            [
             0.7,
             "#b8e186"
            ],
            [
             0.8,
             "#7fbc41"
            ],
            [
             0.9,
             "#4d9221"
            ],
            [
             1,
             "#276419"
            ]
           ],
           "sequential": [
            [
             0,
             "#0d0887"
            ],
            [
             0.1111111111111111,
             "#46039f"
            ],
            [
             0.2222222222222222,
             "#7201a8"
            ],
            [
             0.3333333333333333,
             "#9c179e"
            ],
            [
             0.4444444444444444,
             "#bd3786"
            ],
            [
             0.5555555555555556,
             "#d8576b"
            ],
            [
             0.6666666666666666,
             "#ed7953"
            ],
            [
             0.7777777777777778,
             "#fb9f3a"
            ],
            [
             0.8888888888888888,
             "#fdca26"
            ],
            [
             1,
             "#f0f921"
            ]
           ],
           "sequentialminus": [
            [
             0,
             "#0d0887"
            ],
            [
             0.1111111111111111,
             "#46039f"
            ],
            [
             0.2222222222222222,
             "#7201a8"
            ],
            [
             0.3333333333333333,
             "#9c179e"
            ],
            [
             0.4444444444444444,
             "#bd3786"
            ],
            [
             0.5555555555555556,
             "#d8576b"
            ],
            [
             0.6666666666666666,
             "#ed7953"
            ],
            [
             0.7777777777777778,
             "#fb9f3a"
            ],
            [
             0.8888888888888888,
             "#fdca26"
            ],
            [
             1,
             "#f0f921"
            ]
           ]
          },
          "colorway": [
           "#636efa",
           "#EF553B",
           "#00cc96",
           "#ab63fa",
           "#FFA15A",
           "#19d3f3",
           "#FF6692",
           "#B6E880",
           "#FF97FF",
           "#FECB52"
          ],
          "font": {
           "color": "#f2f5fa"
          },
          "geo": {
           "bgcolor": "rgb(17,17,17)",
           "lakecolor": "rgb(17,17,17)",
           "landcolor": "rgb(17,17,17)",
           "showlakes": true,
           "showland": true,
           "subunitcolor": "#506784"
          },
          "hoverlabel": {
           "align": "left"
          },
          "hovermode": "closest",
          "mapbox": {
           "style": "dark"
          },
          "paper_bgcolor": "rgb(17,17,17)",
          "plot_bgcolor": "rgb(17,17,17)",
          "polar": {
           "angularaxis": {
            "gridcolor": "#506784",
            "linecolor": "#506784",
            "ticks": ""
           },
           "bgcolor": "rgb(17,17,17)",
           "radialaxis": {
            "gridcolor": "#506784",
            "linecolor": "#506784",
            "ticks": ""
           }
          },
          "scene": {
           "xaxis": {
            "backgroundcolor": "rgb(17,17,17)",
            "gridcolor": "#506784",
            "gridwidth": 2,
            "linecolor": "#506784",
            "showbackground": true,
            "ticks": "",
            "zerolinecolor": "#C8D4E3"
           },
           "yaxis": {
            "backgroundcolor": "rgb(17,17,17)",
            "gridcolor": "#506784",
            "gridwidth": 2,
            "linecolor": "#506784",
            "showbackground": true,
            "ticks": "",
            "zerolinecolor": "#C8D4E3"
           },
           "zaxis": {
            "backgroundcolor": "rgb(17,17,17)",
            "gridcolor": "#506784",
            "gridwidth": 2,
            "linecolor": "#506784",
            "showbackground": true,
            "ticks": "",
            "zerolinecolor": "#C8D4E3"
           }
          },
          "shapedefaults": {
           "line": {
            "color": "#f2f5fa"
           }
          },
          "sliderdefaults": {
           "bgcolor": "#C8D4E3",
           "bordercolor": "rgb(17,17,17)",
           "borderwidth": 1,
           "tickwidth": 0
          },
          "ternary": {
           "aaxis": {
            "gridcolor": "#506784",
            "linecolor": "#506784",
            "ticks": ""
           },
           "baxis": {
            "gridcolor": "#506784",
            "linecolor": "#506784",
            "ticks": ""
           },
           "bgcolor": "rgb(17,17,17)",
           "caxis": {
            "gridcolor": "#506784",
            "linecolor": "#506784",
            "ticks": ""
           }
          },
          "title": {
           "x": 0.05
          },
          "updatemenudefaults": {
           "bgcolor": "#506784",
           "borderwidth": 0
          },
          "xaxis": {
           "automargin": true,
           "gridcolor": "#283442",
           "linecolor": "#506784",
           "ticks": "",
           "title": {
            "standoff": 15
           },
           "zerolinecolor": "#283442",
           "zerolinewidth": 2
          },
          "yaxis": {
           "automargin": true,
           "gridcolor": "#283442",
           "linecolor": "#506784",
           "ticks": "",
           "title": {
            "standoff": 15
           },
           "zerolinecolor": "#283442",
           "zerolinewidth": 2
          }
         }
        },
        "title": {
         "text": "Top 10 Constructors by Total Points"
        },
        "xaxis": {
         "anchor": "y",
         "categoryarray": [
          "ferrari",
          "mercedes",
          "red_bull",
          "mclaren",
          "williams",
          "renault",
          "force_india",
          "team_lotus",
          "benetton",
          "tyrrell"
         ],
         "categoryorder": "array",
         "domain": [
          0,
          1
         ],
         "title": {
          "text": "team"
         }
        },
        "yaxis": {
         "anchor": "x",
         "domain": [
          0,
          1
         ],
         "title": {
          "text": "Total Points"
         }
        }
       }
      }
     },
     "metadata": {},
     "output_type": "display_data"
    }
   ],
   "source": [
    "top_teams = final_standings.groupby('team')['points'].sum().reset_index().sort_values(by='points', ascending=False).head(10)\n",
    "\n",
    "fig = px.bar(\n",
    "    top_teams,\n",
    "    x='team',\n",
    "    y='points',\n",
    "    title='Top 10 Constructors by Total Points',\n",
    "    labels={'points': 'Total Points'},\n",
    "    template='plotly_dark',\n",
    "    color='team'\n",
    ")\n",
    "fig.show()"
   ]
  },
  {
   "cell_type": "markdown",
   "id": "335a681f",
   "metadata": {},
   "source": [
    "### 🏁 Yearly Champion Drivers (Wins Count)\n",
    "\n",
    "This section focuses on identifying the **race winners** for each season.\n",
    "\n",
    "- We filter races where the driver finished in **position 1**.\n",
    "- Then, we count how many races each driver won per year.\n",
    "- The resulting bar chart shows **which drivers dominated specific seasons** based on win count.\n",
    "\n",
    "This helps us understand which drivers were consistently outperforming others across different years."
   ]
  },
  {
   "cell_type": "code",
   "execution_count": 38,
   "id": "d9a6bc39",
   "metadata": {},
   "outputs": [
    {
     "data": {
      "application/vnd.plotly.v1+json": {
       "config": {
        "plotlyServerURL": "https://plot.ly"
       },
       "data": [
        {
         "hovertemplate": "driver=Fangio<br>year=%{x}<br>wins=%{y}<extra></extra>",
         "legendgroup": "Fangio",
         "marker": {
          "color": "#636efa",
          "pattern": {
           "shape": ""
          }
         },
         "name": "Fangio",
         "orientation": "v",
         "showlegend": true,
         "textposition": "auto",
         "type": "bar",
         "x": {
          "bdata": "ngefB6IHowekB6UH",
          "dtype": "i2"
         },
         "xaxis": "x",
         "y": {
          "bdata": "AQgJBQcI",
          "dtype": "i1"
         },
         "yaxis": "y"
        },
        {
         "hovertemplate": "driver=Farina<br>year=%{x}<br>wins=%{y}<extra></extra>",
         "legendgroup": "Farina",
         "marker": {
          "color": "#EF553B",
          "pattern": {
           "shape": ""
          }
         },
         "name": "Farina",
         "orientation": "v",
         "showlegend": true,
         "textposition": "auto",
         "type": "bar",
         "x": {
          "bdata": "ngefBw==",
          "dtype": "i2"
         },
         "xaxis": "x",
         "y": {
          "bdata": "BgE=",
          "dtype": "i1"
         },
         "yaxis": "y"
        },
        {
         "hovertemplate": "driver=Ascari<br>year=%{x}<br>wins=%{y}<extra></extra>",
         "legendgroup": "Ascari",
         "marker": {
          "color": "#00cc96",
          "pattern": {
           "shape": ""
          }
         },
         "name": "Ascari",
         "orientation": "v",
         "showlegend": true,
         "textposition": "auto",
         "type": "bar",
         "x": {
          "bdata": "oAehBw==",
          "dtype": "i2"
         },
         "xaxis": "x",
         "y": {
          "bdata": "BQo=",
          "dtype": "i1"
         },
         "yaxis": "y"
        },
        {
         "hovertemplate": "driver=Taruffi<br>year=%{x}<br>wins=%{y}<extra></extra>",
         "legendgroup": "Taruffi",
         "marker": {
          "color": "#ab63fa",
          "pattern": {
           "shape": ""
          }
         },
         "name": "Taruffi",
         "orientation": "v",
         "showlegend": true,
         "textposition": "auto",
         "type": "bar",
         "x": {
          "bdata": "oAc=",
          "dtype": "i2"
         },
         "xaxis": "x",
         "y": {
          "bdata": "Aw==",
          "dtype": "i1"
         },
         "yaxis": "y"
        },
        {
         "hovertemplate": "driver=Trintignant<br>year=%{x}<br>wins=%{y}<extra></extra>",
         "legendgroup": "Trintignant",
         "marker": {
          "color": "#FFA15A",
          "pattern": {
           "shape": ""
          }
         },
         "name": "Trintignant",
         "orientation": "v",
         "showlegend": true,
         "textposition": "auto",
         "type": "bar",
         "x": {
          "bdata": "owc=",
          "dtype": "i2"
         },
         "xaxis": "x",
         "y": {
          "bdata": "Ag==",
          "dtype": "i1"
         },
         "yaxis": "y"
        },
        {
         "hovertemplate": "driver=Behra<br>year=%{x}<br>wins=%{y}<extra></extra>",
         "legendgroup": "Behra",
         "marker": {
          "color": "#19d3f3",
          "pattern": {
           "shape": ""
          }
         },
         "name": "Behra",
         "orientation": "v",
         "showlegend": true,
         "textposition": "auto",
         "type": "bar",
         "x": {
          "bdata": "pAc=",
          "dtype": "i2"
         },
         "xaxis": "x",
         "y": {
          "bdata": "AQ==",
          "dtype": "i1"
         },
         "yaxis": "y"
        },
        {
         "hovertemplate": "driver=Collins<br>year=%{x}<br>wins=%{y}<extra></extra>",
         "legendgroup": "Collins",
         "marker": {
          "color": "#FF6692",
          "pattern": {
           "shape": ""
          }
         },
         "name": "Collins",
         "orientation": "v",
         "showlegend": true,
         "textposition": "auto",
         "type": "bar",
         "x": {
          "bdata": "pAc=",
          "dtype": "i2"
         },
         "xaxis": "x",
         "y": {
          "bdata": "Ag==",
          "dtype": "i1"
         },
         "yaxis": "y"
        },
        {
         "hovertemplate": "driver=Hawthorn<br>year=%{x}<br>wins=%{y}<extra></extra>",
         "legendgroup": "Hawthorn",
         "marker": {
          "color": "#B6E880",
          "pattern": {
           "shape": ""
          }
         },
         "name": "Hawthorn",
         "orientation": "v",
         "showlegend": true,
         "textposition": "auto",
         "type": "bar",
         "x": {
          "bdata": "pgc=",
          "dtype": "i2"
         },
         "xaxis": "x",
         "y": {
          "bdata": "BQ==",
          "dtype": "i1"
         },
         "yaxis": "y"
        },
        {
         "hovertemplate": "driver=Moss<br>year=%{x}<br>wins=%{y}<extra></extra>",
         "legendgroup": "Moss",
         "marker": {
          "color": "#FF97FF",
          "pattern": {
           "shape": ""
          }
         },
         "name": "Moss",
         "orientation": "v",
         "showlegend": true,
         "textposition": "auto",
         "type": "bar",
         "x": {
          "bdata": "pgepBw==",
          "dtype": "i2"
         },
         "xaxis": "x",
         "y": {
          "bdata": "BQI=",
          "dtype": "i1"
         },
         "yaxis": "y"
        },
        {
         "hovertemplate": "driver=Musso<br>year=%{x}<br>wins=%{y}<extra></extra>",
         "legendgroup": "Musso",
         "marker": {
          "color": "#FECB52",
          "pattern": {
           "shape": ""
          }
         },
         "name": "Musso",
         "orientation": "v",
         "showlegend": true,
         "textposition": "auto",
         "type": "bar",
         "x": {
          "bdata": "pgc=",
          "dtype": "i2"
         },
         "xaxis": "x",
         "y": {
          "bdata": "AQ==",
          "dtype": "i1"
         },
         "yaxis": "y"
        },
        {
         "hovertemplate": "driver=Brabham<br>year=%{x}<br>wins=%{y}<extra></extra>",
         "legendgroup": "Brabham",
         "marker": {
          "color": "#636efa",
          "pattern": {
           "shape": ""
          }
         },
         "name": "Brabham",
         "orientation": "v",
         "showlegend": true,
         "textposition": "auto",
         "type": "bar",
         "x": {
          "bdata": "pweoB64Hsgc=",
          "dtype": "i2"
         },
         "xaxis": "x",
         "y": {
          "bdata": "CQUHAw==",
          "dtype": "i1"
         },
         "yaxis": "y"
        },
        {
         "hovertemplate": "driver=McLaren<br>year=%{x}<br>wins=%{y}<extra></extra>",
         "legendgroup": "McLaren",
         "marker": {
          "color": "#EF553B",
          "pattern": {
           "shape": ""
          }
         },
         "name": "McLaren",
         "orientation": "v",
         "showlegend": true,
         "textposition": "auto",
         "type": "bar",
         "x": {
          "bdata": "qAerBw==",
          "dtype": "i2"
         },
         "xaxis": "x",
         "y": {
          "bdata": "BQE=",
          "dtype": "i1"
         },
         "yaxis": "y"
        },
        {
         "hovertemplate": "driver=Hill<br>year=%{x}<br>wins=%{y}<extra></extra>",
         "legendgroup": "Hill",
         "marker": {
          "color": "#00cc96",
          "pattern": {
           "shape": ""
          }
         },
         "name": "Hill",
         "orientation": "v",
         "showlegend": true,
         "textposition": "auto",
         "type": "bar",
         "x": {
          "bdata": "qQeqB6sHrAetB7AHywfMBw==",
          "dtype": "i2"
         },
         "xaxis": "x",
         "y": {
          "bdata": "BAkBBQELARA=",
          "dtype": "i1"
         },
         "yaxis": "y"
        },
        {
         "hovertemplate": "driver=von Trips<br>year=%{x}<br>wins=%{y}<extra></extra>",
         "legendgroup": "von Trips",
         "marker": {
          "color": "#ab63fa",
          "pattern": {
           "shape": ""
          }
         },
         "name": "von Trips",
         "orientation": "v",
         "showlegend": true,
         "textposition": "auto",
         "type": "bar",
         "x": {
          "bdata": "qQc=",
          "dtype": "i2"
         },
         "xaxis": "x",
         "y": {
          "bdata": "Ag==",
          "dtype": "i1"
         },
         "yaxis": "y"
        },
        {
         "hovertemplate": "driver=Clark<br>year=%{x}<br>wins=%{y}<extra></extra>",
         "legendgroup": "Clark",
         "marker": {
          "color": "#FFA15A",
          "pattern": {
           "shape": ""
          }
         },
         "name": "Clark",
         "orientation": "v",
         "showlegend": true,
         "textposition": "auto",
         "type": "bar",
         "x": {
          "bdata": "qwesB60HsAc=",
          "dtype": "i2"
         },
         "xaxis": "x",
         "y": {
          "bdata": "CAQJAQ==",
          "dtype": "i1"
         },
         "yaxis": "y"
        },
        {
         "hovertemplate": "driver=Surtees<br>year=%{x}<br>wins=%{y}<extra></extra>",
         "legendgroup": "Surtees",
         "marker": {
          "color": "#19d3f3",
          "pattern": {
           "shape": ""
          }
         },
         "name": "Surtees",
         "orientation": "v",
         "showlegend": true,
         "textposition": "auto",
         "type": "bar",
         "x": {
          "bdata": "rAc=",
          "dtype": "i2"
         },
         "xaxis": "x",
         "y": {
          "bdata": "AQ==",
          "dtype": "i1"
         },
         "yaxis": "y"
        },
        {
         "hovertemplate": "driver=Bandini<br>year=%{x}<br>wins=%{y}<extra></extra>",
         "legendgroup": "Bandini",
         "marker": {
          "color": "#FF6692",
          "pattern": {
           "shape": ""
          }
         },
         "name": "Bandini",
         "orientation": "v",
         "showlegend": true,
         "textposition": "auto",
         "type": "bar",
         "x": {
          "bdata": "rgc=",
          "dtype": "i2"
         },
         "xaxis": "x",
         "y": {
          "bdata": "AQ==",
          "dtype": "i1"
         },
         "yaxis": "y"
        },
        {
         "hovertemplate": "driver=Stewart<br>year=%{x}<br>wins=%{y}<extra></extra>",
         "legendgroup": "Stewart",
         "marker": {
          "color": "#B6E880",
          "pattern": {
           "shape": ""
          }
         },
         "name": "Stewart",
         "orientation": "v",
         "showlegend": true,
         "textposition": "auto",
         "type": "bar",
         "x": {
          "bdata": "rgexB7IHswe0B7UH",
          "dtype": "i2"
         },
         "xaxis": "x",
         "y": {
          "bdata": "AQsCCgEI",
          "dtype": "i1"
         },
         "yaxis": "y"
        },
        {
         "hovertemplate": "driver=Hulme<br>year=%{x}<br>wins=%{y}<extra></extra>",
         "legendgroup": "Hulme",
         "marker": {
          "color": "#FF97FF",
          "pattern": {
           "shape": ""
          }
         },
         "name": "Hulme",
         "orientation": "v",
         "showlegend": true,
         "textposition": "auto",
         "type": "bar",
         "x": {
          "bdata": "rwe0B7YH",
          "dtype": "i2"
         },
         "xaxis": "x",
         "y": {
          "bdata": "CgEB",
          "dtype": "i1"
         },
         "yaxis": "y"
        },
        {
         "hovertemplate": "driver=Rodríguez<br>year=%{x}<br>wins=%{y}<extra></extra>",
         "legendgroup": "Rodríguez",
         "marker": {
          "color": "#FECB52",
          "pattern": {
           "shape": ""
          }
         },
         "name": "Rodríguez",
         "orientation": "v",
         "showlegend": true,
         "textposition": "auto",
         "type": "bar",
         "x": {
          "bdata": "rwc=",
          "dtype": "i2"
         },
         "xaxis": "x",
         "y": {
          "bdata": "AQ==",
          "dtype": "i1"
         },
         "yaxis": "y"
        },
        {
         "hovertemplate": "driver=Rindt<br>year=%{x}<br>wins=%{y}<extra></extra>",
         "legendgroup": "Rindt",
         "marker": {
          "color": "#636efa",
          "pattern": {
           "shape": ""
          }
         },
         "name": "Rindt",
         "orientation": "v",
         "showlegend": true,
         "textposition": "auto",
         "type": "bar",
         "x": {
          "bdata": "sgc=",
          "dtype": "i2"
         },
         "xaxis": "x",
         "y": {
          "bdata": "CA==",
          "dtype": "i1"
         },
         "yaxis": "y"
        },
        {
         "hovertemplate": "driver=Andretti<br>year=%{x}<br>wins=%{y}<extra></extra>",
         "legendgroup": "Andretti",
         "marker": {
          "color": "#EF553B",
          "pattern": {
           "shape": ""
          }
         },
         "name": "Andretti",
         "orientation": "v",
         "showlegend": true,
         "textposition": "auto",
         "type": "bar",
         "x": {
          "bdata": "swe6Bw==",
          "dtype": "i2"
         },
         "xaxis": "x",
         "y": {
          "bdata": "AQ4=",
          "dtype": "i1"
         },
         "yaxis": "y"
        },
        {
         "hovertemplate": "driver=Fittipaldi<br>year=%{x}<br>wins=%{y}<extra></extra>",
         "legendgroup": "Fittipaldi",
         "marker": {
          "color": "#00cc96",
          "pattern": {
           "shape": ""
          }
         },
         "name": "Fittipaldi",
         "orientation": "v",
         "showlegend": true,
         "textposition": "auto",
         "type": "bar",
         "x": {
          "bdata": "tAe1B7YHtwc=",
          "dtype": "i2"
         },
         "xaxis": "x",
         "y": {
          "bdata": "CgcGBQ==",
          "dtype": "i1"
         },
         "yaxis": "y"
        },
        {
         "hovertemplate": "driver=Lauda<br>year=%{x}<br>wins=%{y}<extra></extra>",
         "legendgroup": "Lauda",
         "marker": {
          "color": "#ab63fa",
          "pattern": {
           "shape": ""
          }
         },
         "name": "Lauda",
         "orientation": "v",
         "showlegend": true,
         "textposition": "auto",
         "type": "bar",
         "x": {
          "bdata": "tge3B7gHuQe/B8AH",
          "dtype": "i2"
         },
         "xaxis": "x",
         "y": {
          "bdata": "AgkPCgEF",
          "dtype": "i1"
         },
         "yaxis": "y"
        },
        {
         "hovertemplate": "driver=Regazzoni<br>year=%{x}<br>wins=%{y}<extra></extra>",
         "legendgroup": "Regazzoni",
         "marker": {
          "color": "#FFA15A",
          "pattern": {
           "shape": ""
          }
         },
         "name": "Regazzoni",
         "orientation": "v",
         "showlegend": true,
         "textposition": "auto",
         "type": "bar",
         "x": {
          "bdata": "tgc=",
          "dtype": "i2"
         },
         "xaxis": "x",
         "y": {
          "bdata": "Bg==",
          "dtype": "i1"
         },
         "yaxis": "y"
        },
        {
         "hovertemplate": "driver=Hunt<br>year=%{x}<br>wins=%{y}<extra></extra>",
         "legendgroup": "Hunt",
         "marker": {
          "color": "#19d3f3",
          "pattern": {
           "shape": ""
          }
         },
         "name": "Hunt",
         "orientation": "v",
         "showlegend": true,
         "textposition": "auto",
         "type": "bar",
         "x": {
          "bdata": "uAc=",
          "dtype": "i2"
         },
         "xaxis": "x",
         "y": {
          "bdata": "AQ==",
          "dtype": "i1"
         },
         "yaxis": "y"
        },
        {
         "hovertemplate": "driver=Reutemann<br>year=%{x}<br>wins=%{y}<extra></extra>",
         "legendgroup": "Reutemann",
         "marker": {
          "color": "#FF6692",
          "pattern": {
           "shape": ""
          }
         },
         "name": "Reutemann",
         "orientation": "v",
         "showlegend": true,
         "textposition": "auto",
         "type": "bar",
         "x": {
          "bdata": "uQe6B70H",
          "dtype": "i2"
         },
         "xaxis": "x",
         "y": {
          "bdata": "AQEL",
          "dtype": "i1"
         },
         "yaxis": "y"
        },
        {
         "hovertemplate": "driver=Scheckter<br>year=%{x}<br>wins=%{y}<extra></extra>",
         "legendgroup": "Scheckter",
         "marker": {
          "color": "#B6E880",
          "pattern": {
           "shape": ""
          }
         },
         "name": "Scheckter",
         "orientation": "v",
         "showlegend": true,
         "textposition": "auto",
         "type": "bar",
         "x": {
          "bdata": "uQe7Bw==",
          "dtype": "i2"
         },
         "xaxis": "x",
         "y": {
          "bdata": "Bgk=",
          "dtype": "i1"
         },
         "yaxis": "y"
        },
        {
         "hovertemplate": "driver=Depailler<br>year=%{x}<br>wins=%{y}<extra></extra>",
         "legendgroup": "Depailler",
         "marker": {
          "color": "#FF97FF",
          "pattern": {
           "shape": ""
          }
         },
         "name": "Depailler",
         "orientation": "v",
         "showlegend": true,
         "textposition": "auto",
         "type": "bar",
         "x": {
          "bdata": "ugc=",
          "dtype": "i2"
         },
         "xaxis": "x",
         "y": {
          "bdata": "AQ==",
          "dtype": "i1"
         },
         "yaxis": "y"
        },
        {
         "hovertemplate": "driver=Laffite<br>year=%{x}<br>wins=%{y}<extra></extra>",
         "legendgroup": "Laffite",
         "marker": {
          "color": "#FECB52",
          "pattern": {
           "shape": ""
          }
         },
         "name": "Laffite",
         "orientation": "v",
         "showlegend": true,
         "textposition": "auto",
         "type": "bar",
         "x": {
          "bdata": "uwc=",
          "dtype": "i2"
         },
         "xaxis": "x",
         "y": {
          "bdata": "BA==",
          "dtype": "i1"
         },
         "yaxis": "y"
        },
        {
         "hovertemplate": "driver=Villeneuve<br>year=%{x}<br>wins=%{y}<extra></extra>",
         "legendgroup": "Villeneuve",
         "marker": {
          "color": "#636efa",
          "pattern": {
           "shape": ""
          }
         },
         "name": "Villeneuve",
         "orientation": "v",
         "showlegend": true,
         "textposition": "auto",
         "type": "bar",
         "x": {
          "bdata": "uwfNBw==",
          "dtype": "i2"
         },
         "xaxis": "x",
         "y": {
          "bdata": "AgU=",
          "dtype": "i1"
         },
         "yaxis": "y"
        },
        {
         "hovertemplate": "driver=Arnoux<br>year=%{x}<br>wins=%{y}<extra></extra>",
         "legendgroup": "Arnoux",
         "marker": {
          "color": "#EF553B",
          "pattern": {
           "shape": ""
          }
         },
         "name": "Arnoux",
         "orientation": "v",
         "showlegend": true,
         "textposition": "auto",
         "type": "bar",
         "x": {
          "bdata": "vAc=",
          "dtype": "i2"
         },
         "xaxis": "x",
         "y": {
          "bdata": "Aw==",
          "dtype": "i1"
         },
         "yaxis": "y"
        },
        {
         "hovertemplate": "driver=Jones<br>year=%{x}<br>wins=%{y}<extra></extra>",
         "legendgroup": "Jones",
         "marker": {
          "color": "#00cc96",
          "pattern": {
           "shape": ""
          }
         },
         "name": "Jones",
         "orientation": "v",
         "showlegend": true,
         "textposition": "auto",
         "type": "bar",
         "x": {
          "bdata": "vAe9Bw==",
          "dtype": "i2"
         },
         "xaxis": "x",
         "y": {
          "bdata": "CQI=",
          "dtype": "i1"
         },
         "yaxis": "y"
        },
        {
         "hovertemplate": "driver=Piquet<br>year=%{x}<br>wins=%{y}<extra></extra>",
         "legendgroup": "Piquet",
         "marker": {
          "color": "#ab63fa",
          "pattern": {
           "shape": ""
          }
         },
         "name": "Piquet",
         "orientation": "v",
         "showlegend": true,
         "textposition": "auto",
         "type": "bar",
         "x": {
          "bdata": "vAe9B78HwgfDBw==",
          "dtype": "i2"
         },
         "xaxis": "x",
         "y": {
          "bdata": "AgIEAgk=",
          "dtype": "i1"
         },
         "yaxis": "y"
        },
        {
         "hovertemplate": "driver=Pironi<br>year=%{x}<br>wins=%{y}<extra></extra>",
         "legendgroup": "Pironi",
         "marker": {
          "color": "#FFA15A",
          "pattern": {
           "shape": ""
          }
         },
         "name": "Pironi",
         "orientation": "v",
         "showlegend": true,
         "textposition": "auto",
         "type": "bar",
         "x": {
          "bdata": "vgc=",
          "dtype": "i2"
         },
         "xaxis": "x",
         "y": {
          "bdata": "BA==",
          "dtype": "i1"
         },
         "yaxis": "y"
        },
        {
         "hovertemplate": "driver=Prost<br>year=%{x}<br>wins=%{y}<extra></extra>",
         "legendgroup": "Prost",
         "marker": {
          "color": "#19d3f3",
          "pattern": {
           "shape": ""
          }
         },
         "name": "Prost",
         "orientation": "v",
         "showlegend": true,
         "textposition": "auto",
         "type": "bar",
         "x": {
          "bdata": "vge/B8AHwQfCB8MHxAfFB8YHyQc=",
          "dtype": "i2"
         },
         "xaxis": "x",
         "y": {
          "bdata": "BgoLCAQDCw0BDA==",
          "dtype": "i1"
         },
         "yaxis": "y"
        },
        {
         "hovertemplate": "driver=Rosberg<br>year=%{x}<br>wins=%{y}<extra></extra>",
         "legendgroup": "Rosberg",
         "marker": {
          "color": "#FF6692",
          "pattern": {
           "shape": ""
          }
         },
         "name": "Rosberg",
         "orientation": "v",
         "showlegend": true,
         "textposition": "auto",
         "type": "bar",
         "x": {
          "bdata": "vgfeB+AH",
          "dtype": "i2"
         },
         "xaxis": "x",
         "y": {
          "bdata": "AwwR",
          "dtype": "i1"
         },
         "yaxis": "y"
        },
        {
         "hovertemplate": "driver=Watson<br>year=%{x}<br>wins=%{y}<extra></extra>",
         "legendgroup": "Watson",
         "marker": {
          "color": "#B6E880",
          "pattern": {
           "shape": ""
          }
         },
         "name": "Watson",
         "orientation": "v",
         "showlegend": true,
         "textposition": "auto",
         "type": "bar",
         "x": {
          "bdata": "vgc=",
          "dtype": "i2"
         },
         "xaxis": "x",
         "y": {
          "bdata": "Aw==",
          "dtype": "i1"
         },
         "yaxis": "y"
        },
        {
         "hovertemplate": "driver=Alboreto<br>year=%{x}<br>wins=%{y}<extra></extra>",
         "legendgroup": "Alboreto",
         "marker": {
          "color": "#FF97FF",
          "pattern": {
           "shape": ""
          }
         },
         "name": "Alboreto",
         "orientation": "v",
         "showlegend": true,
         "textposition": "auto",
         "type": "bar",
         "x": {
          "bdata": "wQc=",
          "dtype": "i2"
         },
         "xaxis": "x",
         "y": {
          "bdata": "Bg==",
          "dtype": "i1"
         },
         "yaxis": "y"
        },
        {
         "hovertemplate": "driver=de Angelis<br>year=%{x}<br>wins=%{y}<extra></extra>",
         "legendgroup": "de Angelis",
         "marker": {
          "color": "#FECB52",
          "pattern": {
           "shape": ""
          }
         },
         "name": "de Angelis",
         "orientation": "v",
         "showlegend": true,
         "textposition": "auto",
         "type": "bar",
         "x": {
          "bdata": "wQc=",
          "dtype": "i2"
         },
         "xaxis": "x",
         "y": {
          "bdata": "Ag==",
          "dtype": "i1"
         },
         "yaxis": "y"
        },
        {
         "hovertemplate": "driver=Mansell<br>year=%{x}<br>wins=%{y}<extra></extra>",
         "legendgroup": "Mansell",
         "marker": {
          "color": "#636efa",
          "pattern": {
           "shape": ""
          }
         },
         "name": "Mansell",
         "orientation": "v",
         "showlegend": true,
         "textposition": "auto",
         "type": "bar",
         "x": {
          "bdata": "wgfDB8UHyAc=",
          "dtype": "i2"
         },
         "xaxis": "x",
         "y": {
          "bdata": "BwEBEA==",
          "dtype": "i1"
         },
         "yaxis": "y"
        },
        {
         "hovertemplate": "driver=Senna<br>year=%{x}<br>wins=%{y}<extra></extra>",
         "legendgroup": "Senna",
         "marker": {
          "color": "#EF553B",
          "pattern": {
           "shape": ""
          }
         },
         "name": "Senna",
         "orientation": "v",
         "showlegend": true,
         "textposition": "auto",
         "type": "bar",
         "x": {
          "bdata": "wgfDB8QHxQfGB8cHyQc=",
          "dtype": "i2"
         },
         "xaxis": "x",
         "y": {
          "bdata": "AwMFAg8QBA==",
          "dtype": "i1"
         },
         "yaxis": "y"
        },
        {
         "hovertemplate": "driver=Schumacher<br>year=%{x}<br>wins=%{y}<extra></extra>",
         "legendgroup": "Schumacher",
         "marker": {
          "color": "#00cc96",
          "pattern": {
           "shape": ""
          }
         },
         "name": "Schumacher",
         "orientation": "v",
         "showlegend": true,
         "textposition": "auto",
         "type": "bar",
         "x": {
          "bdata": "ygfLB80HzwfQB9EH0gfTB9QH1gc=",
          "dtype": "i2"
         },
         "xaxis": "x",
         "y": {
          "bdata": "EBAKAw4REQkSAQ==",
          "dtype": "i1"
         },
         "yaxis": "y"
        },
        {
         "hovertemplate": "driver=Coulthard<br>year=%{x}<br>wins=%{y}<extra></extra>",
         "legendgroup": "Coulthard",
         "marker": {
          "color": "#ab63fa",
          "pattern": {
           "shape": ""
          }
         },
         "name": "Coulthard",
         "orientation": "v",
         "showlegend": true,
         "textposition": "auto",
         "type": "bar",
         "x": {
          "bdata": "zQfTBw==",
          "dtype": "i2"
         },
         "xaxis": "x",
         "y": {
          "bdata": "AgE=",
          "dtype": "i1"
         },
         "yaxis": "y"
        },
        {
         "hovertemplate": "driver=Häkkinen<br>year=%{x}<br>wins=%{y}<extra></extra>",
         "legendgroup": "Häkkinen",
         "marker": {
          "color": "#FFA15A",
          "pattern": {
           "shape": ""
          }
         },
         "name": "Häkkinen",
         "orientation": "v",
         "showlegend": true,
         "textposition": "auto",
         "type": "bar",
         "x": {
          "bdata": "zgfPB9AH",
          "dtype": "i2"
         },
         "xaxis": "x",
         "y": {
          "bdata": "EAgD",
          "dtype": "i1"
         },
         "yaxis": "y"
        },
        {
         "hovertemplate": "driver=Irvine<br>year=%{x}<br>wins=%{y}<extra></extra>",
         "legendgroup": "Irvine",
         "marker": {
          "color": "#19d3f3",
          "pattern": {
           "shape": ""
          }
         },
         "name": "Irvine",
         "orientation": "v",
         "showlegend": true,
         "textposition": "auto",
         "type": "bar",
         "x": {
          "bdata": "zwc=",
          "dtype": "i2"
         },
         "xaxis": "x",
         "y": {
          "bdata": "BQ==",
          "dtype": "i1"
         },
         "yaxis": "y"
        },
        {
         "hovertemplate": "driver=Räikkönen<br>year=%{x}<br>wins=%{y}<extra></extra>",
         "legendgroup": "Räikkönen",
         "marker": {
          "color": "#FF6692",
          "pattern": {
           "shape": ""
          }
         },
         "name": "Räikkönen",
         "orientation": "v",
         "showlegend": true,
         "textposition": "auto",
         "type": "bar",
         "x": {
          "bdata": "0wfXB9gH3Qc=",
          "dtype": "i2"
         },
         "xaxis": "x",
         "y": {
          "bdata": "BgIDAQ==",
          "dtype": "i1"
         },
         "yaxis": "y"
        },
        {
         "hovertemplate": "driver=Alonso<br>year=%{x}<br>wins=%{y}<extra></extra>",
         "legendgroup": "Alonso",
         "marker": {
          "color": "#B6E880",
          "pattern": {
           "shape": ""
          }
         },
         "name": "Alonso",
         "orientation": "v",
         "showlegend": true,
         "textposition": "auto",
         "type": "bar",
         "x": {
          "bdata": "1QfWB9cH2gfcBw==",
          "dtype": "i2"
         },
         "xaxis": "x",
         "y": {
          "bdata": "EhEDBAo=",
          "dtype": "i1"
         },
         "yaxis": "y"
        },
        {
         "hovertemplate": "driver=Fisichella<br>year=%{x}<br>wins=%{y}<extra></extra>",
         "legendgroup": "Fisichella",
         "marker": {
          "color": "#FF97FF",
          "pattern": {
           "shape": ""
          }
         },
         "name": "Fisichella",
         "orientation": "v",
         "showlegend": true,
         "textposition": "auto",
         "type": "bar",
         "x": {
          "bdata": "1Qc=",
          "dtype": "i2"
         },
         "xaxis": "x",
         "y": {
          "bdata": "AQ==",
          "dtype": "i1"
         },
         "yaxis": "y"
        },
        {
         "hovertemplate": "driver=Hamilton<br>year=%{x}<br>wins=%{y}<extra></extra>",
         "legendgroup": "Hamilton",
         "marker": {
          "color": "#FECB52",
          "pattern": {
           "shape": ""
          }
         },
         "name": "Hamilton",
         "orientation": "v",
         "showlegend": true,
         "textposition": "auto",
         "type": "bar",
         "x": {
          "bdata": "1wfYB9oH3AfeB98H4AfhB+IH4wfkB+UH",
          "dtype": "i2"
         },
         "xaxis": "x",
         "y": {
          "bdata": "DA0FAgcTBAgPEg8H",
          "dtype": "i1"
         },
         "yaxis": "y"
        },
        {
         "hovertemplate": "driver=Kubica<br>year=%{x}<br>wins=%{y}<extra></extra>",
         "legendgroup": "Kubica",
         "marker": {
          "color": "#636efa",
          "pattern": {
           "shape": ""
          }
         },
         "name": "Kubica",
         "orientation": "v",
         "showlegend": true,
         "textposition": "auto",
         "type": "bar",
         "x": {
          "bdata": "2Ac=",
          "dtype": "i2"
         },
         "xaxis": "x",
         "y": {
          "bdata": "AQ==",
          "dtype": "i1"
         },
         "yaxis": "y"
        },
        {
         "hovertemplate": "driver=Massa<br>year=%{x}<br>wins=%{y}<extra></extra>",
         "legendgroup": "Massa",
         "marker": {
          "color": "#EF553B",
          "pattern": {
           "shape": ""
          }
         },
         "name": "Massa",
         "orientation": "v",
         "showlegend": true,
         "textposition": "auto",
         "type": "bar",
         "x": {
          "bdata": "2AfaBw==",
          "dtype": "i2"
         },
         "xaxis": "x",
         "y": {
          "bdata": "AQE=",
          "dtype": "i1"
         },
         "yaxis": "y"
        },
        {
         "hovertemplate": "driver=Button<br>year=%{x}<br>wins=%{y}<extra></extra>",
         "legendgroup": "Button",
         "marker": {
          "color": "#00cc96",
          "pattern": {
           "shape": ""
          }
         },
         "name": "Button",
         "orientation": "v",
         "showlegend": true,
         "textposition": "auto",
         "type": "bar",
         "x": {
          "bdata": "2QfaB9wH",
          "dtype": "i2"
         },
         "xaxis": "x",
         "y": {
          "bdata": "EQIB",
          "dtype": "i1"
         },
         "yaxis": "y"
        },
        {
         "hovertemplate": "driver=Vettel<br>year=%{x}<br>wins=%{y}<extra></extra>",
         "legendgroup": "Vettel",
         "marker": {
          "color": "#ab63fa",
          "pattern": {
           "shape": ""
          }
         },
         "name": "Vettel",
         "orientation": "v",
         "showlegend": true,
         "textposition": "auto",
         "type": "bar",
         "x": {
          "bdata": "2gfbB9wH3QfhB+IH",
          "dtype": "i2"
         },
         "xaxis": "x",
         "y": {
          "bdata": "ARMHEgwG",
          "dtype": "i1"
         },
         "yaxis": "y"
        },
        {
         "hovertemplate": "driver=Webber<br>year=%{x}<br>wins=%{y}<extra></extra>",
         "legendgroup": "Webber",
         "marker": {
          "color": "#FFA15A",
          "pattern": {
           "shape": ""
          }
         },
         "name": "Webber",
         "orientation": "v",
         "showlegend": true,
         "textposition": "auto",
         "type": "bar",
         "x": {
          "bdata": "2gc=",
          "dtype": "i2"
         },
         "xaxis": "x",
         "y": {
          "bdata": "Bg==",
          "dtype": "i1"
         },
         "yaxis": "y"
        },
        {
         "hovertemplate": "driver=Bottas<br>year=%{x}<br>wins=%{y}<extra></extra>",
         "legendgroup": "Bottas",
         "marker": {
          "color": "#19d3f3",
          "pattern": {
           "shape": ""
          }
         },
         "name": "Bottas",
         "orientation": "v",
         "showlegend": true,
         "textposition": "auto",
         "type": "bar",
         "x": {
          "bdata": "4wfkBw==",
          "dtype": "i2"
         },
         "xaxis": "x",
         "y": {
          "bdata": "AwI=",
          "dtype": "i1"
         },
         "yaxis": "y"
        },
        {
         "hovertemplate": "driver=Verstappen<br>year=%{x}<br>wins=%{y}<extra></extra>",
         "legendgroup": "Verstappen",
         "marker": {
          "color": "#FF6692",
          "pattern": {
           "shape": ""
          }
         },
         "name": "Verstappen",
         "orientation": "v",
         "showlegend": true,
         "textposition": "auto",
         "type": "bar",
         "x": {
          "bdata": "5QfmB+cH6Ac=",
          "dtype": "i2"
         },
         "xaxis": "x",
         "y": {
          "bdata": "DxEWGA==",
          "dtype": "i1"
         },
         "yaxis": "y"
        },
        {
         "hovertemplate": "driver=Leclerc<br>year=%{x}<br>wins=%{y}<extra></extra>",
         "legendgroup": "Leclerc",
         "marker": {
          "color": "#B6E880",
          "pattern": {
           "shape": ""
          }
         },
         "name": "Leclerc",
         "orientation": "v",
         "showlegend": true,
         "textposition": "auto",
         "type": "bar",
         "x": {
          "bdata": "5gc=",
          "dtype": "i2"
         },
         "xaxis": "x",
         "y": {
          "bdata": "BQ==",
          "dtype": "i1"
         },
         "yaxis": "y"
        }
       ],
       "layout": {
        "barmode": "relative",
        "legend": {
         "title": {
          "text": "driver"
         },
         "tracegroupgap": 0
        },
        "template": {
         "data": {
          "bar": [
           {
            "error_x": {
             "color": "#f2f5fa"
            },
            "error_y": {
             "color": "#f2f5fa"
            },
            "marker": {
             "line": {
              "color": "rgb(17,17,17)",
              "width": 0.5
             },
             "pattern": {
              "fillmode": "overlay",
              "size": 10,
              "solidity": 0.2
             }
            },
            "type": "bar"
           }
          ],
          "barpolar": [
           {
            "marker": {
             "line": {
              "color": "rgb(17,17,17)",
              "width": 0.5
             },
             "pattern": {
              "fillmode": "overlay",
              "size": 10,
              "solidity": 0.2
             }
            },
            "type": "barpolar"
           }
          ],
          "carpet": [
           {
            "aaxis": {
             "endlinecolor": "#A2B1C6",
             "gridcolor": "#506784",
             "linecolor": "#506784",
             "minorgridcolor": "#506784",
             "startlinecolor": "#A2B1C6"
            },
            "baxis": {
             "endlinecolor": "#A2B1C6",
             "gridcolor": "#506784",
             "linecolor": "#506784",
             "minorgridcolor": "#506784",
             "startlinecolor": "#A2B1C6"
            },
            "type": "carpet"
           }
          ],
          "choropleth": [
           {
            "colorbar": {
             "outlinewidth": 0,
             "ticks": ""
            },
            "type": "choropleth"
           }
          ],
          "contour": [
           {
            "colorbar": {
             "outlinewidth": 0,
             "ticks": ""
            },
            "colorscale": [
             [
              0,
              "#0d0887"
             ],
             [
              0.1111111111111111,
              "#46039f"
             ],
             [
              0.2222222222222222,
              "#7201a8"
             ],
             [
              0.3333333333333333,
              "#9c179e"
             ],
             [
              0.4444444444444444,
              "#bd3786"
             ],
             [
              0.5555555555555556,
              "#d8576b"
             ],
             [
              0.6666666666666666,
              "#ed7953"
             ],
             [
              0.7777777777777778,
              "#fb9f3a"
             ],
             [
              0.8888888888888888,
              "#fdca26"
             ],
             [
              1,
              "#f0f921"
             ]
            ],
            "type": "contour"
           }
          ],
          "contourcarpet": [
           {
            "colorbar": {
             "outlinewidth": 0,
             "ticks": ""
            },
            "type": "contourcarpet"
           }
          ],
          "heatmap": [
           {
            "colorbar": {
             "outlinewidth": 0,
             "ticks": ""
            },
            "colorscale": [
             [
              0,
              "#0d0887"
             ],
             [
              0.1111111111111111,
              "#46039f"
             ],
             [
              0.2222222222222222,
              "#7201a8"
             ],
             [
              0.3333333333333333,
              "#9c179e"
             ],
             [
              0.4444444444444444,
              "#bd3786"
             ],
             [
              0.5555555555555556,
              "#d8576b"
             ],
             [
              0.6666666666666666,
              "#ed7953"
             ],
             [
              0.7777777777777778,
              "#fb9f3a"
             ],
             [
              0.8888888888888888,
              "#fdca26"
             ],
             [
              1,
              "#f0f921"
             ]
            ],
            "type": "heatmap"
           }
          ],
          "histogram": [
           {
            "marker": {
             "pattern": {
              "fillmode": "overlay",
              "size": 10,
              "solidity": 0.2
             }
            },
            "type": "histogram"
           }
          ],
          "histogram2d": [
           {
            "colorbar": {
             "outlinewidth": 0,
             "ticks": ""
            },
            "colorscale": [
             [
              0,
              "#0d0887"
             ],
             [
              0.1111111111111111,
              "#46039f"
             ],
             [
              0.2222222222222222,
              "#7201a8"
             ],
             [
              0.3333333333333333,
              "#9c179e"
             ],
             [
              0.4444444444444444,
              "#bd3786"
             ],
             [
              0.5555555555555556,
              "#d8576b"
             ],
             [
              0.6666666666666666,
              "#ed7953"
             ],
             [
              0.7777777777777778,
              "#fb9f3a"
             ],
             [
              0.8888888888888888,
              "#fdca26"
             ],
             [
              1,
              "#f0f921"
             ]
            ],
            "type": "histogram2d"
           }
          ],
          "histogram2dcontour": [
           {
            "colorbar": {
             "outlinewidth": 0,
             "ticks": ""
            },
            "colorscale": [
             [
              0,
              "#0d0887"
             ],
             [
              0.1111111111111111,
              "#46039f"
             ],
             [
              0.2222222222222222,
              "#7201a8"
             ],
             [
              0.3333333333333333,
              "#9c179e"
             ],
             [
              0.4444444444444444,
              "#bd3786"
             ],
             [
              0.5555555555555556,
              "#d8576b"
             ],
             [
              0.6666666666666666,
              "#ed7953"
             ],
             [
              0.7777777777777778,
              "#fb9f3a"
             ],
             [
              0.8888888888888888,
              "#fdca26"
             ],
             [
              1,
              "#f0f921"
             ]
            ],
            "type": "histogram2dcontour"
           }
          ],
          "mesh3d": [
           {
            "colorbar": {
             "outlinewidth": 0,
             "ticks": ""
            },
            "type": "mesh3d"
           }
          ],
          "parcoords": [
           {
            "line": {
             "colorbar": {
              "outlinewidth": 0,
              "ticks": ""
             }
            },
            "type": "parcoords"
           }
          ],
          "pie": [
           {
            "automargin": true,
            "type": "pie"
           }
          ],
          "scatter": [
           {
            "marker": {
             "line": {
              "color": "#283442"
             }
            },
            "type": "scatter"
           }
          ],
          "scatter3d": [
           {
            "line": {
             "colorbar": {
              "outlinewidth": 0,
              "ticks": ""
             }
            },
            "marker": {
             "colorbar": {
              "outlinewidth": 0,
              "ticks": ""
             }
            },
            "type": "scatter3d"
           }
          ],
          "scattercarpet": [
           {
            "marker": {
             "colorbar": {
              "outlinewidth": 0,
              "ticks": ""
             }
            },
            "type": "scattercarpet"
           }
          ],
          "scattergeo": [
           {
            "marker": {
             "colorbar": {
              "outlinewidth": 0,
              "ticks": ""
             }
            },
            "type": "scattergeo"
           }
          ],
          "scattergl": [
           {
            "marker": {
             "line": {
              "color": "#283442"
             }
            },
            "type": "scattergl"
           }
          ],
          "scattermap": [
           {
            "marker": {
             "colorbar": {
              "outlinewidth": 0,
              "ticks": ""
             }
            },
            "type": "scattermap"
           }
          ],
          "scattermapbox": [
           {
            "marker": {
             "colorbar": {
              "outlinewidth": 0,
              "ticks": ""
             }
            },
            "type": "scattermapbox"
           }
          ],
          "scatterpolar": [
           {
            "marker": {
             "colorbar": {
              "outlinewidth": 0,
              "ticks": ""
             }
            },
            "type": "scatterpolar"
           }
          ],
          "scatterpolargl": [
           {
            "marker": {
             "colorbar": {
              "outlinewidth": 0,
              "ticks": ""
             }
            },
            "type": "scatterpolargl"
           }
          ],
          "scatterternary": [
           {
            "marker": {
             "colorbar": {
              "outlinewidth": 0,
              "ticks": ""
             }
            },
            "type": "scatterternary"
           }
          ],
          "surface": [
           {
            "colorbar": {
             "outlinewidth": 0,
             "ticks": ""
            },
            "colorscale": [
             [
              0,
              "#0d0887"
             ],
             [
              0.1111111111111111,
              "#46039f"
             ],
             [
              0.2222222222222222,
              "#7201a8"
             ],
             [
              0.3333333333333333,
              "#9c179e"
             ],
             [
              0.4444444444444444,
              "#bd3786"
             ],
             [
              0.5555555555555556,
              "#d8576b"
             ],
             [
              0.6666666666666666,
              "#ed7953"
             ],
             [
              0.7777777777777778,
              "#fb9f3a"
             ],
             [
              0.8888888888888888,
              "#fdca26"
             ],
             [
              1,
              "#f0f921"
             ]
            ],
            "type": "surface"
           }
          ],
          "table": [
           {
            "cells": {
             "fill": {
              "color": "#506784"
             },
             "line": {
              "color": "rgb(17,17,17)"
             }
            },
            "header": {
             "fill": {
              "color": "#2a3f5f"
             },
             "line": {
              "color": "rgb(17,17,17)"
             }
            },
            "type": "table"
           }
          ]
         },
         "layout": {
          "annotationdefaults": {
           "arrowcolor": "#f2f5fa",
           "arrowhead": 0,
           "arrowwidth": 1
          },
          "autotypenumbers": "strict",
          "coloraxis": {
           "colorbar": {
            "outlinewidth": 0,
            "ticks": ""
           }
          },
          "colorscale": {
           "diverging": [
            [
             0,
             "#8e0152"
            ],
            [
             0.1,
             "#c51b7d"
            ],
            [
             0.2,
             "#de77ae"
            ],
            [
             0.3,
             "#f1b6da"
            ],
            [
             0.4,
             "#fde0ef"
            ],
            [
             0.5,
             "#f7f7f7"
            ],
            [
             0.6,
             "#e6f5d0"
            ],
            [
             0.7,
             "#b8e186"
            ],
            [
             0.8,
             "#7fbc41"
            ],
            [
             0.9,
             "#4d9221"
            ],
            [
             1,
             "#276419"
            ]
           ],
           "sequential": [
            [
             0,
             "#0d0887"
            ],
            [
             0.1111111111111111,
             "#46039f"
            ],
            [
             0.2222222222222222,
             "#7201a8"
            ],
            [
             0.3333333333333333,
             "#9c179e"
            ],
            [
             0.4444444444444444,
             "#bd3786"
            ],
            [
             0.5555555555555556,
             "#d8576b"
            ],
            [
             0.6666666666666666,
             "#ed7953"
            ],
            [
             0.7777777777777778,
             "#fb9f3a"
            ],
            [
             0.8888888888888888,
             "#fdca26"
            ],
            [
             1,
             "#f0f921"
            ]
           ],
           "sequentialminus": [
            [
             0,
             "#0d0887"
            ],
            [
             0.1111111111111111,
             "#46039f"
            ],
            [
             0.2222222222222222,
             "#7201a8"
            ],
            [
             0.3333333333333333,
             "#9c179e"
            ],
            [
             0.4444444444444444,
             "#bd3786"
            ],
            [
             0.5555555555555556,
             "#d8576b"
            ],
            [
             0.6666666666666666,
             "#ed7953"
            ],
            [
             0.7777777777777778,
             "#fb9f3a"
            ],
            [
             0.8888888888888888,
             "#fdca26"
            ],
            [
             1,
             "#f0f921"
            ]
           ]
          },
          "colorway": [
           "#636efa",
           "#EF553B",
           "#00cc96",
           "#ab63fa",
           "#FFA15A",
           "#19d3f3",
           "#FF6692",
           "#B6E880",
           "#FF97FF",
           "#FECB52"
          ],
          "font": {
           "color": "#f2f5fa"
          },
          "geo": {
           "bgcolor": "rgb(17,17,17)",
           "lakecolor": "rgb(17,17,17)",
           "landcolor": "rgb(17,17,17)",
           "showlakes": true,
           "showland": true,
           "subunitcolor": "#506784"
          },
          "hoverlabel": {
           "align": "left"
          },
          "hovermode": "closest",
          "mapbox": {
           "style": "dark"
          },
          "paper_bgcolor": "rgb(17,17,17)",
          "plot_bgcolor": "rgb(17,17,17)",
          "polar": {
           "angularaxis": {
            "gridcolor": "#506784",
            "linecolor": "#506784",
            "ticks": ""
           },
           "bgcolor": "rgb(17,17,17)",
           "radialaxis": {
            "gridcolor": "#506784",
            "linecolor": "#506784",
            "ticks": ""
           }
          },
          "scene": {
           "xaxis": {
            "backgroundcolor": "rgb(17,17,17)",
            "gridcolor": "#506784",
            "gridwidth": 2,
            "linecolor": "#506784",
            "showbackground": true,
            "ticks": "",
            "zerolinecolor": "#C8D4E3"
           },
           "yaxis": {
            "backgroundcolor": "rgb(17,17,17)",
            "gridcolor": "#506784",
            "gridwidth": 2,
            "linecolor": "#506784",
            "showbackground": true,
            "ticks": "",
            "zerolinecolor": "#C8D4E3"
           },
           "zaxis": {
            "backgroundcolor": "rgb(17,17,17)",
            "gridcolor": "#506784",
            "gridwidth": 2,
            "linecolor": "#506784",
            "showbackground": true,
            "ticks": "",
            "zerolinecolor": "#C8D4E3"
           }
          },
          "shapedefaults": {
           "line": {
            "color": "#f2f5fa"
           }
          },
          "sliderdefaults": {
           "bgcolor": "#C8D4E3",
           "bordercolor": "rgb(17,17,17)",
           "borderwidth": 1,
           "tickwidth": 0
          },
          "ternary": {
           "aaxis": {
            "gridcolor": "#506784",
            "linecolor": "#506784",
            "ticks": ""
           },
           "baxis": {
            "gridcolor": "#506784",
            "linecolor": "#506784",
            "ticks": ""
           },
           "bgcolor": "rgb(17,17,17)",
           "caxis": {
            "gridcolor": "#506784",
            "linecolor": "#506784",
            "ticks": ""
           }
          },
          "title": {
           "x": 0.05
          },
          "updatemenudefaults": {
           "bgcolor": "#506784",
           "borderwidth": 0
          },
          "xaxis": {
           "automargin": true,
           "gridcolor": "#283442",
           "linecolor": "#506784",
           "ticks": "",
           "title": {
            "standoff": 15
           },
           "zerolinecolor": "#283442",
           "zerolinewidth": 2
          },
          "yaxis": {
           "automargin": true,
           "gridcolor": "#283442",
           "linecolor": "#506784",
           "ticks": "",
           "title": {
            "standoff": 15
           },
           "zerolinecolor": "#283442",
           "zerolinewidth": 2
          }
         }
        },
        "title": {
         "text": "Yearly Champion Driver (Wins Count)"
        },
        "xaxis": {
         "anchor": "y",
         "domain": [
          0,
          1
         ],
         "title": {
          "text": "year"
         }
        },
        "yaxis": {
         "anchor": "x",
         "domain": [
          0,
          1
         ],
         "title": {
          "text": "wins"
         }
        }
       }
      }
     },
     "metadata": {},
     "output_type": "display_data"
    }
   ],
   "source": [
    "season_winners = merged_df[merged_df['position'] == 1]\n",
    "winners_per_season = season_winners.groupby(['year', 'driver']).size().reset_index(name='wins')\n",
    "\n",
    "fig = px.bar(\n",
    "    winners_per_season,\n",
    "    x='year',\n",
    "    y='wins',\n",
    "    color='driver',\n",
    "    title='Yearly Champion Driver (Wins Count)',\n",
    "    template='plotly_dark'\n",
    ")\n",
    "fig.show()"
   ]
  },
  {
   "cell_type": "markdown",
   "id": "c06be30d",
   "metadata": {},
   "source": [
    "### 📦 Points Distribution per Team\n",
    "\n",
    "This box plot visualizes the **spread of points earned by drivers within each team** across all seasons.\n",
    "\n",
    "- The box shows the **interquartile range (IQR)** of driver points for each team.\n",
    "- Outliers and variability highlight how **balanced or dependent** teams are on specific drivers.\n",
    "- Teams with consistent performance will show **narrower spreads**, while those with fluctuations or one-star drivers will show **wider distributions**.\n",
    "\n",
    "This helps analyze **intra-team consistency** and overall team depth."
   ]
  },
  {
   "cell_type": "code",
   "execution_count": 39,
   "id": "7ce9a10a",
   "metadata": {},
   "outputs": [
    {
     "data": {
      "application/vnd.plotly.v1+json": {
       "config": {
        "plotlyServerURL": "https://plot.ly"
       },
       "data": [
        {
         "alignmentgroup": "True",
         "hovertemplate": "team=%{x}<br>points=%{y}<extra></extra>",
         "legendgroup": "",
         "marker": {
          "color": "#636efa"
         },
         "name": "",
         "notched": false,
         "offsetgroup": "",
         "orientation": "v",
         "showlegend": false,
         "type": "box",
         "x": [
          "rae",
          "kurtis_kraft",
          "ferrari",
          "maserati",
          "deidt",
          "ferrari",
          "maserati",
          "maserati",
          "maserati",
          "kurtis_kraft",
          "lago",
          "adams",
          "stevens",
          "lago",
          "maserati",
          "kurtis_kraft",
          "lago",
          "maserati",
          "lesovsky",
          "alta",
          "ewing",
          "kurtis_kraft",
          "alfa",
          "alfa",
          "alfa",
          "kurtis_kraft",
          "kurtis_kraft",
          "marchese",
          "maserati",
          "era",
          "maserati",
          "kurtis_kraft",
          "maserati",
          "kurtis_kraft",
          "era",
          "langley",
          "kurtis_kraft",
          "deidt",
          "olson",
          "kurtis_kraft",
          "kurtis_kraft",
          "era",
          "alta",
          "lago",
          "adams",
          "lago",
          "lago",
          "simca",
          "lago",
          "kurtis_kraft",
          "kurtis_kraft",
          "maserati",
          "maserati",
          "alfa",
          "kurtis_kraft",
          "maserati",
          "maserati",
          "lago",
          "watson",
          "maserati",
          "era",
          "deidt",
          "lago",
          "nichels",
          "lesovsky",
          "alfa",
          "cooper",
          "snowberger",
          "ferrari",
          "maserati",
          "ferrari",
          "alfa",
          "simca",
          "ferrari",
          "era",
          "moore",
          "maserati",
          "ferrari",
          "maserati",
          "lago",
          "hwm",
          "kurtis_kraft",
          "ferrari",
          "kurtis_kraft",
          "schroeder",
          "moore",
          "deidt",
          "maserati",
          "alfa",
          "maserati",
          "kurtis_kraft",
          "lago",
          "deidt",
          "lago",
          "maserati",
          "lago",
          "lesovsky",
          "pawl",
          "schroeder",
          "alfa",
          "alfa",
          "alfa",
          "kuzma",
          "ferrari",
          "kurtis_kraft",
          "kurtis_kraft",
          "maserati",
          "era",
          "maserati",
          "lago",
          "simca",
          "kurtis_kraft",
          "kurtis_kraft",
          "lago",
          "lago",
          "kurtis_kraft",
          "deidt",
          "veritas",
          "watson",
          "maserati",
          "alta",
          "ferrari",
          "lago",
          "sherman",
          "lago",
          "hall",
          "lago",
          "simca",
          "maserati",
          "maserati",
          "kurtis_kraft",
          "kurtis_kraft",
          "hwm",
          "maserati",
          "kurtis_kraft",
          "kurtis_kraft",
          "ferrari",
          "kurtis_kraft",
          "alfa",
          "lago",
          "brm",
          "osca",
          "deidt",
          "lago",
          "kurtis_kraft",
          "alfa",
          "kurtis_kraft",
          "maserati",
          "kurtis_kraft",
          "era",
          "simca",
          "marchese",
          "lago",
          "ferrari",
          "simca",
          "ferrari",
          "trevis",
          "brm",
          "kurtis_kraft",
          "bromme",
          "ferrari",
          "alfa",
          "lago",
          "hwm",
          "kurtis_kraft",
          "ferrari",
          "butterworth",
          "lesovsky",
          "stevens",
          "bmw",
          "lesovsky",
          "osca",
          "bmw",
          "gordini",
          "deidt",
          "maserati",
          "simca",
          "maserati",
          "cooper",
          "cooper",
          "veritas",
          "kurtis_kraft",
          "hwm",
          "maserati",
          "ferrari",
          "lesovsky",
          "gordini",
          "hwm",
          "ferrari",
          "kurtis_kraft",
          "maserati",
          "frazer_nash",
          "kurtis_kraft",
          "connaught",
          "cisitalia",
          "ferrari",
          "ferrari",
          "maserati",
          "sherman",
          "hwm",
          "hwm",
          "maserati",
          "kurtis_kraft",
          "hwm",
          "kurtis_kraft",
          "kurtis_kraft",
          "cooper",
          "afm",
          "veritas",
          "ferrari",
          "kurtis_kraft",
          "trevis",
          "veritas",
          "bmw",
          "bmw",
          "maserati",
          "hwm",
          "veritas",
          "kurtis_kraft",
          "hwm",
          "gordini",
          "connaught",
          "kurtis_kraft",
          "kurtis_kraft",
          "kurtis_kraft",
          "butterworth",
          "hwm",
          "cooper",
          "kurtis_kraft",
          "afm",
          "simca",
          "cooper",
          "kurtis_kraft",
          "veritas",
          "veritas",
          "connaught",
          "kurtis_kraft",
          "kurtis_kraft",
          "veritas",
          "watson",
          "maserati",
          "ferrari",
          "kuzma",
          "ferrari",
          "maserati",
          "stevens",
          "ferrari",
          "kurtis_kraft",
          "ferrari",
          "kurtis_kraft",
          "kurtis_kraft",
          "ferrari",
          "connaught",
          "simca",
          "veritas",
          "ferrari",
          "kurtis_kraft",
          "kurtis_kraft",
          "bromme",
          "frazer_nash",
          "alta",
          "maserati",
          "simca",
          "ferrari",
          "hwm",
          "afm",
          "maserati",
          "ferrari",
          "kurtis_kraft",
          "ferrari",
          "kuzma",
          "cooper",
          "emw",
          "veritas",
          "osca",
          "afm",
          "gordini",
          "simca",
          "kuzma",
          "connaught",
          "simca",
          "maserati",
          "cooper",
          "schroeder",
          "hwm",
          "ferrari",
          "lesovsky",
          "osca",
          "connaught",
          "hwm",
          "cooper",
          "kurtis_kraft",
          "cooper",
          "kurtis_kraft",
          "kurtis_kraft",
          "kurtis_kraft",
          "hwm",
          "maserati",
          "ferrari",
          "kurtis_kraft",
          "hwm",
          "afm",
          "kuzma",
          "watson",
          "hwm",
          "cooper",
          "maserati",
          "maserati",
          "hwm",
          "kurtis_kraft",
          "kurtis_kraft",
          "ferrari",
          "veritas",
          "veritas",
          "veritas",
          "ferrari",
          "kurtis_kraft",
          "kurtis_kraft",
          "kurtis_kraft",
          "kurtis_kraft",
          "veritas",
          "bmw",
          "bmw",
          "maserati",
          "maserati",
          "veritas",
          "stevens",
          "veritas",
          "hwm",
          "ferrari",
          "maserati",
          "kurtis_kraft",
          "gordini",
          "maserati",
          "connaught",
          "stevens",
          "kurtis_kraft",
          "gordini",
          "gordini",
          "connaught",
          "maserati",
          "kurtis_kraft",
          "turner",
          "kurtis_kraft",
          "cooper",
          "kurtis_kraft",
          "connaught",
          "kurtis_kraft",
          "connaught",
          "ferrari",
          "kurtis_kraft",
          "connaught",
          "kurtis_kraft",
          "gordini",
          "hwm",
          "bromme",
          "veritas",
          "kuzma",
          "connaught",
          "ferrari",
          "kuzma",
          "kurtis_kraft",
          "del_roy",
          "gordini",
          "ferrari",
          "kurtis_kraft",
          "gordini",
          "kurtis_kraft",
          "kurtis_kraft",
          "cooper",
          "cooper",
          "maserati",
          "ferrari",
          "afm",
          "kurtis_kraft",
          "kurtis_kraft",
          "maserati",
          "kuzma",
          "gordini",
          "connaught",
          "gordini",
          "gordini",
          "kurtis_kraft",
          "maserati",
          "cooper",
          "cooper",
          "kuzma",
          "gordini",
          "kurtis_kraft",
          "vanwall",
          "kurtis_kraft",
          "kurtis_kraft",
          "maserati",
          "kurtis_kraft",
          "kurtis_kraft",
          "schroeder",
          "stevens",
          "mercedes",
          "ferrari",
          "kuzma",
          "kurtis_kraft",
          "maserati",
          "kurtis_kraft",
          "phillips",
          "gordini",
          "cooper",
          "maserati",
          "ferrari",
          "cooper",
          "kurtis_kraft",
          "kurtis_kraft",
          "ferrari",
          "klenk",
          "mercedes",
          "kurtis_kraft",
          "kurtis_kraft",
          "kurtis_kraft",
          "pawl",
          "bromme",
          "mercedes",
          "mercedes",
          "schroeder",
          "gordini",
          "hwm",
          "ferrari",
          "maserati",
          "ferrari",
          "maserati",
          "connaught",
          "kurtis_kraft",
          "kurtis_kraft",
          "maserati",
          "maserati",
          "maserati",
          "maserati",
          "kurtis_kraft",
          "stevens",
          "cooper",
          "kurtis_kraft",
          "ferrari",
          "kurtis_kraft",
          "gordini",
          "gordini",
          "kurtis_kraft",
          "pankratz",
          "connaught",
          "ferrari",
          "kurtis_kraft",
          "kurtis_kraft",
          "maserati",
          "maserati",
          "stevens",
          "kuzma",
          "ferrari",
          "kurtis_kraft",
          "ferrari",
          "kurtis_kraft",
          "nichels",
          "connaught",
          "ferrari",
          "maserati",
          "maserati",
          "kurtis_kraft",
          "gordini",
          "pawl",
          "bromme",
          "maserati",
          "cooper",
          "connaught",
          "maserati",
          "maserati",
          "kurtis_kraft",
          "schroeder",
          "lancia",
          "gordini",
          "maserati",
          "kurtis_kraft",
          "gordini",
          "kurtis_kraft",
          "cooper",
          "kuzma",
          "maserati",
          "kuzma",
          "lancia",
          "lancia",
          "maserati",
          "maserati",
          "kurtis_kraft",
          "kurtis_kraft",
          "kurtis_kraft",
          "kurtis_kraft",
          "kurtis_kraft",
          "connaught",
          "mercedes",
          "ferrari",
          "kurtis_kraft",
          "maserati",
          "kurtis_kraft",
          "phillips",
          "ferrari",
          "ferrari",
          "maserati",
          "kurtis_kraft",
          "vanwall",
          "kurtis_kraft",
          "mercedes",
          "kurtis_kraft",
          "stevens",
          "gordini",
          "trevis",
          "kurtis_kraft",
          "mercedes",
          "kurtis_kraft",
          "gordini",
          "maserati",
          "ferrari",
          "maserati",
          "gordini",
          "connaught",
          "connaught",
          "kurtis_kraft",
          "maserati",
          "maserati",
          "mercedes",
          "maserati",
          "kurtis_kraft",
          "kurtis_kraft",
          "kurtis_kraft",
          "maserati",
          "arzani-volpini",
          "gordini",
          "epperly",
          "pankratz",
          "connaught",
          "maserati",
          "kurtis_kraft",
          "maserati",
          "maserati",
          "mercedes",
          "gordini",
          "kurtis_kraft",
          "ferrari",
          "trevis",
          "kuzma",
          "ferrari",
          "maserati",
          "lancia",
          "kurtis_kraft",
          "maserati",
          "kuzma",
          "kurtis_kraft",
          "vanwall",
          "hwm",
          "gordini",
          "kurtis_kraft",
          "kurtis_kraft",
          "gordini",
          "maserati",
          "kurtis_kraft",
          "maserati",
          "kurtis_kraft",
          "maserati",
          "brm",
          "kuzma",
          "ferrari",
          "vanwall",
          "maserati",
          "kurtis_kraft",
          "ferrari",
          "kurtis_kraft",
          "kurtis_kraft",
          "kurtis_kraft",
          "kurtis_kraft",
          "emeryson",
          "connaught",
          "ferrari",
          "watson",
          "brm",
          "phillips",
          "ferrari",
          "kuzma",
          "ferrari",
          "cooper",
          "maserati",
          "maserati",
          "maserati",
          "maserati",
          "stevens",
          "maserati",
          "kurtis_kraft",
          "kuzma",
          "maserati",
          "kurtis_kraft",
          "kuzma",
          "kurtis_kraft",
          "maserati",
          "connaught",
          "kurtis_kraft",
          "maserati",
          "gordini",
          "maserati",
          "gordini",
          "maserati",
          "ferrari",
          "kurtis_kraft",
          "kurtis_kraft",
          "maserati",
          "gordini",
          "maserati",
          "kurtis_kraft",
          "lesovsky",
          "maserati",
          "kurtis_kraft",
          "kurtis_kraft",
          "maserati",
          "ferrari",
          "vanwall",
          "connaught",
          "connaught",
          "maserati",
          "kuzma",
          "vanwall",
          "kuzma",
          "connaught",
          "kurtis_kraft",
          "vanwall",
          "kurtis_kraft",
          "maserati",
          "kurtis_kraft",
          "maserati",
          "maserati",
          "kurtis_kraft",
          "gordini",
          "maserati",
          "ferrari",
          "ferrari",
          "kurtis_kraft",
          "porsche",
          "maserati",
          "kurtis_kraft",
          "maserati",
          "kurtis_kraft",
          "cooper",
          "vanwall",
          "kuzma",
          "connaught",
          "ferrari",
          "kurtis_kraft",
          "kurtis_kraft",
          "ferrari",
          "kurtis_kraft",
          "kurtis_kraft",
          "kurtis_kraft",
          "cooper",
          "brm",
          "maserati",
          "brm",
          "kurtis_kraft",
          "kurtis_kraft",
          "cooper",
          "cooper",
          "maserati",
          "ferrari",
          "maserati",
          "maserati",
          "maserati",
          "epperly",
          "lesovsky",
          "ferrari",
          "dunn",
          "maserati",
          "kurtis_kraft",
          "kurtis_kraft",
          "cooper",
          "connaught",
          "kurtis_kraft",
          "cooper",
          "brm",
          "kurtis_kraft",
          "porsche",
          "cooper",
          "maserati",
          "maserati",
          "ferrari",
          "cooper",
          "kurtis_kraft",
          "kurtis_kraft",
          "ferrari",
          "maserati",
          "epperly",
          "kurtis_kraft",
          "kurtis_kraft",
          "watson",
          "kuzma",
          "brm",
          "maserati",
          "maserati",
          "maserati",
          "kurtis_kraft",
          "kuzma",
          "kurtis_kraft",
          "ferrari",
          "kurtis_kraft",
          "phillips",
          "maserati",
          "lesovsky",
          "kuzma",
          "porsche",
          "ferrari",
          "ferrari",
          "ferrari",
          "team_lotus",
          "epperly",
          "porsche",
          "maserati",
          "epperly",
          "kuzma",
          "maserati",
          "kurtis_kraft",
          "cooper",
          "cooper",
          "vanwall",
          "epperly",
          "connaught",
          "cooper",
          "osca",
          "kurtis_kraft",
          "maserati",
          "kurtis_kraft",
          "ferrari",
          "connaught",
          "watson",
          "connaught",
          "connaught",
          "maserati",
          "cooper",
          "kuzma",
          "phillips",
          "kurtis_kraft",
          "ferrari",
          "maserati",
          "cooper",
          "maserati",
          "cooper",
          "kurtis_kraft",
          "maserati",
          "maserati",
          "cooper",
          "ferrari",
          "maserati",
          "team_lotus",
          "kurtis_kraft",
          "maserati",
          "kurtis_kraft",
          "connaught",
          "cooper",
          "watson",
          "vanwall",
          "kurtis_kraft",
          "cooper",
          "cooper",
          "maserati",
          "cooper",
          "ferrari",
          "cooper",
          "kurtis_kraft",
          "kurtis_kraft",
          "cooper",
          "osca",
          "watson",
          "watson",
          "kurtis_kraft",
          "maserati",
          "kuzma",
          "cooper",
          "maserati",
          "maserati",
          "maserati",
          "maserati",
          "team_lotus",
          "kurtis_kraft",
          "maserati",
          "kurtis_kraft",
          "maserati",
          "kurtis_kraft",
          "kuzma",
          "cooper",
          "lesovsky",
          "kurtis_kraft",
          "kurtis_kraft",
          "lesovsky",
          "dunn",
          "kuzma",
          "porsche",
          "maserati",
          "ferrari",
          "ferrari",
          "kurtis_kraft",
          "kurtis_kraft",
          "cooper-climax",
          "ferrari",
          "epperly",
          "cooper-climax",
          "porsche",
          "brm",
          "epperly",
          "cooper-climax",
          "phillips",
          "cooper-borgward",
          "ferrari",
          "epperly",
          "cooper-climax",
          "cooper-maserati",
          "maserati",
          "cooper-maserati",
          "maserati",
          "kurtis_kraft",
          "kuzma",
          "kurtis_kraft",
          "cooper-borgward",
          "elder",
          "cooper-maserati",
          "kurtis_kraft",
          "cooper-climax",
          "watson",
          "brm",
          "maserati",
          "kuzma",
          "kurtis_kraft",
          "ferrari",
          "epperly",
          "cooper-climax",
          "cooper-climax",
          "kurtis_kraft",
          "ferrari",
          "team_lotus",
          "kuzma",
          "dunn",
          "cooper-maserati",
          "team_lotus",
          "team_lotus",
          "kurtis_kraft",
          "kuzma",
          "kurtis_kraft",
          "team_lotus",
          "cooper-climax",
          "sutton",
          "cooper-climax",
          "kurtis_kraft",
          "cooper-climax",
          "jbw",
          "fry",
          "cooper-climax",
          "team_lotus",
          "watson",
          "kurtis_kraft",
          "kuzma",
          "connaught",
          "cooper-maserati",
          "maserati",
          "brm",
          "aston_martin",
          "team_lotus",
          "lesovsky",
          "cooper-climax",
          "maserati",
          "lesovsky",
          "cooper-climax",
          "vhristensen",
          "moore",
          "kurtis_kraft",
          "kurtis_kraft",
          "maserati",
          "porsche",
          "cooper-climax",
          "porsche",
          "cooper-osca",
          "porsche",
          "ferrari",
          "epperly",
          "porsche",
          "watson",
          "cooper-climax",
          "brm",
          "cooper-maserati",
          "epperly",
          "cooper-climax",
          "phillips",
          "cooper-climax",
          "cooper-climax",
          "epperly",
          "cooper-maserati",
          "cooper-castellotti",
          "cooper-maserati",
          "kuzma",
          "maserati",
          "kurtis_kraft",
          "team_lotus",
          "maserati",
          "scarab",
          "maserati",
          "cooper-climax",
          "maserati",
          "cooper-climax",
          "team_lotus",
          "kurtis_kraft",
          "kurtis_kraft",
          "kurtis_kraft",
          "behra-porsche",
          "cooper-climax",
          "ferrari",
          "epperly",
          "ferrari",
          "maserati",
          "cooper-maserati",
          "behra-porsche",
          "meskowski",
          "brm",
          "cooper-climax",
          "team_lotus",
          "kurtis_kraft",
          "ewing",
          "porsche",
          "brm",
          "kuzma",
          "vhristensen",
          "team_lotus",
          "trevis",
          "team_lotus",
          "cooper-castellotti",
          "ferrari",
          "cooper-climax",
          "epperly",
          "cooper-maserati",
          "cooper-climax",
          "maserati",
          "jbw",
          "cooper-climax",
          "team_lotus",
          "watson",
          "scarab",
          "watson",
          "kurtis_kraft",
          "watson",
          "ewing",
          "cooper-climax",
          "maserati",
          "cooper-climax",
          "cooper-climax",
          "team_lotus",
          "watson",
          "team_lotus",
          "watson",
          "cooper-climax",
          "kurtis_kraft",
          "cooper-maserati",
          "lesovsky",
          "trevis",
          "cooper-maserati",
          "meskowski",
          "watson",
          "epperly",
          "kurtis_kraft",
          "cooper-climax",
          "ferrari",
          "lotus-climax",
          "lotus-climax",
          "ferrari",
          "cooper-maserati",
          "porsche",
          "emeryson",
          "cooper-climax",
          "porsche",
          "lotus-climax",
          "cooper-climax",
          "brm",
          "lotus-climax",
          "de_tomaso-alfa_romeo",
          "cooper-climax",
          "lotus-climax",
          "cooper-climax",
          "cooper-climax",
          "cooper-climax",
          "emeryson",
          "ferrari",
          "gilby",
          "cooper-climax",
          "porsche",
          "lotus-climax",
          "cooper-climax",
          "porsche",
          "brm",
          "lotus-climax",
          "cooper-climax",
          "de_tomaso-osca",
          "lotus-climax",
          "lotus-climax",
          "lotus-climax",
          "lotus-climax",
          "cooper-climax",
          "lotus-climax",
          "mbm",
          "lotus-climax",
          "cooper-maserati",
          "jbw",
          "lotus-climax",
          "cooper-climax",
          "emeryson",
          "cooper-climax",
          "lotus-climax",
          "ferrari",
          "lotus-climax",
          "lotus-climax",
          "cooper-climax",
          "de_tomaso-osca",
          "lotus-climax",
          "cooper-climax",
          "lotus-maserati",
          "cooper-climax",
          "lotus-climax",
          "cooper-climax",
          "cooper-maserati",
          "de_tomaso-alfa_romeo",
          "porsche",
          "ferrari",
          "lotus-climax",
          "team_lotus",
          "brm",
          "ferrari",
          "ferrari",
          "lotus-climax",
          "porsche",
          "lotus-climax",
          "cooper-climax",
          "de_tomaso-alfa_romeo",
          "lotus-climax",
          "lotus-climax",
          "lotus-climax",
          "cooper-climax",
          "porsche",
          "tomaso",
          "brm",
          "lotus-climax",
          "lotus-climax",
          "porsche",
          "lotus-climax",
          "cooper-alfa_romeo",
          "ferrari",
          "lotus-climax",
          "lotus-climax",
          "brm",
          "lotus-borgward",
          "lotus-climax",
          "cooper-climax",
          "de_tomaso-osca",
          "cooper-climax",
          "cooper-climax",
          "ferrari",
          "brm",
          "cooper-climax",
          "cooper-climax",
          "lotus-climax",
          "lotus-climax",
          "porsche",
          "lotus-climax",
          "ferrari",
          "lola",
          "porsche",
          "lotus-climax",
          "emeryson",
          "lotus-brm",
          "lds",
          "emeryson",
          "cooper-climax",
          "lotus-climax",
          "lotus-climax",
          "porsche",
          "lola",
          "lotus-climax",
          "lotus-climax",
          "lotus-climax",
          "lotus-climax",
          "porsche",
          "porsche",
          "lotus-climax",
          "porsche",
          "lola",
          "lola",
          "lotus-climax",
          "ats",
          "brm",
          "lola",
          "cooper-maserati",
          "cooper-climax",
          "lotus-climax",
          "cooper-maserati",
          "stebro",
          "scirocco",
          "cooper-climax",
          "lotus-brm",
          "lotus-climax",
          "lotus-climax",
          "cooper-climax",
          "lotus-brm",
          "tomaso",
          "brm",
          "lotus-brm",
          "brabham",
          "lotus-climax",
          "lotus-brm",
          "lotus-climax",
          "ats",
          "lotus-brm",
          "lotus-borgward",
          "lotus-climax",
          "de_tomaso-ferrari",
          "cooper-climax",
          "cooper-climax",
          "ferrari",
          "cooper-climax",
          "porsche",
          "lotus-climax",
          "lotus-ford",
          "lotus-climax",
          "lotus-climax",
          "lotus-climax",
          "brabham",
          "gilby",
          "lotus-climax",
          "ferrari",
          "lotus-brm",
          "lds",
          "scirocco",
          "lotus-brm",
          "lotus-brm",
          "brm",
          "lotus-climax",
          "lotus-maserati",
          "ferrari",
          "lotus-climax",
          "lds",
          "lola",
          "lotus-brm",
          "porsche",
          "alfa",
          "stebro",
          "lotus-brm",
          "brabham-climax",
          "lotus-climax",
          "brm",
          "brm",
          "ferrari",
          "cooper-climax",
          "cooper-climax",
          "brabham-climax",
          "honda",
          "derrington",
          "lotus-climax",
          "lotus-brm",
          "brabham-ford",
          "brm",
          "brabham-climax",
          "lotus-brm",
          "lotus-climax",
          "cooper-climax",
          "lotus-brm",
          "cooper-climax",
          "brm",
          "cooper-climax",
          "lotus-climax",
          "scirocco",
          "brabham-brm",
          "lotus-brm",
          "brabham-brm",
          "ferrari",
          "brabham-brm",
          "ferrari",
          "brabham-brm",
          "lotus-brm",
          "lotus-climax",
          "lotus-climax",
          "ferrari",
          "brp",
          "brm",
          "porsche",
          "lotus-brm",
          "brabham-climax",
          "lotus-brm",
          "brabham-climax",
          "ferrari",
          "brm",
          "brm",
          "cooper-climax",
          "cooper-ford",
          "ferrari",
          "brabham-climax",
          "brabham-climax",
          "honda",
          "brm",
          "lotus-ford",
          "cooper-maserati",
          "lotus-climax",
          "brabham-brm",
          "honda",
          "brm",
          "lotus-climax",
          "brabham-climax",
          "lotus-brm",
          "brabham-ford",
          "brm",
          "brabham-climax",
          "lotus-brm",
          "lotus-climax",
          "cooper-climax",
          "lotus-brm",
          "cooper-climax",
          "lotus-climax",
          "lotus-ford",
          "lotus-climax",
          "lds-alfa_romeo",
          "brabham-ford",
          "lotus-climax",
          "brabham-brm",
          "re",
          "cooper-climax",
          "cooper-climax",
          "ferrari",
          "cooper-ford",
          "lotus-climax",
          "ferrari",
          "lds-climax",
          "brabham-brm",
          "lotus-climax",
          "lotus-climax",
          "brm",
          "ferrari",
          "lds-alfa_romeo",
          "ferrari",
          "alfa",
          "cooper-maserati",
          "brabham-climax",
          "lotus-brm",
          "ferrari",
          "ferrari",
          "brm",
          "cooper-maserati",
          "brabham-repco",
          "honda",
          "lotus-climax",
          "cooper-maserati",
          "eagle-climax",
          "brm",
          "brabham-climax",
          "brm",
          "brabham-climax",
          "cooper-ferrari",
          "cooper-maserati",
          "mclaren-ford",
          "ferrari",
          "cooper-maserati",
          "lotus-climax",
          "lotus-climax",
          "ferrari",
          "brabham-brm",
          "cooper-maserati",
          "lotus-brm",
          "brm",
          "ferrari",
          "brabham-brm",
          "brm",
          "protos",
          "ferrari",
          "brabham-climax",
          "cooper-maserati",
          "lotus-ford",
          "ferrari",
          "matra",
          "cooper-maserati",
          "brabham-climax",
          "brabham-repco",
          "brabham-climax",
          "lotus-brm",
          "lotus-brm",
          "lotus-brm",
          "eagle-climax",
          "eagle-climax",
          "lola",
          "protos",
          "lotus-brm",
          "brm",
          "brabham-repco",
          "matra",
          "lotus-brm",
          "cooper-climax",
          "cooper-maserati",
          "cooper-climax",
          "mclaren-brm",
          "cooper-ats",
          "lotus-ford",
          "ferrari",
          "eagle-climax",
          "cooper-maserati",
          "cooper-maserati",
          "cooper-maserati",
          "ferrari",
          "matra",
          "matra",
          "cooper-maserati",
          "lotus-ford",
          "brm",
          "brm",
          "honda",
          "lds-climax",
          "ferrari",
          "brabham-repco",
          "ferrari",
          "lotus-ford",
          "brm",
          "ferrari",
          "matra-ford",
          "cooper-brm",
          "cooper-maserati",
          "brabham-repco",
          "lotus-ford",
          "brabham-repco",
          "lotus-ford",
          "brm",
          "cooper-brm",
          "brm",
          "eagle-weslake",
          "lola",
          "lotus-ford",
          "honda",
          "mclaren-brm",
          "ferrari",
          "brabham-repco",
          "mclaren-ford",
          "brabham-repco",
          "lotus-ford",
          "matra",
          "brabham-climax",
          "cooper-maserati",
          "brabham-repco",
          "brm",
          "cooper-brm",
          "honda",
          "matra-ford",
          "cooper-maserati",
          "lotus-ford",
          "brm",
          "matra-ford",
          "honda",
          "lds",
          "brm",
          "cooper-brm",
          "ferrari",
          "cooper-climax",
          "ferrari",
          "lotus-ford",
          "lotus-ford",
          "mclaren-ford",
          "matra-ford",
          "lotus-ford",
          "brabham-ford",
          "brm",
          "brabham-climax",
          "brabham-ford",
          "brm",
          "cooper-maserati",
          "lotus-ford",
          "mclaren-ford",
          "brabham-ford",
          "lotus-ford",
          "lotus-ford",
          "mclaren-ford",
          "lotus-ford",
          "brabham-ford",
          "brm",
          "lotus-ford",
          "brm",
          "matra-ford",
          "lotus-ford",
          "matra-ford",
          "brm",
          "brabham-repco",
          "brabham-repco",
          "mclaren-ford",
          "march",
          "march",
          "brabham",
          "matra",
          "mclaren-ford",
          "brabham",
          "march",
          "team_lotus",
          "tomaso",
          "brm",
          "team_lotus",
          "mclaren-alfa_romeo",
          "mclaren-ford",
          "ferrari",
          "mclaren-ford",
          "march",
          "team_lotus",
          "mclaren-ford",
          "brabham",
          "ferrari",
          "team_lotus",
          "team_lotus",
          "mclaren-ford",
          "team_lotus",
          "bellasi",
          "brm",
          "matra",
          "march",
          "tomaso",
          "ferrari",
          "team_lotus",
          "brm",
          "tomaso",
          "march",
          "march",
          "team_lotus",
          "march",
          "brabham",
          "mclaren-ford",
          "brm",
          "team_lotus",
          "mclaren-alfa_romeo",
          "brabham",
          "matra",
          "ferrari",
          "march-ford",
          "surtees",
          "matra",
          "march-ford",
          "mclaren",
          "brm",
          "tyrrell",
          "brabham",
          "brabham",
          "mclaren",
          "brm",
          "brm",
          "lotus-ford",
          "march-ford",
          "brm",
          "mclaren",
          "surtees",
          "brabham",
          "mclaren",
          "mclaren",
          "ferrari",
          "march-ford",
          "march-ford",
          "march-ford",
          "march-ford",
          "lotus-ford",
          "brm",
          "march-ford",
          "bellasi",
          "mclaren",
          "march-ford",
          "march-ford",
          "surtees",
          "brabham",
          "surtees",
          "ferrari",
          "tyrrell",
          "brm",
          "brabham",
          "brm",
          "march-ford",
          "tyrrell",
          "surtees",
          "surtees",
          "lotus-pw",
          "lotus-ford",
          "march-alfa_romeo",
          "surtees",
          "matra",
          "ferrari",
          "march",
          "tecno",
          "brm",
          "march",
          "brm",
          "tyrrell",
          "team_lotus",
          "tyrrell",
          "team_lotus",
          "tecno",
          "brm",
          "brm",
          "surtees",
          "brabham",
          "mclaren",
          "ferrari",
          "march",
          "surtees",
          "brm",
          "ferrari",
          "connew",
          "brm",
          "march",
          "march",
          "march",
          "surtees",
          "mclaren",
          "ferrari",
          "brabham",
          "mclaren",
          "mclaren",
          "surtees",
          "brm",
          "tyrrell",
          "march",
          "surtees",
          "team_lotus",
          "brm",
          "surtees",
          "tecno",
          "brm",
          "march",
          "surtees",
          "tyrrell",
          "team_lotus",
          "brabham",
          "shadow",
          "iso_marlboro",
          "iso_marlboro",
          "brm",
          "surtees",
          "shadow",
          "mclaren",
          "march",
          "ferrari",
          "march",
          "tyrrell",
          "brm",
          "surtees",
          "iso_marlboro",
          "ferrari",
          "shadow",
          "surtees",
          "march",
          "team_lotus",
          "iso_marlboro",
          "march",
          "brm",
          "brabham",
          "mclaren",
          "mclaren",
          "iso_marlboro",
          "tyrrell",
          "brabham",
          "brabham",
          "march",
          "march",
          "surtees",
          "iso_marlboro",
          "ensign",
          "amon",
          "parnelli",
          "token",
          "surtees",
          "iso_marlboro",
          "brm",
          "march",
          "mclaren",
          "tyrrell",
          "surtees",
          "penske",
          "team_lotus",
          "lola",
          "brabham",
          "mclaren",
          "march",
          "lola",
          "mclaren",
          "lola",
          "mclaren",
          "mclaren",
          "march",
          "team_lotus",
          "iso_marlboro",
          "shadow",
          "tyrrell",
          "surtees",
          "brabham",
          "iso_marlboro",
          "brabham",
          "ferrari",
          "brabham",
          "surtees",
          "iso_marlboro",
          "brm",
          "lyncar",
          "surtees",
          "amon",
          "brm",
          "team_lotus",
          "brabham",
          "token",
          "token",
          "surtees",
          "shadow",
          "ferrari",
          "brabham",
          "shadow",
          "brabham",
          "shadow",
          "tyrrell",
          "trojan",
          "ensign",
          "lola",
          "march",
          "brabham",
          "brabham",
          "march",
          "march",
          "iso_marlboro",
          "brabham",
          "ensign",
          "parnelli",
          "williams",
          "march",
          "williams",
          "mclaren",
          "team_lotus",
          "tyrrell",
          "penske",
          "hesketh",
          "brm",
          "fittipaldi",
          "maki",
          "team_lotus",
          "lola",
          "hesketh",
          "team_lotus",
          "tyrrell",
          "shadow-ford",
          "hesketh",
          "team_lotus",
          "williams",
          "ferrari",
          "tyrrell",
          "march",
          "hesketh",
          "williams",
          "mclaren",
          "williams",
          "lola",
          "surtees",
          "lyncar",
          "brabham",
          "hesketh",
          "team_lotus",
          "shadow-ford",
          "ferrari",
          "brabham",
          "tyrrell",
          "hill",
          "lola",
          "march",
          "maki",
          "team_lotus",
          "williams",
          "surtees",
          "brm",
          "ensign",
          "williams",
          "ensign",
          "ensign",
          "surtees",
          "team_lotus",
          "brm",
          "ensign",
          "march",
          "wolf",
          "tyrrell",
          "hesketh",
          "hesketh",
          "team_lotus",
          "fittipaldi",
          "surtees",
          "kojima",
          "fittipaldi",
          "tyrrell",
          "mclaren",
          "wolf",
          "shadow",
          "surtees",
          "brabham-ford",
          "ligier",
          "ferrari",
          "wolf",
          "march",
          "surtees",
          "brabham-ford",
          "mclaren",
          "march",
          "brabham-ford",
          "team_lotus",
          "brabham-ford",
          "brabham-alfa_romeo",
          "boro",
          "surtees",
          "tyrrell",
          "team_lotus",
          "shadow",
          "ferrari",
          "brabham-alfa_romeo",
          "hesketh",
          "tyrrell",
          "brabham-alfa_romeo",
          "march",
          "tyrrell",
          "surtees",
          "maki",
          "penske",
          "shadow",
          "williams",
          "williams",
          "brabham-ford",
          "brm",
          "team_lotus",
          "hesketh",
          "surtees",
          "march",
          "surtees",
          "tyrrell",
          "brm",
          "hesketh",
          "fittipaldi",
          "brabham",
          "mclaren",
          "march",
          "penske",
          "fittipaldi",
          "kojima",
          "mclaren",
          "ensign",
          "renault",
          "penske",
          "shadow",
          "hesketh",
          "apollon",
          "march",
          "ligier",
          "ferrari",
          "surtees",
          "march",
          "mclaren",
          "mcguire",
          "march",
          "team_lotus",
          "march",
          "shadow",
          "penske",
          "brabham",
          "shadow",
          "brm",
          "tyrrell",
          "brm",
          "shadow",
          "lec",
          "hesketh",
          "ensign",
          "ferrari",
          "march",
          "march",
          "surtees",
          "march",
          "march",
          "kojima",
          "tyrrell",
          "surtees",
          "surtees",
          "mclaren",
          "brabham",
          "shadow",
          "march",
          "mclaren",
          "team_lotus",
          "martini",
          "ats",
          "ats",
          "surtees",
          "theodore",
          "ats",
          "hesketh",
          "tyrrell",
          "ensign",
          "fittipaldi",
          "surtees",
          "surtees",
          "hesketh",
          "mclaren",
          "mclaren",
          "ensign",
          "renault",
          "ats",
          "williams",
          "surtees",
          "ligier",
          "brabham",
          "ensign",
          "ensign",
          "mclaren",
          "ats",
          "merzario",
          "ensign",
          "arrows",
          "team_lotus",
          "ensign",
          "tyrrell",
          "wolf",
          "team_lotus",
          "shadow",
          "ferrari",
          "theodore",
          "wolf",
          "arrows",
          "shadow",
          "mclaren",
          "mclaren",
          "ferrari",
          "brabham",
          "mclaren",
          "team_lotus",
          "renault",
          "alfa",
          "kauhsen",
          "ensign",
          "ligier",
          "fittipaldi",
          "ensign",
          "alfa",
          "wolf",
          "ligier",
          "renault",
          "tyrrell",
          "williams",
          "ligier",
          "shadow",
          "brabham-alfa_romeo",
          "tyrrell",
          "arrows",
          "merzario",
          "arrows",
          "brabham-alfa_romeo",
          "tyrrell",
          "team_lotus",
          "williams",
          "team_lotus",
          "fittipaldi",
          "wolf",
          "ferrari",
          "ats",
          "ensign",
          "mclaren",
          "ferrari",
          "mclaren",
          "brabham-ford",
          "shadow",
          "team_lotus",
          "renault",
          "alfa",
          "osella",
          "williams",
          "tyrrell",
          "alfa",
          "ats",
          "fittipaldi",
          "alfa",
          "renault",
          "tyrrell",
          "shadow",
          "williams",
          "williams",
          "shadow",
          "ligier",
          "ats",
          "shadow",
          "team_lotus",
          "arrows",
          "ensign",
          "arrows",
          "brabham",
          "ligier",
          "mclaren",
          "brabham",
          "ensign",
          "williams",
          "fittipaldi",
          "ferrari",
          "mclaren",
          "ats",
          "arrows",
          "ferrari",
          "mclaren",
          "williams",
          "arrows",
          "brabham",
          "team_lotus",
          "alfa",
          "tyrrell",
          "alfa",
          "renault",
          "ats",
          "tyrrell",
          "tyrrell",
          "march",
          "osella",
          "osella",
          "osella",
          "alfa",
          "osella",
          "toleman",
          "ligier",
          "ligier",
          "williams",
          "ligier",
          "ats",
          "ensign",
          "team_lotus",
          "arrows",
          "brabham",
          "ferrari",
          "renault",
          "brabham",
          "williams",
          "fittipaldi",
          "march",
          "fittipaldi",
          "arrows",
          "ensign",
          "theodore",
          "ferrari",
          "arrows",
          "toleman",
          "mclaren",
          "tyrrell",
          "team_lotus",
          "mclaren",
          "tyrrell",
          "williams",
          "renault",
          "arrows",
          "march",
          "tyrrell",
          "theodore",
          "ligier",
          "theodore",
          "toleman",
          "alfa",
          "ensign",
          "arrows",
          "osella",
          "march",
          "ligier",
          "theodore",
          "mclaren",
          "theodore",
          "team_lotus",
          "march",
          "team_lotus",
          "osella",
          "brabham",
          "brabham",
          "ferrari",
          "renault",
          "williams",
          "williams",
          "ats",
          "fittipaldi",
          "arrows",
          "ferrari",
          "ferrari",
          "toleman",
          "mclaren",
          "ats",
          "team_lotus",
          "alfa",
          "march",
          "ram",
          "tyrrell",
          "ferrari",
          "alfa",
          "ligier",
          "arrows",
          "theodore",
          "renault",
          "osella",
          "osella",
          "toleman",
          "theodore",
          "ligier",
          "spirit",
          "arrows",
          "williams",
          "mclaren",
          "team_lotus",
          "williams",
          "brabham",
          "brabham",
          "renault",
          "williams",
          "ram",
          "ram",
          "arrows",
          "tyrrell",
          "arrows",
          "ferrari",
          "ram",
          "toleman",
          "mclaren",
          "ats",
          "team_lotus",
          "alfa",
          "ferrari",
          "ram",
          "ferrari",
          "spirit",
          "tyrrell",
          "ats",
          "arrows",
          "tyrrell",
          "toleman",
          "alfa",
          "brabham",
          "osella",
          "osella",
          "ligier",
          "tyrrell",
          "williams",
          "mclaren",
          "team_lotus",
          "toleman",
          "ram",
          "alfa",
          "brabham",
          "mclaren",
          "williams",
          "spirit",
          "toleman",
          "renault",
          "arrows",
          "renault",
          "ram",
          "renault",
          "ats",
          "team_lotus",
          "ligier",
          "ram",
          "ferrari",
          "ram",
          "ferrari",
          "spirit",
          "tyrrell",
          "arrows",
          "arrows",
          "tyrrell",
          "tyrrell",
          "alfa",
          "zakspeed",
          "toleman",
          "osella",
          "brabham",
          "tyrrell",
          "lola",
          "ligier",
          "mclaren",
          "williams",
          "minardi",
          "zakspeed",
          "alfa",
          "brabham",
          "mclaren",
          "williams",
          "osella",
          "team_lotus",
          "ligier",
          "brabham",
          "renault",
          "renault",
          "mclaren",
          "ram",
          "team_lotus",
          "ligier",
          "ferrari",
          "ligier",
          "ligier",
          "osella",
          "benetton",
          "arrows",
          "tyrrell",
          "osella",
          "ags",
          "lola",
          "osella",
          "team_lotus",
          "benetton",
          "osella",
          "ferrari",
          "lola",
          "ligier",
          "williams",
          "minardi",
          "zakspeed",
          "brabham",
          "williams",
          "mclaren",
          "mclaren",
          "zakspeed",
          "team_lotus",
          "tyrrell",
          "arrows",
          "lola",
          "brabham",
          "brabham",
          "minardi",
          "ferrari",
          "larrousse",
          "ligier",
          "ferrari",
          "benetton",
          "zakspeed",
          "osella",
          "minardi",
          "march",
          "arrows",
          "larrousse",
          "zakspeed",
          "benetton",
          "ags",
          "osella",
          "ligier",
          "mclaren",
          "coloni",
          "williams",
          "brabham",
          "ags",
          "team_lotus",
          "minardi",
          "tyrrell",
          "brabham",
          "williams",
          "mclaren",
          "team_lotus",
          "tyrrell",
          "osella",
          "arrows",
          "brabham",
          "ferrari",
          "larrousse",
          "ligier",
          "tyrrell",
          "ferrari",
          "benetton",
          "williams",
          "dallara",
          "minardi",
          "march",
          "arrows",
          "larrousse",
          "zakspeed",
          "march",
          "ligier",
          "osella",
          "eurobrun",
          "williams",
          "minardi",
          "eurobrun",
          "team_lotus",
          "benetton",
          "tyrrell",
          "williams",
          "team_lotus",
          "mclaren",
          "minardi",
          "larrousse",
          "williams",
          "zakspeed",
          "mclaren",
          "ags",
          "larrousse",
          "coloni",
          "arrows",
          "rial",
          "tyrrell",
          "tyrrell",
          "larrousse",
          "ligier",
          "minardi",
          "ferrari",
          "larrousse",
          "coloni",
          "williams",
          "brabham",
          "dallara",
          "march",
          "arrows",
          "larrousse",
          "rial",
          "arrows",
          "eurobrun",
          "onyx",
          "osella",
          "ligier",
          "march",
          "benetton",
          "onyx",
          "onyx",
          "osella",
          "eurobrun",
          "ferrari",
          "minardi",
          "brabham",
          "coloni",
          "team_lotus",
          "benetton",
          "tyrrell",
          "williams",
          "team_lotus",
          "benetton",
          "mclaren",
          "minardi",
          "coloni",
          "zakspeed",
          "mclaren",
          "zakspeed",
          "ags",
          "arrows",
          "rial",
          "ags",
          "dallara",
          "arrows",
          "tyrrell",
          "ligier",
          "minardi",
          "mclaren",
          "larrousse",
          "williams",
          "brabham",
          "arrows",
          "leyton",
          "ags",
          "team_lotus",
          "onyx",
          "coloni",
          "life",
          "osella",
          "leyton",
          "team_lotus",
          "onyx",
          "onyx",
          "eurobrun",
          "ligier",
          "ferrari",
          "minardi",
          "brabham",
          "dallara",
          "eurobrun",
          "tyrrell",
          "benetton",
          "williams",
          "benetton",
          "dallara",
          "ferrari",
          "arrows",
          "mclaren",
          "larrousse",
          "ags",
          "team_lotus",
          "dallara",
          "footwork",
          "ferrari",
          "team_lotus",
          "ags",
          "team_lotus",
          "mclaren",
          "larrousse",
          "brabham",
          "ligier",
          "brabham",
          "footwork",
          "leyton",
          "coloni",
          "ligier",
          "jordan",
          "fondmetal",
          "leyton",
          "coloni",
          "team_lotus",
          "team_lotus",
          "ags",
          "dallara",
          "lambo",
          "williams",
          "minardi",
          "tyrrell",
          "minardi",
          "benetton",
          "tyrrell",
          "williams",
          "benetton",
          "dallara",
          "ferrari",
          "jordan",
          "mclaren",
          "larrousse",
          "ags",
          "leyton",
          "jordan",
          "jordan",
          "lambo",
          "footwork",
          "ferrari",
          "march",
          "mclaren",
          "ligier",
          "benetton",
          "ferrari",
          "ligier",
          "minardi",
          "larrousse",
          "tyrrell",
          "jordan",
          "team_lotus",
          "brabham",
          "team_lotus",
          "dallara",
          "larrousse",
          "march",
          "ferrari",
          "williams",
          "dallara",
          "jordan",
          "minardi",
          "march",
          "williams",
          "benetton",
          "mclaren",
          "footwork",
          "fondmetal",
          "march",
          "tyrrell",
          "brabham",
          "lola",
          "ferrari",
          "larrousse",
          "mclaren",
          "lola",
          "minardi",
          "jordan",
          "ferrari",
          "ligier",
          "jordan",
          "ligier",
          "larrousse",
          "minardi",
          "team_lotus",
          "williams",
          "mclaren",
          "jordan",
          "sauber",
          "tyrrell",
          "team_lotus",
          "minardi",
          "benetton",
          "williams",
          "benetton",
          "mclaren",
          "footwork",
          "footwork",
          "sauber",
          "team_lotus",
          "tyrrell",
          "team_lotus",
          "minardi",
          "ferrari",
          "mclaren",
          "jordan",
          "pacific",
          "larrousse",
          "ferrari",
          "ligier",
          "tyrrell",
          "simtek",
          "mclaren",
          "larrousse",
          "williams",
          "larrousse",
          "larrousse",
          "footwork",
          "sauber",
          "pacific",
          "simtek",
          "team_lotus",
          "williams",
          "mclaren",
          "simtek",
          "jordan",
          "benetton",
          "tyrrell",
          "ligier",
          "team_lotus",
          "ferrari",
          "williams",
          "minardi",
          "simtek",
          "footwork",
          "larrousse",
          "ligier",
          "simtek",
          "team_lotus",
          "simtek",
          "benetton",
          "williams",
          "jordan",
          "benetton",
          "sauber",
          "team_lotus",
          "sauber",
          "ferrari",
          "minardi",
          "jordan",
          "ferrari",
          "mclaren",
          "sauber",
          "ligier",
          "williams",
          "forti",
          "pacific",
          "sauber",
          "pacific",
          "benetton",
          "williams",
          "mclaren",
          "footwork",
          "jordan",
          "tyrrell",
          "minardi",
          "mclaren",
          "mclaren",
          "minardi",
          "pacific",
          "footwork",
          "forti",
          "ligier",
          "footwork",
          "tyrrell",
          "simtek",
          "benetton",
          "ligier",
          "tyrrell",
          "simtek",
          "sauber",
          "benetton",
          "forti",
          "jordan",
          "benetton",
          "jordan",
          "mclaren",
          "ligier",
          "minardi",
          "sauber",
          "sauber",
          "williams",
          "mclaren",
          "ferrari",
          "tyrrell",
          "minardi",
          "minardi",
          "forti",
          "ligier",
          "footwork",
          "tyrrell",
          "ferrari",
          "footwork",
          "williams",
          "benetton",
          "stewart",
          "benetton",
          "mclaren",
          "arrows",
          "jordan",
          "sauber",
          "williams",
          "sauber",
          "arrows",
          "mclaren",
          "ferrari",
          "minardi",
          "sauber",
          "stewart",
          "minardi",
          "sauber",
          "prost",
          "prost",
          "tyrrell",
          "ferrari",
          "minardi",
          "tyrrell",
          "williams",
          "benetton",
          "sauber",
          "stewart",
          "mclaren",
          "arrows",
          "benetton",
          "williams",
          "sauber",
          "jordan",
          "mclaren",
          "ferrari",
          "stewart",
          "minardi",
          "prost",
          "tyrrell",
          "arrows",
          "ferrari",
          "tyrrell",
          "prost",
          "minardi",
          "stewart",
          "williams",
          "benetton",
          "sauber",
          "minardi",
          "stewart",
          "mclaren",
          "sauber",
          "benetton",
          "jordan",
          "minardi",
          "stewart",
          "jordan",
          "mclaren",
          "ferrari",
          "prost",
          "bar",
          "ferrari",
          "arrows",
          "prost",
          "bar",
          "benetton",
          "williams",
          "bar",
          "arrows",
          "prost",
          "ferrari",
          "jaguar",
          "williams",
          "mclaren",
          "sauber",
          "benetton",
          "jordan",
          "minardi",
          "prost",
          "jaguar",
          "mclaren",
          "jaguar",
          "minardi",
          "sauber",
          "ferrari",
          "jordan",
          "arrows",
          "bar",
          "benetton",
          "bar",
          "arrows",
          "prost",
          "minardi",
          "ferrari",
          "arrows",
          "jaguar",
          "benetton",
          "mclaren",
          "prost",
          "benetton",
          "jordan",
          "sauber",
          "mclaren",
          "jaguar",
          "minardi",
          "prost",
          "williams",
          "bar",
          "sauber",
          "ferrari",
          "jordan",
          "arrows",
          "bar",
          "minardi",
          "jordan",
          "jaguar",
          "ferrari",
          "arrows",
          "renault",
          "mclaren",
          "jordan",
          "arrows",
          "sauber",
          "jaguar",
          "sauber",
          "toyota",
          "williams",
          "bar",
          "mclaren",
          "toyota",
          "jordan",
          "ferrari",
          "renault",
          "bar",
          "minardi",
          "minardi",
          "jaguar",
          "renault",
          "ferrari",
          "jordan",
          "bar",
          "mclaren",
          "jordan",
          "jordan",
          "sauber",
          "williams",
          "sauber",
          "minardi",
          "williams",
          "toyota",
          "jaguar",
          "mclaren",
          "bar",
          "williams",
          "renault",
          "minardi",
          "bar",
          "jaguar",
          "minardi",
          "toyota",
          "renault",
          "ferrari",
          "minardi",
          "minardi",
          "bar",
          "mclaren",
          "sauber",
          "williams",
          "jordan",
          "jordan",
          "jaguar",
          "sauber",
          "williams",
          "toyota",
          "jordan",
          "williams",
          "mclaren",
          "bar",
          "williams",
          "renault",
          "renault",
          "jaguar",
          "toyota",
          "toyota",
          "minardi",
          "renault",
          "ferrari",
          "bar",
          "red_bull",
          "bar",
          "minardi",
          "renault",
          "minardi",
          "williams",
          "jordan",
          "red_bull",
          "red_bull",
          "sauber",
          "jordan",
          "mclaren",
          "williams",
          "mclaren",
          "bar",
          "toyota",
          "toyota",
          "sauber",
          "williams",
          "mclaren",
          "toyota",
          "mclaren",
          "mf1",
          "renault",
          "honda",
          "honda",
          "red_bull",
          "red_bull",
          "renault",
          "bmw_sauber",
          "super_aguri",
          "red_bull",
          "bmw_sauber",
          "toro_rosso",
          "ferrari",
          "super_aguri",
          "mf1",
          "mclaren",
          "williams",
          "mclaren",
          "super_aguri",
          "toyota",
          "toro_rosso",
          "toyota",
          "bmw_sauber",
          "williams",
          "super_aguri",
          "mclaren",
          "spyker",
          "mclaren",
          "honda",
          "honda",
          "red_bull",
          "super_aguri",
          "renault",
          "mclaren",
          "bmw_sauber",
          "renault",
          "bmw_sauber",
          "toro_rosso",
          "ferrari",
          "williams",
          "williams",
          "ferrari",
          "super_aguri",
          "toyota",
          "toro_rosso",
          "spyker",
          "toyota",
          "bmw_sauber",
          "red_bull",
          "williams",
          "spyker",
          "renault",
          "honda",
          "toro_rosso",
          "honda",
          "red_bull",
          "super_aguri",
          "force_india",
          "toyota",
          "mclaren",
          "bmw_sauber",
          "mclaren",
          "bmw_sauber",
          "ferrari",
          "williams",
          "renault",
          "williams",
          "ferrari",
          "super_aguri",
          "force_india",
          "toyota",
          "toro_rosso",
          "red_bull",
          "toro_rosso",
          "renault",
          "ferrari",
          "brawn",
          "toro_rosso",
          "toro_rosso",
          "brawn",
          "force_india",
          "toyota",
          "renault",
          "mclaren",
          "bmw_sauber",
          "toyota",
          "mclaren",
          "bmw_sauber",
          "force_india",
          "ferrari",
          "williams",
          "renault",
          "williams",
          "ferrari",
          "force_india",
          "toyota",
          "red_bull",
          "red_bull",
          "toro_rosso",
          "ferrari",
          "williams",
          "toro_rosso",
          "mclaren",
          "hrt",
          "virgin",
          "mclaren",
          "sauber",
          "williams",
          "hrt",
          "sauber",
          "lotus_racing",
          "renault",
          "force_india",
          "ferrari",
          "renault",
          "mercedes",
          "mercedes",
          "hrt",
          "force_india",
          "lotus_racing",
          "red_bull",
          "red_bull",
          "hrt",
          "sauber",
          "virgin",
          "toro_rosso",
          "ferrari",
          "williams",
          "toro_rosso",
          "mclaren",
          "lotus_racing",
          "virgin",
          "mclaren",
          "renault",
          "hrt",
          "sauber",
          "lotus_racing",
          "hrt",
          "williams",
          "ferrari",
          "renault",
          "sauber",
          "hrt",
          "mercedes",
          "mercedes",
          "renault",
          "force_india",
          "lotus_racing",
          "red_bull",
          "red_bull",
          "virgin",
          "sauber",
          "force_india",
          "ferrari",
          "mclaren",
          "marussia",
          "lotus_f1",
          "mclaren",
          "force_india",
          "hrt",
          "sauber",
          "caterham",
          "williams",
          "ferrari",
          "caterham",
          "marussia",
          "sauber",
          "toro_rosso",
          "mercedes",
          "lotus_f1",
          "mercedes",
          "williams",
          "toro_rosso",
          "red_bull",
          "red_bull",
          "lotus_f1",
          "hrt",
          "force_india",
          "ferrari",
          "marussia",
          "williams",
          "mclaren",
          "marussia",
          "lotus_f1",
          "sauber",
          "mercedes",
          "sauber",
          "lotus_f1",
          "williams",
          "ferrari",
          "caterham",
          "mclaren",
          "toro_rosso",
          "mercedes",
          "lotus_f1",
          "force_india",
          "toro_rosso",
          "red_bull",
          "red_bull",
          "force_india",
          "caterham",
          "ferrari",
          "marussia",
          "williams",
          "mclaren",
          "marussia",
          "caterham",
          "lotus_f1",
          "sauber",
          "mercedes",
          "force_india",
          "caterham",
          "toro_rosso",
          "caterham",
          "mclaren",
          "lotus_f1",
          "williams",
          "force_india",
          "red_bull",
          "mercedes",
          "ferrari",
          "caterham",
          "sauber",
          "toro_rosso",
          "red_bull",
          "mclaren",
          "williams",
          "mclaren",
          "sauber",
          "lotus_f1",
          "mercedes",
          "force_india",
          "red_bull",
          "mclaren",
          "lotus_f1",
          "williams",
          "manor",
          "sauber",
          "force_india",
          "red_bull",
          "mercedes",
          "manor",
          "ferrari",
          "toro_rosso",
          "manor",
          "toro_rosso",
          "ferrari",
          "mclaren",
          "williams",
          "mclaren",
          "sauber",
          "haas",
          "haas",
          "mercedes",
          "manor",
          "force_india",
          "red_bull",
          "renault",
          "williams",
          "sauber",
          "manor",
          "renault",
          "force_india",
          "red_bull",
          "mercedes",
          "ferrari",
          "toro_rosso",
          "mclaren",
          "toro_rosso",
          "ferrari",
          "manor",
          "mclaren",
          "mercedes",
          "mclaren",
          "sauber",
          "toro_rosso",
          "sauber",
          "haas",
          "mercedes",
          "toro_rosso",
          "renault",
          "toro_rosso",
          "haas",
          "williams",
          "force_india",
          "renault",
          "force_india",
          "red_bull",
          "ferrari",
          "toro_rosso",
          "williams",
          "mclaren",
          "red_bull",
          "ferrari",
          "sauber",
          "williams",
          "mclaren",
          "mercedes",
          "sauber",
          "toro_rosso",
          "haas",
          "mercedes",
          "toro_rosso",
          "renault",
          "sauber",
          "haas",
          "force_india",
          "force_india",
          "red_bull",
          "ferrari",
          "renault",
          "williams",
          "williams",
          "mclaren",
          "red_bull",
          "ferrari",
          "toro_rosso",
          "mercedes",
          "red_bull",
          "alfa",
          "haas",
          "mercedes",
          "renault",
          "williams",
          "toro_rosso",
          "ferrari",
          "haas",
          "mclaren",
          "racing_point",
          "renault",
          "williams",
          "alfa",
          "mclaren",
          "racing_point",
          "red_bull",
          "ferrari",
          "williams",
          "red_bull",
          "mercedes",
          "haas",
          "alphatauri",
          "alfa",
          "haas",
          "mercedes",
          "racing_point",
          "alphatauri",
          "williams",
          "ferrari",
          "haas",
          "mclaren",
          "renault",
          "racing_point",
          "renault",
          "williams",
          "alfa",
          "mclaren",
          "racing_point",
          "red_bull",
          "ferrari",
          "alpine",
          "mercedes",
          "alphatauri",
          "alfa",
          "mercedes",
          "alfa",
          "williams",
          "ferrari",
          "haas",
          "mclaren",
          "alpine",
          "red_bull",
          "mclaren",
          "williams",
          "alfa",
          "ferrari",
          "haas",
          "aston_martin",
          "alphatauri",
          "red_bull",
          "aston_martin",
          "williams",
          "alpine",
          "alfa",
          "alphatauri",
          "mercedes",
          "aston_martin",
          "williams",
          "ferrari",
          "haas",
          "mclaren",
          "alpine",
          "red_bull",
          "mclaren",
          "mercedes",
          "ferrari",
          "haas",
          "aston_martin",
          "alphatauri",
          "red_bull",
          "aston_martin",
          "alfa",
          "williams",
          "williams",
          "aston_martin",
          "alfa",
          "alpine",
          "mercedes",
          "haas",
          "alphatauri",
          "ferrari",
          "haas",
          "mclaren",
          "alpine",
          "mclaren",
          "red_bull",
          "alphatauri",
          "mercedes",
          "ferrari",
          "williams",
          "aston_martin",
          "alphatauri",
          "red_bull",
          "alfa",
          "alphatauri",
          "williams",
          "aston_martin",
          "ferrari",
          "sauber",
          "williams",
          "alpine",
          "alpine",
          "mercedes",
          "haas",
          "rb",
          "ferrari",
          "haas",
          "mclaren",
          "alpine",
          "mclaren",
          "red_bull",
          "rb",
          "mercedes",
          "ferrari",
          "williams",
          "aston_martin",
          "rb",
          "red_bull",
          "sauber"
         ],
         "x0": " ",
         "xaxis": "x",
         "y": {
          "bdata": "AAAAAAAAAAAAAAAAAAAAAAAAAAAAACZAAAAAAAAAAAAAAAAAAADwPwAAAAAAAAAAAAAAAAAAFEAAAAAAAAAAQAAAAAAAAAAAAAAAAAAAAAAAAAAAAAAIQAAAAAAAAAAAAAAAAAAAAAAAAAAAAADwPwAAAAAAABBAAAAAAAAA8D8AAAAAAAAAAAAAAAAAAAAAAAAAAAAAAAAAAAAAAAAAAAAAAAAAAAAAAAAAAAAAAAAAAAAAAAA4QAAAAAAAADtAAAAAAAAAPkAAAAAAAAAAAAAAAAAAAAAAAAAAAAAAAAAAAAAAAAAAAAAAAAAAAAAAAAAAAAAAAAAAAAAAAAAIQAAAAAAAAAAAAAAAAAAAAAAAAAAAAAAAAAAAAAAAAAAAAAAAAAAAAAAAAAAAAAAYQAAAAAAAAAAAAAAAAAAAAAAAAAAAAAAAAAAAAAAAAAAAAAAAAAAAAAAAAAAAAAAAAAAAAAAAAAAAAAAAAAAAAAAAAAAAAAAAAAAAAAAAAAhAAAAAAAAAAAAAAAAAAAAAAAAAAAAAAAAAAAAAAAAAAAAAAAAAAAAAAAAAAAAAABBAAAAAAAAAIkAAAAAAAAAAAAAAAAAAAAAAAAAAAAAAAAAAAAAAAAAAAAAAAAAAAAAAAAAAAAAAAAAAAAAAAAAQQAAAAAAAACpAAAAAAAAAAAAAAAAAAAAAAAAAAAAAAAAAAAAAAAAAAAAAAAAAAAAAAAAAAAAAAAhAAAAAAAAAAAAAAAAAAAAIQAAAAAAAAAAAAAAAAAAAAAAAAAAAAAAAAAAAAAAAAAAAAAAAAAAAAAAAAAAAAAAAAAAAAAAAABBAAAAAAAAAAAAAAAAAAAAIQAAAAAAAAAAAAAAAAAAAAAAAAAAAAAA5QAAAAAAAAABAAAAAAAAAAEAAAAAAAAAAAAAAAAAAAAAAAAAAAAAAAAAAAAAAAAAcQAAAAAAAAAAAAAAAAAAAAAAAAAAAAAAAQAAAAAAAAAAAAAAAAAAAAAAAAAAAAAAAAAAAAAAAAAAAAAAAAAAAAAAAAAAAAAAAAAAAAAAAAAAAAAAAAAAAEEAAAAAAAAA/QAAAAAAAADNAAAAAAAAAAAAAAAAAAAAAAAAAAAAAAAAAAAAAAAAAAAAAAAAAAAAAAAAAAAAAAAAAAAAAAAAAAAAAAAAAAAA4QAAAAAAAAAAAAAAAAAAAAAAAAAAAAAAAAAAAAAAAAAAAAAAAAAAAAAAAAAAAAAAAAAAAAAAAAAAAAAAAAAAAAAAAAAAAAAAAAAAAAAAAAAAAAAAAAAAAAAAAAAAAAAAAAAAAAAAAAAAAAAAAAAAACEAAAAAAAAAAAAAAAAAAAAAAAAAAAAAAAAAAAAAAAAAAAAAAAAAAAAAAAAAAAAAAAAAAAAAAAAAAQAAAAAAAAAAAAAAAAAAAAAAAAAAAAAAAAAAAAAAAAAAAAAAAAAAAGEAAAAAAAAAUQAAAAAAAAAAAAAAAAAAAAAAAAAAAAAAAAAAAAAAAAAAAAAAAAAAAAAAAAAAAAAAAAAAAAAAAAAhAAAAAAAAAAAAAAAAAAAAIQAAAAAAAAAAAAAAAAAAAAAAAAAAAAAAAAAAAAAAAAAAAAAAAAAAAAAAAAAAAAAAAAAAAAAAAAAAAAAAAAAAAJEAAAAAAAAAAAAAAAAAAAC5AAAAAAAAAAAAAAAAAAAAAAAAAAAAAACJAAAAAAAAAAAAAAAAAAAAAAAAAAAAAAABAAAAAAAAAAAAAAAAAAAAAAAAAAAAAAAAAAAAAAAAAQkAAAAAAAAAAAAAAAAAAAAAAAAAAAAAAAAAAAAAAAAAAAAAAAAAAAAAAAAAAAAAAAAAAAAAAAAAAAAAAAAAAABhAAAAAAAAAAAAAAAAAAAAAAAAAAAAAAAAAAAAAAAAAAEAAAAAAAAAAAAAAAAAAAABAAAAAAAAAAAAAAAAAAAAAAAAAAAAAAAAAAAAAAAAAAAAAAAAAAAAAAAAAAAAAAAhAAAAAAAAAAAAAAAAAAAAAAAAAAAAAAAAAAAAAAAAAAAAAAAAAAAAAAAAAAAAAAAAAAAAAAAAAAEAAAAAAAAAAAAAAAAAAAAAAAAAAAAAAOEAAAAAAAAAkQAAAAAAAAAAAAAAAAAAAAAAAAAAAAAAAQAAAAAAAAAAAAAAAAAAAGkAAAAAAAAAAAAAAAAAAAAAAAAAAAAAAEEAAAAAAAAAAAAAAAAAAACRAAAAAAAAAAAAAAAAAAAAAAAAAAAAAAAAAAAAAAAAAAAAAAAAAAAAAAAAAAAAAAAAAAAAAAAAAAAAAAAAAAAAAAAAAAAAAAAAAAAAAAAAAAAAAAAAAAAAAAAAAAAAAAAAAAAAAAAAAAAAAAAAAAAAiQAAAAAAAAAAAAAAAAAAAAAAAAAAAAAAAAAAAAAAAAAAAAAAAAAAAAAAAAAAAAAAAAAAAAAAAAAAAAAAAAAAAAAAAAAAAAAAAAAAAAAAAAAAAAAAAAAAAAAAAAAAAAAAAAAAAAAAAAAAAAAAAAAAAAAAAAAAAAAAIQAAAAAAAABhAAAAAAAAAAAAAAAAAAAAAAAAAAAAAAAAAAAAAAAAAAAAAAAAAAAAAAAAAAAAAACBAAAAAAAAAAAAAAAAAAAAAAAAAAAAAAAAAAAAAAAAAAAAAAAAAAAAAAAAAAAAAAAAAAAAAAAAAAAAAAAAAAAAAAAAAAAAAADZAAAAAAAAAAEAAAAAAAAAAQAAAAAAAAAAAAAAAAAAAIEAAAAAAAADwPwAAAAAAAAAAAAAAAAAAAAAAAAAAAAAIQAAAAAAAAAAAAAAAAAAAAAAAAAAAAAAAAAAAAAAAAAAAAAAAAAAAAAAAAAAAAAAAAAAAAAAAAAAAAAAAAAAAAAAAAAAAAAD4PwAAAAAAQEFAAAAAAAAAAAAAAAAAAAAAAAAAAAAAAAAAAAAAAAAAAAAAAAAAAAAAAAAAAAAAAAAAAAAAAAAAAAAAAAAAAAAAAAAAAAAAAAAAAAAAAAAAAAAAAAAAAAAAAAAAAAAAABpAAAAAAAAAAAAAAAAAAAAAAAAAAAAAAAAAAAAAAAAAAAAAAAAAAAAAQAAAAAAAAAAAAAAAAAAAAAAAAAAAAAAAAAAAAAAAAAAAAAAAAAAAGEAAAAAAAAAAAAAAAAAAAAAAAAAAAAAAAAAAAAAAAAAAAAAAAAAAAAAAAAAAAAAAPEAAAAAAAAA6QAAAAAAAAAAAAAAAAAAAAAAAAAAAAAAAAAAAAAAAAAAAAAAAAAAAAAAAAAAAAAAAAAAAAAAAAAAAAAAAAAAAK0AAAAAAAAAAQAAAAAAAAAAAAAAAAAAAAEAAAAAAAAAAAAAAAAAAADNAAAAAAAAAAAAAAAAAAAAAAAAAAAAAAAAAAAAAAAAAAAAAAAAAAAAAAAAAAAAAAAAAAAAAAAAAAAAAAAAAAAAAAAAAAAAAAAAAAAAAAAAAAAAAAAAAAAAAAAAAAAAAAAAAAAAAAAAAAEAAAAAAAAAAAAAAAAAAAAAAAAAAAAAAAAAAAAAAAAAAAAAAAAAAAAAAAAAAAAAAAAAAAAAAAAAAAAAAAAAAAAAAAAAAAAAAEEAAAAAAAAAAAAAAAAAAAAAAAAAAAAAAAEAAAAAAAAAAAAAAAAAAAAAAAAAAAAAAAAAAAAAAAAAAAAAAAAAAAAAAAAAAAAAAAAAAAAAAAAAAAAAAAAAAAAAAAAAAAAAAAAAAAAAAAAAAAAAAAAAAAAAAAAAAAAAAAAAAAAAAAAAAAAAAAAAAAPg/AAAAAAAAAAAAAAAAAAAAAAAAAAAAAAAAAAAAAAAAAAAAAAAAAAAAAAAAAAAAAAAAAAAAAAAAAAAAAAAAAAAAAAAAAAAAAAAAAAAAAAAAAAAAAAAAAAAAAAAAAAAAAAAAAAAAAAAAEEAAAAAAAAAxQAAAAAAAACJAAAAAAAAAAAAAAAAAAAAAAAAAAAAAAAAAAAAAAAAAAAAAAAAAAAAAAAAAAAAAABxAAAAAAAAAAAAAAAAAAAAAAAAAAAAAAAAAAAAAAAAAAAAAAAAAAADwPwAAAAAAAAAAAAAAAAAAAEAAAAAAAAAAAAAAAAAAAAAAAAAAAAAAAAAAAAAAAAAAAAAAAAAAAAhAAAAAAAAAAAAAAAAAAAAAAAAAAAAAABhAAAAAAAAAAAAAAAAAAAD4PwAAAAAAAAAAAAAAAAAAAAAAAAAAAAAAAAAAAAAAAAAAAAAAAAAAAAAAAAAAAAAAAAAAAAAAAAAAAAAAAAAAAAAAAAAAAABFQAAAAAAAABhAAAAAAAAAAAAAAAAAAAAAAAAAAAAAAAAAAAAAAAAAAAAAAAAAAAAAAAAAAAAAAAAAAAAAAAAAAAAAAAAAAAAAAKRwPQrXIzlAAAAAAAAAAAAAAAAAAAAAAAAAAAAAAAAApHA9CtejOEAAAAAAAAAAAAAAAAAAACBAAAAAAAAAAAAAAAAAAAAAAAAAAAAAAAAAAAAAAAAAAAAAAAAAAAAAAAAAAAAAAChAAAAAAAAAAAAAAAAAAAAAAAAAAAAAAAAAAAAAAAAAAAAAAAAAAAAAQAAAAAAAABBAAAAAAAAAEECPwvUoXI8QQAAAAAAAAAAAAAAAAAAAAAAAAAAAAAAUQAAAAAAAAAAAAAAAAAAAGEAAAAAAAAAQQAAAAAAAABhAAAAAAAAAAEAAAAAAAAAAAAAAAAAAAAAAAAAAAAAAAAAAAAAAAAAAAAAAAAAAAAAAAAAAAAAAAEAAAAAAAAAAAAAAAAAAAAAAAAAAAAAAAAAAAAAAAAAAAAAAAAAAAAAAAAAAAAAAAAAAAAAAAAD4PwAAAAAAAAAAAAAAAAAAAAAAAAAAAAAAAAAAAAAAAAAAAAAAAAAAAAAAAAAAAAAAAAAAAAAAAAAAAAAAAAAAAAAAAAAAAAAAAAAAAAAAAAAAAAAAAAAAMUAAAAAAAAAAQAAAAAAAAAAAAAAAAAAAIEAAAAAAAAAAAAAAAAAAAAAAAAAAAAAAAAAAAAAAAAAAAAAAAAAAAAAAAAAAAAAAAAAAAAAAAAAAAAAAAAAAAAAAAAAAAAAAAAAAAAAAAAAAAAAAAAAAAAAAAAAAAAAAAAAAAAAAAAAYQAAAAAAAAAhAAAAAAAAAAAAAAAAAAAAAAAAAAAAAAAAAAAAAAAAAAAAAAAAAAAAAAAAAAAAAAAAAAAAAAAAAKEAAAAAAAAAAAAAAAAAAAAAAAAAAAAAAAAAAAAAAAAAAAAAAAAAAAAAAAAAAAAAAEEAAAAAAAAAAAAAAAAAAAAAAAAAAAAAAAAAAAAAAAABEQClcj8L1qCRAAAAAAAAA8D8AAAAAAAAAAAAAAAAAAAAAAAAAAAAAAAAAAAAAAAAIQAAAAAAAAABAAAAAAAAAAAAAAAAAAAAAAAAAAAAAAAAAAAAAAAAAAAAAAAAAAADwPwAAAAAAAPA/AAAAAAAAAAAAAAAAAAAAAAAAAAAAAAAAAAAAAAAAAAAAAAAAAAAUQAAAAAAAAAAAAAAAAAAAAAAAAAAAAAAAAEjhehSuR/U/AAAAAAAAAAAAAAAAAAAAAAAAAAAAAAAAAAAAAAAAAAAAAAAAAAAAAAAAAAAAAABAAAAAAAAAHEAAAAAAAAA3QAAAAAAAABhAAAAAAAAAAAAAAAAAAAAAAAAAAAAAAAAAAAAAAAAAAEAAAAAAAAAAAAAAAAAAAAAAAAAAAAAAAAAAAAAAAAAAAAAAAAAAAAAAAAAAAAAAAAAAAAAAAAAIQAAAAAAAAAAAAAAAAAAAAAAAAAAAAAAAAAAAAAAAAAAAAAAAAAAAIEAAAAAAAAAiQAAAAAAAAAAAAAAAAAAACEApXI/C9agmQAAAAAAAAAAAAAAAAAAAAEAAAAAAAADwPwAAAAAAAAAAAAAAAAAAAAAAAAAAAAAAAAAAAAAAAAAAAAAAAAAAAAAAAAAAAAAAAAAAAAAAAAAAAAAAAAAAAAAAAAAAAAAAAAAAAAAAADZAAAAAAAAAAAAAAAAAAAAAAAAAAAAAAAAAAAAAAAAAAAAAAAAAAAAAAAAAAAAAAAAAAAAAAAAAHkAAAAAAAAAAAAAAAAAAAAAAAAAAAAAAAAAAAAAAAAA5QAAAAAAAAAAAAAAAAAAAAAAAAAAAAAAAAAAAAAAAAAAAAAAAAAAAAAAAAAAAAAAUQAAAAAAAAD5AAAAAAAAAIEAAAAAAAAAQQAAAAAAAABBAAAAAAAAAGEAAAAAAAAAAAAAAAAAAAABAAAAAAAAAAAAAAAAAAAD4PwAAAAAAABhAAAAAAAAAAAAAAAAAAAAAQAAAAAAAAAAAAAAAAAAAAAAAAAAAAAAYQAAAAAAAAAAAAAAAAAAAEEAAAAAAAAAAAAAAAAAAAAAAAAAAAAAAAAAAAAAAAAD4PwAAAAAAAAAAAAAAAAAAAAAAAAAAAAAAAAAAAAAAAAAAAAAAAAAAAAAAAAAAAAAAAAAAAAAAADtAAAAAAAAAEEAAAAAAAAAAAAAAAAAAAAhAAAAAAAAACEAAAAAAAAAAAAAAAAAAAAAAAAAAAAAAAEAAAAAAAAAAAAAAAAAAAABAAAAAAAAA8D8AAAAAAAAAAAAAAAAAAAAAAAAAAAAAAAAAAAAAAAAIQAAAAAAAAAAAAAAAAAAAAAAAAAAAAAAAAAAAAAAAAAAAAAAAAAAAAAAAAAAAAAAAAAAAAAAAAAAAAAAAAAAAAAAAAAAAAAAAAAAAAAAAAAAAAAAAAAAAAAAAAAAAAAAAAAAAAAAAAABAAAAAAAAAAAAAAAAAAAAAAAAAAAAAAABAAAAAAAAAAAAAAAAAAAAIQAAAAAAAAAAAAAAAAAAAAAAAAAAAAAAAAAAAAAAAABhAAAAAAAAAAAAAAAAAAAAAAAAAAAAAAAAAAAAAAAAAAAAAAAAAAAAmQAAAAAAAABBAAAAAAAAAAAAAAAAAAAAAAAAAAAAAAAAAAAAAAAAAAAAAAAAAAAAgQAAAAAAAAAAAAAAAAAAAAAAAAAAAAAAAAAAAAAAAAAAAAAAAAAAAAAAAAAAAAABEQAAAAAAAAAAAAAAAAAAAAAAAAAAAAAAAAAAAAAAAAAAAAAAAAAAAAAAAAAAAAAAAAAAAAAAAAPA/AAAAAAAAAAAAAAAAAAAkQAAAAAAAAAAAAAAAAAAAIEAAAAAAAAAAAAAAAAAAACpAAAAAAAAAAAAAAAAAAAAAAAAAAAAAAAAAAAAAAAAAAAAAAAAAAAAAAAAAAAAAABRAAAAAAAAAAEAAAAAAAAAAAAAAAAAAAAAAAAAAAAAAAAAAAAAAAAAAAAAAAAAAAAAAAAAAAAAAEEAAAAAAAAA5QAAAAAAAADBAAAAAAAAAAAAAAAAAAAAAAAAAAAAAAAAAAAAAAAAAAAAAAAAAAAAAAAAAAAAAABxAAAAAAAAAAAAAAAAAAAAIQAAAAAAAAAAAAAAAAAAAAAAAAAAAAAAAQAAAAAAAAPA/AAAAAAAAJEAAAAAAAAAAAAAAAAAAAAAAAAAAAAAAAAAAAAAAAAAAAAAAAAAAABRAAAAAAAAAAAAAAAAAAAAAAAAAAAAAAAAAAAAAAAAAAAAAAAAAAAAAAAAAAAAAAAAAAAAAAAAA8D8AAAAAAAAAAAAAAAAAABBAAAAAAAAACEAAAAAAAAAYQAAAAAAAAAAAAAAAAAAAIkAAAAAAAAAQQAAAAAAAAAAAAAAAAAAACEAAAAAAAAAQQAAAAAAAAAhAAAAAAAAAAAAAAAAAAAA4QAAAAAAAACBAAAAAAAAAAAAAAAAAAAAAAAAAAAAAAAAAAAAAAAAAAAAAAAAAAAAAAAAAAAAAAAAAAAAAAAAALEAAAAAAAAAAAAAAAAAAAAAAAAAAAAAAAAAAAAAAAAAAAAAAAAAAABxAAAAAAAAAAAAAAAAAAAAAAAAAAAAAAAAAAAAAAAAAAAAAAAAAAAAAAAAAAAAAAAAAAAAAAAAAAAAAAAAAAAAAAAAAAAAAAAAAAAAAAAAAAAAAAAAAAAAAAAAAAAAAAAAAAAAAAAAAAAAAAAAAAABFQAAAAAAAAAAAAAAAAAAAIkAAAAAAAAAAAAAAAAAAAAAAAAAAAAAAAAAAAAAAAAAAAAAAAAAAAAAAAAAAAAAAAAAAAAAAAAAmQAAAAAAAAAAAAAAAAAAAAAAAAAAAAAAAAAAAAAAAAAAAAAAAAACAREAAAAAAAAAoQAAAAAAAAAAAAAAAAAAAAAAAAAAAAAAAAAAAAAAAAAAAAAAAAAAAAAAAAAAAAAAAQAAAAAAAAAAAAAAAAAAAAAAAAAAAAAAAAAAAAAAAAAAAAAAAAAAALkAAAAAAAAAAAAAAAAAAACxAAAAAAAAAAAAAAAAAAAAAAAAAAAAAAAAAAAAAAAAAAAAAAAAAAAAAAAAAAAAAAAAAAAAAAAAAAAAAAAAAAAAAAAAAAAAAAAAAAAAAAAAAKEAAAAAAAAAAAAAAAAAAAAAAAAAAAAAAAAAAAAAAAAAAAAAAAAAAAAAAAAAAAAAAAAAAAAAAAAAAAAAAAAAAAAAAAAAAAAAAIkAAAAAAAAAAQAAAAAAAAAAAAAAAAAAAAAAAAAAAAAAAAAAAAAAAAABAAAAAAAAACEAAAAAAAAAAAAAAAAAAAAAAAAAAAAAAJEAAAAAAAAAAAAAAAAAAAD9AAAAAAAAAAAAAAAAAAAAAAAAAAAAAADtAAAAAAAAAAAAAAAAAAAAAAAAAAAAAAAAAAAAAAAAAAAAAAAAAAAAAAAAAAAAAAAAAAAAAAAAAAAAAAAAAAAAAAAAAAAAAAAAAAAAAAAAAAAAAAAAAAAAAAAAAAAAAAAAAAAAAAAAAAAAAAAAAAAAAAAAAAAAAAAAAAAAAAAAAAAAAAAAAAAAAAAAAAAAAAAAAAAAAAAAAAAAAAAAAAAAIQAAAAAAAAABAAAAAAAAAAAAAAAAAAAAkQAAAAAAAAAAAAAAAAAAAKkAAAAAAAAAAAAAAAAAAAAAAAAAAAAAAAAAAAAAAAAAAAAAAAAAAADRAAAAAAAAAFEAAAAAAAAAAAAAAAAAAAAAAAAAAAAAAAAAAAAAAAAAAAAAAAAAAAAAAAAAAAAAAAAAAAAAAAIAwQAAAAAAAAAAAAAAAAACAOUAAAAAAAAAAAAAAAAAAAAAAAAAAAAAAAAAAAAAAAAAAAAAAAAAAABhAAAAAAAAAAAAAAAAAAAAAAAAAAAAAAAAAAAAAAAAAAAAAAAAAAAAAAAAAAAAAABRAAAAAAAAAAAAAAAAAAAAAAAAAAAAAAAAAAAAAAAAAAAAAAAAAAAAAAAAAAAAAABRAAAAAAAAAM0AAAAAAAAAAAAAAAAAAAAAAAAAAAAAAIEAAAAAAAAAAAAAAAAAAAAAAAAAAAAAAAAAAAAAAAAAAAAAAAAAAAAAAAAAAAAAAAAAAAAAAAAAAAAAAAAAAABhAAAAAAAAAAAAAAAAAAAAAAAAAAAAAAAAAAAAAAAAA8D8AAAAAAAAQQAAAAAAAAAAAAAAAAAAAAAAAAAAAAIBFQAAAAAAAAAhAAAAAAAAAAAAAAAAAAAAcQAAAAAAAAAAAAAAAAAAAAAAAAAAAAAAIQAAAAAAAAAAAAAAAAAAAAAAAAAAAAAAAAAAAAAAAAAAAAAAAAAAAIEAAAAAAAAAAAAAAAAAAAAAAAAAAAAAAAAAAAAAAAAAAAAAAAAAAAAAAAAAAAAAAAAAAAAAAAADwPwAAAAAAAAAAAAAAAAAAAAAAAAAAAAAAAAAAAAAAAAAAAAAAAAAAJEAAAAAAAAAgQAAAAAAAABBAAAAAAAAAAAAAAAAAAAAAAAAAAAAAAAAAAAAAAAAAAAAAAAAAAAAAAAAAAAAAAAAAAAAAAAAAAAAAAAAAAAAAAAAAAAAAAAAAAAAAAAAAAAAAAAAAAADwPwAAAAAAADBAAAAAAAAAAAAAAAAAAAAAAAAAAAAAADJAAAAAAAAA8D8AAAAAAAAAAAAAAAAAAAAAAAAAAAAAEEAAAAAAAABBQAAAAAAAAAAAAAAAAAAACEAAAAAAAAAzQAAAAAAAAAAAAAAAAAAAAAAAAAAAAAAAAAAAAAAAAAAAAAAAAAAAIEAAAAAAAAAAAAAAAAAAAAAAAAAAAAAAAAAAAAAAAAAAAAAAAAAAAAAAAAAAAAAAAAAAAAAAAAAAAAAAAAAAAAAAAAAAAAAAAAAAAAAAAAAAAAAAAAAAAAAAAAAAAAAAGEAAAAAAAAAAAAAAAAAAAAhAAAAAAAAAAAAAAAAAAAAAAAAAAAAAAABAAAAAAAAAAAAAAAAAAAAAAAAAAAAAAAAAAAAAAAAAGEAAAAAAAAAAAAAAAAAAAAAAAAAAAAAAAAAAAAAAAAAkQAAAAAAAAAAAAAAAAAAAAAAAAAAAAAAiQAAAAAAAAAAAAAAAAAAAAAAAAAAAAAAAAAAAAAAAAAAAAAAAAAAACEAAAAAAAAAAAAAAAAAAABBAAAAAAAAAGEAAAAAAAAAAAAAAAAAAAAAAAAAAAAAAAAAAAAAAAAAmQAAAAAAAAAAAAAAAAAAAAAAAAAAAAAAAAAAAAAAAAAhAAAAAAAAAMEAAAAAAAAAAAAAAAAAAAAAAAAAAAAAANUAAAAAAAAAAAAAAAAAAAAAAAAAAAAAAAAAAAAAAAABBQAAAAAAAAChAAAAAAAAACEAAAAAAAAAAAAAAAAAAAAAAAAAAAAAAAAAAAAAAAAAAAAAAAAAAAAAAAAAAAAAAJkAAAAAAAAAAAAAAAAAAAAAAAAAAAAAANUAAAAAAAAAAAAAAAAAAAAAAAAAAAAAAAAAAAAAAAAAAAAAAAAAAAAAAAAAAAAAAAAAAAAAAAAAAAAAAAAAAAAAAAAAAAAAAAAAAAAAAAAAAAAAAAAAAAABAAAAAAAAAAAAAAAAAAAAAAAAAAAAAAAAAAAAAAAAAAAAAAAAAAAAQQAAAAAAAAAAAAAAAAAAAAAAAAAAAAAAAAAAAAAAAAAAAAAAAAAAAAAAAAAAAAIBAQAAAAAAAAAAAAAAAAAAAAAAAAAAAAAAAAAAAAAAAABRAAAAAAAAAEEAAAAAAAAAAAAAAAAAAAAhAAAAAAAAAIkAAAAAAAAAAAAAAAAAAAAAAAAAAAAAAAAAAAAAAAAAAAAAAAAAAAD5AAAAAAAAAAAAAAAAAAAAAAAAAAAAAAAAAAAAAAAAAJEAAAAAAAAAAAAAAAAAAAPA/AAAAAAAALkAAAAAAAAAAAAAAAAAAAAAAAAAAAAAARUAAAAAAAAAAAAAAAAAAAABAAAAAAAAAAAAAAAAAAAAAAAAAAAAAAPA/AAAAAAAAAAAAAAAAAAAAAAAAAAAAAAAAAAAAAAAAKkAAAAAAAAAIQAAAAAAAAAAAAAAAAAAAAAAAAAAAAAA7QAAAAAAAAAAAAAAAAAAAAAAAAAAAAAAAAAAAAAAAAAAAAAAAAAAAEEAAAAAAAAAAAAAAAAAAAAAAAAAAAAAAAAAAAAAAAAAAAAAAAAAAAAAAAAAAAAAAAAAAAAAAAAAAAAAAAAAAAAAAAAAAAAAAAAAAAAAAAAAAAAAAAAAAAAAAAAAAAAAAM0AAAAAAAAAYQAAAAAAAAAAAAAAAAAAAAAAAAAAAAAAAAAAAAAAAAAAAAAAAAAAAAEAAAAAAAAAAAAAAAAAAAAAAAAAAAAAAAAAAAAAAAAAAAAAAAAAAAAAAAAAAAAAAAAAAAAAAAAAYQAAAAAAAAAAAAAAAAAAAAAAAAAAAAAAYQAAAAAAAACxAAAAAAAAAAAAAAAAAAAAAAAAAAAAAAAAAAAAAAAAAAAAAAAAAAAAAAAAAAAAAAEtAAAAAAAAAAAAAAAAAAAAAAAAAAAAAAAAAAAAAAAAAAAAAAAAAAAA9QAAAAAAAAAAAAAAAAAAAM0AAAAAAAAAAAAAAAAAAAAhAAAAAAAAAAAAAAAAAAAA9QAAAAAAAABhAAAAAAAAAAAAAAAAAAAAAAAAAAAAAAAAAAAAAAAAAAAAAAAAAAAAiQAAAAAAAAAAAAAAAAAAAMUAAAAAAAAAIQAAAAAAAAAAAAAAAAAAAAAAAAAAAAAAAAAAAAAAAAAAAAAAAAAAAAAAAAAAAAAAAAAAAAAAAAAAAAAAAAAAAAAAAAAAAAADwPwAAAAAAAAAAAAAAAAAAAAAAAAAAAAAAAAAAAAAAAAAAAAAAAAAA8D8AAAAAAAAAAAAAAAAAAAAAAAAAAAAAAAAAAAAAAAA2QAAAAAAAAPA/AAAAAAAAAAAAAAAAAAAAAAAAAAAAAAAAAAAAAAAAAEAAAAAAAAAAAAAAAAAAAAAAAAAAAAAAAEAAAAAAAAAUQAAAAAAAACZAAAAAAAAAAAAAAAAAAAAAAAAAAAAAADdAAAAAAAAAAAAAAAAAAAAIQAAAAAAAACZAAAAAAAAAAAAAAAAAAAAAAAAAAAAAAEBAAAAAAAAAAAAAAAAAAAAAAAAAAAAAADdAAAAAAAAAM0AAAAAAAADwPwAAAAAAAABAAAAAAACAQ0AAAAAAAAAQQAAAAAAAAAAAAAAAAAAAEEAAAAAAAAAqQAAAAAAAAAAAAAAAAAAAAAAAAAAAAAAAAAAAAAAAAAAAAAAAAAAAAAAAAAAAAADwPwAAAAAAAAAAAAAAAAAAAAAAAAAAAAAAAAAAAAAAABxAAAAAAAAAAAAAAAAAAAAQQAAAAAAAAERAAAAAAAAA8D8AAAAAAAAAQAAAAAAAAAAAAAAAAAAAAAAAAAAAAAAAAAAAAAAAAABAAAAAAAAAAAAAAAAAAAAqQAAAAAAAAAAAAAAAAAAAAAAAAAAAAAAAAAAAAAAAAAAAAAAAAAAAAAAAAAAAAAAAAAAAAAAAACJAAAAAAAAAAEAAAAAAAAAAAAAAAAAAAAAAAAAAAAAAAAAAAAAAAABLQAAAAAAAAAAAAAAAAAAAJkAAAAAAAAAAAAAAAAAAAAAAAAAAAAAAOUAAAAAAAAAAAAAAAAAAAAAAAAAAAAAAREAAAAAAAAAUQAAAAAAAAAAAAAAAAAAAAAAAAAAAAAAAAAAAAAAAAAAAAAAAAAAAJEAAAAAAAAAAAAAAAAAAAAAAAAAAAAAAAAAAAAAAAAAAAAAAAAAAAAAAAAAAAAAAAAAAAAAAAAAAAAAAAAAAAAAAAAAAAAAAAAAAAAAAAAAQQAAAAAAAAABAAAAAAAAAAAAAAAAAAAAAAAAAAAAAAAAAAAAAAAAAAAAAAAAAAAAUQAAAAAAAAAAAAAAAAAAAJEAAAAAAAIBAQAAAAAAAADFAAAAAAAAAAAAAAAAAAAAAAAAAAAAAAAAAAAAAAAAAAAAAAAAAAADwPwAAAAAAAPA/AAAAAAAAAAAAAAAAAAAoQAAAAAAAAAhAAAAAAAAA8D8AAAAAAABFQAAAAAAAAAAAAAAAAAAAMEAAAAAAAAAUQAAAAAAAABBAAAAAAAAAMUAAAAAAAAAyQAAAAAAAAAAAAAAAAAAAAAAAAAAAAAAAAAAAAAAAAAAAAAAAAAAACEAAAAAAAAAoQAAAAAAAADZAAAAAAAAAAAAAAAAAAAAAAAAAAAAAACJAAAAAAAAACEAAAAAAAAAAAAAAAAAAABBAAAAAAAAALEAAAAAAAAA8QAAAAAAAAPA/AAAAAAAAAAAAAAAAAAAAAAAAAAAAADRAAAAAAAAAAEAAAAAAAAAAAAAAAAAAAAAAAAAAAAAAAAAAAAAAAAAAAAAAAAAAAAhAAAAAAAAAAAAAAAAAAABHQAAAAAAAAAAAAAAAAACAREAAAAAAAAAAAAAAAAAAAAAAAAAAAAAAAAAAAAAAAAAqQAAAAAAAAAAAAAAAAAAAAAAAAAAAAAAuQAAAAAAAAAAAAAAAAACASUAAAAAAAADwPwAAAAAAAABAAAAAAAAAAAAAAAAAAADwPwAAAAAAABhAAAAAAAAACEAAAAAAAAAAAAAAAAAAAAAAAAAAAAAAAEAAAAAAAAAAAAAAAAAAAAAAAAAAAAAAGEAAAAAAAAAuQAAAAAAAAPA/AAAAAAAAAAAAAAAAAAAAAAAAAAAAABhAAAAAAAAAAAAAAAAAAAAiQAAAAAAAACRAAAAAAAAANEAAAAAAAAAAAAAAAAAAAAAAAAAAAAAAAAAAAAAAAAAkQAAAAAAAAAAAAAAAAAAAGEAAAAAAAAAAAAAAAAAAACZAAAAAAAAAFEAAAAAAAAAIQAAAAAAAAABAAAAAAAAAAAAAAAAAAAAAAAAAAAAAACJAAAAAAAAAEEAAAAAAAAAUQAAAAAAAAAAAAAAAAAAACEAAAAAAAAAAAAAAAAAAAEhAAAAAAAAAAAAAAAAAAIBAQAAAAAAAADtAAAAAAAAAAAAAAAAAAAA2QAAAAAAAAABAAAAAAAAAGEAAAAAAAAAAAAAAAAAAAAAAAAAAAAAAEEAAAAAAAAAgQAAAAAAAADJAAAAAAAAAGEAAAAAAAAAAAAAAAAAAABhAAAAAAAAAKEAAAAAAAAAAAAAAAAAAAAAAAAAAAAAAQkAAAAAAAAAoQAAAAAAAAAAAAAAAAAAAAAAAAAAAAAAAAAAAAAAAAAAAAAAAAAAAAAAAAAAAAAAQQAAAAAAAAAAAAAAAAAAACEAAAAAAAAAAAAAAAAAAADVAAAAAAAAAAAAAAAAAAAAsQAAAAAAAAAAAAAAAAAAAAAAAAAAAAAAwQAAAAAAAAAAAAAAAAAAACEAAAAAAAAAzQAAAAAAAADRAAAAAAACAQkAAAAAAAAAAAAAAAAAAAAAAAAAAAAAAOkAAAAAAAAAAAAAAAAAAAPA/AAAAAAAA8D8AAAAAAAA2QAAAAAAAAAhAAAAAAAAA8D8AAAAAAAAuQAAAAAAAgE9AAAAAAAAAGEAAAAAAAAAAAAAAAAAAAAAAAAAAAAAAAAAAAAAAAAA3QAAAAAAAABBAAAAAAAAA8D8AAAAAAAAwQAAAAAAAAAAAAAAAAAAAOUAAAAAAAADwPwAAAAAAAAAAAAAAAAAAAAAAAAAAAAAAAAAAAAAAAChAAAAAAAAAAAAAAAAAAADwPwAAAAAAAAhAAAAAAAAA8D8AAAAAAAAAAAAAAAAAABxAAAAAAAAAO0AAAAAAAAAAAAAAAAAAAERAAAAAAAAAAAAAAAAAAAAAAAAAAAAAABhAAAAAAAAAAEAAAAAAAAAAAAAAAAAAAABAAAAAAAAAIEAAAAAAAAAAAAAAAAAAAAAAAAAAAACAQEAAAAAAAIBGQAAAAAAAADdAAAAAAAAAAAAAAAAAAAAAQAAAAAAAAAAAAAAAAAAAAAAAAAAAAAA5QAAAAAAAACRAAAAAAAAACEAAAAAAAAAAAAAAAAAAABBAAAAAAAAAAAAAAAAAAAAAAAAAAAAAACJAAAAAAAAAKEAAAAAAAAAAAAAAAAAAAAAAAAAAAAAA8D8AAAAAAAAAAAAAAAAAAAAAAAAAAAAAAAAAAAAAAAA6QAAAAAAAAAAAAAAAAAAAAAAAAAAAAAAQQAAAAAAAAAAAAAAAAAAAAAAAAAAAAAAwQAAAAAAAAAAAAAAAAAAAFEAAAAAAAAAiQAAAAAAAAAhAAAAAAAAAAEAAAAAAAAAAAAAAAAAAACJAAAAAAAAAM0AAAAAAAAAAAAAAAAAAAAAAAAAAAAAAAAAAAAAAAAAAAAAAAAAAAAAAAAAAAAAAAAAAAAAAAAAAAAAAAAAAAAAAAAAAAAAAAAAAAAAAAAAQQAAAAAAAgEBAAAAAAAAAAAAAAAAAAAAAAAAAAAAAAAAAAAAAAAAAKkAAAAAAAAAAAAAAAAAAACJAAAAAAAAAFEAAAAAAAAAzQAAAAAAAAAAAAAAAAAAAT0AAAAAAAAAIQAAAAAAAAAhAAAAAAAAAAAAAAAAAAAAiQAAAAAAAAAAAAAAAAAAAAAAAAAAAAAAoQAAAAAAAABBAAAAAAAAAAAAAAAAAAAAAAAAAAAAAACJAAAAAAAAAAAAAAAAAAAAAAAAAAAAAAC5AAAAAAAAAAAAAAAAAAAAAAAAAAAAAgE5AAAAAAAAAAAAAAAAAAAAQQAAAAAAAAPA/AAAAAAAAKkAAAAAAAAAQQAAAAAAAgENAAAAAAAAAO0AAAAAAAAAAAAAAAAAAAAAAAAAAAAAAAAAAAAAAAADwPwAAAAAAAAAAAAAAAAAAAAAAAAAAAAAIQAAAAAAAAAAAAAAAAAAAKEAAAAAAAAAAAAAAAAAAABBAAAAAAAAALkAAAAAAAAAIQAAAAAAAADdAAAAAAAAAAAAAAAAAAAAAQAAAAAAAAAAAAAAAAACARkAAAAAAAAAAAAAAAAAAAAAAAAAAAAAAAAAAAAAAAAAAAAAAAAAAAAhAAAAAAAAA8D8AAAAAAAAiQAAAAAAAAAAAAAAAAAAAAAAAAAAAAIBHQAAAAAAAAAAAAAAAAACAS0AAAAAAAAAUQAAAAAAAAAAAAAAAAAAA8D8AAAAAAAAAAAAAAAAAAAAAAAAAAAAAAAAAAAAAAAA6QAAAAAAAACxAAAAAAAAAKEAAAAAAAAAAAAAAAAAAAAAAAAAAAAAAAEAAAAAAAAAAAAAAAAAAAAAAAAAAAAAAGEAAAAAAAAAQQAAAAAAAABxAAAAAAAAAAAAAAAAAAABKQAAAAAAAAAAAAAAAAAAAAAAAAAAAAAAAQAAAAAAAADBAAAAAAAAAQ0AAAAAAAAAAAAAAAAAAAAAAAAAAAADAUUAAAAAAAAAAAAAAAAAAAAAAAAAAAAAAAAAAAAAAAAAAAAAAAAAAAAhAAAAAAAAA8D8AAAAAAAAAAAAAAAAAAAAAAAAAAAAAAAAAAAAAAAAAAAAAAAAAAAAAAAAAAAAAAAAAAAAAAAAkQAAAAAAAAPA/AAAAAAAAAAAAAAAAAAAsQAAAAAAAAAAAAAAAAAAAAAAAAAAAAAAAAAAAAAAAAAAAAAAAAAAAAAAAAAAAAIBLQAAAAAAAAAAAAAAAAAAAAAAAAAAAAAAoQAAAAAAAAPA/AAAAAAAAAAAAAAAAAAA0QAAAAAAAAC5AAAAAAAAAKEAAAAAAAAAAAAAAAAAAABhAAAAAAAAAAAAAAAAAAAAAAAAAAAAAAAAAAAAAAAAAAAAAAAAAAAAAAAAAAAAAAENAAAAAAAAAAAAAAAAAAAAAAAAAAAAAABBAAAAAAAAAAAAAAAAAAAAAAAAAAAAAACZAAAAAAAAAAAAAAAAAAAAAAAAAAAAAgEFAAAAAAAAAAAAAAAAAAADwPwAAAAAAAAAAAAAAAAAAAAAAAAAAAAAAAAAAAAAAAEpAAAAAAAAAQEAAAAAAAAAAAAAAAAAAAAAAAAAAAAAAAAAAAAAAAIBGQAAAAAAAAAAAAAAAAAAAAAAAAAAAAAAAAAAAAAAAABRAAAAAAAAAGEAAAAAAAAAAAAAAAAAAAAAAAAAAAAAAAAAAAAAAAAAAAAAAAAAAAAAAAAAAAAAAAAAAAAAAAAAUQAAAAAAAAAAAAAAAAAAAGkAAAAAAAADwPwAAAAAAAAAAAAAAAAAAAAAAAAAAAAAoQAAAAAAAABBAAAAAAAAAAAAAAAAAAAAAAAAAAAAAgEZAAAAAAAAAAAAAAAAAAAAAAAAAAAAAAAAAAAAAAACAQEAAAAAAAAAIQAAAAAAAAAAAAAAAAAAA+D8AAAAAAAAAQAAAAAAAAAAAAAAAAAAAGEAAAAAAACBQQAAAAAAAAAAAAAAAAAAA4D8AAAAAAAAAAAAAAAAAAAAAAAAAAAAANEAAAAAAAAAAAAAAAAAAAAAAAAAAAAAAAAAAAAAAAAAAAAAAAAAAADhAAAAAAAAAAAAAAAAAAAAYQAAAAAAAACBAAAAAAAAAOUAAAAAAAIBCQAAAAAAAADRAAAAAAAAAAAAAAAAAAAAAAAAAAAAAAAAAAAAAAAAAAAAAAAAAAAAAAAAAAAAAAAAAAAAAAAAAAAAAAAAAAAAAAAAAAAAAAAAAAAAAAAAAAAAAAAAAAADwPwAAAAAAAABAAAAAAAAAAAAAAAAAAAA2QAAAAAAAAAAAAAAAAAAAAAAAAAAAAADwPwAAAAAAAAAAAAAAAACAQ0AAAAAAAAAAAAAAAAAAAAAAAAAAAAAAAAAAAAAAAAAIQAAAAAAAAAAAAAAAAAAAAAAAAAAAAAAAAAAAAAAAAAAAAAAAAABAUUAAAAAAAAAAAAAAAAAAAAAAAAAAAAAAHEAAAAAAAAAAAAAAAAAAADRAAAAAAAAAUUAAAAAAAAAAAAAAAAAAAAAAAAAAAAAAAAAAAAAAAAAAAAAAAAAAADNAAAAAAAAAAAAAAAAAAAAAAAAAAAAAACZAAAAAAAAAAAAAAAAAAAAcQAAAAAAAAAAAAAAAAAAAAAAAAAAAAAAAAAAAAAAAACRAAAAAAAAAJEAAAAAAAAA/QAAAAAAAAAhAAAAAAAAAAAAAAAAAAIBIQAAAAAAAAPA/AAAAAAAAIEAAAAAAAAAAAAAAAAAAAAAAAAAAAAAAAAAAAAAAAAA0QAAAAAAAAAAAAAAAAAAAAAAAAAAAAAAAAAAAAAAAAAAAAAAAAAAAAAAAAAAAAIBHQAAAAAAAAAAAAAAAAAAAAAAAAAAAAAAAAAAAAAAAABhAAAAAAAAANEAAAAAAAAAAAAAAAAAAAAAAAAAAAAAAJkAAAAAAAAAAAAAAAAAAAAAAAAAAAAAAAAAAAAAAAAAAAAAAAAAAAAAAAAAAAAAAAAAAAAAAAABEQAAAAAAAAAAAAAAAAAAAAAAAAAAAAADwPwAAAAAAADZAAAAAAAAAAAAAAAAAAAAAAAAAAAAAAAAAAAAAAAAAMkAAAAAAAABSQAAAAAAAAAAAAAAAAAAAAAAAAAAAAAA5QAAAAAAAAAAAAAAAAAAAAAAAAAAAAAA0QAAAAAAAAAAAAAAAAAAAAAAAAAAAAAAAAAAAAAAAABhAAAAAAAAA8D8AAAAAAAAAAAAAAAAAABxAAAAAAAAAAAAAAAAAAAAAAAAAAAAAAAAAAAAAAAAAAAAAAAAAAAAUQAAAAAAAAEVAAAAAAAAAAAAAAAAAAIBLQAAAAAAAAAAAAAAAAAAAKEAAAAAAAAAAAAAAAAAAAAAAAAAAAAAAAAAAAAAAAAAUQAAAAAAAAAAAAAAAAAAAAAAAAAAAAAAiQAAAAAAAAPA/AAAAAAAAAAAAAAAAAAAAAAAAAAAAAFBAAAAAAAAAAAAAAAAAAAAAAAAAAAAAAAAAAAAAAAAA8D8AAAAAAAAAAAAAAAAAAAAAAAAAAAAA8D8AAAAAAABBQAAAAAAAAAAAAAAAAAAAMUAAAAAAAAAAAAAAAAAAAAAAAAAAAAAAAAAAAAAAAAAAAAAAAAAAACBAAAAAAAAAAAAAAAAAAAAIQAAAAAAAAAAAAAAAAAAAJkAAAAAAAAAAAAAAAAAAADNAAAAAAAAARkAAAAAAAAAAAAAAAAAAAAAAAAAAAAAAAAAAAAAAAAAAAAAAAAAAAAAAAAAAAAAAAAAAAAAAAAAmQAAAAAAAgElAAAAAAAAAAAAAAAAAAAAcQAAAAAAAAAAAAAAAAAAA8D8AAAAAAAAQQAAAAAAAAEhAAAAAAAAAAAAAAAAAAAA4QAAAAAAAAAAAAAAAAAAAAEAAAAAAAAAgQAAAAAAAAAAAAAAAAAAAMUAAAAAAAAA5QAAAAAAAAAAAAAAAAAAALEAAAAAAAAAxQAAAAAAAAAAAAAAAAAAAAAAAAAAAAAAAAAAAAAAAADRAAAAAAAAA8D8AAAAAAAAAAAAAAAAAAAAAAAAAAAAAAAAAAAAAAAAIQAAAAAAAACJAAAAAAAAALEAAAAAAAABEQAAAAAAAAEJAAAAAAAAAAAAAAAAAAAAQQAAAAAAAAAAAAAAAAAAACEAAAAAAAAAAAAAAAAAAAABAAAAAAAAACEAAAAAAAAAsQAAAAAAAAAAAAAAAAAAAPUAAAAAAAAA0QAAAAAAAAAAAAAAAAAAAAAAAAAAAAIBJQAAAAAAAAABAAAAAAAAAAAAAAAAAAAAAAAAAAAAAgEdAAAAAAAAALkAAAAAAAAAAAAAAAAAAAAhAAAAAAAAA8D8AAAAAAAA9QAAAAAAAAAAAAAAAAAAAAAAAAAAAAAAAAAAAAAAAABhAAAAAAAAAAAAAAAAAAAAAAAAAAAAAABRAAAAAAAAAEEAAAAAAAAAiQAAAAAAAABhAAAAAAAAAAAAAAAAAAMBQQAAAAAAAAAAAAAAAAAAAAAAAAAAAAABBQAAAAAAAAAAAAAAAAAAAAAAAAAAAAAAAAAAAAAAAABBAAAAAAAAAAAAAAAAAAAAcQAAAAAAAAEtAAAAAAAAAQEAAAAAAAAAUQAAAAAAAAPA/AAAAAAAAAAAAAAAAAABFQAAAAAAAABhAAAAAAAAAAEAAAAAAAAAAAAAAAAAAAAAAAAAAAAAAAAAAAAAAAAAYQAAAAAAAABhAAAAAAAAAAAAAAAAAAAAAAAAAAAAAAAAAAAAAAAAAKkAAAAAAAAAAAAAAAAAAAAAAAAAAAAAACEAAAAAAAAAmQAAAAAAAAPA/AAAAAAAAJEAAAAAAAAAAAAAAAAAAAAAAAAAAAAAAAAAAAAAAAAAAAAAAAAAAAAAAAAAAAAAAHEAAAAAAAAAAAAAAAAAAAAAAAAAAAAAAAAAAAAAAAAAAAAAAAAAAAEdAAAAAAAAARkAAAAAAAAAAAAAAAAAAAAAAAAAAAAAAIEAAAAAAAAAkQAAAAAAAAElAAAAAAAAAIkAAAAAAAIBFQAAAAAAAACZAAAAAAACASEAAAAAAAAAAAAAAAAAAAPA/AAAAAAAAAAAAAAAAAAAAAAAAAAAAABBAAAAAAAAA8D8AAAAAAAA5QAAAAAAAAAAAAAAAAAAAAAAAAAAAAAA7QAAAAAAAAAAAAAAAAAAALEAAAAAAAADwPwAAAAAAADlAAAAAAAAAEEAAAAAAAAA8QAAAAAAAAABAAAAAAAAAAAAAAAAAAAAAAAAAAAAAAAAAAAAAAAAALkAAAAAAAAAgQAAAAAAAAAAAAAAAAAAAAEAAAAAAAAAAAAAAAAAAAAAAAAAAAAAACEAAAAAAAAAAAAAAAAAAABRAAAAAAAAAAAAAAAAAAAA+QAAAAAAAAAAAAAAAAAAAHEAAAAAAAAAAAAAAAAAAAAAAAAAAAAAAAAAAAAAAAAA1QAAAAAAAADRAAAAAAACAQ0AAAAAAAABBQAAAAAAAABhAAAAAAAAARkAAAAAAAAAAQAAAAAAAAPA/AAAAAAAACEAAAAAAAAA5QAAAAAAAABhAAAAAAAAAAAAAAAAAAIBDQAAAAAAAAABAAAAAAAAAN0AAAAAAAAAUQAAAAAAAAAAAAAAAAAAAAAAAAAAAAAAkQAAAAAAAgEhAAAAAAAAACEAAAAAAAAAAAAAAAAAAAAAAAAAAAAAA8D8AAAAAAAA2QAAAAAAAAAAAAAAAAAAAAAAAAAAAAADwPwAAAAAAAAAAAAAAAAAAAAAAAAAAAAAAAAAAAAAAAAAAAAAAAAAAJkAAAAAAAAAoQAAAAAAAACRAAAAAAAAAAAAAAAAAAAAqQAAAAAAAgE1AAAAAAACATEAAAAAAAAA7QAAAAAAAAAAAAAAAAAAAAAAAAAAAAAAAAAAAAAAAAABAAAAAAAAAEEAAAAAAAABEQAAAAAAAAAAAAAAAAAAAIkAAAAAAAAA2QAAAAAAAAAAAAAAAAAAAAEAAAAAAAAAuQAAAAAAAgD5AAAAAAAAAAAAAAAAAAAA7QAAAAAAAAAAAAAAAAAAAAAAAAAAAAAAAAAAAAAAAABRAAAAAAAAAAAAAAAAAAAAAAAAAAAAAAAhAAAAAAAAAIkAAAAAAAAAAAAAAAAAAAABAAAAAAAAAAAAAAAAAAAAIQAAAAAAAABRAAAAAAAAAUkAAAAAAAAAqQAAAAAAAAAAAAAAAAAAAAAAAAAAAAAAgQAAAAAAAAD1AAAAAAADgUUAAAAAAAIA0QAAAAAAAAAAAAAAAAAAAKkAAAAAAAAAAAAAAAAAAAPA/AAAAAAAAJkAAAAAAAAAAAAAAAAAAADdAAAAAAAAAAAAAAAAAAABBQAAAAAAAAAhAAAAAAAAAAAAAAAAAAIBKQAAAAAAAAAAAAAAAAAAACEAAAAAAAAAAAAAAAAAAABBAAAAAAAAACEAAAAAAAAAmQAAAAAAAAAAAAAAAAAAACEAAAAAAAAAAAAAAAAAAAAAAAAAAAAAAAAAAAAAAAAAAAAAAAAAAAAAAAAAAAAAAOkAAAAAAAAAAAAAAAAAAADBAAAAAAAAALEAAAAAAAAA/QAAAAAAAAAAAAAAAAAAAAAAAAAAAAAAAAAAAAAAAADVAAAAAAABAUkAAAAAAAABEQAAAAAAAAAAAAAAAAAAAQ0AAAAAAAAAQQAAAAAAAABRAAAAAAAAAJkAAAAAAAAAUQAAAAAAAAAAAAAAAAAAAAAAAAAAAAIBAQAAAAAAAAAhAAAAAAAAALEAAAAAAAADwPwAAAAAAACxAAAAAAAAAAAAAAAAAAAAxQAAAAAAAAAAAAAAAAAAAIEAAAAAAAAAAAAAAAAAAAAAAAAAAAAAAAAAAAAAAAADwPwAAAAAAAAhAAAAAAAAAAEAAAAAAAAAAAAAAAAAAADdAAAAAAAAAEEAAAAAAAAAsQAAAAAAAgFFAAAAAAAAAAAAAAAAAAAAAAAAAAAAAAABAAAAAAABAUUAAAAAAAABSQAAAAAAAADZAAAAAAAAAAAAAAAAAAIBLQAAAAAAAAAhAAAAAAAAAAAAAAAAAAAAAQAAAAAAAAAAAAAAAAAAAAAAAAAAAAAAAAAAAAAAAADFAAAAAAAAACEAAAAAAAADwPwAAAAAAAEJAAAAAAAAAMEAAAAAAAAAAQAAAAAAAAAAAAAAAAAAAAAAAAAAAAADwPwAAAAAAACBAAAAAAAAAAAAAAAAAAAAAAAAAAAAAAChAAAAAAAAAAAAAAAAAAAAAAAAAAAAAAAAAAAAAAAAAPkAAAAAAAAAAAAAAAAAAgE5AAAAAAAAAAAAAAAAAAADwPwAAAAAAABxAAAAAAAAAAAAAAAAAAAAcQAAAAAAAABhAAAAAAABAUkAAAAAAAABHQAAAAAAAgExAAAAAAAAAEEAAAAAAAAAAAAAAAAAAAAhAAAAAAAAAEEAAAAAAAAA4QAAAAAAAAAAAAAAAAAAAAAAAAAAAAAAAAAAAAAAAgERAAAAAAAAAO0AAAAAAAAAAAAAAAAAAAAAAAAAAAAAAAAAAAAAAAAAxQAAAAAAAABhAAAAAAAAAAAAAAAAAAAAAAAAAAAAAABRAAAAAAAAAAAAAAAAAAAAAAAAAAAAAAAAAAAAAAAAAKEAAAAAAAADwPwAAAAAAAAAAAAAAAAAA8D8AAAAAAAAoQAAAAAAAABRAAAAAAAAAIEAAAAAAAAA2QAAAAAAAwFVAAAAAAAAAAAAAAAAAAAAAAAAAAAAAAAAAAAAAAAAAAAAAAAAAAIBWQAAAAAAAAAAAAAAAAAAAAAAAAAAAAAAAAAAAAAAAADFAAAAAAAAACEAAAAAAAAAYQAAAAAAAACBAAAAAAAAA8D8AAAAAAAAAQAAAAAAAAAAAAAAAAAAANUAAAAAAAAAAAAAAAAAAAAAAAAAAAACAQkAAAAAAAAAQQAAAAAAAABBAAAAAAAAAAAAAAAAAAAAYQAAAAAAAAAAAAAAAAAAACEAAAAAAAAAAAAAAAAAAAAAAAAAAAAAAAAAAAAAAAAAAAAAAAAAAAPA/AAAAAAAAEEAAAAAAAAAUQAAAAAAAABhAAAAAAAAAAAAAAAAAAAAAAAAAAAAAAAAAAAAAAAAAQ0AAAAAAAAAUQAAAAAAAABBAAAAAAAAAAAAAAAAAAAAIQAAAAAAAAEBAAAAAAAAAAEAAAAAAAABEQAAAAAAAAChAAAAAAAAAAEAAAAAAAABTQAAAAAAAAPA/AAAAAAAAAAAAAAAAAAAAAAAAAAAAAE5AAAAAAAAAAAAAAAAAAADwPwAAAAAAABxAAAAAAAAAAAAAAAAAAAAAAAAAAAAAABBAAAAAAAAAAAAAAAAAAAAqQAAAAAAAAAAAAAAAAAAAAAAAAAAAAIBFQAAAAAAAABRAAAAAAAAAQUAAAAAAAAAAAAAAAAAAAABAAAAAAAAAGEAAAAAAAAAAAAAAAAAAAAAAAAAAAAAAAAAAAAAAAAAAAAAAAAAAAAAAAAAAAAAAAAAAAAAAAADwPwAAAAAAAAAAAAAAAAAAAAAAAAAAAAAAAAAAAAAAAAAAAAAAAAAAAAAAAAAAAIBCQAAAAAAAAAAAAAAAAAAAAEAAAAAAAAAAAAAAAAAAABhAAAAAAAAACEAAAAAAAAA1QAAAAAAAADdAAAAAAACARUAAAAAAAAAAAAAAAAAAwFFAAAAAAAAAAAAAAAAAAIBTQAAAAAAAABhAAAAAAAAAAAAAAAAAAAAIQAAAAAAAAAAAAAAAAAAAAAAAAAAAAAA1QAAAAAAAAPA/AAAAAAAAAAAAAAAAAAAAAAAAAAAAgEVAAAAAAAAA8D8AAAAAAADwPwAAAAAAAAAAAAAAAAAAAEAAAAAAAAAAAAAAAAAAAPA/AAAAAAAAAAAAAAAAAAAAAAAAAAAAABBAAAAAAAAAAAAAAAAAAAAAAAAAAAAAAAAAAAAAAAAAAAAAAAAAAAAAQAAAAAAAAAAAAAAAAAAAEEAAAAAAAAAAAAAAAAAAAFJAAAAAAAAAGEAAAAAAAAAkQAAAAAAAAOA/AAAAAAAAIEAAAAAAAAAAQAAAAAAAgEpAAAAAAACAOkAAAAAAAADwPwAAAAAAAEFAAAAAAAAAEEAAAAAAAABYQAAAAAAAAPA/AAAAAAAAAAAAAAAAAAAAAAAAAAAAAAAAAAAAAAAAIkAAAAAAAAAAAAAAAAAAABhAAAAAAAAAMkAAAAAAAAAAAAAAAAAAgEhAAAAAAAAAAEAAAAAAAABDQAAAAAAAAAhAAAAAAAAAEEAAAAAAAADwPwAAAAAAAPA/AAAAAAAAAAAAAAAAAAAAAAAAAAAAAABAAAAAAAAAAAAAAAAAAAAmQAAAAAAAAAAAAAAAAAAAAAAAAAAAAAAAAAAAAAAAAAAAAAAAAAAAW0AAAAAAAAAAQAAAAAAAAPA/AAAAAAAAAAAAAAAAAAAAAAAAAAAAAExAAAAAAACASkAAAAAAAABJQAAAAAAAAAAAAAAAAAAAAAAAAAAAAAAIQAAAAAAAACBAAAAAAAAAAAAAAAAAAAAAAAAAAAAAADBAAAAAAAAAAEAAAAAAAAAcQAAAAAAAAAAAAAAAAAAAAEAAAAAAAAAAQAAAAAAAAChAAAAAAAAAJEAAAAAAAAAAAAAAAAAAACpAAAAAAAAA8D8AAAAAAAAUQAAAAAAAACZAAAAAAABAUUAAAAAAAAAQQAAAAAAAAPA/AAAAAAAAFEAAAAAAAAAAAAAAAAAAAAAAAAAAAAAAAAAAAAAAAAA0QAAAAAAAwFhAAAAAAAAASkAAAAAAAEBSQAAAAAAAAAAAAAAAAAAAEEAAAAAAAAAcQAAAAAAAAPA/AAAAAAAAAAAAAAAAAAAAAAAAAAAAAPA/AAAAAAAAOEAAAAAAAAAAAAAAAAAAADNAAAAAAAAAAAAAAAAAAAAAAAAAAAAAgERAAAAAAAAAEEAAAAAAAAAgQAAAAAAAAAAAAAAAAAAAMEAAAAAAAAAAQAAAAAAAACxAAAAAAAAAAAAAAAAAAAAAAAAAAAAAABhAAAAAAAAAHEAAAAAAAAAAAAAAAAAAAAAAAAAAAAAAAAAAAAAAAMBWQAAAAAAAADpAAAAAAAAAAAAAAAAAAAAYQAAAAAAAAPA/AAAAAAAAFEAAAAAAAAAAAAAAAAAAAAAAAAAAAAAAGEAAAAAAAAAqQAAAAAAAABBAAAAAAAAAAAAAAAAAAAAIQAAAAAAAAAAAAAAAAAAAIkAAAAAAAAAAAAAAAAAAAAAAAAAAAAAAAAAAAAAAAABXQAAAAAAAAAAAAAAAAAAAAAAAAAAAAAAkQAAAAAAAABBAAAAAAAAAAAAAAAAAAAAQQAAAAAAAAEVAAAAAAAAAAAAAAAAAAAAmQAAAAAAAAD9AAAAAAAAAKkAAAAAAAAAIQAAAAAAAABxAAAAAAACASEAAAAAAAAAAAAAAAAAAAAAAAAAAAAAALkAAAAAAAAAAAAAAAAAAgEZAAAAAAABAUUAAAAAAAAAxQAAAAAAAAAAAAAAAAAAAJEAAAAAAAAAAAAAAAAAAAPA/AAAAAAAAAAAAAAAAAAAAAAAAAAAAAAAAAAAAAAAAAAAAAAAAAAAUQAAAAAAAAAAAAAAAAAAAMEAAAAAAAAAAAAAAAAAAABRAAAAAAAAAAAAAAAAAAIBZQAAAAAAAAPA/AAAAAAAAAAAAAAAAAAAAAAAAAAAAAAAAAAAAAACAR0AAAAAAAAAAAAAAAAAAACxAAAAAAAAANUAAAAAAAAAgQAAAAAAAADJAAAAAAAAAAEAAAAAAAAAAAAAAAAAAABxAAAAAAAAAEEAAAAAAAEBYQAAAAAAAAD9AAAAAAAAAJkAAAAAAAAAAAAAAAAAAAAAAAAAAAAAAAAAAAAAAAAAAAAAAAAAAACpAAAAAAAAAAAAAAAAAAAAUQAAAAAAAgE1AAAAAAAAA8D8AAAAAAIBTQAAAAAAAAEJAAAAAAAAAGEAAAAAAAAA7QAAAAAAAAEJAAAAAAAAAAEAAAAAAAAA0QAAAAAAAAAAAAAAAAAAARUAAAAAAAAAuQAAAAAAAABxAAAAAAAAAO0AAAAAAAAA4QAAAAAAAAAAAAAAAAAAA8D8AAAAAAAAAAAAAAAAAAAAAAAAAAAAAAAAAAAAAAAAAQAAAAAAAADBAAAAAAAAAAEAAAAAAAIBTQAAAAAAAAAhAAAAAAAAAAAAAAAAAAEBUQAAAAAAAABBAAAAAAAAAIkAAAAAAAAAQQAAAAAAAAExAAAAAAAAACEAAAAAAAAAwQAAAAAAAADFAAAAAAAAA8D8AAAAAAAA0QAAAAAAAAFlAAAAAAACAR0AAAAAAAADwPwAAAAAAAAAAAAAAAAAAAAAAAAAAAAAAAAAAAAAAAAhAAAAAAACAVUAAAAAAAAAAAAAAAAAAAPA/AAAAAAAAAAAAAAAAAAAAAAAAAAAAADVAAAAAAAAAMUAAAAAAAAAAQAAAAAAAAAAAAAAAAAAANUAAAAAAAABIQAAAAAAAAAhAAAAAAAAAKkAAAAAAAABLQAAAAAAAAPA/AAAAAAAALkAAAAAAAAAcQAAAAAAAAFNAAAAAAACAUkAAAAAAAAAAQAAAAAAAACRAAAAAAAAARkAAAAAAAAAAAAAAAAAAABxAAAAAAAAAAAAAAAAAAAAIQAAAAAAAAAAAAAAAAAAAAAAAAAAAAADwPwAAAAAAAAAAAAAAAAAAT0AAAAAAAAAAAAAAAAAAAChAAAAAAABAUkAAAAAAAAAAAAAAAAAAADJAAAAAAAAAJkAAAAAAAAAAAAAAAAAAAAAAAAAAAAAAAAAAAAAAAEBWQAAAAAAAABBAAAAAAAAAAAAAAAAAAAAYQAAAAAAAAFtAAAAAAAAAGEAAAAAAAAAUQAAAAAAAADFAAAAAAAAAAEAAAAAAAAAIQAAAAAAAAABAAAAAAAAAFEAAAAAAAAAAAAAAAAAAAExAAAAAAAAAAAAAAAAAAAAAAAAAAAAAAABAAAAAAABAUEAAAAAAAAAAAAAAAAAAACBAAAAAAAAAGEAAAAAAAAAoQAAAAAAAgEJAAAAAAAAAGEAAAAAAAAAAAAAAAAAAAAAAAAAAAAAAP0AAAAAAAAAUQAAAAAAAACJAAAAAAADAXkAAAAAAAAAoQAAAAAAAAPA/AAAAAAAAKEAAAAAAAAAAAAAAAAAAAAAAAAAAAAAACEAAAAAAAEBTQAAAAAAAAAAAAAAAAAAALEAAAAAAAIBEQAAAAAAAABxAAAAAAAAAAEAAAAAAAAAcQAAAAAAAACBAAAAAAAAAEEAAAAAAAAAAAAAAAAAAAElAAAAAAAAACEAAAAAAAAA4QAAAAAAAAABAAAAAAAAAAEAAAAAAAABiQAAAAAAAACJAAAAAAAAAEEAAAAAAAAAAQAAAAAAAAAAAAAAAAAAAAAAAAAAAAIBLQAAAAAAAQFBAAAAAAAAAAAAAAAAAAAAxQAAAAAAAgElAAAAAAAAA8D8AAAAAAAAoQAAAAAAAACpAAAAAAAAAEEAAAAAAAAAYQAAAAAAAAAAAAAAAAACAVEAAAAAAAAAYQAAAAAAAAAAAAAAAAADAVkAAAAAAAAAIQAAAAAAAQFdAAAAAAACAQEAAAAAAAAAAAAAAAAAAABhAAAAAAAAAMUAAAAAAAADwPwAAAAAAACRAAAAAAACATUAAAAAAAIBcQAAAAAAAAPA/AAAAAAAAAAAAAAAAAEBVQAAAAAAAADhAAAAAAAAANkAAAAAAAAAAAAAAAAAAAABAAAAAAAAACEAAAAAAAAAIQAAAAAAAAChAAAAAAAAATUAAAAAAAAAYQAAAAAAAAAAAAAAAAAAAGEAAAAAAAIBGQAAAAAAAAEFAAAAAAACAYkAAAAAAAABHQAAAAAAAAAAAAAAAAAAAHEAAAAAAAAAAAAAAAAAAAAhAAAAAAAAAEEAAAAAAAKBgQAAAAAAAAENAAAAAAACAQkAAAAAAAAA4QAAAAAAAAAAAAAAAAAAAAAAAAAAAAABNQAAAAAAAAAhAAAAAAAAAPEAAAAAAAAAUQAAAAAAAACJAAAAAAAAA8D8AAAAAAAAmQAAAAAAAABxAAAAAAAAATkAAAAAAAAAAQAAAAAAAAFxAAAAAAAAA8D8AAAAAAABPQAAAAAAAgEVAAAAAAAAAIkAAAAAAAABCQAAAAAAAABhAAAAAAAAAAAAAAAAAAAAQQAAAAAAAAAAAAAAAAADAYEAAAAAAAAA+QAAAAAAAAExAAAAAAAAALEAAAAAAAAAAAAAAAAAAAFJAAAAAAAAAN0AAAAAAAAAAAAAAAAAAAABAAAAAAAAAGEAAAAAAAADwPwAAAAAAAFRAAAAAAAAAAAAAAAAAAAAAAAAAAAAAADpAAAAAAAAAEEAAAAAAAEBQQAAAAAAAAAAAAAAAAABAXkAAAAAAAAAAAAAAAAAAAC5AAAAAAAAAHEAAAAAAAAAcQAAAAAAAAAAAAAAAAAAAM0AAAAAAAAAAAAAAAAAAQFtAAAAAAAAAAAAAAAAAAAAYQAAAAAAAACxAAAAAAAAAAAAAAAAAAAA1QAAAAAAAQFtAAAAAAACATkAAAAAAAAA+QAAAAAAAgENAAAAAAAAACEAAAAAAAIBXQAAAAAAAAAAAAAAAAAAANEAAAAAAAIBbQAAAAAAAABBAAAAAAAAAFEAAAAAAAAAAAAAAAAAAAPA/AAAAAAAAIEAAAAAAAAAYQAAAAAAAACRAAAAAAAAAKkAAAAAAAAAAAAAAAAAAgE5AAAAAAAAAJkAAAAAAAAAQQAAAAAAAAAhAAAAAAAAAIEAAAAAAAAAAAAAAAAAAAAAAAAAAAAAAOUAAAAAAAIBYQAAAAAAAAE5AAAAAAACASkAAAAAAAMBSQAAAAAAAQFhAAAAAAAAAIkAAAAAAAAAzQAAAAAAAADFAAAAAAADAUkAAAAAAAAAAAAAAAAAAAAAAAAAAAAAAP0AAAAAAAIBBQAAAAAAAADVAAAAAAAAAAAAAAAAAAAA6QAAAAAAAAAAAAAAAAABAU0AAAAAAAAAAQAAAAAAAABhAAAAAAADAV0AAAAAAAAAgQAAAAAAAADhAAAAAAAAAAAAAAAAAAIBIQAAAAAAAADNAAAAAAAAACEAAAAAAAAA2QAAAAAAAADFAAAAAAAAAAAAAAAAAAAA2QAAAAAAAAAAAAAAAAAAAAAAAAAAAAEBBQAAAAAAAAEhAAAAAAAAAFEAAAAAAAEBAQAAAAAAAAFVAAAAAAABgUUAAAAAAAAAUQAAAAAAAgG9AAAAAAACAR0AAAAAAAAAgQAAAAAAAwGpAAAAAAAAAAAAAAAAAAAAAAAAAAAAAAG5AAAAAAAAAGEAAAAAAAAA2QAAAAAAAAAAAAAAAAAAAQEAAAAAAAAAAAAAAAAAAAGFAAAAAAAAANUAAAAAAAABiQAAAAAAAADtAAAAAAADAYUAAAAAAAABSQAAAAAAAAAAAAAAAAACAR0AAAAAAAAAAAAAAAAAAAHBAAAAAAABAbkAAAAAAAAAAAAAAAAAAABhAAAAAAAAAAAAAAAAAAAA6QAAAAAAAEHBAAAAAAAAAEEAAAAAAAAAuQAAAAAAA4HBAAAAAAAAAAAAAAAAAAAAAAAAAAAAAYGxAAAAAAAAAQUAAAAAAAAAAAAAAAAAAAD5AAAAAAAAAAAAAAAAAAAAAAAAAAAAAAPA/AAAAAACAXUAAAAAAAIBCQAAAAAAAACxAAAAAAAAAAAAAAAAAAEBWQAAAAAAAAFNAAAAAAAAAAEAAAAAAAABFQAAAAAAAAAAAAAAAAACAeEAAAAAAACBwQAAAAAAAAAAAAAAAAAAAAAAAAAAAAAA7QAAAAAAAYHFAAAAAAACAZ0AAAAAAAAAAAAAAAAAAAFhAAAAAAADAZ0AAAAAAAIBPQAAAAAAAAAAAAAAAAAAATkAAAAAAAAAAAAAAAAAAgEZAAAAAAACAXkAAAAAAAAAAAAAAAAAAAAAAAAAAAACAUEAAAAAAAAAkQAAAAAAAQFdAAAAAAADgaUAAAAAAAIBIQAAAAAAAAD9AAAAAAAAAMEAAAAAAAJBxQAAAAAAAYGZAAAAAAAAAAAAAAAAAAAAAAAAAAAAAAEdAAAAAAABAbkAAAAAAAAAAAAAAAAAAABBAAAAAAABAUkAAAAAAAAAAAAAAAAAAgGBAAAAAAAAAGEAAAAAAAKBnQAAAAAAAgElAAAAAAAAAAAAAAAAAAADwPwAAAAAAAFxAAAAAAAAAAAAAAAAAAIBIQAAAAAAAADRAAAAAAABgZUAAAAAAAOBmQAAAAAAAAD1AAAAAAAAAKkAAAAAAANB4QAAAAAAA4GhAAAAAAAAASEAAAAAAAAAAAAAAAAAAIGRAAAAAAAAAAEAAAAAAAEBnQAAAAAAAgF9AAAAAAAAAAAAAAAAAAAAAAAAAAAAAACBAAAAAAAAAAAAAAAAAAAB4QAAAAAAAAFhAAAAAAAAAAAAAAAAAAAAgQAAAAAAAAAAAAAAAAACAS0AAAAAAAAAAQAAAAAAAwGBAAAAAAACATUAAAAAAAMBtQAAAAAAA0HNAAAAAAACAS0AAAAAAAAAAAAAAAAAAAAAAAAAAAAAANkAAAAAAAOBkQAAAAAAAACZAAAAAAAAAYUAAAAAAAAAwQAAAAAAAACJAAAAAAACASUAAAAAAANB3QAAAAAAAAE1AAAAAAADAV0AAAAAAAAAAAAAAAAAAADtAAAAAAABAXkAAAAAAAAAAAAAAAAAAADtAAAAAAACAU0AAAAAAAABXQAAAAAAAIHRAAAAAAAAAAAAAAAAAAMBiQAAAAAAAADJAAAAAAAAAAAAAAAAAAIBIQAAAAAAAYHFAAAAAAAAAS0AAAAAAAEBVQAAAAAAAADVAAAAAAAAAAAAAAAAAAAA9QAAAAAAAAAAAAAAAAADAd0AAAAAAAAAAAAAAAAAAAFJAAAAAAAAAOUAAAAAAAAAcQAAAAAAAgEpAAAAAAAAAAEAAAAAAAAAAAAAAAAAAAPA/AAAAAABAWUAAAAAAAABwQAAAAAAAEHhAAAAAAABAZ0AAAAAAAABHQAAAAAAAAPA/AAAAAACAaUAAAAAAAIBqQAAAAAAAAPA/AAAAAAAAMUAAAAAAABBzQAAAAAAAAAAAAAAAAAAAAAAAAAAAAAAAAAAAAAAAAAAAAAAAAAAAPEAAAAAAALB2QAAAAAAAAAAAAAAAAACARUAAAAAAAAAUQAAAAAAAADNAAAAAAACARUAAAAAAAMBVQAAAAAAAACBAAAAAAAAAWUAAAAAAAABpQAAAAAAAoGlAAAAAAAAAS0AAAAAAAABEQAAAAAAAACpAAAAAAAAAZUAAAAAAANBzQAAAAAAAABRAAAAAAAAAAAAAAAAAAABJQAAAAAAA4G5AAAAAAAAAIkAAAAAAAAA9QAAAAAAAgEJAAAAAAACAeUAAAAAAAAAQQAAAAAAAQFFAAAAAAACAQ0AAAAAAAABMQAAAAAAAgEhAAAAAAAAAT0AAAAAAAEBlQAAAAAAAYG9AAAAAAACASkAAAAAAAADwPwAAAAAAABhAAAAAAAAAKEAAAAAAACBvQAAAAAAAAHRAAAAAAAAAV0AAAAAAAGB0QAAAAAAAwFdAAAAAAAAALEAAAAAAAAAgQAAAAAAA0HlAAAAAAACAQkAAAAAAAADwPwAAAAAAgEJAAAAAAACAcEAAAAAAAAA0QAAAAAAAgEhAAAAAAAAASkAAAAAAAABLQAAAAAAAAAAAAAAAAACARUAAAAAAAABYQAAAAAAAADVAAAAAAABgcUAAAAAAAABuQAAAAAAAAAAAAAAAAABAWkAAAAAAAOBrQAAAAAAAAAAAAAAAAADAUkAAAAAAAAAQQAAAAAAAAABAAAAAAACwdUAAAAAAAAAkQAAAAAAAAEBAAAAAAAAAAAAAAAAAAIBYQAAAAAAAAPA/AAAAAABAWEAAAAAAAABPQAAAAAAAQF9AAAAAAADAXUAAAAAAAAAIQAAAAAAAABBAAAAAAABAWkAAAAAAAMBSQAAAAAAAwGpAAAAAAACAQEAAAAAAAEBUQAAAAAAAQGxAAAAAAACAW0AAAAAAAAAIQAAAAAAAOHhAAAAAAAAAAAAAAAAAAAAcQAAAAAAA4GNAAAAAAAAAAAAAAAAAAABkQAAAAAAAgFJAAAAAAADAZ0AAAAAAAMBcQAAAAAAAADBAAAAAAAAAJEAAAAAAAJBkQAAAAAAAAAAAAAAAAAAAQUAAAAAAAABAQAAAAAAAuHhAAAAAAACARUAAAAAAAAAQQAAAAAAAQFRAAAAAAACASEAAAAAAAAA3QAAAAAAAAG5AAAAAAAAAAAAAAAAAAAAAQAAAAAAAQHNAAAAAAAAAOUAAAAAAAIBeQAAAAAAAAFdAAAAAAAAQc0AAAAAAAIBCQAAAAAAAMHFAAAAAAADAbkAAAAAAAAAoQAAAAAAAADJAAAAAAAAAKEAAAAAAAGB8QAAAAAAAgEJAAAAAAAAAGEAAAAAAAAAAQAAAAAAAADtAAAAAAADAaUAAAAAAAAAkQAAAAAAAAE9AAAAAAABAbUAAAAAAAAAiQAAAAAAAAABAAAAAAADAaUAAAAAAAAAIQAAAAAAAoGlAAAAAAAAATUAAAAAAAEBYQAAAAAAA0HFAAAAAAAAAGEAAAAAAAOBlQAAAAAAAAGlAAAAAAAAA8D8AAAAAAIBSQAAAAAAAADFAAAAAAAD4gUAAAAAAAAAYQAAAAAAAAAAAAAAAAAAAKEAAAAAAAIBRQAAAAAAAABxAAAAAAAAAAAAAAAAAAAAUQAAAAAAAAAAAAAAAAAAARUAAAAAAAOBrQAAAAAAAgERAAAAAAAAAEEAAAAAAAEB2QAAAAAAAADBAAAAAAABgd0AAAAAAAAA3QAAAAAAAQHJAAAAAAAAAY0AAAAAAAAAoQAAAAAAAoG5AAAAAAAAgckAAAAAAAAAAAAAAAAAAADhAAAAAAAAAPkAAAAAAAFB7QAAAAAAAABBA",
          "dtype": "f8"
         },
         "y0": " ",
         "yaxis": "y"
        }
       ],
       "layout": {
        "boxmode": "group",
        "legend": {
         "tracegroupgap": 0
        },
        "template": {
         "data": {
          "bar": [
           {
            "error_x": {
             "color": "#f2f5fa"
            },
            "error_y": {
             "color": "#f2f5fa"
            },
            "marker": {
             "line": {
              "color": "rgb(17,17,17)",
              "width": 0.5
             },
             "pattern": {
              "fillmode": "overlay",
              "size": 10,
              "solidity": 0.2
             }
            },
            "type": "bar"
           }
          ],
          "barpolar": [
           {
            "marker": {
             "line": {
              "color": "rgb(17,17,17)",
              "width": 0.5
             },
             "pattern": {
              "fillmode": "overlay",
              "size": 10,
              "solidity": 0.2
             }
            },
            "type": "barpolar"
           }
          ],
          "carpet": [
           {
            "aaxis": {
             "endlinecolor": "#A2B1C6",
             "gridcolor": "#506784",
             "linecolor": "#506784",
             "minorgridcolor": "#506784",
             "startlinecolor": "#A2B1C6"
            },
            "baxis": {
             "endlinecolor": "#A2B1C6",
             "gridcolor": "#506784",
             "linecolor": "#506784",
             "minorgridcolor": "#506784",
             "startlinecolor": "#A2B1C6"
            },
            "type": "carpet"
           }
          ],
          "choropleth": [
           {
            "colorbar": {
             "outlinewidth": 0,
             "ticks": ""
            },
            "type": "choropleth"
           }
          ],
          "contour": [
           {
            "colorbar": {
             "outlinewidth": 0,
             "ticks": ""
            },
            "colorscale": [
             [
              0,
              "#0d0887"
             ],
             [
              0.1111111111111111,
              "#46039f"
             ],
             [
              0.2222222222222222,
              "#7201a8"
             ],
             [
              0.3333333333333333,
              "#9c179e"
             ],
             [
              0.4444444444444444,
              "#bd3786"
             ],
             [
              0.5555555555555556,
              "#d8576b"
             ],
             [
              0.6666666666666666,
              "#ed7953"
             ],
             [
              0.7777777777777778,
              "#fb9f3a"
             ],
             [
              0.8888888888888888,
              "#fdca26"
             ],
             [
              1,
              "#f0f921"
             ]
            ],
            "type": "contour"
           }
          ],
          "contourcarpet": [
           {
            "colorbar": {
             "outlinewidth": 0,
             "ticks": ""
            },
            "type": "contourcarpet"
           }
          ],
          "heatmap": [
           {
            "colorbar": {
             "outlinewidth": 0,
             "ticks": ""
            },
            "colorscale": [
             [
              0,
              "#0d0887"
             ],
             [
              0.1111111111111111,
              "#46039f"
             ],
             [
              0.2222222222222222,
              "#7201a8"
             ],
             [
              0.3333333333333333,
              "#9c179e"
             ],
             [
              0.4444444444444444,
              "#bd3786"
             ],
             [
              0.5555555555555556,
              "#d8576b"
             ],
             [
              0.6666666666666666,
              "#ed7953"
             ],
             [
              0.7777777777777778,
              "#fb9f3a"
             ],
             [
              0.8888888888888888,
              "#fdca26"
             ],
             [
              1,
              "#f0f921"
             ]
            ],
            "type": "heatmap"
           }
          ],
          "histogram": [
           {
            "marker": {
             "pattern": {
              "fillmode": "overlay",
              "size": 10,
              "solidity": 0.2
             }
            },
            "type": "histogram"
           }
          ],
          "histogram2d": [
           {
            "colorbar": {
             "outlinewidth": 0,
             "ticks": ""
            },
            "colorscale": [
             [
              0,
              "#0d0887"
             ],
             [
              0.1111111111111111,
              "#46039f"
             ],
             [
              0.2222222222222222,
              "#7201a8"
             ],
             [
              0.3333333333333333,
              "#9c179e"
             ],
             [
              0.4444444444444444,
              "#bd3786"
             ],
             [
              0.5555555555555556,
              "#d8576b"
             ],
             [
              0.6666666666666666,
              "#ed7953"
             ],
             [
              0.7777777777777778,
              "#fb9f3a"
             ],
             [
              0.8888888888888888,
              "#fdca26"
             ],
             [
              1,
              "#f0f921"
             ]
            ],
            "type": "histogram2d"
           }
          ],
          "histogram2dcontour": [
           {
            "colorbar": {
             "outlinewidth": 0,
             "ticks": ""
            },
            "colorscale": [
             [
              0,
              "#0d0887"
             ],
             [
              0.1111111111111111,
              "#46039f"
             ],
             [
              0.2222222222222222,
              "#7201a8"
             ],
             [
              0.3333333333333333,
              "#9c179e"
             ],
             [
              0.4444444444444444,
              "#bd3786"
             ],
             [
              0.5555555555555556,
              "#d8576b"
             ],
             [
              0.6666666666666666,
              "#ed7953"
             ],
             [
              0.7777777777777778,
              "#fb9f3a"
             ],
             [
              0.8888888888888888,
              "#fdca26"
             ],
             [
              1,
              "#f0f921"
             ]
            ],
            "type": "histogram2dcontour"
           }
          ],
          "mesh3d": [
           {
            "colorbar": {
             "outlinewidth": 0,
             "ticks": ""
            },
            "type": "mesh3d"
           }
          ],
          "parcoords": [
           {
            "line": {
             "colorbar": {
              "outlinewidth": 0,
              "ticks": ""
             }
            },
            "type": "parcoords"
           }
          ],
          "pie": [
           {
            "automargin": true,
            "type": "pie"
           }
          ],
          "scatter": [
           {
            "marker": {
             "line": {
              "color": "#283442"
             }
            },
            "type": "scatter"
           }
          ],
          "scatter3d": [
           {
            "line": {
             "colorbar": {
              "outlinewidth": 0,
              "ticks": ""
             }
            },
            "marker": {
             "colorbar": {
              "outlinewidth": 0,
              "ticks": ""
             }
            },
            "type": "scatter3d"
           }
          ],
          "scattercarpet": [
           {
            "marker": {
             "colorbar": {
              "outlinewidth": 0,
              "ticks": ""
             }
            },
            "type": "scattercarpet"
           }
          ],
          "scattergeo": [
           {
            "marker": {
             "colorbar": {
              "outlinewidth": 0,
              "ticks": ""
             }
            },
            "type": "scattergeo"
           }
          ],
          "scattergl": [
           {
            "marker": {
             "line": {
              "color": "#283442"
             }
            },
            "type": "scattergl"
           }
          ],
          "scattermap": [
           {
            "marker": {
             "colorbar": {
              "outlinewidth": 0,
              "ticks": ""
             }
            },
            "type": "scattermap"
           }
          ],
          "scattermapbox": [
           {
            "marker": {
             "colorbar": {
              "outlinewidth": 0,
              "ticks": ""
             }
            },
            "type": "scattermapbox"
           }
          ],
          "scatterpolar": [
           {
            "marker": {
             "colorbar": {
              "outlinewidth": 0,
              "ticks": ""
             }
            },
            "type": "scatterpolar"
           }
          ],
          "scatterpolargl": [
           {
            "marker": {
             "colorbar": {
              "outlinewidth": 0,
              "ticks": ""
             }
            },
            "type": "scatterpolargl"
           }
          ],
          "scatterternary": [
           {
            "marker": {
             "colorbar": {
              "outlinewidth": 0,
              "ticks": ""
             }
            },
            "type": "scatterternary"
           }
          ],
          "surface": [
           {
            "colorbar": {
             "outlinewidth": 0,
             "ticks": ""
            },
            "colorscale": [
             [
              0,
              "#0d0887"
             ],
             [
              0.1111111111111111,
              "#46039f"
             ],
             [
              0.2222222222222222,
              "#7201a8"
             ],
             [
              0.3333333333333333,
              "#9c179e"
             ],
             [
              0.4444444444444444,
              "#bd3786"
             ],
             [
              0.5555555555555556,
              "#d8576b"
             ],
             [
              0.6666666666666666,
              "#ed7953"
             ],
             [
              0.7777777777777778,
              "#fb9f3a"
             ],
             [
              0.8888888888888888,
              "#fdca26"
             ],
             [
              1,
              "#f0f921"
             ]
            ],
            "type": "surface"
           }
          ],
          "table": [
           {
            "cells": {
             "fill": {
              "color": "#506784"
             },
             "line": {
              "color": "rgb(17,17,17)"
             }
            },
            "header": {
             "fill": {
              "color": "#2a3f5f"
             },
             "line": {
              "color": "rgb(17,17,17)"
             }
            },
            "type": "table"
           }
          ]
         },
         "layout": {
          "annotationdefaults": {
           "arrowcolor": "#f2f5fa",
           "arrowhead": 0,
           "arrowwidth": 1
          },
          "autotypenumbers": "strict",
          "coloraxis": {
           "colorbar": {
            "outlinewidth": 0,
            "ticks": ""
           }
          },
          "colorscale": {
           "diverging": [
            [
             0,
             "#8e0152"
            ],
            [
             0.1,
             "#c51b7d"
            ],
            [
             0.2,
             "#de77ae"
            ],
            [
             0.3,
             "#f1b6da"
            ],
            [
             0.4,
             "#fde0ef"
            ],
            [
             0.5,
             "#f7f7f7"
            ],
            [
             0.6,
             "#e6f5d0"
            ],
            [
             0.7,
             "#b8e186"
            ],
            [
             0.8,
             "#7fbc41"
            ],
            [
             0.9,
             "#4d9221"
            ],
            [
             1,
             "#276419"
            ]
           ],
           "sequential": [
            [
             0,
             "#0d0887"
            ],
            [
             0.1111111111111111,
             "#46039f"
            ],
            [
             0.2222222222222222,
             "#7201a8"
            ],
            [
             0.3333333333333333,
             "#9c179e"
            ],
            [
             0.4444444444444444,
             "#bd3786"
            ],
            [
             0.5555555555555556,
             "#d8576b"
            ],
            [
             0.6666666666666666,
             "#ed7953"
            ],
            [
             0.7777777777777778,
             "#fb9f3a"
            ],
            [
             0.8888888888888888,
             "#fdca26"
            ],
            [
             1,
             "#f0f921"
            ]
           ],
           "sequentialminus": [
            [
             0,
             "#0d0887"
            ],
            [
             0.1111111111111111,
             "#46039f"
            ],
            [
             0.2222222222222222,
             "#7201a8"
            ],
            [
             0.3333333333333333,
             "#9c179e"
            ],
            [
             0.4444444444444444,
             "#bd3786"
            ],
            [
             0.5555555555555556,
             "#d8576b"
            ],
            [
             0.6666666666666666,
             "#ed7953"
            ],
            [
             0.7777777777777778,
             "#fb9f3a"
            ],
            [
             0.8888888888888888,
             "#fdca26"
            ],
            [
             1,
             "#f0f921"
            ]
           ]
          },
          "colorway": [
           "#636efa",
           "#EF553B",
           "#00cc96",
           "#ab63fa",
           "#FFA15A",
           "#19d3f3",
           "#FF6692",
           "#B6E880",
           "#FF97FF",
           "#FECB52"
          ],
          "font": {
           "color": "#f2f5fa"
          },
          "geo": {
           "bgcolor": "rgb(17,17,17)",
           "lakecolor": "rgb(17,17,17)",
           "landcolor": "rgb(17,17,17)",
           "showlakes": true,
           "showland": true,
           "subunitcolor": "#506784"
          },
          "hoverlabel": {
           "align": "left"
          },
          "hovermode": "closest",
          "mapbox": {
           "style": "dark"
          },
          "paper_bgcolor": "rgb(17,17,17)",
          "plot_bgcolor": "rgb(17,17,17)",
          "polar": {
           "angularaxis": {
            "gridcolor": "#506784",
            "linecolor": "#506784",
            "ticks": ""
           },
           "bgcolor": "rgb(17,17,17)",
           "radialaxis": {
            "gridcolor": "#506784",
            "linecolor": "#506784",
            "ticks": ""
           }
          },
          "scene": {
           "xaxis": {
            "backgroundcolor": "rgb(17,17,17)",
            "gridcolor": "#506784",
            "gridwidth": 2,
            "linecolor": "#506784",
            "showbackground": true,
            "ticks": "",
            "zerolinecolor": "#C8D4E3"
           },
           "yaxis": {
            "backgroundcolor": "rgb(17,17,17)",
            "gridcolor": "#506784",
            "gridwidth": 2,
            "linecolor": "#506784",
            "showbackground": true,
            "ticks": "",
            "zerolinecolor": "#C8D4E3"
           },
           "zaxis": {
            "backgroundcolor": "rgb(17,17,17)",
            "gridcolor": "#506784",
            "gridwidth": 2,
            "linecolor": "#506784",
            "showbackground": true,
            "ticks": "",
            "zerolinecolor": "#C8D4E3"
           }
          },
          "shapedefaults": {
           "line": {
            "color": "#f2f5fa"
           }
          },
          "sliderdefaults": {
           "bgcolor": "#C8D4E3",
           "bordercolor": "rgb(17,17,17)",
           "borderwidth": 1,
           "tickwidth": 0
          },
          "ternary": {
           "aaxis": {
            "gridcolor": "#506784",
            "linecolor": "#506784",
            "ticks": ""
           },
           "baxis": {
            "gridcolor": "#506784",
            "linecolor": "#506784",
            "ticks": ""
           },
           "bgcolor": "rgb(17,17,17)",
           "caxis": {
            "gridcolor": "#506784",
            "linecolor": "#506784",
            "ticks": ""
           }
          },
          "title": {
           "x": 0.05
          },
          "updatemenudefaults": {
           "bgcolor": "#506784",
           "borderwidth": 0
          },
          "xaxis": {
           "automargin": true,
           "gridcolor": "#283442",
           "linecolor": "#506784",
           "ticks": "",
           "title": {
            "standoff": 15
           },
           "zerolinecolor": "#283442",
           "zerolinewidth": 2
          },
          "yaxis": {
           "automargin": true,
           "gridcolor": "#283442",
           "linecolor": "#506784",
           "ticks": "",
           "title": {
            "standoff": 15
           },
           "zerolinecolor": "#283442",
           "zerolinewidth": 2
          }
         }
        },
        "title": {
         "text": "Points Distribution per Team"
        },
        "xaxis": {
         "anchor": "y",
         "domain": [
          0,
          1
         ],
         "title": {
          "text": "team"
         }
        },
        "yaxis": {
         "anchor": "x",
         "domain": [
          0,
          1
         ],
         "title": {
          "text": "points"
         }
        }
       }
      }
     },
     "metadata": {},
     "output_type": "display_data"
    }
   ],
   "source": [
    "fig = px.box(\n",
    "    final_standings,\n",
    "    x='team',\n",
    "    y='points',\n",
    "    title='Points Distribution per Team',\n",
    "    template='plotly_dark'\n",
    ")\n",
    "fig.show()"
   ]
  },
  {
   "cell_type": "markdown",
   "id": "d06f1402",
   "metadata": {},
   "source": [
    "### 🌳 Driver Contribution to Team Points\n",
    "\n",
    "This treemap breaks down the **total points contributed by each driver to their respective teams** across seasons.\n",
    "\n",
    "- The size of each rectangle represents the **total points**.\n",
    "- The hierarchy `team → driver` shows **how much each driver contributed within a team**.\n",
    "- It's a great way to **visualize team dependencies**—highlighting if a team relied heavily on a single driver or had more balanced contributions.\n",
    "\n",
    "This offers a quick overview of **driver impact within teams**."
   ]
  },
  {
   "cell_type": "code",
   "execution_count": 40,
   "id": "b4e15542",
   "metadata": {},
   "outputs": [
    {
     "data": {
      "application/vnd.plotly.v1+json": {
       "config": {
        "plotlyServerURL": "https://plot.ly"
       },
       "data": [
        {
         "branchvalues": "total",
         "domain": {
          "x": [
           0,
           1
          ],
          "y": [
           0,
           1
          ]
         },
         "hovertemplate": "labels=%{label}<br>points=%{value}<br>parent=%{parent}<br>id=%{id}<extra></extra>",
         "ids": [
          "rae/Ader",
          "kurtis_kraft/Agabashian",
          "ferrari/Ascari",
          "maserati/Banks",
          "deidt/Bettenhausen",
          "ferrari/Biondetti",
          "maserati/Bira",
          "maserati/Bonetto",
          "maserati/Branca",
          "kurtis_kraft/Brown",
          "lago/Cabantous",
          "adams/Cantrell",
          "stevens/Carter",
          "lago/Chaboud",
          "maserati/Chiron",
          "kurtis_kraft/Chitwood",
          "lago/Claes",
          "maserati/Comotti",
          "lesovsky/Connor",
          "alta/Crossley",
          "ewing/Davies",
          "kurtis_kraft/Dinsmore",
          "alfa/Fagioli",
          "alfa/Fangio",
          "alfa/Farina",
          "kurtis_kraft/Faulkner",
          "kurtis_kraft/Flaherty",
          "marchese/Fohr",
          "maserati/Fry",
          "era/Gerard",
          "maserati/González",
          "kurtis_kraft/Green",
          "maserati/Hampshire",
          "kurtis_kraft/Hanks",
          "era/Harrison",
          "langley/Hartley",
          "kurtis_kraft/Hellings",
          "deidt/Holland",
          "olson/Holmes",
          "kurtis_kraft/Hoyt",
          "kurtis_kraft/Jackson",
          "era/Johnson",
          "alta/Kelly",
          "lago/Levegh",
          "adams/Levrett",
          "lago/Louveau",
          "lago/Mairesse",
          "simca/Manzon",
          "lago/Martin",
          "kurtis_kraft/McDowell",
          "kurtis_kraft/McGrath",
          "maserati/Murray",
          "maserati/Pagani",
          "alfa/Parnell",
          "kurtis_kraft/Parsons",
          "maserati/Pietsch",
          "maserati/Pián",
          "lago/Pozzi",
          "watson/Rathmann",
          "maserati/Rol",
          "era/Rolt",
          "deidt/Rose",
          "lago/Rosier",
          "nichels/Russo",
          "lesovsky/Ruttman",
          "alfa/Sanesi",
          "cooper/Schell",
          "snowberger/Schindler",
          "ferrari/Serafini",
          "maserati/Shawe Taylor",
          "ferrari/Sommer",
          "alfa/Taruffi",
          "simca/Trintignant",
          "ferrari/Villoresi",
          "era/Walker",
          "moore/Wallard",
          "maserati/Webb",
          "ferrari/Whitehead",
          "maserati/de Graffenried",
          "lago/Étancelin",
          "hwm/Abecassis",
          "kurtis_kraft/Ayulo",
          "schroeder/Ball",
          "moore/Banks",
          "alfa/Bonetto",
          "deidt/Carter",
          "pawl/Davies",
          "schroeder/Dinsmore",
          "kuzma/Faulkner",
          "ferrari/Fischer",
          "kurtis_kraft/Forberg",
          "kurtis_kraft/Force",
          "maserati/Fotheringham-Parker",
          "maserati/Godia",
          "lago/González",
          "simca/Gordini",
          "kurtis_kraft/Griffith",
          "lago/Grignard",
          "lago/Hamilton",
          "deidt/Hellings",
          "veritas/Hirt",
          "watson/James",
          "maserati/Jover",
          "ferrari/Landi",
          "sherman/Linden",
          "hall/Mackey",
          "maserati/Marimón",
          "maserati/McDowell",
          "kurtis_kraft/Miller",
          "hwm/Moss",
          "kurtis_kraft/Nalon",
          "kurtis_kraft/Nazaruk",
          "ferrari/Parnell",
          "alfa/Pietsch",
          "lago/Pilette",
          "brm/Richardson",
          "osca/Rol",
          "kurtis_kraft/Ruttman",
          "kurtis_kraft/Scarborough",
          "maserati/Schell",
          "kurtis_kraft/Schindler",
          "era/Shawe Taylor",
          "simca/Simon",
          "marchese/Stevenson",
          "lago/Swaters",
          "ferrari/Taruffi",
          "trevis/Vukovich",
          "brm/Walker",
          "kurtis_kraft/Wallard",
          "bromme/Ward",
          "alfa/de Graffenried",
          "butterworth/Aston",
          "lesovsky/Ayulo",
          "stevens/Ball",
          "bmw/Balsa",
          "lesovsky/Banks",
          "osca/Bayol",
          "bmw/Bechem",
          "gordini/Behra",
          "maserati/Bianco",
          "simca/Bira",
          "cooper/Brandon",
          "cooper/Brown",
          "veritas/Brudes",
          "kurtis_kraft/Bryan",
          "hwm/Cabantous",
          "maserati/Cantoni",
          "ferrari/Carini",
          "lesovsky/Carter",
          "gordini/Claes",
          "hwm/Collins",
          "ferrari/Comotti",
          "kurtis_kraft/Connor",
          "maserati/Crespo",
          "frazer_nash/Crook",
          "kurtis_kraft/Cross",
          "connaught/Downing",
          "cisitalia/Dusio",
          "ferrari/Farina",
          "maserati/Flinterman",
          "sherman/Fonder",
          "hwm/Frère",
          "hwm/Gaze",
          "hwm/Hamilton",
          "kurtis_kraft/Hartley",
          "cooper/Hawthorn",
          "afm/Heeks",
          "veritas/Helfrich",
          "ferrari/Hirt",
          "kurtis_kraft/James",
          "trevis/Johnson",
          "veritas/Klenk",
          "bmw/Klodwig",
          "bmw/Krause",
          "maserati/Landi",
          "hwm/Laurent",
          "veritas/Legat",
          "kurtis_kraft/Linden",
          "hwm/Macklin",
          "gordini/Manzon",
          "connaught/McAlpine",
          "butterworth/Montgomerie-Charrington",
          "cooper/Murray",
          "afm/Niedermayr",
          "simca/O'Brien",
          "cooper/Parnell",
          "veritas/Peters",
          "veritas/Pietsch",
          "connaught/Poore",
          "kurtis_kraft/Rathmann",
          "kurtis_kraft/Reece",
          "veritas/Riess",
          "watson/Rigsby",
          "ferrari/Rosier",
          "kuzma/Ruttman",
          "ferrari/Salvadori",
          "stevens/Schindler",
          "ferrari/Schoeller",
          "kurtis_kraft/Scott",
          "ferrari/Simon",
          "kurtis_kraft/Stevenson",
          "kurtis_kraft/Sweikert",
          "connaught/Thompson",
          "veritas/Ulmen",
          "kurtis_kraft/Vukovich",
          "kurtis_kraft/Ward",
          "bromme/Webb",
          "frazer_nash/Wharton",
          "alta/Whitehead",
          "simca/de Terra",
          "ferrari/de Tornaco",
          "hwm/van der Lof",
          "afm/von Stuck",
          "maserati/Étancelin",
          "ferrari/Adolff",
          "kuzma/Ayulo",
          "cooper/Barber",
          "emw/Barth",
          "veritas/Bauer",
          "afm/Bechem",
          "simca/Berger",
          "kuzma/Bettenhausen",
          "connaught/Bira",
          "simca/Birger",
          "schroeder/Bryan",
          "osca/Chiron",
          "connaught/Claes",
          "cooper/Crook",
          "cooper/Cruz",
          "kurtis_kraft/Davies",
          "kurtis_kraft/Daywalt",
          "hwm/Fairman",
          "maserati/Fangio",
          "hwm/Fitch",
          "afm/Fitzau",
          "kuzma/Flaherty",
          "watson/Freeland",
          "cooper/Gerard",
          "maserati/Gálvez",
          "ferrari/Hawthorn",
          "veritas/Heeks",
          "veritas/Herrmann",
          "kurtis_kraft/Holland",
          "kurtis_kraft/Holmes",
          "kurtis_kraft/Johnson",
          "veritas/Karch",
          "maserati/Lang",
          "stevens/Linden",
          "veritas/Loof",
          "ferrari/Maglioli",
          "maserati/Mantovani",
          "kurtis_kraft/Mantz",
          "stevens/McCoy",
          "gordini/Menditeguy",
          "gordini/Mieres",
          "connaught/Moss",
          "maserati/Musso",
          "turner/Nazaruk",
          "kurtis_kraft/Niday",
          "cooper/Nuckey",
          "connaught/Pilette",
          "connaught/Rolt",
          "kurtis_kraft/Russo",
          "connaught/Salvadori",
          "gordini/Schell",
          "hwm/Scherrer",
          "bromme/Scott",
          "veritas/Seidel",
          "kuzma/Stevenson",
          "connaught/Stewart",
          "ferrari/Swaters",
          "kuzma/Sweikert",
          "kurtis_kraft/Teague",
          "del_roy/Thomson",
          "gordini/Trintignant",
          "gordini/Wacker",
          "kurtis_kraft/Webb",
          "cooper/Wharton",
          "cooper/Whitehead",
          "ferrari/de Terra",
          "kurtis_kraft/Armi",
          "maserati/Ascari",
          "gordini/Bayol",
          "connaught/Beauman",
          "gordini/Berger",
          "kurtis_kraft/Bettenhausen",
          "kuzma/Bryan",
          "gordini/Bucci",
          "kurtis_kraft/Carter",
          "vanwall/Collins",
          "kurtis_kraft/Crockett",
          "maserati/Daponte",
          "schroeder/Duncan",
          "stevens/Elisian",
          "mercedes/Fangio",
          "maserati/Flockhart",
          "kurtis_kraft/Fonder",
          "phillips/Freeland",
          "gordini/Frère",
          "ferrari/González",
          "cooper/Gould",
          "klenk/Helfrich",
          "mercedes/Herrmann",
          "kurtis_kraft/Homeier",
          "pawl/Johnson",
          "bromme/Kladis",
          "mercedes/Kling",
          "mercedes/Lang",
          "schroeder/Linden",
          "gordini/Loyer",
          "ferrari/Manzon",
          "connaught/Marr",
          "kurtis_kraft/McCoy",
          "maserati/Menditeguy",
          "maserati/Mieres",
          "maserati/Moss",
          "stevens/Niday",
          "kurtis_kraft/O'Connor",
          "gordini/Pilette",
          "gordini/Pollet",
          "pankratz/Reece",
          "connaught/Riseley-Prichard",
          "maserati/Salvadori",
          "stevens/Scott",
          "nichels/Thomson",
          "connaught/Thorne",
          "ferrari/Trintignant",
          "maserati/Villoresi",
          "maserati/Volonterio",
          "pawl/Ward",
          "maserati/Wharton",
          "connaught/Whitehouse",
          "maserati/de Riu",
          "schroeder/Andrews",
          "lancia/Ascari",
          "maserati/Behra",
          "gordini/Birger",
          "kurtis_kraft/Boyd",
          "cooper/Brabham",
          "maserati/Bucci",
          "kuzma/Carter",
          "lancia/Castellotti",
          "lancia/Chiron",
          "maserati/Claes",
          "maserati/Collins",
          "kurtis_kraft/Crawford",
          "kurtis_kraft/Elisian",
          "connaught/Fairman",
          "maserati/Fitch",
          "ferrari/Frère",
          "maserati/Gould",
          "vanwall/Hawthorn",
          "kurtis_kraft/Herman",
          "stevens/Hoyt",
          "gordini/Iglesias",
          "kurtis_kraft/Keller",
          "gordini/Lucas",
          "maserati/Macklin",
          "mercedes/Moss",
          "maserati/Perdisa",
          "arzani-volpini/Piotti",
          "epperly/Rathmann",
          "maserati/Rosier",
          "mercedes/Simon",
          "gordini/Sparken",
          "trevis/Templeman",
          "kuzma/Thomson",
          "maserati/Uria",
          "lancia/Villoresi",
          "maserati/Walker",
          "kuzma/Ward",
          "kurtis_kraft/Weyant",
          "vanwall/Wharton",
          "hwm/Whiteaway",
          "gordini/da Silva Ramos",
          "kurtis_kraft/Andrews",
          "maserati/Bonnier",
          "maserati/Brabham",
          "brm/Brooks",
          "ferrari/Castellotti",
          "vanwall/Chapman",
          "kurtis_kraft/Christie",
          "ferrari/Collins",
          "emeryson/Emery",
          "ferrari/Fangio",
          "watson/Flaherty",
          "brm/Flockhart",
          "kuzma/Garrett",
          "ferrari/Gendebien",
          "maserati/Gerini",
          "stevens/Griffith",
          "maserati/Halford",
          "kuzma/Hartley",
          "maserati/Hawthorn",
          "kuzma/Johnson",
          "connaught/Leston",
          "maserati/Maglioli",
          "gordini/Milhoux",
          "ferrari/Musso",
          "maserati/Piotti",
          "lesovsky/Reece",
          "ferrari/Scarlatti",
          "vanwall/Schell",
          "connaught/Scott Brown",
          "connaught/Scotti",
          "maserati/Simon",
          "vanwall/Taruffi",
          "connaught/Titterington",
          "kurtis_kraft/Tolan",
          "vanwall/Trintignant",
          "kurtis_kraft/Turner",
          "kurtis_kraft/Veith",
          "ferrari/de Portago",
          "ferrari/von Trips",
          "porsche/Barth",
          "vanwall/Brooks",
          "connaught/Bueb",
          "kurtis_kraft/Cheesbourg",
          "kurtis_kraft/Edmunds",
          "cooper/England",
          "brm/Fairman",
          "kurtis_kraft/Freeland",
          "kurtis_kraft/George",
          "cooper/Gibson",
          "maserati/Gregory",
          "epperly/Hanks",
          "lesovsky/Hartley",
          "dunn/Herman",
          "maserati/Herrmann",
          "cooper/Leston",
          "connaught/Lewis-Evans",
          "cooper/MacDowel",
          "brm/MacKay-Fraser",
          "kurtis_kraft/Magill",
          "porsche/Maglioli",
          "cooper/Marsh",
          "cooper/Naylor",
          "ferrari/Perdisa",
          "watson/Ruttman",
          "kuzma/Sachs",
          "brm/Salvadori",
          "maserati/Scarlatti",
          "phillips/Veith",
          "lesovsky/Ward",
          "kuzma/Weyant",
          "porsche/de Beaufort",
          "ferrari/de Tomaso",
          "team_lotus/Allison",
          "epperly/Amick",
          "epperly/Bettenhausen",
          "kuzma/Bisch",
          "cooper/Bridger",
          "epperly/Bryan",
          "cooper/Burgess",
          "osca/Cabianca",
          "connaught/Ecclestone",
          "watson/Elisian",
          "connaught/Emery",
          "cooper/Flockhart",
          "kuzma/Foyt",
          "kurtis_kraft/Garrett",
          "cooper/Goethals",
          "kurtis_kraft/Goldsmith",
          "cooper/Guelfi",
          "team_lotus/Hill",
          "maserati/Kavanagh",
          "connaught/Kessler",
          "cooper/La Caze",
          "watson/Larson",
          "vanwall/Lewis-Evans",
          "cooper/McLaren",
          "cooper/Moss",
          "cooper/Picard",
          "osca/Piotti",
          "watson/Reece",
          "maserati/Ruttman",
          "cooper/Salvadori",
          "maserati/Seidel",
          "maserati/Shelby",
          "team_lotus/Stacey",
          "kurtis_kraft/Sutton",
          "maserati/Taramazzo",
          "kurtis_kraft/Templeman",
          "maserati/Testut",
          "kurtis_kraft/Thomson",
          "kuzma/Tolan",
          "cooper/Trintignant",
          "lesovsky/Turner",
          "kurtis_kraft/Unser",
          "dunn/Weyant",
          "kuzma/Wilson",
          "maserati/de Filippis",
          "ferrari/Allison",
          "kurtis_kraft/Amick",
          "kurtis_kraft/Arnold",
          "cooper-climax/Ashdown",
          "ferrari/Behra",
          "cooper-climax/Bianchi",
          "porsche/Blanchard",
          "brm/Bonnier",
          "epperly/Boyd",
          "cooper-climax/Brabham",
          "phillips/Branson",
          "cooper-borgward/Bristow",
          "ferrari/Brooks",
          "cooper-climax/Bueb",
          "cooper-maserati/Burgess",
          "maserati/Cabianca",
          "cooper-maserati/Cabral",
          "maserati/Cade",
          "kuzma/Cheesbourg",
          "cooper-borgward/Constantine",
          "elder/Crawford",
          "cooper-maserati/Davis",
          "cooper-climax/Fairman",
          "maserati/Fontes",
          "epperly/Goldsmith",
          "cooper-climax/Greene",
          "cooper-climax/Gregory",
          "kurtis_kraft/Grim",
          "ferrari/Gurney",
          "team_lotus/Halford",
          "cooper-maserati/Herrmann",
          "team_lotus/Ireland",
          "kuzma/Keller",
          "kurtis_kraft/Larson",
          "team_lotus/Lovely",
          "cooper-climax/Lucienbonnet",
          "sutton/Magill",
          "cooper-climax/McLaren",
          "kurtis_kraft/McWithey",
          "cooper-climax/Moss",
          "jbw/Naylor",
          "fry/Parkes",
          "cooper-climax/Parnell",
          "team_lotus/Piper",
          "connaught/Said",
          "cooper-maserati/Salvadori",
          "brm/Schell",
          "aston_martin/Shelby",
          "lesovsky/Sutton",
          "cooper-climax/Taylor",
          "lesovsky/Thomson",
          "cooper-climax/Trintignant",
          "vhristensen/Turner",
          "moore/Veith",
          "maserati/d'Orey",
          "cooper-climax/de Changy",
          "porsche/de Filippis",
          "cooper-osca/de Tomaso",
          "porsche/von Trips",
          "watson/Bettenhausen",
          "cooper-maserati/Bonomi",
          "cooper-climax/Bristow",
          "cooper-climax/Brooks",
          "cooper-castellotti/Cabianca",
          "maserati/Chimeri",
          "team_lotus/Clark",
          "maserati/Creus",
          "scarab/Daigh",
          "maserati/Drake",
          "cooper-climax/Drogo",
          "maserati/Estéfano",
          "team_lotus/Flockhart",
          "kurtis_kraft/Foyt",
          "behra-porsche/Gamble",
          "cooper-climax/Gendebien",
          "ferrari/Ginther",
          "cooper-maserati/Greene",
          "behra-porsche/Gregory",
          "meskowski/Grim",
          "brm/Gurney",
          "cooper-climax/Halford",
          "team_lotus/Hall",
          "ewing/Herman",
          "porsche/Herrmann",
          "brm/Hill",
          "kuzma/Homeier",
          "vhristensen/Hurtubise",
          "team_lotus/Larreta",
          "cooper-castellotti/Lovely",
          "ferrari/Mairesse",
          "epperly/McWithey",
          "cooper-maserati/Menditeguy",
          "maserati/Munaron",
          "cooper-climax/Owen",
          "scarab/Reventlow",
          "watson/Ruby",
          "ewing/Sachs",
          "cooper-climax/Salvadori",
          "cooper-climax/Schell",
          "cooper-climax/Seidel",
          "watson/Stevenson",
          "team_lotus/Surtees",
          "watson/Sutton",
          "cooper-maserati/Thiele",
          "trevis/Tingelstad",
          "cooper-maserati/Trintignant",
          "meskowski/Veith",
          "watson/Ward",
          "epperly/Weiler",
          "kurtis_kraft/Wilson",
          "cooper-climax/de Beaufort",
          "lotus-climax/Allison",
          "lotus-climax/Ashmore",
          "ferrari/Baghetti",
          "cooper-maserati/Bandini",
          "emeryson/Bianchi",
          "cooper-climax/Boffa",
          "porsche/Bonnier",
          "lotus-climax/Bordeu",
          "lotus-climax/Burgess",
          "de_tomaso-alfa_romeo/Bussinello",
          "cooper-climax/Campbell-Jones",
          "lotus-climax/Clark",
          "cooper-climax/Collomb",
          "cooper-climax/Duke",
          "emeryson/Gendebien",
          "gilby/Greene",
          "porsche/Gurney",
          "lotus-climax/Hall",
          "cooper-climax/Hansgen",
          "lotus-climax/Ireland",
          "cooper-climax/Lewis",
          "de_tomaso-osca/Lippi",
          "lotus-climax/Maggs",
          "lotus-climax/Mairesse",
          "lotus-climax/Marsh",
          "lotus-climax/May",
          "lotus-climax/Miles",
          "mbm/Monteverdi",
          "lotus-climax/Moss",
          "cooper-maserati/Natili",
          "lotus-climax/Parnell",
          "cooper-climax/Penske",
          "emeryson/Pilette",
          "cooper-climax/Pirocchi",
          "lotus-climax/Prinoth",
          "ferrari/Rodríguez",
          "lotus-climax/Ruby",
          "lotus-climax/Ryan",
          "de_tomaso-osca/Scarlatti",
          "lotus-climax/Seidel",
          "cooper-climax/Sharp",
          "lotus-maserati/Starrabba",
          "cooper-climax/Surtees",
          "lotus-climax/Taylor",
          "cooper-climax/Thiele",
          "de_tomaso-alfa_romeo/Vaccarella",
          "lotus-climax/Abate",
          "team_lotus/Arundell",
          "brm/Ashmore",
          "ferrari/Bandini",
          "lotus-climax/Bianchi",
          "lotus-climax/Brabham",
          "cooper-climax/Burgess",
          "lotus-climax/Campbell-Jones",
          "lotus-climax/Chamberlain",
          "porsche/Davis",
          "tomaso/Estéfano",
          "brm/Ginther",
          "lotus-climax/Greene",
          "lotus-climax/Gregory",
          "cooper-alfa_romeo/Harris",
          "ferrari/Hill",
          "lotus-climax/Hocking",
          "brm/Johnstone",
          "lotus-borgward/Kuhnke",
          "lotus-climax/Lederle",
          "cooper-climax/Love",
          "cooper-climax/Maggs",
          "brm/Marsh",
          "cooper-climax/Mayer",
          "lotus-climax/Penske",
          "lotus-climax/Pieterse",
          "porsche/Pon",
          "lola/Salvadori",
          "porsche/Schiller",
          "lotus-climax/Schroeder",
          "emeryson/Seidel",
          "lotus-brm/Seiffert",
          "lds/Serrurier",
          "emeryson/Settember",
          "lotus-climax/Shelly",
          "lotus-climax/Siffert",
          "porsche/Slotemaker",
          "lola/Surtees",
          "lotus-climax/Tingle",
          "lotus-climax/Trintignant",
          "lotus-climax/Vaccarella",
          "porsche/Walter",
          "lotus-climax/van der Vyver",
          "porsche/Abate",
          "lola/Amon",
          "lola/Anderson",
          "lotus-climax/Arundell",
          "ats/Baghetti",
          "brm/Bandini",
          "lola/Bianchi",
          "cooper-maserati/Blokdyk",
          "cooper-climax/Bonnier",
          "cooper-maserati/Brambilla",
          "stebro/Broeker",
          "scirocco/Burgess",
          "cooper-climax/Cabral",
          "lotus-brm/Campbell-Jones",
          "lotus-climax/Collomb",
          "cooper-climax/Dochnal",
          "lotus-brm/Driver",
          "lotus-brm/Gregory",
          "brabham/Gurney",
          "lotus-climax/Hailwood",
          "lotus-brm/Hall",
          "lotus-climax/Hansgen",
          "ats/Hill",
          "lotus-brm/Ireland",
          "de_tomaso-ferrari/Lippi",
          "porsche/Mitter",
          "lotus-climax/Monarch",
          "lotus-ford/Niemann",
          "lotus-climax/Pilette",
          "brabham/Prophet",
          "gilby/Raby",
          "lotus-climax/Rodríguez",
          "ferrari/Scarfiotti",
          "scirocco/Settember",
          "lotus-brm/Sharp",
          "lotus-brm/Siffert",
          "brm/Solana",
          "lotus-climax/Spence",
          "ferrari/Surtees",
          "lds/Tingle",
          "lola/Trintignant",
          "lotus-brm/Ward",
          "alfa/de Klerk",
          "stebro/de Vos",
          "lotus-brm/Amon",
          "brabham-climax/Anderson",
          "brm/Attwood",
          "brm/Baghetti",
          "cooper-climax/Barth",
          "brabham-climax/Brabham",
          "honda/Bucknum",
          "derrington/Cabral",
          "lotus-brm/Collomb",
          "brabham-ford/Gardner",
          "brabham-climax/Gurney",
          "lotus-brm/Hailwood",
          "cooper-climax/Hill",
          "brm/Maggs",
          "lotus-climax/Mitter",
          "scirocco/Pilette",
          "brabham-brm/Raby",
          "lotus-brm/Revson",
          "brabham-brm/Rindt",
          "brabham-brm/Russo",
          "brabham-brm/Sharp",
          "lotus-climax/Solana",
          "brp/Taylor",
          "brm/Trintignant",
          "lotus-brm/Attwood",
          "brabham-climax/Baghetti",
          "brm/Bassi",
          "brm/Bianchi",
          "cooper-climax/Blignaut",
          "cooper-ford/Blokdyk",
          "ferrari/Bondurant",
          "brabham-climax/Bonnier",
          "brm/Bussinello",
          "lotus-ford/Charlton",
          "cooper-maserati/Clapham",
          "brabham-brm/Gardner",
          "honda/Ginther",
          "brm/Gregory",
          "lotus-climax/Gubby",
          "brabham-ford/Hawkins",
          "brabham-climax/Hulme",
          "lotus-brm/Maggs",
          "lds-alfa_romeo/Pretorius",
          "brabham-ford/Prophet",
          "lotus-climax/Puzey",
          "re/Reed",
          "cooper-climax/Rhodes",
          "cooper-climax/Rindt",
          "cooper-ford/Rollinson",
          "lotus-climax/Russo",
          "lds-climax/Serrurier",
          "brabham-brm/Siffert",
          "brm/Stewart",
          "lds-alfa_romeo/Tingle",
          "ferrari/Vaccarella",
          "cooper-maserati/Amon",
          "lotus-brm/Arundell",
          "brm/Bondurant",
          "cooper-maserati/Bonnier",
          "brabham-repco/Brabham",
          "cooper-maserati/Ginther",
          "eagle-climax/Gurney",
          "brm/Ireland",
          "brabham-climax/Irwin",
          "cooper-ferrari/Lawrence",
          "cooper-maserati/Ligier",
          "mclaren-ford/McLaren",
          "ferrari/Parkes",
          "cooper-maserati/Rindt",
          "cooper-maserati/Solana",
          "lotus-brm/Spence",
          "brabham-brm/Taylor",
          "brm/Wilson",
          "protos/Ahrens",
          "ferrari/Amon",
          "cooper-maserati/Attwood",
          "lotus-ford/Baghetti",
          "matra/Beltoise",
          "brabham-climax/Botha",
          "brabham-climax/Charlton",
          "lotus-brm/Clark",
          "lotus-brm/Courage",
          "lotus-brm/Fisher",
          "eagle-climax/Ginther",
          "lola/Hahne",
          "protos/Hart",
          "lotus-brm/Hill",
          "brm/Hobbs",
          "brabham-repco/Hulme",
          "matra/Ickx",
          "lotus-brm/Irwin",
          "cooper-climax/Jones",
          "mclaren-brm/McLaren",
          "cooper-ats/Moser",
          "lotus-ford/Oliver",
          "eagle-climax/Pease",
          "cooper-maserati/Rees",
          "cooper-maserati/Rodríguez",
          "matra/Schlesser",
          "matra/Servoz-Gavin",
          "cooper-maserati/Siffert",
          "lotus-ford/Solana",
          "brm/Spence",
          "honda/Surtees",
          "lds-climax/Tingle",
          "ferrari/Williams",
          "brabham-repco/Ahrens",
          "lotus-ford/Andretti",
          "ferrari/Bell",
          "matra-ford/Beltoise",
          "cooper-brm/Bianchi",
          "lotus-ford/Brack",
          "brabham-repco/Charlton",
          "lotus-ford/Clark",
          "brm/Courage",
          "cooper-brm/Elford",
          "brm/Gardner",
          "eagle-weslake/Gurney",
          "lotus-ford/Hill",
          "honda/Hobbs",
          "mclaren-brm/Hulme",
          "ferrari/Ickx",
          "brabham-repco/Love",
          "brabham-repco/Moser",
          "matra/Pescarolo",
          "brabham-climax/Pretorius",
          "cooper-maserati/Redman",
          "brabham-repco/Rindt",
          "brm/Rodríguez",
          "cooper-brm/Scarfiotti",
          "honda/Schlesser",
          "matra-ford/Servoz-Gavin",
          "matra-ford/Stewart",
          "brm/Unser",
          "cooper-brm/Widdows",
          "ferrari/de Adamich",
          "cooper-climax/van Rooyen",
          "lotus-ford/Attwood",
          "mclaren-ford/Bell",
          "lotus-ford/Bonnier",
          "brabham-ford/Brabham",
          "brm/Brack",
          "brabham-climax/Cordts",
          "brabham-ford/Courage",
          "brm/Eaton",
          "cooper-maserati/Elford",
          "mclaren-ford/Hulme",
          "brabham-ford/Ickx",
          "lotus-ford/Love",
          "lotus-ford/Lovely",
          "lotus-ford/Miles",
          "brabham-ford/Moser",
          "brm/Oliver",
          "lotus-ford/Rindt",
          "lotus-ford/Siffert",
          "brm/Surtees",
          "brabham-repco/Tingle",
          "brabham-repco/de Klerk",
          "mclaren-ford/van Rooyen",
          "march/Amon",
          "march/Andretti",
          "brabham/Bell",
          "mclaren-ford/Bonnier",
          "brabham/Brabham",
          "march/Cevert",
          "team_lotus/Charlton",
          "tomaso/Courage",
          "team_lotus/Fittipaldi",
          "mclaren-alfa_romeo/Galli",
          "mclaren-ford/Gethin",
          "ferrari/Giunti",
          "mclaren-ford/Gurney",
          "march/Hahne",
          "brabham/Hutchison",
          "team_lotus/Love",
          "team_lotus/Miles",
          "bellasi/Moser",
          "march/Peterson",
          "tomaso/Redman",
          "ferrari/Regazzoni",
          "team_lotus/Rindt",
          "tomaso/Schenken",
          "march/Servoz-Gavin",
          "march/Siffert",
          "team_lotus/Soler-Roig",
          "march/Stewart",
          "brabham/Stommelen",
          "mclaren-ford/Surtees",
          "brm/Westbury",
          "team_lotus/Wisell",
          "mclaren-alfa_romeo/de Adamich",
          "brabham/de Klerk",
          "matra/Amon",
          "ferrari/Andretti",
          "march-ford/Barber",
          "surtees/Bell",
          "march-ford/Beuttler",
          "mclaren/Bonnier",
          "brm/Cannon",
          "tyrrell/Cevert",
          "brabham/Charlton",
          "brabham/Craft",
          "mclaren/Donohue",
          "brm/Elford",
          "lotus-ford/Fittipaldi",
          "march-ford/Galli",
          "brm/Ganley",
          "mclaren/Gethin",
          "surtees/Hailwood",
          "brabham/Hill",
          "mclaren/Hobbs",
          "mclaren/Hulme",
          "march-ford/Jarier",
          "march-ford/Jean",
          "march-ford/Lauda",
          "march-ford/Love",
          "brm/Marko",
          "march-ford/Mazet",
          "mclaren/Oliver",
          "march-ford/Pescarolo",
          "march-ford/Peterson",
          "surtees/Posey",
          "brabham/Pretorius",
          "surtees/Redman",
          "tyrrell/Revson",
          "brabham/Schenken",
          "brm/Siffert",
          "march-ford/Soler-Roig",
          "tyrrell/Stewart",
          "surtees/Stommelen",
          "surtees/Surtees",
          "lotus-pw/Walker",
          "lotus-ford/Wisell",
          "march-alfa_romeo/de Adamich",
          "surtees/van Lennep",
          "march/Barber",
          "tecno/Bell",
          "brm/Beltoise",
          "march/Beuttler",
          "tyrrell/Depailler",
          "tecno/Galli",
          "brm/Gethin",
          "march/Lauda",
          "surtees/Love",
          "ferrari/Merzario",
          "connew/Migault",
          "march/Pace",
          "march/Pescarolo",
          "mclaren/Redman",
          "brabham/Reutemann",
          "mclaren/Revson",
          "mclaren/Scheckter",
          "surtees/Schenken",
          "brm/Soler-Roig",
          "march/Stommelen",
          "team_lotus/Walker",
          "brm/Wisell",
          "surtees/de Adamich",
          "tecno/Amon",
          "surtees/Bueno",
          "brabham/Fittipaldi",
          "shadow/Follmer",
          "iso_marlboro/Galli",
          "iso_marlboro/Ganley",
          "shadow/Hill",
          "march/Hunt",
          "march/Jarier",
          "tyrrell/Keizan",
          "brm/Lauda",
          "surtees/Mass",
          "iso_marlboro/McRae",
          "shadow/Oliver",
          "surtees/Pace",
          "team_lotus/Peterson",
          "iso_marlboro/Pretorius",
          "march/Purley",
          "brm/Regazzoni",
          "iso_marlboro/Schenken",
          "brabham/Watson",
          "march/Williamson",
          "march/Wisell",
          "iso_marlboro/van Lennep",
          "ensign/von Opel",
          "amon/Amon",
          "parnelli/Andretti",
          "token/Ashley",
          "iso_marlboro/Belsø",
          "march/Brambilla",
          "mclaren/Charlton",
          "surtees/Dolhem",
          "penske/Donohue",
          "team_lotus/Driver",
          "lola/Edwards",
          "brabham/Facetti",
          "mclaren/Fittipaldi",
          "march/Ganley",
          "lola/Gethin",
          "mclaren/Hailwood",
          "lola/Hill",
          "team_lotus/Ickx",
          "iso_marlboro/Jabouille",
          "shadow/Jarier",
          "surtees/Kinnunen",
          "brabham/Koinigg",
          "iso_marlboro/Laffite",
          "brabham/Larrousse",
          "ferrari/Lauda",
          "brabham/Lombardi",
          "iso_marlboro/Merzario",
          "brm/Migault",
          "lyncar/Nicholson",
          "amon/Perkins",
          "brm/Pescarolo",
          "brabham/Pilette",
          "token/Pryce",
          "token/Purley",
          "surtees/Quester",
          "shadow/Redman",
          "shadow/Revson",
          "brabham/Robarts",
          "shadow/Roos",
          "tyrrell/Scheckter",
          "trojan/Schenken",
          "ensign/Schuppan",
          "lola/Stommelen",
          "march/Stuck",
          "brabham/Wietzes",
          "march/Wilds",
          "brabham/von Opel",
          "ensign/Amon",
          "williams/Ashley",
          "williams/Brise",
          "team_lotus/Crawford",
          "hesketh/Ertl",
          "brm/Evans",
          "fittipaldi/Fittipaldi",
          "maki/Fushida",
          "team_lotus/Henton",
          "hesketh/Hunt",
          "tyrrell/Jabouille",
          "shadow-ford/Jarier",
          "hesketh/Jones",
          "team_lotus/Keizan",
          "williams/Laffite",
          "tyrrell/Leclère",
          "march/Lombardi",
          "hesketh/Lunger",
          "williams/Magee",
          "mclaren/Mass",
          "williams/Merzario",
          "lola/Migault",
          "surtees/Morgan",
          "brabham/Pace",
          "hesketh/Palm",
          "shadow-ford/Pryce",
          "hill/Schuppan",
          "maki/Trimmer",
          "team_lotus/Tunmer",
          "williams/Vonlanthen",
          "surtees/Watson",
          "brm/Wilds",
          "ensign/Wunderink",
          "williams/Zorzi",
          "ensign/van Lennep",
          "surtees/Andersson",
          "team_lotus/Andretti",
          "brm/Ashley",
          "ensign/Binder",
          "wolf/Brown",
          "hesketh/Edwards",
          "team_lotus/Evans",
          "surtees/Galica",
          "kojima/Hasemi",
          "fittipaldi/Hoffmann",
          "tyrrell/Hoshino",
          "mclaren/Hunt",
          "wolf/Ickx",
          "surtees/Jones",
          "brabham-ford/Kessel",
          "ligier/Laffite",
          "wolf/Leclère",
          "surtees/Lunger",
          "brabham-ford/Magee",
          "march/Merzario",
          "brabham-ford/Nelleman",
          "team_lotus/Nilsson",
          "brabham-ford/Nève",
          "brabham-alfa_romeo/Pace",
          "boro/Perkins",
          "surtees/Pescarolo",
          "tyrrell/Pesenti-Rossi",
          "shadow/Pryce",
          "brabham-alfa_romeo/Reutemann",
          "hesketh/Ribeiro",
          "brabham-alfa_romeo/Stommelen",
          "tyrrell/Stuppacher",
          "surtees/Takahara",
          "penske/Watson",
          "shadow/Wilds",
          "williams/Zapico",
          "brabham-ford/de Villota",
          "brm/Andersson",
          "hesketh/Ashley",
          "surtees/Binder",
          "march/Bleekemolen",
          "surtees/Brambilla",
          "brm/Edwards",
          "brabham/Francia",
          "mclaren/Giacomelli",
          "march/Henton",
          "penske/Heyer",
          "kojima/Hoshino",
          "ensign/Ickx",
          "renault/Jabouille",
          "penske/Jarier",
          "shadow/Jones",
          "hesketh/Keegan",
          "apollon/Kessel",
          "march/Kozarowitzky",
          "surtees/Leoni",
          "march/Lunger",
          "mcguire/McGuire",
          "march/Nève",
          "penske/Ongais",
          "shadow/Patrese",
          "brm/Perkins",
          "tyrrell/Peterson",
          "brm/Pilette",
          "lec/Purley",
          "hesketh/Rebaque",
          "ensign/Regazzoni",
          "ferrari/Reutemann",
          "march/Ribeiro",
          "march/Scheckter",
          "surtees/Schuppan",
          "march/Sutcliffe",
          "kojima/Takahara",
          "tyrrell/Takahashi",
          "surtees/Tambay",
          "surtees/Trimmer",
          "mclaren/Villeneuve",
          "shadow/Zorzi",
          "march/de Dryver",
          "mclaren/de Villota",
          "martini/Arnoux",
          "ats/Binder",
          "ats/Bleekemolen",
          "theodore/Cheever",
          "ats/Colombo",
          "hesketh/Daly",
          "ensign/Ertl",
          "surtees/Franchi",
          "surtees/Gabbiani",
          "hesketh/Galica",
          "ats/Jarier",
          "williams/Jones",
          "surtees/Keegan",
          "brabham/Lauda",
          "ensign/Lees",
          "ensign/Leoni",
          "mclaren/Lunger",
          "ats/Mass",
          "merzario/Merzario",
          "ensign/Ongais",
          "arrows/Patrese",
          "ensign/Piquet",
          "tyrrell/Pironi",
          "wolf/Rahal",
          "team_lotus/Rebaque",
          "shadow/Regazzoni",
          "theodore/Rosberg",
          "wolf/Scheckter",
          "arrows/Stommelen",
          "shadow/Stuck",
          "mclaren/Tambay",
          "mclaren/Trimmer",
          "ferrari/Villeneuve",
          "renault/Arnoux",
          "alfa/Brambilla",
          "kauhsen/Brancatelli",
          "ensign/Daly",
          "ligier/Depailler",
          "ensign/Gaillard",
          "alfa/Giacomelli",
          "wolf/Hunt",
          "ligier/Ickx",
          "tyrrell/Jarier",
          "shadow/Lammers",
          "brabham-alfa_romeo/Lauda",
          "tyrrell/Lees",
          "arrows/Mass",
          "brabham-alfa_romeo/Piquet",
          "williams/Regazzoni",
          "team_lotus/Reutemann",
          "fittipaldi/Ribeiro",
          "wolf/Rosberg",
          "ferrari/Scheckter",
          "ats/Stuck",
          "ensign/Surer",
          "mclaren/Watson",
          "brabham-ford/Zunino",
          "shadow/de Angelis",
          "osella/Cheever",
          "williams/Cogan",
          "tyrrell/Daly",
          "alfa/Depailler",
          "ats/Ertl",
          "shadow/Johansson",
          "williams/Keegan",
          "shadow/Kennedy",
          "ats/Lammers",
          "shadow/Lees",
          "team_lotus/Mansell",
          "ensign/Needell",
          "brabham/Piquet",
          "ligier/Pironi",
          "mclaren/Prost",
          "brabham/Rebaque",
          "williams/Reutemann",
          "fittipaldi/Rosberg",
          "mclaren/South",
          "ats/Surer",
          "arrows/Thackwell",
          "williams/Wilson",
          "arrows/Winkelhock",
          "brabham/Zunino",
          "team_lotus/de Angelis",
          "alfa/de Cesaris",
          "tyrrell/Alboreto",
          "alfa/Andretti",
          "ats/Borgudd",
          "tyrrell/Cheever",
          "tyrrell/Cogan",
          "march/Daly",
          "osella/Francia",
          "osella/Gabbiani",
          "osella/Ghinzani",
          "osella/Guerra",
          "toleman/Henton",
          "ligier/Jabouille",
          "ligier/Jarier",
          "ensign/Londoño",
          "ferrari/Pironi",
          "renault/Prost",
          "march/Salazar",
          "fittipaldi/Serra",
          "arrows/Stohr",
          "theodore/Tambay",
          "arrows/Villeneuve Sr.",
          "toleman/Warwick",
          "tyrrell/Zunino",
          "mclaren/de Cesaris",
          "williams/Andretti",
          "arrows/Baldi",
          "march/Boesel",
          "tyrrell/Borgudd",
          "theodore/Byrne",
          "ligier/Cheever",
          "theodore/Daly",
          "toleman/Fabi",
          "ensign/Guerrero",
          "arrows/Henton",
          "osella/Jarier",
          "march/Keegan",
          "theodore/Lammers",
          "mclaren/Lauda",
          "theodore/Lees",
          "march/Mass",
          "team_lotus/Moreno",
          "osella/Paletti",
          "brabham/Patrese",
          "williams/Rosberg",
          "ats/Salazar",
          "arrows/Surer",
          "ferrari/Tambay",
          "ats/Winkelhock",
          "march/de Villota",
          "ram/Acheson",
          "ferrari/Arnoux",
          "alfa/Baldi",
          "ligier/Boesel",
          "arrows/Boutsen",
          "theodore/Cecotto",
          "renault/Cheever",
          "osella/Fabi",
          "toleman/Giacomelli",
          "theodore/Guerrero",
          "spirit/Johansson",
          "arrows/Jones",
          "williams/Palmer",
          "ram/Salazar",
          "ram/Schlesser",
          "arrows/Serra",
          "tyrrell/Sullivan",
          "ram/Villeneuve Sr.",
          "ferrari/Alboreto",
          "ram/Alliot",
          "spirit/Baldi",
          "tyrrell/Bellof",
          "ats/Berger",
          "tyrrell/Brundle",
          "toleman/Cecotto",
          "alfa/Cheever",
          "brabham/Fabi",
          "osella/Gartner",
          "ligier/Hesnault",
          "tyrrell/Johansson",
          "toleman/Martini",
          "ram/Palmer",
          "alfa/Patrese",
          "spirit/Rothengatter",
          "toleman/Senna",
          "renault/Streiff",
          "renault/Tambay",
          "ram/Thackwell",
          "renault/Warwick",
          "ligier/de Cesaris",
          "arrows/Berger",
          "tyrrell/Capelli",
          "zakspeed/Danner",
          "brabham/Hesnault",
          "lola/Jones",
          "williams/Mansell",
          "minardi/Martini",
          "zakspeed/Palmer",
          "osella/Rothengatter",
          "team_lotus/Senna",
          "ligier/Streiff",
          "brabham/Surer",
          "ram/Winkelhock",
          "ligier/Alliot",
          "ligier/Arnoux",
          "osella/Berg",
          "benetton/Berger",
          "osella/Caffi",
          "ags/Capelli",
          "lola/Cheever",
          "osella/Danner",
          "team_lotus/Dumfries",
          "benetton/Fabi",
          "ferrari/Johansson",
          "minardi/Nannini",
          "williams/Piquet",
          "mclaren/Rosberg",
          "zakspeed/Rothengatter",
          "tyrrell/Streiff",
          "lola/Tambay",
          "brabham/Warwick",
          "brabham/de Angelis",
          "minardi/de Cesaris",
          "larrousse/Alliot",
          "ferrari/Berger",
          "benetton/Boutsen",
          "zakspeed/Brundle",
          "minardi/Campos",
          "march/Capelli",
          "arrows/Cheever",
          "larrousse/Dalmas",
          "ags/Fabre",
          "osella/Forini",
          "ligier/Ghinzani",
          "mclaren/Johansson",
          "coloni/Larini",
          "brabham/Modena",
          "ags/Moreno",
          "team_lotus/Nakajima",
          "tyrrell/Palmer",
          "osella/Tarquini",
          "arrows/Warwick",
          "brabham/de Cesaris",
          "tyrrell/Bailey",
          "williams/Brundle",
          "dallara/Caffi",
          "zakspeed/Ghinzani",
          "march/Gugelmin",
          "ligier/Johansson",
          "osella/Larini",
          "eurobrun/Larrauri",
          "eurobrun/Modena",
          "benetton/Nannini",
          "williams/Patrese",
          "team_lotus/Piquet",
          "minardi/Pérez-Sala",
          "larrousse/Raphanel",
          "williams/Schlesser",
          "zakspeed/Schneider",
          "mclaren/Senna",
          "ags/Streiff",
          "larrousse/Suzuki",
          "coloni/Tarquini",
          "rial/de Cesaris",
          "tyrrell/Alesi",
          "minardi/Barilla",
          "larrousse/Bernard",
          "coloni/Bertaggia",
          "williams/Boutsen",
          "brabham/Brundle",
          "rial/Danner",
          "arrows/Donnelly",
          "eurobrun/Foitek",
          "onyx/Gachot",
          "ligier/Grouillard",
          "benetton/Herbert",
          "onyx/Johansson",
          "onyx/Järvilehto",
          "ferrari/Mansell",
          "coloni/Moreno",
          "benetton/Pirro",
          "coloni/Raphanel",
          "zakspeed/Suzuki",
          "ags/Tarquini",
          "rial/Weidler",
          "ags/Winkelhock",
          "dallara/de Cesaris",
          "arrows/Alboreto",
          "mclaren/Berger",
          "arrows/Caffi",
          "leyton/Capelli",
          "ags/Dalmas",
          "team_lotus/Donnelly",
          "onyx/Foitek",
          "coloni/Gachot",
          "life/Giacomelli",
          "osella/Grouillard",
          "leyton/Gugelmin",
          "team_lotus/Herbert",
          "eurobrun/Langes",
          "ligier/Larini",
          "dallara/Morbidelli",
          "eurobrun/Moreno",
          "tyrrell/Nakajima",
          "benetton/Piquet",
          "dallara/Pirro",
          "ferrari/Prost",
          "arrows/Schneider",
          "team_lotus/Warwick",
          "footwork/Alboreto",
          "ferrari/Alesi",
          "team_lotus/Bailey",
          "ags/Barbazza",
          "team_lotus/Bartels",
          "brabham/Blundell",
          "ligier/Boutsen",
          "footwork/Caffi",
          "coloni/Chaves",
          "ligier/Comas",
          "jordan/Gachot",
          "fondmetal/Grouillard",
          "coloni/Hattori",
          "team_lotus/Häkkinen",
          "ags/Johansson",
          "dallara/Järvilehto",
          "lambo/Larini",
          "tyrrell/Modena",
          "minardi/Morbidelli",
          "benetton/Moreno",
          "jordan/Schumacher",
          "leyton/Wendlinger",
          "jordan/Zanardi",
          "jordan/de Cesaris",
          "lambo/van de Poele",
          "march/Belmondo",
          "benetton/Brundle",
          "ferrari/Capelli",
          "minardi/Fittipaldi",
          "larrousse/Gachot",
          "tyrrell/Grouillard",
          "jordan/Gugelmin",
          "larrousse/Katayama",
          "march/Lammers",
          "ferrari/Larini",
          "dallara/Martini",
          "jordan/Modena",
          "march/Naspetti",
          "benetton/Schumacher",
          "footwork/Suzuki",
          "fondmetal/Tarquini",
          "march/Wendlinger",
          "tyrrell/de Cesaris",
          "brabham/van de Poele",
          "lola/Alboreto",
          "mclaren/Andretti",
          "lola/Badoer",
          "minardi/Barbazza",
          "jordan/Barrichello",
          "ligier/Blundell",
          "jordan/Boutsen",
          "ligier/Brundle",
          "larrousse/Comas",
          "williams/Hill",
          "mclaren/Häkkinen",
          "jordan/Irvine",
          "sauber/Järvilehto",
          "tyrrell/Katayama",
          "team_lotus/Lamy",
          "benetton/Patrese",
          "williams/Prost",
          "footwork/Warwick",
          "sauber/Wendlinger",
          "team_lotus/Zanardi",
          "team_lotus/Adams",
          "minardi/Alboreto",
          "mclaren/Alliot",
          "pacific/Belmondo",
          "larrousse/Beretta",
          "ligier/Bernard",
          "tyrrell/Blundell",
          "simtek/Brabham",
          "mclaren/Brundle",
          "williams/Coulthard",
          "larrousse/Délétraz",
          "footwork/Fittipaldi",
          "sauber/Frentzen",
          "pacific/Gachot",
          "simtek/Gounon",
          "simtek/Inoue",
          "benetton/Järvilehto",
          "ligier/Lagorce",
          "simtek/Montermini",
          "footwork/Morbidelli",
          "larrousse/Noda",
          "ligier/Panis",
          "simtek/Ratzenberger",
          "team_lotus/Salo",
          "simtek/Schiattarella",
          "williams/Senna",
          "jordan/Suzuki",
          "benetton/Verstappen",
          "sauber/de Cesaris",
          "minardi/Badoer",
          "mclaren/Blundell",
          "sauber/Boullion",
          "forti/Diniz",
          "pacific/Délétraz",
          "footwork/Inoue",
          "minardi/Lamy",
          "mclaren/Magnussen",
          "mclaren/Mansell",
          "pacific/Montermini",
          "forti/Moreno",
          "footwork/Papis",
          "tyrrell/Salo",
          "ligier/Suzuki",
          "tyrrell/Tarquini",
          "simtek/Verstappen",
          "benetton/Alesi",
          "forti/Badoer",
          "jordan/Brundle",
          "mclaren/Coulthard",
          "ligier/Diniz",
          "minardi/Fisichella",
          "sauber/Herbert",
          "ferrari/Irvine",
          "minardi/Lavaggi",
          "forti/Montermini",
          "footwork/Rosset",
          "ferrari/Schumacher",
          "footwork/Verstappen",
          "williams/Villeneuve",
          "stewart/Barrichello",
          "arrows/Diniz",
          "jordan/Fisichella",
          "sauber/Fontana",
          "williams/Frentzen",
          "arrows/Hill",
          "minardi/Katayama",
          "sauber/Larini",
          "stewart/Magnussen",
          "minardi/Marques",
          "sauber/Morbidelli",
          "prost/Nakano",
          "prost/Panis",
          "minardi/Trulli",
          "tyrrell/Verstappen",
          "benetton/Wurz",
          "sauber/Alesi",
          "benetton/Fisichella",
          "jordan/Hill",
          "minardi/Nakano",
          "tyrrell/Rosset",
          "arrows/Salo",
          "tyrrell/Takagi",
          "prost/Trulli",
          "minardi/Tuero",
          "stewart/Verstappen",
          "sauber/Diniz",
          "jordan/Frentzen",
          "minardi/Gené",
          "stewart/Herbert",
          "bar/Salo",
          "arrows/Takagi",
          "bar/Villeneuve",
          "williams/Zanardi",
          "bar/Zonta",
          "arrows/de la Rosa",
          "prost/Alesi",
          "ferrari/Barrichello",
          "jaguar/Burti",
          "williams/Button",
          "prost/Heidfeld",
          "jaguar/Herbert",
          "jaguar/Irvine",
          "minardi/Mazzacane",
          "sauber/Salo",
          "jordan/Trulli",
          "arrows/Verstappen",
          "minardi/Alonso",
          "arrows/Bernoldi",
          "benetton/Button",
          "prost/Enge",
          "sauber/Heidfeld",
          "prost/Mazzacane",
          "williams/Pablo Montoya",
          "bar/Panis",
          "sauber/Räikkönen",
          "minardi/Yoong",
          "jordan/Zonta",
          "jaguar/de la Rosa",
          "renault/Button",
          "arrows/Frentzen",
          "sauber/Massa",
          "toyota/McNish",
          "mclaren/Räikkönen",
          "toyota/Salo",
          "jordan/Sato",
          "renault/Trulli",
          "minardi/Webber",
          "renault/Alonso",
          "jordan/Baumgartner",
          "bar/Button",
          "jordan/Firman",
          "williams/Gené",
          "minardi/Kiesa",
          "toyota/Panis",
          "jaguar/Pizzonia",
          "bar/Sato",
          "williams/Schumacher",
          "minardi/Verstappen",
          "jaguar/Webber",
          "minardi/Wilson",
          "toyota/da Matta",
          "minardi/Baumgartner",
          "minardi/Bruni",
          "sauber/Fisichella",
          "jordan/Glock",
          "jordan/Heidfeld",
          "jaguar/Klien",
          "jordan/Pantano",
          "williams/Pizzonia",
          "renault/Villeneuve",
          "toyota/Zonta",
          "minardi/Albers",
          "red_bull/Coulthard",
          "bar/Davidson",
          "minardi/Doornbos",
          "renault/Fisichella",
          "minardi/Friesacher",
          "williams/Heidfeld",
          "jordan/Karthikeyan",
          "red_bull/Klien",
          "red_bull/Liuzzi",
          "jordan/Monteiro",
          "mclaren/Pablo Montoya",
          "toyota/Schumacher",
          "toyota/Trulli",
          "sauber/Villeneuve",
          "williams/Webber",
          "mclaren/Wurz",
          "mclaren/de la Rosa",
          "mf1/Albers",
          "honda/Barrichello",
          "honda/Button",
          "red_bull/Doornbos",
          "bmw_sauber/Heidfeld",
          "super_aguri/Ide",
          "bmw_sauber/Kubica",
          "toro_rosso/Liuzzi",
          "ferrari/Massa",
          "super_aguri/Montagny",
          "mf1/Monteiro",
          "super_aguri/Sato",
          "toro_rosso/Speed",
          "bmw_sauber/Villeneuve",
          "super_aguri/Yamamoto",
          "spyker/Albers",
          "mclaren/Alonso",
          "super_aguri/Davidson",
          "mclaren/Hamilton",
          "renault/Kovalainen",
          "williams/Nakajima",
          "ferrari/Räikkönen",
          "spyker/Sutil",
          "bmw_sauber/Vettel",
          "red_bull/Webber",
          "williams/Wurz",
          "spyker/Yamamoto",
          "toro_rosso/Bourdais",
          "force_india/Fisichella",
          "toyota/Glock",
          "mclaren/Kovalainen",
          "renault/Piquet Jr.",
          "force_india/Sutil",
          "toro_rosso/Vettel",
          "toro_rosso/Alguersuari",
          "ferrari/Badoer",
          "brawn/Barrichello",
          "toro_rosso/Buemi",
          "brawn/Button",
          "renault/Grosjean",
          "toyota/Kobayashi",
          "force_india/Liuzzi",
          "red_bull/Vettel",
          "ferrari/Alonso",
          "williams/Barrichello",
          "mclaren/Button",
          "hrt/Chandhok",
          "virgin/Glock",
          "williams/Hülkenberg",
          "hrt/Klien",
          "sauber/Kobayashi",
          "lotus_racing/Kovalainen",
          "renault/Kubica",
          "renault/Petrov",
          "mercedes/Rosberg",
          "mercedes/Schumacher",
          "hrt/Senna",
          "lotus_racing/Trulli",
          "hrt/Yamamoto",
          "sauber/de la Rosa",
          "virgin/di Grassi",
          "lotus_racing/Chandhok",
          "renault/Heidfeld",
          "hrt/Karthikeyan",
          "hrt/Liuzzi",
          "williams/Maldonado",
          "sauber/Pérez",
          "hrt/Ricciardo",
          "renault/Senna",
          "virgin/d'Ambrosio",
          "force_india/di Resta",
          "marussia/Glock",
          "lotus_f1/Grosjean",
          "force_india/Hülkenberg",
          "caterham/Kovalainen",
          "caterham/Petrov",
          "marussia/Pic",
          "toro_rosso/Ricciardo",
          "lotus_f1/Räikkönen",
          "toro_rosso/Vergne",
          "lotus_f1/d'Ambrosio",
          "hrt/de la Rosa",
          "marussia/Bianchi",
          "williams/Bottas",
          "marussia/Chilton",
          "sauber/Gutiérrez",
          "mercedes/Hamilton",
          "sauber/Hülkenberg",
          "lotus_f1/Kovalainen",
          "caterham/Pic",
          "mclaren/Pérez",
          "caterham/van der Garde",
          "caterham/Ericsson",
          "caterham/Kobayashi",
          "toro_rosso/Kvyat",
          "caterham/Lotterer",
          "lotus_f1/Maldonado",
          "williams/Massa",
          "force_india/Pérez",
          "red_bull/Ricciardo",
          "caterham/Stevens",
          "sauber/Sutil",
          "sauber/Ericsson",
          "red_bull/Kvyat",
          "manor/Merhi",
          "sauber/Nasr",
          "manor/Rossi",
          "toro_rosso/Sainz",
          "manor/Stevens",
          "toro_rosso/Verstappen",
          "ferrari/Vettel",
          "haas/Grosjean",
          "haas/Gutiérrez",
          "manor/Haryanto",
          "renault/Magnussen",
          "manor/Ocon",
          "renault/Palmer",
          "mclaren/Vandoorne",
          "manor/Wehrlein",
          "mercedes/Bottas",
          "toro_rosso/Gasly",
          "sauber/Giovinazzi",
          "toro_rosso/Hartley",
          "renault/Hülkenberg",
          "haas/Magnussen",
          "force_india/Ocon",
          "williams/Stroll",
          "red_bull/Verstappen",
          "sauber/Wehrlein",
          "williams/di Resta",
          "sauber/Leclerc",
          "renault/Sainz",
          "williams/Sirotkin",
          "toro_rosso/Albon",
          "red_bull/Gasly",
          "alfa/Giovinazzi",
          "williams/Kubica",
          "ferrari/Leclerc",
          "mclaren/Norris",
          "racing_point/Pérez",
          "renault/Ricciardo",
          "williams/Russell",
          "alfa/Räikkönen",
          "mclaren/Sainz",
          "racing_point/Stroll",
          "williams/Aitken",
          "red_bull/Albon",
          "haas/Fittipaldi",
          "alphatauri/Gasly",
          "racing_point/Hülkenberg",
          "alphatauri/Kvyat",
          "williams/Latifi",
          "renault/Ocon",
          "alpine/Alonso",
          "alfa/Kubica",
          "haas/Mazepin",
          "alpine/Ocon",
          "red_bull/Pérez",
          "mclaren/Ricciardo",
          "ferrari/Sainz",
          "haas/Schumacher",
          "aston_martin/Stroll",
          "alphatauri/Tsunoda",
          "aston_martin/Vettel",
          "williams/Albon",
          "alfa/Bottas",
          "aston_martin/Hülkenberg",
          "mercedes/Russell",
          "alfa/Zhou",
          "williams/de Vries",
          "aston_martin/Alonso",
          "alpine/Gasly",
          "haas/Hülkenberg",
          "alphatauri/Lawson",
          "mclaren/Piastri",
          "alphatauri/Ricciardo",
          "williams/Sargeant",
          "alphatauri/de Vries",
          "ferrari/Bearman",
          "sauber/Bottas",
          "williams/Colapinto",
          "alpine/Doohan",
          "rb/Lawson",
          "rb/Ricciardo",
          "rb/Tsunoda",
          "sauber/Zhou",
          "rae",
          "kurtis_kraft",
          "ferrari",
          "maserati",
          "deidt",
          "lago",
          "adams",
          "stevens",
          "lesovsky",
          "alta",
          "ewing",
          "alfa",
          "marchese",
          "era",
          "langley",
          "olson",
          "simca",
          "watson",
          "nichels",
          "cooper",
          "snowberger",
          "moore",
          "hwm",
          "schroeder",
          "pawl",
          "kuzma",
          "veritas",
          "sherman",
          "hall",
          "brm",
          "osca",
          "trevis",
          "bromme",
          "butterworth",
          "bmw",
          "gordini",
          "frazer_nash",
          "connaught",
          "cisitalia",
          "afm",
          "emw",
          "turner",
          "del_roy",
          "vanwall",
          "mercedes",
          "phillips",
          "klenk",
          "pankratz",
          "lancia",
          "arzani-volpini",
          "epperly",
          "emeryson",
          "porsche",
          "dunn",
          "team_lotus",
          "cooper-climax",
          "cooper-borgward",
          "cooper-maserati",
          "elder",
          "sutton",
          "jbw",
          "fry",
          "aston_martin",
          "vhristensen",
          "cooper-osca",
          "cooper-castellotti",
          "scarab",
          "behra-porsche",
          "meskowski",
          "lotus-climax",
          "de_tomaso-alfa_romeo",
          "gilby",
          "de_tomaso-osca",
          "mbm",
          "lotus-maserati",
          "tomaso",
          "cooper-alfa_romeo",
          "lotus-borgward",
          "lola",
          "lotus-brm",
          "lds",
          "ats",
          "stebro",
          "scirocco",
          "brabham",
          "de_tomaso-ferrari",
          "lotus-ford",
          "brabham-climax",
          "honda",
          "derrington",
          "brabham-ford",
          "brabham-brm",
          "brp",
          "cooper-ford",
          "lds-alfa_romeo",
          "re",
          "lds-climax",
          "brabham-repco",
          "eagle-climax",
          "cooper-ferrari",
          "mclaren-ford",
          "protos",
          "matra",
          "mclaren-brm",
          "cooper-ats",
          "matra-ford",
          "cooper-brm",
          "eagle-weslake",
          "march",
          "mclaren-alfa_romeo",
          "bellasi",
          "march-ford",
          "surtees",
          "mclaren",
          "tyrrell",
          "lotus-pw",
          "march-alfa_romeo",
          "tecno",
          "connew",
          "shadow",
          "iso_marlboro",
          "ensign",
          "amon",
          "parnelli",
          "token",
          "penske",
          "lyncar",
          "trojan",
          "williams",
          "hesketh",
          "fittipaldi",
          "maki",
          "shadow-ford",
          "hill",
          "wolf",
          "kojima",
          "ligier",
          "brabham-alfa_romeo",
          "boro",
          "renault",
          "apollon",
          "mcguire",
          "lec",
          "martini",
          "theodore",
          "merzario",
          "arrows",
          "kauhsen",
          "osella",
          "toleman",
          "ram",
          "spirit",
          "zakspeed",
          "minardi",
          "benetton",
          "ags",
          "larrousse",
          "coloni",
          "dallara",
          "eurobrun",
          "rial",
          "onyx",
          "leyton",
          "life",
          "footwork",
          "jordan",
          "fondmetal",
          "lambo",
          "sauber",
          "pacific",
          "simtek",
          "forti",
          "stewart",
          "prost",
          "bar",
          "jaguar",
          "toyota",
          "red_bull",
          "mf1",
          "bmw_sauber",
          "super_aguri",
          "toro_rosso",
          "spyker",
          "force_india",
          "brawn",
          "hrt",
          "virgin",
          "lotus_racing",
          "marussia",
          "lotus_f1",
          "caterham",
          "manor",
          "haas",
          "racing_point",
          "alphatauri",
          "alpine",
          "rb"
         ],
         "labels": [
          "Ader",
          "Agabashian",
          "Ascari",
          "Banks",
          "Bettenhausen",
          "Biondetti",
          "Bira",
          "Bonetto",
          "Branca",
          "Brown",
          "Cabantous",
          "Cantrell",
          "Carter",
          "Chaboud",
          "Chiron",
          "Chitwood",
          "Claes",
          "Comotti",
          "Connor",
          "Crossley",
          "Davies",
          "Dinsmore",
          "Fagioli",
          "Fangio",
          "Farina",
          "Faulkner",
          "Flaherty",
          "Fohr",
          "Fry",
          "Gerard",
          "González",
          "Green",
          "Hampshire",
          "Hanks",
          "Harrison",
          "Hartley",
          "Hellings",
          "Holland",
          "Holmes",
          "Hoyt",
          "Jackson",
          "Johnson",
          "Kelly",
          "Levegh",
          "Levrett",
          "Louveau",
          "Mairesse",
          "Manzon",
          "Martin",
          "McDowell",
          "McGrath",
          "Murray",
          "Pagani",
          "Parnell",
          "Parsons",
          "Pietsch",
          "Pián",
          "Pozzi",
          "Rathmann",
          "Rol",
          "Rolt",
          "Rose",
          "Rosier",
          "Russo",
          "Ruttman",
          "Sanesi",
          "Schell",
          "Schindler",
          "Serafini",
          "Shawe Taylor",
          "Sommer",
          "Taruffi",
          "Trintignant",
          "Villoresi",
          "Walker",
          "Wallard",
          "Webb",
          "Whitehead",
          "de Graffenried",
          "Étancelin",
          "Abecassis",
          "Ayulo",
          "Ball",
          "Banks",
          "Bonetto",
          "Carter",
          "Davies",
          "Dinsmore",
          "Faulkner",
          "Fischer",
          "Forberg",
          "Force",
          "Fotheringham-Parker",
          "Godia",
          "González",
          "Gordini",
          "Griffith",
          "Grignard",
          "Hamilton",
          "Hellings",
          "Hirt",
          "James",
          "Jover",
          "Landi",
          "Linden",
          "Mackey",
          "Marimón",
          "McDowell",
          "Miller",
          "Moss",
          "Nalon",
          "Nazaruk",
          "Parnell",
          "Pietsch",
          "Pilette",
          "Richardson",
          "Rol",
          "Ruttman",
          "Scarborough",
          "Schell",
          "Schindler",
          "Shawe Taylor",
          "Simon",
          "Stevenson",
          "Swaters",
          "Taruffi",
          "Vukovich",
          "Walker",
          "Wallard",
          "Ward",
          "de Graffenried",
          "Aston",
          "Ayulo",
          "Ball",
          "Balsa",
          "Banks",
          "Bayol",
          "Bechem",
          "Behra",
          "Bianco",
          "Bira",
          "Brandon",
          "Brown",
          "Brudes",
          "Bryan",
          "Cabantous",
          "Cantoni",
          "Carini",
          "Carter",
          "Claes",
          "Collins",
          "Comotti",
          "Connor",
          "Crespo",
          "Crook",
          "Cross",
          "Downing",
          "Dusio",
          "Farina",
          "Flinterman",
          "Fonder",
          "Frère",
          "Gaze",
          "Hamilton",
          "Hartley",
          "Hawthorn",
          "Heeks",
          "Helfrich",
          "Hirt",
          "James",
          "Johnson",
          "Klenk",
          "Klodwig",
          "Krause",
          "Landi",
          "Laurent",
          "Legat",
          "Linden",
          "Macklin",
          "Manzon",
          "McAlpine",
          "Montgomerie-Charrington",
          "Murray",
          "Niedermayr",
          "O'Brien",
          "Parnell",
          "Peters",
          "Pietsch",
          "Poore",
          "Rathmann",
          "Reece",
          "Riess",
          "Rigsby",
          "Rosier",
          "Ruttman",
          "Salvadori",
          "Schindler",
          "Schoeller",
          "Scott",
          "Simon",
          "Stevenson",
          "Sweikert",
          "Thompson",
          "Ulmen",
          "Vukovich",
          "Ward",
          "Webb",
          "Wharton",
          "Whitehead",
          "de Terra",
          "de Tornaco",
          "van der Lof",
          "von Stuck",
          "Étancelin",
          "Adolff",
          "Ayulo",
          "Barber",
          "Barth",
          "Bauer",
          "Bechem",
          "Berger",
          "Bettenhausen",
          "Bira",
          "Birger",
          "Bryan",
          "Chiron",
          "Claes",
          "Crook",
          "Cruz",
          "Davies",
          "Daywalt",
          "Fairman",
          "Fangio",
          "Fitch",
          "Fitzau",
          "Flaherty",
          "Freeland",
          "Gerard",
          "Gálvez",
          "Hawthorn",
          "Heeks",
          "Herrmann",
          "Holland",
          "Holmes",
          "Johnson",
          "Karch",
          "Lang",
          "Linden",
          "Loof",
          "Maglioli",
          "Mantovani",
          "Mantz",
          "McCoy",
          "Menditeguy",
          "Mieres",
          "Moss",
          "Musso",
          "Nazaruk",
          "Niday",
          "Nuckey",
          "Pilette",
          "Rolt",
          "Russo",
          "Salvadori",
          "Schell",
          "Scherrer",
          "Scott",
          "Seidel",
          "Stevenson",
          "Stewart",
          "Swaters",
          "Sweikert",
          "Teague",
          "Thomson",
          "Trintignant",
          "Wacker",
          "Webb",
          "Wharton",
          "Whitehead",
          "de Terra",
          "Armi",
          "Ascari",
          "Bayol",
          "Beauman",
          "Berger",
          "Bettenhausen",
          "Bryan",
          "Bucci",
          "Carter",
          "Collins",
          "Crockett",
          "Daponte",
          "Duncan",
          "Elisian",
          "Fangio",
          "Flockhart",
          "Fonder",
          "Freeland",
          "Frère",
          "González",
          "Gould",
          "Helfrich",
          "Herrmann",
          "Homeier",
          "Johnson",
          "Kladis",
          "Kling",
          "Lang",
          "Linden",
          "Loyer",
          "Manzon",
          "Marr",
          "McCoy",
          "Menditeguy",
          "Mieres",
          "Moss",
          "Niday",
          "O'Connor",
          "Pilette",
          "Pollet",
          "Reece",
          "Riseley-Prichard",
          "Salvadori",
          "Scott",
          "Thomson",
          "Thorne",
          "Trintignant",
          "Villoresi",
          "Volonterio",
          "Ward",
          "Wharton",
          "Whitehouse",
          "de Riu",
          "Andrews",
          "Ascari",
          "Behra",
          "Birger",
          "Boyd",
          "Brabham",
          "Bucci",
          "Carter",
          "Castellotti",
          "Chiron",
          "Claes",
          "Collins",
          "Crawford",
          "Elisian",
          "Fairman",
          "Fitch",
          "Frère",
          "Gould",
          "Hawthorn",
          "Herman",
          "Hoyt",
          "Iglesias",
          "Keller",
          "Lucas",
          "Macklin",
          "Moss",
          "Perdisa",
          "Piotti",
          "Rathmann",
          "Rosier",
          "Simon",
          "Sparken",
          "Templeman",
          "Thomson",
          "Uria",
          "Villoresi",
          "Walker",
          "Ward",
          "Weyant",
          "Wharton",
          "Whiteaway",
          "da Silva Ramos",
          "Andrews",
          "Bonnier",
          "Brabham",
          "Brooks",
          "Castellotti",
          "Chapman",
          "Christie",
          "Collins",
          "Emery",
          "Fangio",
          "Flaherty",
          "Flockhart",
          "Garrett",
          "Gendebien",
          "Gerini",
          "Griffith",
          "Halford",
          "Hartley",
          "Hawthorn",
          "Johnson",
          "Leston",
          "Maglioli",
          "Milhoux",
          "Musso",
          "Piotti",
          "Reece",
          "Scarlatti",
          "Schell",
          "Scott Brown",
          "Scotti",
          "Simon",
          "Taruffi",
          "Titterington",
          "Tolan",
          "Trintignant",
          "Turner",
          "Veith",
          "de Portago",
          "von Trips",
          "Barth",
          "Brooks",
          "Bueb",
          "Cheesbourg",
          "Edmunds",
          "England",
          "Fairman",
          "Freeland",
          "George",
          "Gibson",
          "Gregory",
          "Hanks",
          "Hartley",
          "Herman",
          "Herrmann",
          "Leston",
          "Lewis-Evans",
          "MacDowel",
          "MacKay-Fraser",
          "Magill",
          "Maglioli",
          "Marsh",
          "Naylor",
          "Perdisa",
          "Ruttman",
          "Sachs",
          "Salvadori",
          "Scarlatti",
          "Veith",
          "Ward",
          "Weyant",
          "de Beaufort",
          "de Tomaso",
          "Allison",
          "Amick",
          "Bettenhausen",
          "Bisch",
          "Bridger",
          "Bryan",
          "Burgess",
          "Cabianca",
          "Ecclestone",
          "Elisian",
          "Emery",
          "Flockhart",
          "Foyt",
          "Garrett",
          "Goethals",
          "Goldsmith",
          "Guelfi",
          "Hill",
          "Kavanagh",
          "Kessler",
          "La Caze",
          "Larson",
          "Lewis-Evans",
          "McLaren",
          "Moss",
          "Picard",
          "Piotti",
          "Reece",
          "Ruttman",
          "Salvadori",
          "Seidel",
          "Shelby",
          "Stacey",
          "Sutton",
          "Taramazzo",
          "Templeman",
          "Testut",
          "Thomson",
          "Tolan",
          "Trintignant",
          "Turner",
          "Unser",
          "Weyant",
          "Wilson",
          "de Filippis",
          "Allison",
          "Amick",
          "Arnold",
          "Ashdown",
          "Behra",
          "Bianchi",
          "Blanchard",
          "Bonnier",
          "Boyd",
          "Brabham",
          "Branson",
          "Bristow",
          "Brooks",
          "Bueb",
          "Burgess",
          "Cabianca",
          "Cabral",
          "Cade",
          "Cheesbourg",
          "Constantine",
          "Crawford",
          "Davis",
          "Fairman",
          "Fontes",
          "Goldsmith",
          "Greene",
          "Gregory",
          "Grim",
          "Gurney",
          "Halford",
          "Herrmann",
          "Ireland",
          "Keller",
          "Larson",
          "Lovely",
          "Lucienbonnet",
          "Magill",
          "McLaren",
          "McWithey",
          "Moss",
          "Naylor",
          "Parkes",
          "Parnell",
          "Piper",
          "Said",
          "Salvadori",
          "Schell",
          "Shelby",
          "Sutton",
          "Taylor",
          "Thomson",
          "Trintignant",
          "Turner",
          "Veith",
          "d'Orey",
          "de Changy",
          "de Filippis",
          "de Tomaso",
          "von Trips",
          "Bettenhausen",
          "Bonomi",
          "Bristow",
          "Brooks",
          "Cabianca",
          "Chimeri",
          "Clark",
          "Creus",
          "Daigh",
          "Drake",
          "Drogo",
          "Estéfano",
          "Flockhart",
          "Foyt",
          "Gamble",
          "Gendebien",
          "Ginther",
          "Greene",
          "Gregory",
          "Grim",
          "Gurney",
          "Halford",
          "Hall",
          "Herman",
          "Herrmann",
          "Hill",
          "Homeier",
          "Hurtubise",
          "Larreta",
          "Lovely",
          "Mairesse",
          "McWithey",
          "Menditeguy",
          "Munaron",
          "Owen",
          "Reventlow",
          "Ruby",
          "Sachs",
          "Salvadori",
          "Schell",
          "Seidel",
          "Stevenson",
          "Surtees",
          "Sutton",
          "Thiele",
          "Tingelstad",
          "Trintignant",
          "Veith",
          "Ward",
          "Weiler",
          "Wilson",
          "de Beaufort",
          "Allison",
          "Ashmore",
          "Baghetti",
          "Bandini",
          "Bianchi",
          "Boffa",
          "Bonnier",
          "Bordeu",
          "Burgess",
          "Bussinello",
          "Campbell-Jones",
          "Clark",
          "Collomb",
          "Duke",
          "Gendebien",
          "Greene",
          "Gurney",
          "Hall",
          "Hansgen",
          "Ireland",
          "Lewis",
          "Lippi",
          "Maggs",
          "Mairesse",
          "Marsh",
          "May",
          "Miles",
          "Monteverdi",
          "Moss",
          "Natili",
          "Parnell",
          "Penske",
          "Pilette",
          "Pirocchi",
          "Prinoth",
          "Rodríguez",
          "Ruby",
          "Ryan",
          "Scarlatti",
          "Seidel",
          "Sharp",
          "Starrabba",
          "Surtees",
          "Taylor",
          "Thiele",
          "Vaccarella",
          "Abate",
          "Arundell",
          "Ashmore",
          "Bandini",
          "Bianchi",
          "Brabham",
          "Burgess",
          "Campbell-Jones",
          "Chamberlain",
          "Davis",
          "Estéfano",
          "Ginther",
          "Greene",
          "Gregory",
          "Harris",
          "Hill",
          "Hocking",
          "Johnstone",
          "Kuhnke",
          "Lederle",
          "Love",
          "Maggs",
          "Marsh",
          "Mayer",
          "Penske",
          "Pieterse",
          "Pon",
          "Salvadori",
          "Schiller",
          "Schroeder",
          "Seidel",
          "Seiffert",
          "Serrurier",
          "Settember",
          "Shelly",
          "Siffert",
          "Slotemaker",
          "Surtees",
          "Tingle",
          "Trintignant",
          "Vaccarella",
          "Walter",
          "van der Vyver",
          "Abate",
          "Amon",
          "Anderson",
          "Arundell",
          "Baghetti",
          "Bandini",
          "Bianchi",
          "Blokdyk",
          "Bonnier",
          "Brambilla",
          "Broeker",
          "Burgess",
          "Cabral",
          "Campbell-Jones",
          "Collomb",
          "Dochnal",
          "Driver",
          "Gregory",
          "Gurney",
          "Hailwood",
          "Hall",
          "Hansgen",
          "Hill",
          "Ireland",
          "Lippi",
          "Mitter",
          "Monarch",
          "Niemann",
          "Pilette",
          "Prophet",
          "Raby",
          "Rodríguez",
          "Scarfiotti",
          "Settember",
          "Sharp",
          "Siffert",
          "Solana",
          "Spence",
          "Surtees",
          "Tingle",
          "Trintignant",
          "Ward",
          "de Klerk",
          "de Vos",
          "Amon",
          "Anderson",
          "Attwood",
          "Baghetti",
          "Barth",
          "Brabham",
          "Bucknum",
          "Cabral",
          "Collomb",
          "Gardner",
          "Gurney",
          "Hailwood",
          "Hill",
          "Maggs",
          "Mitter",
          "Pilette",
          "Raby",
          "Revson",
          "Rindt",
          "Russo",
          "Sharp",
          "Solana",
          "Taylor",
          "Trintignant",
          "Attwood",
          "Baghetti",
          "Bassi",
          "Bianchi",
          "Blignaut",
          "Blokdyk",
          "Bondurant",
          "Bonnier",
          "Bussinello",
          "Charlton",
          "Clapham",
          "Gardner",
          "Ginther",
          "Gregory",
          "Gubby",
          "Hawkins",
          "Hulme",
          "Maggs",
          "Pretorius",
          "Prophet",
          "Puzey",
          "Reed",
          "Rhodes",
          "Rindt",
          "Rollinson",
          "Russo",
          "Serrurier",
          "Siffert",
          "Stewart",
          "Tingle",
          "Vaccarella",
          "Amon",
          "Arundell",
          "Bondurant",
          "Bonnier",
          "Brabham",
          "Ginther",
          "Gurney",
          "Ireland",
          "Irwin",
          "Lawrence",
          "Ligier",
          "McLaren",
          "Parkes",
          "Rindt",
          "Solana",
          "Spence",
          "Taylor",
          "Wilson",
          "Ahrens",
          "Amon",
          "Attwood",
          "Baghetti",
          "Beltoise",
          "Botha",
          "Charlton",
          "Clark",
          "Courage",
          "Fisher",
          "Ginther",
          "Hahne",
          "Hart",
          "Hill",
          "Hobbs",
          "Hulme",
          "Ickx",
          "Irwin",
          "Jones",
          "McLaren",
          "Moser",
          "Oliver",
          "Pease",
          "Rees",
          "Rodríguez",
          "Schlesser",
          "Servoz-Gavin",
          "Siffert",
          "Solana",
          "Spence",
          "Surtees",
          "Tingle",
          "Williams",
          "Ahrens",
          "Andretti",
          "Bell",
          "Beltoise",
          "Bianchi",
          "Brack",
          "Charlton",
          "Clark",
          "Courage",
          "Elford",
          "Gardner",
          "Gurney",
          "Hill",
          "Hobbs",
          "Hulme",
          "Ickx",
          "Love",
          "Moser",
          "Pescarolo",
          "Pretorius",
          "Redman",
          "Rindt",
          "Rodríguez",
          "Scarfiotti",
          "Schlesser",
          "Servoz-Gavin",
          "Stewart",
          "Unser",
          "Widdows",
          "de Adamich",
          "van Rooyen",
          "Attwood",
          "Bell",
          "Bonnier",
          "Brabham",
          "Brack",
          "Cordts",
          "Courage",
          "Eaton",
          "Elford",
          "Hulme",
          "Ickx",
          "Love",
          "Lovely",
          "Miles",
          "Moser",
          "Oliver",
          "Rindt",
          "Siffert",
          "Surtees",
          "Tingle",
          "de Klerk",
          "van Rooyen",
          "Amon",
          "Andretti",
          "Bell",
          "Bonnier",
          "Brabham",
          "Cevert",
          "Charlton",
          "Courage",
          "Fittipaldi",
          "Galli",
          "Gethin",
          "Giunti",
          "Gurney",
          "Hahne",
          "Hutchison",
          "Love",
          "Miles",
          "Moser",
          "Peterson",
          "Redman",
          "Regazzoni",
          "Rindt",
          "Schenken",
          "Servoz-Gavin",
          "Siffert",
          "Soler-Roig",
          "Stewart",
          "Stommelen",
          "Surtees",
          "Westbury",
          "Wisell",
          "de Adamich",
          "de Klerk",
          "Amon",
          "Andretti",
          "Barber",
          "Bell",
          "Beuttler",
          "Bonnier",
          "Cannon",
          "Cevert",
          "Charlton",
          "Craft",
          "Donohue",
          "Elford",
          "Fittipaldi",
          "Galli",
          "Ganley",
          "Gethin",
          "Hailwood",
          "Hill",
          "Hobbs",
          "Hulme",
          "Jarier",
          "Jean",
          "Lauda",
          "Love",
          "Marko",
          "Mazet",
          "Oliver",
          "Pescarolo",
          "Peterson",
          "Posey",
          "Pretorius",
          "Redman",
          "Revson",
          "Schenken",
          "Siffert",
          "Soler-Roig",
          "Stewart",
          "Stommelen",
          "Surtees",
          "Walker",
          "Wisell",
          "de Adamich",
          "van Lennep",
          "Barber",
          "Bell",
          "Beltoise",
          "Beuttler",
          "Depailler",
          "Galli",
          "Gethin",
          "Lauda",
          "Love",
          "Merzario",
          "Migault",
          "Pace",
          "Pescarolo",
          "Redman",
          "Reutemann",
          "Revson",
          "Scheckter",
          "Schenken",
          "Soler-Roig",
          "Stommelen",
          "Walker",
          "Wisell",
          "de Adamich",
          "Amon",
          "Bueno",
          "Fittipaldi",
          "Follmer",
          "Galli",
          "Ganley",
          "Hill",
          "Hunt",
          "Jarier",
          "Keizan",
          "Lauda",
          "Mass",
          "McRae",
          "Oliver",
          "Pace",
          "Peterson",
          "Pretorius",
          "Purley",
          "Regazzoni",
          "Schenken",
          "Watson",
          "Williamson",
          "Wisell",
          "van Lennep",
          "von Opel",
          "Amon",
          "Andretti",
          "Ashley",
          "Belsø",
          "Brambilla",
          "Charlton",
          "Dolhem",
          "Donohue",
          "Driver",
          "Edwards",
          "Facetti",
          "Fittipaldi",
          "Ganley",
          "Gethin",
          "Hailwood",
          "Hill",
          "Ickx",
          "Jabouille",
          "Jarier",
          "Kinnunen",
          "Koinigg",
          "Laffite",
          "Larrousse",
          "Lauda",
          "Lombardi",
          "Merzario",
          "Migault",
          "Nicholson",
          "Perkins",
          "Pescarolo",
          "Pilette",
          "Pryce",
          "Purley",
          "Quester",
          "Redman",
          "Revson",
          "Robarts",
          "Roos",
          "Scheckter",
          "Schenken",
          "Schuppan",
          "Stommelen",
          "Stuck",
          "Wietzes",
          "Wilds",
          "von Opel",
          "Amon",
          "Ashley",
          "Brise",
          "Crawford",
          "Ertl",
          "Evans",
          "Fittipaldi",
          "Fushida",
          "Henton",
          "Hunt",
          "Jabouille",
          "Jarier",
          "Jones",
          "Keizan",
          "Laffite",
          "Leclère",
          "Lombardi",
          "Lunger",
          "Magee",
          "Mass",
          "Merzario",
          "Migault",
          "Morgan",
          "Pace",
          "Palm",
          "Pryce",
          "Schuppan",
          "Trimmer",
          "Tunmer",
          "Vonlanthen",
          "Watson",
          "Wilds",
          "Wunderink",
          "Zorzi",
          "van Lennep",
          "Andersson",
          "Andretti",
          "Ashley",
          "Binder",
          "Brown",
          "Edwards",
          "Evans",
          "Galica",
          "Hasemi",
          "Hoffmann",
          "Hoshino",
          "Hunt",
          "Ickx",
          "Jones",
          "Kessel",
          "Laffite",
          "Leclère",
          "Lunger",
          "Magee",
          "Merzario",
          "Nelleman",
          "Nilsson",
          "Nève",
          "Pace",
          "Perkins",
          "Pescarolo",
          "Pesenti-Rossi",
          "Pryce",
          "Reutemann",
          "Ribeiro",
          "Stommelen",
          "Stuppacher",
          "Takahara",
          "Watson",
          "Wilds",
          "Zapico",
          "de Villota",
          "Andersson",
          "Ashley",
          "Binder",
          "Bleekemolen",
          "Brambilla",
          "Edwards",
          "Francia",
          "Giacomelli",
          "Henton",
          "Heyer",
          "Hoshino",
          "Ickx",
          "Jabouille",
          "Jarier",
          "Jones",
          "Keegan",
          "Kessel",
          "Kozarowitzky",
          "Leoni",
          "Lunger",
          "McGuire",
          "Nève",
          "Ongais",
          "Patrese",
          "Perkins",
          "Peterson",
          "Pilette",
          "Purley",
          "Rebaque",
          "Regazzoni",
          "Reutemann",
          "Ribeiro",
          "Scheckter",
          "Schuppan",
          "Sutcliffe",
          "Takahara",
          "Takahashi",
          "Tambay",
          "Trimmer",
          "Villeneuve",
          "Zorzi",
          "de Dryver",
          "de Villota",
          "Arnoux",
          "Binder",
          "Bleekemolen",
          "Cheever",
          "Colombo",
          "Daly",
          "Ertl",
          "Franchi",
          "Gabbiani",
          "Galica",
          "Jarier",
          "Jones",
          "Keegan",
          "Lauda",
          "Lees",
          "Leoni",
          "Lunger",
          "Mass",
          "Merzario",
          "Ongais",
          "Patrese",
          "Piquet",
          "Pironi",
          "Rahal",
          "Rebaque",
          "Regazzoni",
          "Rosberg",
          "Scheckter",
          "Stommelen",
          "Stuck",
          "Tambay",
          "Trimmer",
          "Villeneuve",
          "Arnoux",
          "Brambilla",
          "Brancatelli",
          "Daly",
          "Depailler",
          "Gaillard",
          "Giacomelli",
          "Hunt",
          "Ickx",
          "Jarier",
          "Lammers",
          "Lauda",
          "Lees",
          "Mass",
          "Piquet",
          "Regazzoni",
          "Reutemann",
          "Ribeiro",
          "Rosberg",
          "Scheckter",
          "Stuck",
          "Surer",
          "Watson",
          "Zunino",
          "de Angelis",
          "Cheever",
          "Cogan",
          "Daly",
          "Depailler",
          "Ertl",
          "Johansson",
          "Keegan",
          "Kennedy",
          "Lammers",
          "Lees",
          "Mansell",
          "Needell",
          "Piquet",
          "Pironi",
          "Prost",
          "Rebaque",
          "Reutemann",
          "Rosberg",
          "South",
          "Surer",
          "Thackwell",
          "Wilson",
          "Winkelhock",
          "Zunino",
          "de Angelis",
          "de Cesaris",
          "Alboreto",
          "Andretti",
          "Borgudd",
          "Cheever",
          "Cogan",
          "Daly",
          "Francia",
          "Gabbiani",
          "Ghinzani",
          "Guerra",
          "Henton",
          "Jabouille",
          "Jarier",
          "Londoño",
          "Pironi",
          "Prost",
          "Salazar",
          "Serra",
          "Stohr",
          "Tambay",
          "Villeneuve Sr.",
          "Warwick",
          "Zunino",
          "de Cesaris",
          "Andretti",
          "Baldi",
          "Boesel",
          "Borgudd",
          "Byrne",
          "Cheever",
          "Daly",
          "Fabi",
          "Guerrero",
          "Henton",
          "Jarier",
          "Keegan",
          "Lammers",
          "Lauda",
          "Lees",
          "Mass",
          "Moreno",
          "Paletti",
          "Patrese",
          "Rosberg",
          "Salazar",
          "Surer",
          "Tambay",
          "Winkelhock",
          "de Villota",
          "Acheson",
          "Arnoux",
          "Baldi",
          "Boesel",
          "Boutsen",
          "Cecotto",
          "Cheever",
          "Fabi",
          "Giacomelli",
          "Guerrero",
          "Johansson",
          "Jones",
          "Palmer",
          "Salazar",
          "Schlesser",
          "Serra",
          "Sullivan",
          "Villeneuve Sr.",
          "Alboreto",
          "Alliot",
          "Baldi",
          "Bellof",
          "Berger",
          "Brundle",
          "Cecotto",
          "Cheever",
          "Fabi",
          "Gartner",
          "Hesnault",
          "Johansson",
          "Martini",
          "Palmer",
          "Patrese",
          "Rothengatter",
          "Senna",
          "Streiff",
          "Tambay",
          "Thackwell",
          "Warwick",
          "de Cesaris",
          "Berger",
          "Capelli",
          "Danner",
          "Hesnault",
          "Jones",
          "Mansell",
          "Martini",
          "Palmer",
          "Rothengatter",
          "Senna",
          "Streiff",
          "Surer",
          "Winkelhock",
          "Alliot",
          "Arnoux",
          "Berg",
          "Berger",
          "Caffi",
          "Capelli",
          "Cheever",
          "Danner",
          "Dumfries",
          "Fabi",
          "Johansson",
          "Nannini",
          "Piquet",
          "Rosberg",
          "Rothengatter",
          "Streiff",
          "Tambay",
          "Warwick",
          "de Angelis",
          "de Cesaris",
          "Alliot",
          "Berger",
          "Boutsen",
          "Brundle",
          "Campos",
          "Capelli",
          "Cheever",
          "Dalmas",
          "Fabre",
          "Forini",
          "Ghinzani",
          "Johansson",
          "Larini",
          "Modena",
          "Moreno",
          "Nakajima",
          "Palmer",
          "Tarquini",
          "Warwick",
          "de Cesaris",
          "Bailey",
          "Brundle",
          "Caffi",
          "Ghinzani",
          "Gugelmin",
          "Johansson",
          "Larini",
          "Larrauri",
          "Modena",
          "Nannini",
          "Patrese",
          "Piquet",
          "Pérez-Sala",
          "Raphanel",
          "Schlesser",
          "Schneider",
          "Senna",
          "Streiff",
          "Suzuki",
          "Tarquini",
          "de Cesaris",
          "Alesi",
          "Barilla",
          "Bernard",
          "Bertaggia",
          "Boutsen",
          "Brundle",
          "Danner",
          "Donnelly",
          "Foitek",
          "Gachot",
          "Grouillard",
          "Herbert",
          "Johansson",
          "Järvilehto",
          "Mansell",
          "Moreno",
          "Pirro",
          "Raphanel",
          "Suzuki",
          "Tarquini",
          "Weidler",
          "Winkelhock",
          "de Cesaris",
          "Alboreto",
          "Berger",
          "Caffi",
          "Capelli",
          "Dalmas",
          "Donnelly",
          "Foitek",
          "Gachot",
          "Giacomelli",
          "Grouillard",
          "Gugelmin",
          "Herbert",
          "Langes",
          "Larini",
          "Morbidelli",
          "Moreno",
          "Nakajima",
          "Piquet",
          "Pirro",
          "Prost",
          "Schneider",
          "Warwick",
          "Alboreto",
          "Alesi",
          "Bailey",
          "Barbazza",
          "Bartels",
          "Blundell",
          "Boutsen",
          "Caffi",
          "Chaves",
          "Comas",
          "Gachot",
          "Grouillard",
          "Hattori",
          "Häkkinen",
          "Johansson",
          "Järvilehto",
          "Larini",
          "Modena",
          "Morbidelli",
          "Moreno",
          "Schumacher",
          "Wendlinger",
          "Zanardi",
          "de Cesaris",
          "van de Poele",
          "Belmondo",
          "Brundle",
          "Capelli",
          "Fittipaldi",
          "Gachot",
          "Grouillard",
          "Gugelmin",
          "Katayama",
          "Lammers",
          "Larini",
          "Martini",
          "Modena",
          "Naspetti",
          "Schumacher",
          "Suzuki",
          "Tarquini",
          "Wendlinger",
          "de Cesaris",
          "van de Poele",
          "Alboreto",
          "Andretti",
          "Badoer",
          "Barbazza",
          "Barrichello",
          "Blundell",
          "Boutsen",
          "Brundle",
          "Comas",
          "Hill",
          "Häkkinen",
          "Irvine",
          "Järvilehto",
          "Katayama",
          "Lamy",
          "Patrese",
          "Prost",
          "Warwick",
          "Wendlinger",
          "Zanardi",
          "Adams",
          "Alboreto",
          "Alliot",
          "Belmondo",
          "Beretta",
          "Bernard",
          "Blundell",
          "Brabham",
          "Brundle",
          "Coulthard",
          "Délétraz",
          "Fittipaldi",
          "Frentzen",
          "Gachot",
          "Gounon",
          "Inoue",
          "Järvilehto",
          "Lagorce",
          "Montermini",
          "Morbidelli",
          "Noda",
          "Panis",
          "Ratzenberger",
          "Salo",
          "Schiattarella",
          "Senna",
          "Suzuki",
          "Verstappen",
          "de Cesaris",
          "Badoer",
          "Blundell",
          "Boullion",
          "Diniz",
          "Délétraz",
          "Inoue",
          "Lamy",
          "Magnussen",
          "Mansell",
          "Montermini",
          "Moreno",
          "Papis",
          "Salo",
          "Suzuki",
          "Tarquini",
          "Verstappen",
          "Alesi",
          "Badoer",
          "Brundle",
          "Coulthard",
          "Diniz",
          "Fisichella",
          "Herbert",
          "Irvine",
          "Lavaggi",
          "Montermini",
          "Rosset",
          "Schumacher",
          "Verstappen",
          "Villeneuve",
          "Barrichello",
          "Diniz",
          "Fisichella",
          "Fontana",
          "Frentzen",
          "Hill",
          "Katayama",
          "Larini",
          "Magnussen",
          "Marques",
          "Morbidelli",
          "Nakano",
          "Panis",
          "Trulli",
          "Verstappen",
          "Wurz",
          "Alesi",
          "Fisichella",
          "Hill",
          "Nakano",
          "Rosset",
          "Salo",
          "Takagi",
          "Trulli",
          "Tuero",
          "Verstappen",
          "Diniz",
          "Frentzen",
          "Gené",
          "Herbert",
          "Salo",
          "Takagi",
          "Villeneuve",
          "Zanardi",
          "Zonta",
          "de la Rosa",
          "Alesi",
          "Barrichello",
          "Burti",
          "Button",
          "Heidfeld",
          "Herbert",
          "Irvine",
          "Mazzacane",
          "Salo",
          "Trulli",
          "Verstappen",
          "Alonso",
          "Bernoldi",
          "Button",
          "Enge",
          "Heidfeld",
          "Mazzacane",
          "Pablo Montoya",
          "Panis",
          "Räikkönen",
          "Yoong",
          "Zonta",
          "de la Rosa",
          "Button",
          "Frentzen",
          "Massa",
          "McNish",
          "Räikkönen",
          "Salo",
          "Sato",
          "Trulli",
          "Webber",
          "Alonso",
          "Baumgartner",
          "Button",
          "Firman",
          "Gené",
          "Kiesa",
          "Panis",
          "Pizzonia",
          "Sato",
          "Schumacher",
          "Verstappen",
          "Webber",
          "Wilson",
          "da Matta",
          "Baumgartner",
          "Bruni",
          "Fisichella",
          "Glock",
          "Heidfeld",
          "Klien",
          "Pantano",
          "Pizzonia",
          "Villeneuve",
          "Zonta",
          "Albers",
          "Coulthard",
          "Davidson",
          "Doornbos",
          "Fisichella",
          "Friesacher",
          "Heidfeld",
          "Karthikeyan",
          "Klien",
          "Liuzzi",
          "Monteiro",
          "Pablo Montoya",
          "Schumacher",
          "Trulli",
          "Villeneuve",
          "Webber",
          "Wurz",
          "de la Rosa",
          "Albers",
          "Barrichello",
          "Button",
          "Doornbos",
          "Heidfeld",
          "Ide",
          "Kubica",
          "Liuzzi",
          "Massa",
          "Montagny",
          "Monteiro",
          "Sato",
          "Speed",
          "Villeneuve",
          "Yamamoto",
          "Albers",
          "Alonso",
          "Davidson",
          "Hamilton",
          "Kovalainen",
          "Nakajima",
          "Räikkönen",
          "Sutil",
          "Vettel",
          "Webber",
          "Wurz",
          "Yamamoto",
          "Bourdais",
          "Fisichella",
          "Glock",
          "Kovalainen",
          "Piquet Jr.",
          "Sutil",
          "Vettel",
          "Alguersuari",
          "Badoer",
          "Barrichello",
          "Buemi",
          "Button",
          "Grosjean",
          "Kobayashi",
          "Liuzzi",
          "Vettel",
          "Alonso",
          "Barrichello",
          "Button",
          "Chandhok",
          "Glock",
          "Hülkenberg",
          "Klien",
          "Kobayashi",
          "Kovalainen",
          "Kubica",
          "Petrov",
          "Rosberg",
          "Schumacher",
          "Senna",
          "Trulli",
          "Yamamoto",
          "de la Rosa",
          "di Grassi",
          "Chandhok",
          "Heidfeld",
          "Karthikeyan",
          "Liuzzi",
          "Maldonado",
          "Pérez",
          "Ricciardo",
          "Senna",
          "d'Ambrosio",
          "di Resta",
          "Glock",
          "Grosjean",
          "Hülkenberg",
          "Kovalainen",
          "Petrov",
          "Pic",
          "Ricciardo",
          "Räikkönen",
          "Vergne",
          "d'Ambrosio",
          "de la Rosa",
          "Bianchi",
          "Bottas",
          "Chilton",
          "Gutiérrez",
          "Hamilton",
          "Hülkenberg",
          "Kovalainen",
          "Pic",
          "Pérez",
          "van der Garde",
          "Ericsson",
          "Kobayashi",
          "Kvyat",
          "Lotterer",
          "Maldonado",
          "Massa",
          "Pérez",
          "Ricciardo",
          "Stevens",
          "Sutil",
          "Ericsson",
          "Kvyat",
          "Merhi",
          "Nasr",
          "Rossi",
          "Sainz",
          "Stevens",
          "Verstappen",
          "Vettel",
          "Grosjean",
          "Gutiérrez",
          "Haryanto",
          "Magnussen",
          "Ocon",
          "Palmer",
          "Vandoorne",
          "Wehrlein",
          "Bottas",
          "Gasly",
          "Giovinazzi",
          "Hartley",
          "Hülkenberg",
          "Magnussen",
          "Ocon",
          "Stroll",
          "Verstappen",
          "Wehrlein",
          "di Resta",
          "Leclerc",
          "Sainz",
          "Sirotkin",
          "Albon",
          "Gasly",
          "Giovinazzi",
          "Kubica",
          "Leclerc",
          "Norris",
          "Pérez",
          "Ricciardo",
          "Russell",
          "Räikkönen",
          "Sainz",
          "Stroll",
          "Aitken",
          "Albon",
          "Fittipaldi",
          "Gasly",
          "Hülkenberg",
          "Kvyat",
          "Latifi",
          "Ocon",
          "Alonso",
          "Kubica",
          "Mazepin",
          "Ocon",
          "Pérez",
          "Ricciardo",
          "Sainz",
          "Schumacher",
          "Stroll",
          "Tsunoda",
          "Vettel",
          "Albon",
          "Bottas",
          "Hülkenberg",
          "Russell",
          "Zhou",
          "de Vries",
          "Alonso",
          "Gasly",
          "Hülkenberg",
          "Lawson",
          "Piastri",
          "Ricciardo",
          "Sargeant",
          "de Vries",
          "Bearman",
          "Bottas",
          "Colapinto",
          "Doohan",
          "Lawson",
          "Ricciardo",
          "Tsunoda",
          "Zhou",
          "rae",
          "kurtis_kraft",
          "ferrari",
          "maserati",
          "deidt",
          "lago",
          "adams",
          "stevens",
          "lesovsky",
          "alta",
          "ewing",
          "alfa",
          "marchese",
          "era",
          "langley",
          "olson",
          "simca",
          "watson",
          "nichels",
          "cooper",
          "snowberger",
          "moore",
          "hwm",
          "schroeder",
          "pawl",
          "kuzma",
          "veritas",
          "sherman",
          "hall",
          "brm",
          "osca",
          "trevis",
          "bromme",
          "butterworth",
          "bmw",
          "gordini",
          "frazer_nash",
          "connaught",
          "cisitalia",
          "afm",
          "emw",
          "turner",
          "del_roy",
          "vanwall",
          "mercedes",
          "phillips",
          "klenk",
          "pankratz",
          "lancia",
          "arzani-volpini",
          "epperly",
          "emeryson",
          "porsche",
          "dunn",
          "team_lotus",
          "cooper-climax",
          "cooper-borgward",
          "cooper-maserati",
          "elder",
          "sutton",
          "jbw",
          "fry",
          "aston_martin",
          "vhristensen",
          "cooper-osca",
          "cooper-castellotti",
          "scarab",
          "behra-porsche",
          "meskowski",
          "lotus-climax",
          "de_tomaso-alfa_romeo",
          "gilby",
          "de_tomaso-osca",
          "mbm",
          "lotus-maserati",
          "tomaso",
          "cooper-alfa_romeo",
          "lotus-borgward",
          "lola",
          "lotus-brm",
          "lds",
          "ats",
          "stebro",
          "scirocco",
          "brabham",
          "de_tomaso-ferrari",
          "lotus-ford",
          "brabham-climax",
          "honda",
          "derrington",
          "brabham-ford",
          "brabham-brm",
          "brp",
          "cooper-ford",
          "lds-alfa_romeo",
          "re",
          "lds-climax",
          "brabham-repco",
          "eagle-climax",
          "cooper-ferrari",
          "mclaren-ford",
          "protos",
          "matra",
          "mclaren-brm",
          "cooper-ats",
          "matra-ford",
          "cooper-brm",
          "eagle-weslake",
          "march",
          "mclaren-alfa_romeo",
          "bellasi",
          "march-ford",
          "surtees",
          "mclaren",
          "tyrrell",
          "lotus-pw",
          "march-alfa_romeo",
          "tecno",
          "connew",
          "shadow",
          "iso_marlboro",
          "ensign",
          "amon",
          "parnelli",
          "token",
          "penske",
          "lyncar",
          "trojan",
          "williams",
          "hesketh",
          "fittipaldi",
          "maki",
          "shadow-ford",
          "hill",
          "wolf",
          "kojima",
          "ligier",
          "brabham-alfa_romeo",
          "boro",
          "renault",
          "apollon",
          "mcguire",
          "lec",
          "martini",
          "theodore",
          "merzario",
          "arrows",
          "kauhsen",
          "osella",
          "toleman",
          "ram",
          "spirit",
          "zakspeed",
          "minardi",
          "benetton",
          "ags",
          "larrousse",
          "coloni",
          "dallara",
          "eurobrun",
          "rial",
          "onyx",
          "leyton",
          "life",
          "footwork",
          "jordan",
          "fondmetal",
          "lambo",
          "sauber",
          "pacific",
          "simtek",
          "forti",
          "stewart",
          "prost",
          "bar",
          "jaguar",
          "toyota",
          "red_bull",
          "mf1",
          "bmw_sauber",
          "super_aguri",
          "toro_rosso",
          "spyker",
          "force_india",
          "brawn",
          "hrt",
          "virgin",
          "lotus_racing",
          "marussia",
          "lotus_f1",
          "caterham",
          "manor",
          "haas",
          "racing_point",
          "alphatauri",
          "alpine",
          "rb"
         ],
         "name": "",
         "parents": [
          "rae",
          "kurtis_kraft",
          "ferrari",
          "maserati",
          "deidt",
          "ferrari",
          "maserati",
          "maserati",
          "maserati",
          "kurtis_kraft",
          "lago",
          "adams",
          "stevens",
          "lago",
          "maserati",
          "kurtis_kraft",
          "lago",
          "maserati",
          "lesovsky",
          "alta",
          "ewing",
          "kurtis_kraft",
          "alfa",
          "alfa",
          "alfa",
          "kurtis_kraft",
          "kurtis_kraft",
          "marchese",
          "maserati",
          "era",
          "maserati",
          "kurtis_kraft",
          "maserati",
          "kurtis_kraft",
          "era",
          "langley",
          "kurtis_kraft",
          "deidt",
          "olson",
          "kurtis_kraft",
          "kurtis_kraft",
          "era",
          "alta",
          "lago",
          "adams",
          "lago",
          "lago",
          "simca",
          "lago",
          "kurtis_kraft",
          "kurtis_kraft",
          "maserati",
          "maserati",
          "alfa",
          "kurtis_kraft",
          "maserati",
          "maserati",
          "lago",
          "watson",
          "maserati",
          "era",
          "deidt",
          "lago",
          "nichels",
          "lesovsky",
          "alfa",
          "cooper",
          "snowberger",
          "ferrari",
          "maserati",
          "ferrari",
          "alfa",
          "simca",
          "ferrari",
          "era",
          "moore",
          "maserati",
          "ferrari",
          "maserati",
          "lago",
          "hwm",
          "kurtis_kraft",
          "schroeder",
          "moore",
          "alfa",
          "deidt",
          "pawl",
          "schroeder",
          "kuzma",
          "ferrari",
          "kurtis_kraft",
          "kurtis_kraft",
          "maserati",
          "maserati",
          "lago",
          "simca",
          "kurtis_kraft",
          "lago",
          "lago",
          "deidt",
          "veritas",
          "watson",
          "maserati",
          "ferrari",
          "sherman",
          "hall",
          "maserati",
          "maserati",
          "kurtis_kraft",
          "hwm",
          "kurtis_kraft",
          "kurtis_kraft",
          "ferrari",
          "alfa",
          "lago",
          "brm",
          "osca",
          "kurtis_kraft",
          "kurtis_kraft",
          "maserati",
          "kurtis_kraft",
          "era",
          "simca",
          "marchese",
          "lago",
          "ferrari",
          "trevis",
          "brm",
          "kurtis_kraft",
          "bromme",
          "alfa",
          "butterworth",
          "lesovsky",
          "stevens",
          "bmw",
          "lesovsky",
          "osca",
          "bmw",
          "gordini",
          "maserati",
          "simca",
          "cooper",
          "cooper",
          "veritas",
          "kurtis_kraft",
          "hwm",
          "maserati",
          "ferrari",
          "lesovsky",
          "gordini",
          "hwm",
          "ferrari",
          "kurtis_kraft",
          "maserati",
          "frazer_nash",
          "kurtis_kraft",
          "connaught",
          "cisitalia",
          "ferrari",
          "maserati",
          "sherman",
          "hwm",
          "hwm",
          "hwm",
          "kurtis_kraft",
          "cooper",
          "afm",
          "veritas",
          "ferrari",
          "kurtis_kraft",
          "trevis",
          "veritas",
          "bmw",
          "bmw",
          "maserati",
          "hwm",
          "veritas",
          "kurtis_kraft",
          "hwm",
          "gordini",
          "connaught",
          "butterworth",
          "cooper",
          "afm",
          "simca",
          "cooper",
          "veritas",
          "veritas",
          "connaught",
          "kurtis_kraft",
          "kurtis_kraft",
          "veritas",
          "watson",
          "ferrari",
          "kuzma",
          "ferrari",
          "stevens",
          "ferrari",
          "kurtis_kraft",
          "ferrari",
          "kurtis_kraft",
          "kurtis_kraft",
          "connaught",
          "veritas",
          "kurtis_kraft",
          "kurtis_kraft",
          "bromme",
          "frazer_nash",
          "alta",
          "simca",
          "ferrari",
          "hwm",
          "afm",
          "maserati",
          "ferrari",
          "kuzma",
          "cooper",
          "emw",
          "veritas",
          "afm",
          "simca",
          "kuzma",
          "connaught",
          "simca",
          "schroeder",
          "osca",
          "connaught",
          "cooper",
          "cooper",
          "kurtis_kraft",
          "kurtis_kraft",
          "hwm",
          "maserati",
          "hwm",
          "afm",
          "kuzma",
          "watson",
          "cooper",
          "maserati",
          "ferrari",
          "veritas",
          "veritas",
          "kurtis_kraft",
          "kurtis_kraft",
          "kurtis_kraft",
          "veritas",
          "maserati",
          "stevens",
          "veritas",
          "ferrari",
          "maserati",
          "kurtis_kraft",
          "stevens",
          "gordini",
          "gordini",
          "connaught",
          "maserati",
          "turner",
          "kurtis_kraft",
          "cooper",
          "connaught",
          "connaught",
          "kurtis_kraft",
          "connaught",
          "gordini",
          "hwm",
          "bromme",
          "veritas",
          "kuzma",
          "connaught",
          "ferrari",
          "kuzma",
          "kurtis_kraft",
          "del_roy",
          "gordini",
          "gordini",
          "kurtis_kraft",
          "cooper",
          "cooper",
          "ferrari",
          "kurtis_kraft",
          "maserati",
          "gordini",
          "connaught",
          "gordini",
          "kurtis_kraft",
          "kuzma",
          "gordini",
          "kurtis_kraft",
          "vanwall",
          "kurtis_kraft",
          "maserati",
          "schroeder",
          "stevens",
          "mercedes",
          "maserati",
          "kurtis_kraft",
          "phillips",
          "gordini",
          "ferrari",
          "cooper",
          "klenk",
          "mercedes",
          "kurtis_kraft",
          "pawl",
          "bromme",
          "mercedes",
          "mercedes",
          "schroeder",
          "gordini",
          "ferrari",
          "connaught",
          "kurtis_kraft",
          "maserati",
          "maserati",
          "maserati",
          "stevens",
          "kurtis_kraft",
          "gordini",
          "gordini",
          "pankratz",
          "connaught",
          "maserati",
          "stevens",
          "nichels",
          "connaught",
          "ferrari",
          "maserati",
          "maserati",
          "pawl",
          "maserati",
          "connaught",
          "maserati",
          "schroeder",
          "lancia",
          "maserati",
          "gordini",
          "kurtis_kraft",
          "cooper",
          "maserati",
          "kuzma",
          "lancia",
          "lancia",
          "maserati",
          "maserati",
          "kurtis_kraft",
          "kurtis_kraft",
          "connaught",
          "maserati",
          "ferrari",
          "maserati",
          "vanwall",
          "kurtis_kraft",
          "stevens",
          "gordini",
          "kurtis_kraft",
          "gordini",
          "maserati",
          "mercedes",
          "maserati",
          "arzani-volpini",
          "epperly",
          "maserati",
          "mercedes",
          "gordini",
          "trevis",
          "kuzma",
          "maserati",
          "lancia",
          "maserati",
          "kuzma",
          "kurtis_kraft",
          "vanwall",
          "hwm",
          "gordini",
          "kurtis_kraft",
          "maserati",
          "maserati",
          "brm",
          "ferrari",
          "vanwall",
          "kurtis_kraft",
          "ferrari",
          "emeryson",
          "ferrari",
          "watson",
          "brm",
          "kuzma",
          "ferrari",
          "maserati",
          "stevens",
          "maserati",
          "kuzma",
          "maserati",
          "kuzma",
          "connaught",
          "maserati",
          "gordini",
          "ferrari",
          "maserati",
          "lesovsky",
          "ferrari",
          "vanwall",
          "connaught",
          "connaught",
          "maserati",
          "vanwall",
          "connaught",
          "kurtis_kraft",
          "vanwall",
          "kurtis_kraft",
          "kurtis_kraft",
          "ferrari",
          "ferrari",
          "porsche",
          "vanwall",
          "connaught",
          "kurtis_kraft",
          "kurtis_kraft",
          "cooper",
          "brm",
          "kurtis_kraft",
          "kurtis_kraft",
          "cooper",
          "maserati",
          "epperly",
          "lesovsky",
          "dunn",
          "maserati",
          "cooper",
          "connaught",
          "cooper",
          "brm",
          "kurtis_kraft",
          "porsche",
          "cooper",
          "cooper",
          "ferrari",
          "watson",
          "kuzma",
          "brm",
          "maserati",
          "phillips",
          "lesovsky",
          "kuzma",
          "porsche",
          "ferrari",
          "team_lotus",
          "epperly",
          "epperly",
          "kuzma",
          "cooper",
          "epperly",
          "cooper",
          "osca",
          "connaught",
          "watson",
          "connaught",
          "cooper",
          "kuzma",
          "kurtis_kraft",
          "cooper",
          "kurtis_kraft",
          "cooper",
          "team_lotus",
          "maserati",
          "connaught",
          "cooper",
          "watson",
          "vanwall",
          "cooper",
          "cooper",
          "cooper",
          "osca",
          "watson",
          "maserati",
          "cooper",
          "maserati",
          "maserati",
          "team_lotus",
          "kurtis_kraft",
          "maserati",
          "kurtis_kraft",
          "maserati",
          "kurtis_kraft",
          "kuzma",
          "cooper",
          "lesovsky",
          "kurtis_kraft",
          "dunn",
          "kuzma",
          "maserati",
          "ferrari",
          "kurtis_kraft",
          "kurtis_kraft",
          "cooper-climax",
          "ferrari",
          "cooper-climax",
          "porsche",
          "brm",
          "epperly",
          "cooper-climax",
          "phillips",
          "cooper-borgward",
          "ferrari",
          "cooper-climax",
          "cooper-maserati",
          "maserati",
          "cooper-maserati",
          "maserati",
          "kuzma",
          "cooper-borgward",
          "elder",
          "cooper-maserati",
          "cooper-climax",
          "maserati",
          "epperly",
          "cooper-climax",
          "cooper-climax",
          "kurtis_kraft",
          "ferrari",
          "team_lotus",
          "cooper-maserati",
          "team_lotus",
          "kuzma",
          "kurtis_kraft",
          "team_lotus",
          "cooper-climax",
          "sutton",
          "cooper-climax",
          "kurtis_kraft",
          "cooper-climax",
          "jbw",
          "fry",
          "cooper-climax",
          "team_lotus",
          "connaught",
          "cooper-maserati",
          "brm",
          "aston_martin",
          "lesovsky",
          "cooper-climax",
          "lesovsky",
          "cooper-climax",
          "vhristensen",
          "moore",
          "maserati",
          "cooper-climax",
          "porsche",
          "cooper-osca",
          "porsche",
          "watson",
          "cooper-maserati",
          "cooper-climax",
          "cooper-climax",
          "cooper-castellotti",
          "maserati",
          "team_lotus",
          "maserati",
          "scarab",
          "maserati",
          "cooper-climax",
          "maserati",
          "team_lotus",
          "kurtis_kraft",
          "behra-porsche",
          "cooper-climax",
          "ferrari",
          "cooper-maserati",
          "behra-porsche",
          "meskowski",
          "brm",
          "cooper-climax",
          "team_lotus",
          "ewing",
          "porsche",
          "brm",
          "kuzma",
          "vhristensen",
          "team_lotus",
          "cooper-castellotti",
          "ferrari",
          "epperly",
          "cooper-maserati",
          "maserati",
          "cooper-climax",
          "scarab",
          "watson",
          "ewing",
          "cooper-climax",
          "cooper-climax",
          "cooper-climax",
          "watson",
          "team_lotus",
          "watson",
          "cooper-maserati",
          "trevis",
          "cooper-maserati",
          "meskowski",
          "watson",
          "epperly",
          "kurtis_kraft",
          "cooper-climax",
          "lotus-climax",
          "lotus-climax",
          "ferrari",
          "cooper-maserati",
          "emeryson",
          "cooper-climax",
          "porsche",
          "lotus-climax",
          "lotus-climax",
          "de_tomaso-alfa_romeo",
          "cooper-climax",
          "lotus-climax",
          "cooper-climax",
          "cooper-climax",
          "emeryson",
          "gilby",
          "porsche",
          "lotus-climax",
          "cooper-climax",
          "lotus-climax",
          "cooper-climax",
          "de_tomaso-osca",
          "lotus-climax",
          "lotus-climax",
          "lotus-climax",
          "lotus-climax",
          "lotus-climax",
          "mbm",
          "lotus-climax",
          "cooper-maserati",
          "lotus-climax",
          "cooper-climax",
          "emeryson",
          "cooper-climax",
          "lotus-climax",
          "ferrari",
          "lotus-climax",
          "lotus-climax",
          "de_tomaso-osca",
          "lotus-climax",
          "cooper-climax",
          "lotus-maserati",
          "cooper-climax",
          "lotus-climax",
          "cooper-climax",
          "de_tomaso-alfa_romeo",
          "lotus-climax",
          "team_lotus",
          "brm",
          "ferrari",
          "lotus-climax",
          "lotus-climax",
          "cooper-climax",
          "lotus-climax",
          "lotus-climax",
          "porsche",
          "tomaso",
          "brm",
          "lotus-climax",
          "lotus-climax",
          "cooper-alfa_romeo",
          "ferrari",
          "lotus-climax",
          "brm",
          "lotus-borgward",
          "lotus-climax",
          "cooper-climax",
          "cooper-climax",
          "brm",
          "cooper-climax",
          "lotus-climax",
          "lotus-climax",
          "porsche",
          "lola",
          "porsche",
          "lotus-climax",
          "emeryson",
          "lotus-brm",
          "lds",
          "emeryson",
          "lotus-climax",
          "lotus-climax",
          "porsche",
          "lola",
          "lotus-climax",
          "lotus-climax",
          "lotus-climax",
          "porsche",
          "lotus-climax",
          "porsche",
          "lola",
          "lola",
          "lotus-climax",
          "ats",
          "brm",
          "lola",
          "cooper-maserati",
          "cooper-climax",
          "cooper-maserati",
          "stebro",
          "scirocco",
          "cooper-climax",
          "lotus-brm",
          "lotus-climax",
          "cooper-climax",
          "lotus-brm",
          "lotus-brm",
          "brabham",
          "lotus-climax",
          "lotus-brm",
          "lotus-climax",
          "ats",
          "lotus-brm",
          "de_tomaso-ferrari",
          "porsche",
          "lotus-climax",
          "lotus-ford",
          "lotus-climax",
          "brabham",
          "gilby",
          "lotus-climax",
          "ferrari",
          "scirocco",
          "lotus-brm",
          "lotus-brm",
          "brm",
          "lotus-climax",
          "ferrari",
          "lds",
          "lola",
          "lotus-brm",
          "alfa",
          "stebro",
          "lotus-brm",
          "brabham-climax",
          "brm",
          "brm",
          "cooper-climax",
          "brabham-climax",
          "honda",
          "derrington",
          "lotus-brm",
          "brabham-ford",
          "brabham-climax",
          "lotus-brm",
          "cooper-climax",
          "brm",
          "lotus-climax",
          "scirocco",
          "brabham-brm",
          "lotus-brm",
          "brabham-brm",
          "brabham-brm",
          "brabham-brm",
          "lotus-climax",
          "brp",
          "brm",
          "lotus-brm",
          "brabham-climax",
          "brm",
          "brm",
          "cooper-climax",
          "cooper-ford",
          "ferrari",
          "brabham-climax",
          "brm",
          "lotus-ford",
          "cooper-maserati",
          "brabham-brm",
          "honda",
          "brm",
          "lotus-climax",
          "brabham-ford",
          "brabham-climax",
          "lotus-brm",
          "lds-alfa_romeo",
          "brabham-ford",
          "lotus-climax",
          "re",
          "cooper-climax",
          "cooper-climax",
          "cooper-ford",
          "lotus-climax",
          "lds-climax",
          "brabham-brm",
          "brm",
          "lds-alfa_romeo",
          "ferrari",
          "cooper-maserati",
          "lotus-brm",
          "brm",
          "cooper-maserati",
          "brabham-repco",
          "cooper-maserati",
          "eagle-climax",
          "brm",
          "brabham-climax",
          "cooper-ferrari",
          "cooper-maserati",
          "mclaren-ford",
          "ferrari",
          "cooper-maserati",
          "cooper-maserati",
          "lotus-brm",
          "brabham-brm",
          "brm",
          "protos",
          "ferrari",
          "cooper-maserati",
          "lotus-ford",
          "matra",
          "brabham-climax",
          "brabham-climax",
          "lotus-brm",
          "lotus-brm",
          "lotus-brm",
          "eagle-climax",
          "lola",
          "protos",
          "lotus-brm",
          "brm",
          "brabham-repco",
          "matra",
          "lotus-brm",
          "cooper-climax",
          "mclaren-brm",
          "cooper-ats",
          "lotus-ford",
          "eagle-climax",
          "cooper-maserati",
          "cooper-maserati",
          "matra",
          "matra",
          "cooper-maserati",
          "lotus-ford",
          "brm",
          "honda",
          "lds-climax",
          "ferrari",
          "brabham-repco",
          "lotus-ford",
          "ferrari",
          "matra-ford",
          "cooper-brm",
          "lotus-ford",
          "brabham-repco",
          "lotus-ford",
          "brm",
          "cooper-brm",
          "brm",
          "eagle-weslake",
          "lotus-ford",
          "honda",
          "mclaren-brm",
          "ferrari",
          "brabham-repco",
          "brabham-repco",
          "matra",
          "brabham-climax",
          "cooper-maserati",
          "brabham-repco",
          "brm",
          "cooper-brm",
          "honda",
          "matra-ford",
          "matra-ford",
          "brm",
          "cooper-brm",
          "ferrari",
          "cooper-climax",
          "lotus-ford",
          "mclaren-ford",
          "lotus-ford",
          "brabham-ford",
          "brm",
          "brabham-climax",
          "brabham-ford",
          "brm",
          "cooper-maserati",
          "mclaren-ford",
          "brabham-ford",
          "lotus-ford",
          "lotus-ford",
          "lotus-ford",
          "brabham-ford",
          "brm",
          "lotus-ford",
          "lotus-ford",
          "brm",
          "brabham-repco",
          "brabham-repco",
          "mclaren-ford",
          "march",
          "march",
          "brabham",
          "mclaren-ford",
          "brabham",
          "march",
          "team_lotus",
          "tomaso",
          "team_lotus",
          "mclaren-alfa_romeo",
          "mclaren-ford",
          "ferrari",
          "mclaren-ford",
          "march",
          "brabham",
          "team_lotus",
          "team_lotus",
          "bellasi",
          "march",
          "tomaso",
          "ferrari",
          "team_lotus",
          "tomaso",
          "march",
          "march",
          "team_lotus",
          "march",
          "brabham",
          "mclaren-ford",
          "brm",
          "team_lotus",
          "mclaren-alfa_romeo",
          "brabham",
          "matra",
          "ferrari",
          "march-ford",
          "surtees",
          "march-ford",
          "mclaren",
          "brm",
          "tyrrell",
          "brabham",
          "brabham",
          "mclaren",
          "brm",
          "lotus-ford",
          "march-ford",
          "brm",
          "mclaren",
          "surtees",
          "brabham",
          "mclaren",
          "mclaren",
          "march-ford",
          "march-ford",
          "march-ford",
          "march-ford",
          "brm",
          "march-ford",
          "mclaren",
          "march-ford",
          "march-ford",
          "surtees",
          "brabham",
          "surtees",
          "tyrrell",
          "brabham",
          "brm",
          "march-ford",
          "tyrrell",
          "surtees",
          "surtees",
          "lotus-pw",
          "lotus-ford",
          "march-alfa_romeo",
          "surtees",
          "march",
          "tecno",
          "brm",
          "march",
          "tyrrell",
          "tecno",
          "brm",
          "march",
          "surtees",
          "ferrari",
          "connew",
          "march",
          "march",
          "mclaren",
          "brabham",
          "mclaren",
          "mclaren",
          "surtees",
          "brm",
          "march",
          "team_lotus",
          "brm",
          "surtees",
          "tecno",
          "surtees",
          "brabham",
          "shadow",
          "iso_marlboro",
          "iso_marlboro",
          "shadow",
          "march",
          "march",
          "tyrrell",
          "brm",
          "surtees",
          "iso_marlboro",
          "shadow",
          "surtees",
          "team_lotus",
          "iso_marlboro",
          "march",
          "brm",
          "iso_marlboro",
          "brabham",
          "march",
          "march",
          "iso_marlboro",
          "ensign",
          "amon",
          "parnelli",
          "token",
          "iso_marlboro",
          "march",
          "mclaren",
          "surtees",
          "penske",
          "team_lotus",
          "lola",
          "brabham",
          "mclaren",
          "march",
          "lola",
          "mclaren",
          "lola",
          "team_lotus",
          "iso_marlboro",
          "shadow",
          "surtees",
          "brabham",
          "iso_marlboro",
          "brabham",
          "ferrari",
          "brabham",
          "iso_marlboro",
          "brm",
          "lyncar",
          "amon",
          "brm",
          "brabham",
          "token",
          "token",
          "surtees",
          "shadow",
          "shadow",
          "brabham",
          "shadow",
          "tyrrell",
          "trojan",
          "ensign",
          "lola",
          "march",
          "brabham",
          "march",
          "brabham",
          "ensign",
          "williams",
          "williams",
          "team_lotus",
          "hesketh",
          "brm",
          "fittipaldi",
          "maki",
          "team_lotus",
          "hesketh",
          "tyrrell",
          "shadow-ford",
          "hesketh",
          "team_lotus",
          "williams",
          "tyrrell",
          "march",
          "hesketh",
          "williams",
          "mclaren",
          "williams",
          "lola",
          "surtees",
          "brabham",
          "hesketh",
          "shadow-ford",
          "hill",
          "maki",
          "team_lotus",
          "williams",
          "surtees",
          "brm",
          "ensign",
          "williams",
          "ensign",
          "surtees",
          "team_lotus",
          "brm",
          "ensign",
          "wolf",
          "hesketh",
          "team_lotus",
          "surtees",
          "kojima",
          "fittipaldi",
          "tyrrell",
          "mclaren",
          "wolf",
          "surtees",
          "brabham-ford",
          "ligier",
          "wolf",
          "surtees",
          "brabham-ford",
          "march",
          "brabham-ford",
          "team_lotus",
          "brabham-ford",
          "brabham-alfa_romeo",
          "boro",
          "surtees",
          "tyrrell",
          "shadow",
          "brabham-alfa_romeo",
          "hesketh",
          "brabham-alfa_romeo",
          "tyrrell",
          "surtees",
          "penske",
          "shadow",
          "williams",
          "brabham-ford",
          "brm",
          "hesketh",
          "surtees",
          "march",
          "surtees",
          "brm",
          "brabham",
          "mclaren",
          "march",
          "penske",
          "kojima",
          "ensign",
          "renault",
          "penske",
          "shadow",
          "hesketh",
          "apollon",
          "march",
          "surtees",
          "march",
          "mcguire",
          "march",
          "penske",
          "shadow",
          "brm",
          "tyrrell",
          "brm",
          "lec",
          "hesketh",
          "ensign",
          "ferrari",
          "march",
          "march",
          "surtees",
          "march",
          "kojima",
          "tyrrell",
          "surtees",
          "surtees",
          "mclaren",
          "shadow",
          "march",
          "mclaren",
          "martini",
          "ats",
          "ats",
          "theodore",
          "ats",
          "hesketh",
          "ensign",
          "surtees",
          "surtees",
          "hesketh",
          "ats",
          "williams",
          "surtees",
          "brabham",
          "ensign",
          "ensign",
          "mclaren",
          "ats",
          "merzario",
          "ensign",
          "arrows",
          "ensign",
          "tyrrell",
          "wolf",
          "team_lotus",
          "shadow",
          "theodore",
          "wolf",
          "arrows",
          "shadow",
          "mclaren",
          "mclaren",
          "ferrari",
          "renault",
          "alfa",
          "kauhsen",
          "ensign",
          "ligier",
          "ensign",
          "alfa",
          "wolf",
          "ligier",
          "tyrrell",
          "shadow",
          "brabham-alfa_romeo",
          "tyrrell",
          "arrows",
          "brabham-alfa_romeo",
          "williams",
          "team_lotus",
          "fittipaldi",
          "wolf",
          "ferrari",
          "ats",
          "ensign",
          "mclaren",
          "brabham-ford",
          "shadow",
          "osella",
          "williams",
          "tyrrell",
          "alfa",
          "ats",
          "shadow",
          "williams",
          "shadow",
          "ats",
          "shadow",
          "team_lotus",
          "ensign",
          "brabham",
          "ligier",
          "mclaren",
          "brabham",
          "williams",
          "fittipaldi",
          "mclaren",
          "ats",
          "arrows",
          "williams",
          "arrows",
          "brabham",
          "team_lotus",
          "alfa",
          "tyrrell",
          "alfa",
          "ats",
          "tyrrell",
          "tyrrell",
          "march",
          "osella",
          "osella",
          "osella",
          "osella",
          "toleman",
          "ligier",
          "ligier",
          "ensign",
          "ferrari",
          "renault",
          "march",
          "fittipaldi",
          "arrows",
          "theodore",
          "arrows",
          "toleman",
          "tyrrell",
          "mclaren",
          "williams",
          "arrows",
          "march",
          "tyrrell",
          "theodore",
          "ligier",
          "theodore",
          "toleman",
          "ensign",
          "arrows",
          "osella",
          "march",
          "theodore",
          "mclaren",
          "theodore",
          "march",
          "team_lotus",
          "osella",
          "brabham",
          "williams",
          "ats",
          "arrows",
          "ferrari",
          "ats",
          "march",
          "ram",
          "ferrari",
          "alfa",
          "ligier",
          "arrows",
          "theodore",
          "renault",
          "osella",
          "toleman",
          "theodore",
          "spirit",
          "arrows",
          "williams",
          "ram",
          "ram",
          "arrows",
          "tyrrell",
          "ram",
          "ferrari",
          "ram",
          "spirit",
          "tyrrell",
          "ats",
          "tyrrell",
          "toleman",
          "alfa",
          "brabham",
          "osella",
          "ligier",
          "tyrrell",
          "toleman",
          "ram",
          "alfa",
          "spirit",
          "toleman",
          "renault",
          "renault",
          "ram",
          "renault",
          "ligier",
          "arrows",
          "tyrrell",
          "zakspeed",
          "brabham",
          "lola",
          "williams",
          "minardi",
          "zakspeed",
          "osella",
          "team_lotus",
          "ligier",
          "brabham",
          "ram",
          "ligier",
          "ligier",
          "osella",
          "benetton",
          "osella",
          "ags",
          "lola",
          "osella",
          "team_lotus",
          "benetton",
          "ferrari",
          "minardi",
          "williams",
          "mclaren",
          "zakspeed",
          "tyrrell",
          "lola",
          "brabham",
          "brabham",
          "minardi",
          "larrousse",
          "ferrari",
          "benetton",
          "zakspeed",
          "minardi",
          "march",
          "arrows",
          "larrousse",
          "ags",
          "osella",
          "ligier",
          "mclaren",
          "coloni",
          "brabham",
          "ags",
          "team_lotus",
          "tyrrell",
          "osella",
          "arrows",
          "brabham",
          "tyrrell",
          "williams",
          "dallara",
          "zakspeed",
          "march",
          "ligier",
          "osella",
          "eurobrun",
          "eurobrun",
          "benetton",
          "williams",
          "team_lotus",
          "minardi",
          "larrousse",
          "williams",
          "zakspeed",
          "mclaren",
          "ags",
          "larrousse",
          "coloni",
          "rial",
          "tyrrell",
          "minardi",
          "larrousse",
          "coloni",
          "williams",
          "brabham",
          "rial",
          "arrows",
          "eurobrun",
          "onyx",
          "ligier",
          "benetton",
          "onyx",
          "onyx",
          "ferrari",
          "coloni",
          "benetton",
          "coloni",
          "zakspeed",
          "ags",
          "rial",
          "ags",
          "dallara",
          "arrows",
          "mclaren",
          "arrows",
          "leyton",
          "ags",
          "team_lotus",
          "onyx",
          "coloni",
          "life",
          "osella",
          "leyton",
          "team_lotus",
          "eurobrun",
          "ligier",
          "dallara",
          "eurobrun",
          "tyrrell",
          "benetton",
          "dallara",
          "ferrari",
          "arrows",
          "team_lotus",
          "footwork",
          "ferrari",
          "team_lotus",
          "ags",
          "team_lotus",
          "brabham",
          "ligier",
          "footwork",
          "coloni",
          "ligier",
          "jordan",
          "fondmetal",
          "coloni",
          "team_lotus",
          "ags",
          "dallara",
          "lambo",
          "tyrrell",
          "minardi",
          "benetton",
          "jordan",
          "leyton",
          "jordan",
          "jordan",
          "lambo",
          "march",
          "benetton",
          "ferrari",
          "minardi",
          "larrousse",
          "tyrrell",
          "jordan",
          "larrousse",
          "march",
          "ferrari",
          "dallara",
          "jordan",
          "march",
          "benetton",
          "footwork",
          "fondmetal",
          "march",
          "tyrrell",
          "brabham",
          "lola",
          "mclaren",
          "lola",
          "minardi",
          "jordan",
          "ligier",
          "jordan",
          "ligier",
          "larrousse",
          "williams",
          "mclaren",
          "jordan",
          "sauber",
          "tyrrell",
          "team_lotus",
          "benetton",
          "williams",
          "footwork",
          "sauber",
          "team_lotus",
          "team_lotus",
          "minardi",
          "mclaren",
          "pacific",
          "larrousse",
          "ligier",
          "tyrrell",
          "simtek",
          "mclaren",
          "williams",
          "larrousse",
          "footwork",
          "sauber",
          "pacific",
          "simtek",
          "simtek",
          "benetton",
          "ligier",
          "simtek",
          "footwork",
          "larrousse",
          "ligier",
          "simtek",
          "team_lotus",
          "simtek",
          "williams",
          "jordan",
          "benetton",
          "sauber",
          "minardi",
          "mclaren",
          "sauber",
          "forti",
          "pacific",
          "footwork",
          "minardi",
          "mclaren",
          "mclaren",
          "pacific",
          "forti",
          "footwork",
          "tyrrell",
          "ligier",
          "tyrrell",
          "simtek",
          "benetton",
          "forti",
          "jordan",
          "mclaren",
          "ligier",
          "minardi",
          "sauber",
          "ferrari",
          "minardi",
          "forti",
          "footwork",
          "ferrari",
          "footwork",
          "williams",
          "stewart",
          "arrows",
          "jordan",
          "sauber",
          "williams",
          "arrows",
          "minardi",
          "sauber",
          "stewart",
          "minardi",
          "sauber",
          "prost",
          "prost",
          "minardi",
          "tyrrell",
          "benetton",
          "sauber",
          "benetton",
          "jordan",
          "minardi",
          "tyrrell",
          "arrows",
          "tyrrell",
          "prost",
          "minardi",
          "stewart",
          "sauber",
          "jordan",
          "minardi",
          "stewart",
          "bar",
          "arrows",
          "bar",
          "williams",
          "bar",
          "arrows",
          "prost",
          "ferrari",
          "jaguar",
          "williams",
          "prost",
          "jaguar",
          "jaguar",
          "minardi",
          "sauber",
          "jordan",
          "arrows",
          "minardi",
          "arrows",
          "benetton",
          "prost",
          "sauber",
          "prost",
          "williams",
          "bar",
          "sauber",
          "minardi",
          "jordan",
          "jaguar",
          "renault",
          "arrows",
          "sauber",
          "toyota",
          "mclaren",
          "toyota",
          "jordan",
          "renault",
          "minardi",
          "renault",
          "jordan",
          "bar",
          "jordan",
          "williams",
          "minardi",
          "toyota",
          "jaguar",
          "bar",
          "williams",
          "minardi",
          "jaguar",
          "minardi",
          "toyota",
          "minardi",
          "minardi",
          "sauber",
          "jordan",
          "jordan",
          "jaguar",
          "jordan",
          "williams",
          "renault",
          "toyota",
          "minardi",
          "red_bull",
          "bar",
          "minardi",
          "renault",
          "minardi",
          "williams",
          "jordan",
          "red_bull",
          "red_bull",
          "jordan",
          "mclaren",
          "toyota",
          "toyota",
          "sauber",
          "williams",
          "mclaren",
          "mclaren",
          "mf1",
          "honda",
          "honda",
          "red_bull",
          "bmw_sauber",
          "super_aguri",
          "bmw_sauber",
          "toro_rosso",
          "ferrari",
          "super_aguri",
          "mf1",
          "super_aguri",
          "toro_rosso",
          "bmw_sauber",
          "super_aguri",
          "spyker",
          "mclaren",
          "super_aguri",
          "mclaren",
          "renault",
          "williams",
          "ferrari",
          "spyker",
          "bmw_sauber",
          "red_bull",
          "williams",
          "spyker",
          "toro_rosso",
          "force_india",
          "toyota",
          "mclaren",
          "renault",
          "force_india",
          "toro_rosso",
          "toro_rosso",
          "ferrari",
          "brawn",
          "toro_rosso",
          "brawn",
          "renault",
          "toyota",
          "force_india",
          "red_bull",
          "ferrari",
          "williams",
          "mclaren",
          "hrt",
          "virgin",
          "williams",
          "hrt",
          "sauber",
          "lotus_racing",
          "renault",
          "renault",
          "mercedes",
          "mercedes",
          "hrt",
          "lotus_racing",
          "hrt",
          "sauber",
          "virgin",
          "lotus_racing",
          "renault",
          "hrt",
          "hrt",
          "williams",
          "sauber",
          "hrt",
          "renault",
          "virgin",
          "force_india",
          "marussia",
          "lotus_f1",
          "force_india",
          "caterham",
          "caterham",
          "marussia",
          "toro_rosso",
          "lotus_f1",
          "toro_rosso",
          "lotus_f1",
          "hrt",
          "marussia",
          "williams",
          "marussia",
          "sauber",
          "mercedes",
          "sauber",
          "lotus_f1",
          "caterham",
          "mclaren",
          "caterham",
          "caterham",
          "caterham",
          "toro_rosso",
          "caterham",
          "lotus_f1",
          "williams",
          "force_india",
          "red_bull",
          "caterham",
          "sauber",
          "sauber",
          "red_bull",
          "manor",
          "sauber",
          "manor",
          "toro_rosso",
          "manor",
          "toro_rosso",
          "ferrari",
          "haas",
          "haas",
          "manor",
          "renault",
          "manor",
          "renault",
          "mclaren",
          "manor",
          "mercedes",
          "toro_rosso",
          "sauber",
          "toro_rosso",
          "renault",
          "haas",
          "force_india",
          "williams",
          "red_bull",
          "sauber",
          "williams",
          "sauber",
          "renault",
          "williams",
          "toro_rosso",
          "red_bull",
          "alfa",
          "williams",
          "ferrari",
          "mclaren",
          "racing_point",
          "renault",
          "williams",
          "alfa",
          "mclaren",
          "racing_point",
          "williams",
          "red_bull",
          "haas",
          "alphatauri",
          "racing_point",
          "alphatauri",
          "williams",
          "renault",
          "alpine",
          "alfa",
          "haas",
          "alpine",
          "red_bull",
          "mclaren",
          "ferrari",
          "haas",
          "aston_martin",
          "alphatauri",
          "aston_martin",
          "williams",
          "alfa",
          "aston_martin",
          "mercedes",
          "alfa",
          "williams",
          "aston_martin",
          "alpine",
          "haas",
          "alphatauri",
          "mclaren",
          "alphatauri",
          "williams",
          "alphatauri",
          "ferrari",
          "sauber",
          "williams",
          "alpine",
          "rb",
          "rb",
          "rb",
          "sauber",
          "",
          "",
          "",
          "",
          "",
          "",
          "",
          "",
          "",
          "",
          "",
          "",
          "",
          "",
          "",
          "",
          "",
          "",
          "",
          "",
          "",
          "",
          "",
          "",
          "",
          "",
          "",
          "",
          "",
          "",
          "",
          "",
          "",
          "",
          "",
          "",
          "",
          "",
          "",
          "",
          "",
          "",
          "",
          "",
          "",
          "",
          "",
          "",
          "",
          "",
          "",
          "",
          "",
          "",
          "",
          "",
          "",
          "",
          "",
          "",
          "",
          "",
          "",
          "",
          "",
          "",
          "",
          "",
          "",
          "",
          "",
          "",
          "",
          "",
          "",
          "",
          "",
          "",
          "",
          "",
          "",
          "",
          "",
          "",
          "",
          "",
          "",
          "",
          "",
          "",
          "",
          "",
          "",
          "",
          "",
          "",
          "",
          "",
          "",
          "",
          "",
          "",
          "",
          "",
          "",
          "",
          "",
          "",
          "",
          "",
          "",
          "",
          "",
          "",
          "",
          "",
          "",
          "",
          "",
          "",
          "",
          "",
          "",
          "",
          "",
          "",
          "",
          "",
          "",
          "",
          "",
          "",
          "",
          "",
          "",
          "",
          "",
          "",
          "",
          "",
          "",
          "",
          "",
          "",
          "",
          "",
          "",
          "",
          "",
          "",
          "",
          "",
          "",
          "",
          "",
          "",
          "",
          "",
          "",
          "",
          "",
          "",
          "",
          "",
          "",
          "",
          "",
          "",
          "",
          "",
          "",
          "",
          "",
          "",
          "",
          "",
          "",
          "",
          "",
          "",
          "",
          "",
          "",
          "",
          "",
          "",
          "",
          "",
          "",
          "",
          "",
          "",
          "",
          "",
          "",
          "",
          ""
         ],
         "type": "treemap",
         "values": {
          "bdata": "AAAAAAAAAAAAAAAAAAD4PwAAAAAAoFpAAAAAAAAAAAAAAAAAAADwPwAAAAAAAAAAAAAAAAAAIEAAAAAAAAAlQAAAAAAAAAAAAAAAAAAAAAAAAAAAAAAUQAAAAAAAAAAAAAAAAAAAAAAAAAAAAADwPwAAAAAAABBAAAAAAAAA8D8AAAAAAAAAAAAAAAAAAAAAAAAAAAAAAAAAAAAAAAAAAAAAAAAAAAAAAAAAAAAAAAAAAAAAAAA8QAAAAAAAAE1AAAAAAACASEAAAAAAAADwPwAAAAAAAAAAAAAAAAAAAAAAAAAAAAAAAAAAAAAAAAAAAAAAAAAANEAAAAAAAAAIQAAAAAAAAAAAAAAAAAAAKEAAAAAAAAAAAAAAAAAAAAAAAAAAAAAAAAAAAAAAAAAYQAAAAAAAAAAAAAAAAAAAAAAAAAAAAAAAAAAAAAAAAAAAAAAAAAAAAAAAAAAAAAAAAAAAAAAAAAAAAAAAAAAAAAAAAAAAAAAAAAAAAAAAAAhAAAAAAAAAAAAAAAAAAAAAAAAAAAAAACJAAAAAAAAAAAAAAAAAAAAAAAAAAAAAABBAAAAAAAAAKEAAAAAAAAAAAAAAAAAAAAAAAAAAAAAAAAAAAAAAAAAwQAAAAAAAAAAAAAAAAAAAAAAAAAAAAAAQQAAAAAAAADBAAAAAAAAAAAAAAAAAAAAAAAAAAAAAAAhAAAAAAAAAAAAAAAAAAAAAAAAAAAAAAAhAAAAAAAAAAAAAAAAAAAAIQAAAAAAAAAAAAAAAAAAAAEAAAAAAAABEQAAAAAAAAAAAAAAAAAAAAAAAAAAAAAAAAAAAAAAAABBAAAAAAAAAHEAAAAAAAAAIQAAAAAAAAAAAAAAAAAAAAEAAAAAAAAAAQAAAAAAAAAAAAAAAAAAAHEAAAAAAAAAAAAAAAAAAAAAAAAAAAAAAAAAAAAAAAAAAAAAAAAAAACRAAAAAAAAAAAAAAAAAAAAAAAAAAAAAAAAAAAAAAAAAGEAAAAAAAAA4QAAAAAAAAAAAAAAAAAAAAAAAAAAAAAAAAAAAAAAAAAAAAAAAAAAAAAAAAAAAAAAAAAAAAAAAAAAAAAAAAAAAAAAAAAAAAAAAAAAAAAAAAAhAAAAAAAAAAABI4XoUrkcgQAAAAAAAAAAAAAAAAAAAAAAAAAAAAAAAAAAAAAAAAAAAAAAAAAAAIEAAAAAAAAAUQAAAAAAAAAAAAAAAAAAAAAAAAAAAAAAAAAAAAAAAAAAAAAAAAAAA+D8AAAAAAAAAAAAAAAAAADhAAAAAAAAAAAAAAAAAAAAAAAAAAAAAAAAAAAAAAAAAAAAAAAAAAAAAAAAAAAAAgERAAAAAAAAAAAAAAAAAAAAAAAAAAAAAACJAAAAAAAAAAAAAAAAAAAAAQAAAAAAAAAAAAAAAAAAAAAAAAAAAAAAAAAAAAAAAAAAAAAAAAAAAAAAAAAAAAAAAAAAAAAAAAAAAAAAAAAAAGEAAAAAAAAAAAAAAAAAAAAAAAAAAAAAAAAAAAAAAAAAAQAAAAAAAAAAAAAAAAAAAAAAAAAAAAAAAAAAAAAAAAAAAAAAAAAAAAAAAAAAAAAAUQAAAAAAAAAAAAAAAAAAAAAAAAAAAAAAAAAAAAAAAAAAAAAAAAAAAAAAAAAAAAAAAAAAAAAAAACBAAAAAAAAAAAAAAAAAAAAAAIXrUbgelVBAAAAAAAAAAAAAAAAAAAAAAAAAAAAAAABAAAAAAAAAAAAAAAAAAAAAAAAAAAAAAAAAAAAAAAAAJEAAAAAAAAAAAAAAAAAAAAAAAAAAAAAAAAAAAAAAAAAAAAAAAAAAAPA/AAAAAAAAAAAAAAAAAAAAAAAAAAAAAAAAAAAAAAAA+D8AAAAAAAAAAAAAAAAAAAAAAAAAAAAAAEAAAAAAAAAAAAAAAAAAACJAAAAAAAAAAAAAAAAAAAAAAAAAAAAAAAAAAAAAAAAAAAAAAAAAAAAAAAAAAAAAAAAAAAAAAAAAAAAAAAAAAAAAAAAAAAAAAAhAAAAAAAAAIEAAAAAAAAAAAAAAAAAAAAAAAAAAAAAAAAAAAAAAAAAAAAAAAAAAACBAAAAAAAAAAAAAAAAAAAAAAAAAAAAAAAAAAAAAAAAAAAAAAAAAAAAAAAAAAAAAAAAAAAAAAAAAIEAAAAAAAAAAQAAAAAAAAAAAAAAAAAAAM0AAAAAAAAAgQAAAAAAAAAAAAAAAAAAACEAAAAAAAAAAAAAAAAAAAAAAAAAAAAAAAAAAAAAAAAAAAAAAAAAAAAAAAAAAAAAAAAAAAAAAAAAAAAAAAAAAAAAAAAAAAAAAAAAAAAAAAAAAAAAAAAAAAAAAAAAAAAAAAAAAAAAAAAAAAAAAAAAAAAAAAAAAAAAAAAAAAAAAAAAAAAAAAAAAAAAAAAAAAAAAAAAAAAAAAAAAAAAAAAAAAAAAAAAAAAAAAAAAAAAAAAAQQAAAAAAAAAAAAAAAAAAAAAAAAAAAAMBSQAAAAAAAAAAAAAAAAAAAAAAAAAAAAAAAAAAAAAAAAAAAAAAAAAAAAAAAAAAAAAAAQClcj8L1qFhAAAAAAAAAAAAAAAAAAAAAAAAAAAAAAAAAAAAAAAAAAAAAAAAAAAAAAAAAAAAAAAAAAAAAAAAAAEAAAAAAAAAAAAAAAAAAAAAApHA9CtejCkAAAAAAAAAQQAAAAAAAAAAAAAAAAAAAAAAAAAAAAAAAAAAAAAAAAAAAAAAAAAAAAAAAAAAAAAAoQAAAAAAAAAAAAAAAAAAAAAAAAAAAAAAAAAAAAAAAAAAAAAAAAAAAAAAAAAAAAAAhQAAAAAAAAAAAAAAAAAAAAAAAAAAAAAAAAAAAAAAAAAAAAAAAAAAAAAAAAAAAAAAAAAAAAAAAAAAAAAAAAAAAAAAAAAAAAAAAAAAAAAAAAAAAAAAAAAAAAAAAAAAAAAAQQAAAAAAAAAAAAAAAAAAAAAAAAAAAAAAAAAAAAAAAAAAAAAAAAAAAAAAAAAAAAAAAAAAAAAAAAPA/AAAAAAAAAEAAAAAAAAAAAAAAAAAAAAAAAAAAAAAACEAAAAAAAAAkQAAAAAAAAAAAAAAAAAAA+D8AAAAAAAAAAAAAAAAAAAAAAAAAAAAAAAAAAAAAAAAAAAAAAAAAAAAAAAAAAACAVEAAAAAAAAAAAAAAAAAAAAAAAAAAAAAAEEAAAAAAAAAAAKRwPQrXIzxAAAAAAAAAAAAAAAAAAAAAAAAAAAAAACJAAAAAAAAA8D8AAAAAAAAAAAAAAAAAAAAAAAAAAAAAMUAAAAAAAAAAAAAAAAAAAAAAAAAAAAAAAAAAAAAAAAAQQAAAAAAAAAAAAAAAAAAAAAAAAAAAAAAYQAAAAAAAACpAAAAAAAAATEAAAAAAAAAAAAAAAAAAAAAAAAAAAAAAAEAAAAAAAAAAAAAAAAAAAAAAAAAAAAAAAAAAAAAAAAAAAAAAAAAAAAAAAAAAAAAAAAAAAAAAAAAAAArXo3A9qkBAAAAAAAAAEEAAAAAAAAAAAAAAAAAAAAAAAAAAAAAAAAAAAAAAAAAAAAAAAAAAAAAAAAAAAAAAAAAAAAAAAAAAAAAAAAAAgEVAAAAAAAAAAAAAAAAAAAAQQAAAAAAAAAhAAAAAAAAAAAAAAAAAAAAAAAAAAAAAAChAAAAAAAAAAAAAAAAAAAAAAAAAAAAAAAAAAAAAAAAAAAAAAAAAAAAAAAAAAAAAABRAAAAAAAAAAAAAAAAAAAAiQAAAAAAAAABAAAAAAAAAAAAAAAAAAAAAAAAAAAAAAAAAAAAAAAAAAAAAAAAAAAAAAAAAAAAAAAAAAAAAAAAAAAAAAAAAAAA3QAAAAAAAABRAAAAAAAAAAAAAAAAAAAAcQAAAAAAAAABAAAAAAAAAAAAAAAAAAAAAAAAAAAAAAAAAAAAAAAAACEAAAAAAAAAAAAAAAAAAAABAAAAAAAAAAAAAAAAAAAAAAAAAAAAAAAAAAAAAAAAAAAAAAAAAAAAAAAAAAAAAAABAAAAAAAAAAAAAAAAAAAAIQAAAAAAAAAAAAAAAAAAAGEAAAAAAAAAeQAAAAAAAAAAAAAAAAAAAAAAAAAAAAIBHQAAAAAAAAAAAAAAAAAAAPkAAAAAAAAAgQAAAAAAAABBAAAAAAAAAAAAAAAAAAAAUQAAAAAAAAPg/AAAAAAAAAAAAAAAAAAAAAAAAAAAAAAAAAAAAAAAAEEAAAAAAAAAAAAAAAAAAAAAAAAAAAAAAAAAAAAAAAAAAAAAAAAAAAEBAAAAAAAAAAAAAAAAAAAAAAAAAAAAAAAAAAAAAAAAACEAAAAAAAAAAAAAAAAAAAAAAAAAAAAAAAAAAAAAAAAAAAAAAAAAAAAAAAAAAAAAAAAAAAAAAAAAAAAAAAAAAAAAAAAAAAAAAAAAAAAAAAAAQQAAAAAAAAExAAAAAAAAAAAAAAAAAAIBBQAAAAAAAAAAAAAAAAAAAAAAAAAAAAAAAAAAAAAAAAAAAAAAAAAAAAAAAAAAAAAAAAAAAAAAAAAAAAAAAAAAAAAAAAAAAAAAkQAAAAAAAACBAAAAAAAAAAAAAAAAAAAAAAAAAAAAAAAAAAAAAAAAAAAAAAAAAAAAUQAAAAAAAAAAAAAAAAAAAAAAAAAAAAAAAAAAAAAAAAAAAAAAAAAAAAAAAAAAAAAAAAAAAAAAAAAAAAAAAAAAAAAAAAAAAAAAAAAAAAAAAAABAAAAAAAAA8D8AAAAAAAAAAAAAAAAAAAAAAAAAAAAAAAAAAAAAAAAQQAAAAAAAAAAAAAAAAAAACEAAAAAAAAAYQAAAAAAAABxAAAAAAAAAAAAAAAAAAAAAAAAAAAAAACBAAAAAAAAAAAAAAAAAAAAAAAAAAAAAAAAAAAAAAAAAAAAAAAAAAAAAAAAAAAAAAAAAAAAAAAAAAAAAAAAAAAAAAAAAAAAAAAAAAAAAAAAAAAAAAAAAAAAAAAAAAAAAAEJAAAAAAAAAAAAAAAAAAAAAAAAAAAAAAAAAAAAAAAAAAAAAAAAAAAAmQAAAAAAAAAAAAAAAAACAREAAAAAAAAAAAAAAAAAAAAAAAAAAAAAAAAAAAAAAAAAAAAAAAAAAAC5AAAAAAAAAAAAAAAAAAAAAAAAAAAAAAAAAAAAAAAAAAAAAAAAAAAAAAAAAAAAAAAAAAAAAAAAAAAAAAAAAAAAAAAAAAAAAAAAAAAAAAAAAKEAAAAAAAAAAAAAAAAAAAAAAAAAAAAAAAAAAAAAAAAAAAAAAAAAAAAAAAAAAAAAAIEAAAAAAAAAAAAAAAAAAAAAAAAAAAAAAAAAAAAAAAAAAQAAAAAAAAPA/AAAAAAAAAAAAAAAAAAAsQAAAAAAAAAAAAAAAAACAU0AAAAAAAAAIQAAAAAAAAAAAAAAAAAAAO0AAAAAAAAAAAAAAAAAAAAAAAAAAAAAAAAAAAAAAAAAAAAAAAAAAAAAAAAAAAAAAAAAAAAAAAAAAAAAAAAAAAAAAAAAAAAAAAAAAAAAAAAAAAAAAAAAAAAAAAAAAAAAAGEAAAAAAAAAAAAAAAAAAACRAAAAAAAAAAAAAAAAAAAAqQAAAAAAAAAAAAAAAAAAAAAAAAAAAAAA3QAAAAAAAAAAAAAAAAAAAAAAAAAAAAAAAAAAAAAAAAAAAAAAAAAAAAAAAAAAAABBgQAAAAAAAAAAAAAAAAABARkAAAAAAAAAAAAAAAAAAAAAAAAAAAAAAAAAAAAAAAAAAAAAAAAAAAAAAAAAAAAAAAAAAAAAAAAAUQAAAAAAAAAAAAAAAAAAAAAAAAAAAAAAIQAAAAAAAABxAAAAAAAAAM0AAAAAAAAAAAAAAAAAAAAAAAAAAAAAAAAAAAAAAAAAAAAAAAAAAAAAAAAAAAAAAAAAAAAAAAAAAAAAAAAAAAAAAAAAAAAAAAAAAAAAAAAAAAAAAAAAAABxAAAAAAAAACEAAAAAAAAAAAAAAAAAAACBAAAAAAAAAAAAAAAAAAAAAAAAAAAAAAAAAAAAAAAAAAAAAAAAAAAAAAAAAAAAAAPA/AAAAAAAAAAAAAAAAAAAAAAAAAAAAACRAAAAAAAAAOEAAAAAAAAAAAAAAAAAAAAAAAAAAAAAAAAAAAAAAAAAAAAAAAAAAAAAAAAAAAAAAAAAAAAAAAAAAAAAAAAAAAPA/AAAAAADAWkAAAAAAAAAAAAAAAAAAAAAAAAAAAAAAAAAAAAAAAAAAAAAAAAAAABxAAAAAAAAAAAAAAAAAAAAIQAAAAAAAAAAAAAAAAAAAAAAAAAAAAAAAAAAAAAAAAAAAAAAAAAAAAAAAAAAAAAAAQAAAAAAAAAAAAAAAAAAAAAAAAAAAAAAAAAAAAAAAABhAAAAAAAAAAAAAAAAAAAAAAAAAAAAAAAAAAAAAAAAAAAAAAAAAAAAAAAAAAAAAABhAAAAAAAAAAAAAAAAAAAAAAAAAAAAAAAAAAAAAAAAAAAAAAAAAAAAAAAAAAAAAACxAAAAAAAAAAAAAAAAAAAAAAAAAAAAAAAAAAAAAAAAAGEAAAAAAAAAAAAAAAAAAAAAAAAAAAAAAAAAAAAAAAAAAAAAAAAAAoGhAAAAAAAAAAAAAAAAAAAAAAAAAAAAAAAhAAAAAAAAAAAAAAAAAAABCQAAAAAAAAAAAAAAAAAAAAAAAAAAAAAAsQAAAAAAAAAhAAAAAAAAAAAAAAAAAAAAAAAAAAAAAAAAAAAAAAAAAAAAAAAAAAAAAAAAAAAAAAAAAAAAAAAAAAAAAAAAAAAA1QAAAAAAAAAAAAAAAAAAAAAAAAAAAAAAAAAAAAAAAAAAAAAAAAAAAAAAAAAAAAAAAAAAAAAAAABxAAAAAAAAAAAAAAAAAAAAAAAAAAAAAAAAAAAAAAAAAAAAAAAAAAAAAAAAAAAAAAAAAAAAAAAAAEEAAAAAAAAAcQAAAAAAAAAAAAAAAAAAAAAAAAAAAAAAAAAAAAAAAAAAAAAAAAAAAAAAAAAAAAABKQAAAAAAAAAAAAAAAAAAAN0AAAAAAAAAAAAAAAAAAAAAAAAAAAAAAAAAAAAAAAAAAAAAAAAAAAAAAAAAAAAAAT0AAAAAAAAAAAAAAAAAAAPA/AAAAAAAAAAAAAAAAAABFQAAAAAAAAAAAAAAAAAAAAAAAAAAAAAAAAAAAAAAAAPA/AAAAAAAAGEAAAAAAAAA2QAAAAAAAAAAAAAAAAAAAAAAAAAAAAAAAAAAAAAAAAAAAAAAAAAAAAAAAAAAAAAAAAAAAAAAAAAAAAAAAAAAAAAAAAAAAAAAAAAAAAAAAAAAAAAAAAAAAAAAAAAAAAAAAAAAAAAAAAAAAAAAAAAAAAAAAAAAAAAAAAAAAAAAAADNAAAAAAAAAAAAAAAAAAAAAAAAAAAAAAAAAAAAAAAAAAAAAAAAAAAAAAAAAAAAAAAAAAAAAAAAAAAAAAAAAAAAAAAAAAAAAACZAAAAAAAAAAAAAAAAAAAAYQAAAAAAAAAAAAAAAAAAAAAAAAAAAAAAiQAAAAAAAAAAAAAAAAAAAAAAAAAAAAAAAAAAAAAAAAAAAAAAAAAAAAAAAAAAAAAAAAAAAAAAAAAAAAAAAAAAAAAAAAAAAAAAAAAAAAAAAADNAAAAAAAAAAAAAAAAAAAAIQAAAAAAAAABAAAAAAAAAPUAAAAAAAAAkQAAAAAAAAAAAAAAAAAAACEAAAAAAAAAAAAAAAAAAAAAAAAAAAAAAAAAAAAAAAAAAAAAAAAAAAAAAAAAAAAAAAAAAAAAAAAAmQAAAAAAAAAAAAAAAAAAAAAAAAAAAAAAgQAAAAAAAAAAAAAAAAAAALEAAAAAAAMBaQAAAAAAAAAAAAAAAAAAAAAAAAAAAAAAAAAAAAAAAAAAAAAAAAAAAAAAAAAAAAAAAQAAAAAAAACBAAAAAAAAAGEAAAAAAAAAAAAAAAAAAAAAAAAAAAAAANEAAAAAAAAAAQAAAAAAAAAAAAAAAAAAAAAAAAAAAAAAAAAAAAAAAAEZAAAAAAAAA8D8AAAAAAIBDQAAAAAAAABBAAAAAAAAAAAAAAAAAAAAAAAAAAAAAAAAAAAAAAAAAAAAAAAAAAAAAAAAAAAAAAAAAAAAAAAAAAAAAAAAAAAAAAAAAAAAAAPA/AAAAAAAAAEAAAAAAAAAAQAAAAAAAAAAAAAAAAAAAAAAAAAAAAAAAAAAAAAAAAAAAAAAAAAAAAAAAAAAAAAAAAAAAAAAAAAAAAAAAAAAAAAAAAAAAAAAAAAAAAAAAAAAAAAAAAAAAAAAAAAAAAAAmQAAAAAAAAAAAAAAAAAAAAAAAAAAAAAAAAAAAAAAAADdAAAAAAAAAAAAAAAAAAAAAAAAAAAAAAAAAAAAAAAAAAAAAAAAAAAAAAAAAAAAAAAAAAAAAAAAAEEAAAAAAAAAAAAAAAAAAAAAAAAAAAAAAAAAAAAAAAAAgQAAAAAAAgExAAAAAAAAAAAAAAAAAAAAAAAAAAAAAAAAAAAAAAAAA8D8AAAAAAAAIQAAAAAAAABxAAAAAAACAVkAAAAAAAAAUQAAAAAAAADFAAAAAAAAAAAAAAAAAAAAAAAAAAAAAAAAAAAAAAAAA8D8AAAAAAIBMQAAAAAAAACxAAAAAAAAAPEAAAAAAAAAAAAAAAAAAABBAAAAAAAAA8D8AAAAAAAAAAAAAAAAAAAAAAAAAAAAAQUAAAAAAAAAAAAAAAAAAAAAAAAAAAAAAMUAAAAAAAAAAAAAAAAAAAAAAAAAAAACAREAAAAAAAAAAAAAAAAAAAAAAAAAAAAAAAAAAAAAAAAAAAAAAAAAAAAAAAAAAAAAALkAAAAAAAAAAAAAAAAAAgElAAAAAAAAA8D8AAAAAAAAAQAAAAAAAAAAAAAAAAAAACEAAAAAAAAAAAAAAAAAAABhAAAAAAAAAAAAAAAAAAAAAAAAAAAAAAC5AAAAAAAAAAAAAAAAAAAAAAAAAAAAAADJAAAAAAAAAAAAAAAAAAAAiQAAAAAAAAEBAAAAAAAAAAAAAAAAAAAAAAAAAAAAAAAAAAAAAAAAAAAAAAAAAAAAAAAAAAAAAAEBAAAAAAAAAFEAAAAAAAAAAAAAAAAAAAAAAAAAAAAAAIkAAAAAAAAAQQAAAAAAAABRAAAAAAAAAAAAAAAAAAAAIQAAAAAAAwFBAAAAAAAAAAAAAAAAAAIBAQAAAAAAAQF9AAAAAAAAAAAAAAAAAAAAAQAAAAAAAACBAAAAAAAAAAAAAAAAAAAAQQAAAAAAAACBAAAAAAACASkAAAAAAAAAYQAAAAAAAAAAAAAAAAAAAHEAAAAAAAMBYQAAAAAAAAAAAAAAAAAAAAAAAAAAAAAAAAAAAAAAAAAAAAAAAAAAACEAAAAAAAAAAAAAAAAAAAAAAAAAAAAAALEAAAAAAAAAAAAAAAAAAAAAAAAAAAAAAMEAAAAAAAAAAAAAAAAAAAAhAAAAAAACAR0AAAAAAAIBCQAAAAAAAAAAAAAAAAAAAAAAAAAAAAAAAAAAAAAAAAPA/AAAAAAAACEAAAAAAAAA2QAAAAAAAAC5AAAAAAAAAGEAAAAAAAAAAAAAAAAAAAAAAAAAAAAAAAAAAAAAAAAA3QAAAAAAAABBAAAAAAAAA8D8AAAAAAAAAAAAAAAAAADlAAAAAAAAA8D8AAAAAAAAAAAAAAAAAAAAAAAAAAABAUkAAAAAAAAAAAAAAAAAAAPA/AAAAAAAACEAAAAAAAADwPwAAAAAAAAAAAAAAAAAAAAAAAAAAAAAAAAAAAAAAAABAAAAAAAAAAAAAAAAAAAAoQAAAAAAAAAAAAAAAAAAgZUAAAAAAAIBGQAAAAAAAAAAAAAAAAAAAAEAAAAAAAAAAAAAAAAAAAAAAAAAAAAAAOUAAAAAAAAAkQAAAAAAAAAhAAAAAAAAAAAAAAAAAAAAQQAAAAAAAAAAAAAAAAAAAAAAAAAAAAAA1QAAAAAAAADBAAAAAAAAAAAAAAAAAAAAAAAAAAAAAAAAAAAAAAAAAAAAAAAAAAAAAAAAAAAAAAFZAAAAAAAAAAAAAAAAAAAAAAAAAAAAAABBAAAAAAAAAAAAAAAAAAAAwQAAAAAAAAAAAAAAAAAAAIkAAAAAAAAAiQAAAAAAAADBAAAAAAAAAGEAAAAAAAAAAAAAAAAAAgFdAAAAAAAAAAAAAAAAAAAAAAAAAAAAAAAAAAAAAAAAAAAAAAAAAAAAAAAAAAAAAAAAAAAAAAAAAAAAAAAAAAAAQQAAAAAAAgEBAAAAAAAAAAAAAAAAAAAAAAAAAAAAAAAAAAAAAAAAAAAAAAAAAAAAUQAAAAAAAADNAAAAAAAAAAAAAAAAAAEBmQAAAAAAAAAhAAAAAAAAACEAAAAAAAAAAAAAAAAAAACJAAAAAAAAAAAAAAAAAAAAAAAAAAAAAAAAAAAAAAAAAAAAAAAAAAAA8QAAAAAAAAAAAAAAAAADAXUAAAAAAAAAAAAAAAAAAAPA/AAAAAAAAAAAAAAAAAAAAAAAAAAAAABxAAAAAAAAAAAAAAAAAAAAIQAAAAAAAAAAAAAAAAAAAEEAAAAAAAABWQAAAAAAAgE5AAAAAAAAAAAAAAAAAAAAAQAAAAAAAAAAAAAAAAAAAAAAAAAAAAAAAAAAAAAAAAAAAAAAAAAAAGEAAAAAAAADwPwAAAAAAAAAAAAAAAACAS0AAAAAAAAAUQAAAAAAAAAAAAAAAAAAA8D8AAAAAAAAAAAAAAAAAAD1AAAAAAAAAAAAAAAAAAAAAAAAAAAAAAABAAAAAAAAAAAAAAAAAAAAAAAAAAAAAABBAAAAAAAAAMkAAAAAAAEBjQAAAAAAAAAAAAAAAAAAAAAAAAAAAAAAAQAAAAAAAAAAAAAAAAAAAREAAAAAAAAAAAAAAAAAAAAAAAAAAAAAA8D8AAAAAAAAAAAAAAAAAAAAAAAAAAAAAFEAAAAAAAAAAAAAAAAAAAAAAAAAAAAAAIUAAAAAAAAAAAAAAAAAAAAAAAAAAAAAAEEAAAAAAAAAAAAAAAAAAAAAAAAAAAAAAAAAAAAAAAIBLQAAAAAAAAAAAAAAAAAAAAAAAAAAAAAAoQAAAAAAAAPA/AAAAAAAALkAAAAAAAAAAAAAAAAAAABhAAAAAAAAAAAAAAAAAAAAAAAAAAAAAAAAAAAAAAAAAAAAAAAAAAFBuQAAAAAAAAAAAAAAAAAAAEEAAAAAAAAAAAAAAAAAAAAAAAAAAAAAAAAAAAAAAAAAAAAAAAAAAAAAAAAAAAAAA8D8AAAAAAAAAAAAAAAAAAAAAAAAAAAAAAAAAAAAAAAAAAAAAAAAAAAAAAAAAAAAAAAAAAAAAAIBcQAAAAAAAAAAAAAAAAAAAAAAAAAAAAAAAAAAAAAAAADlAAAAAAAAAAAAAAAAAAAAAAAAAAAAAAAAAAAAAAAAAAEAAAAAAAAAAAAAAAAAAAPA/AAAAAAAAAAAAAAAAAAAAAAAAAAAAAAAAAAAAAACAVEAAAAAAAAAAAAAAAAAAAAAAAAAAAACAQEAAAAAAAAAAAAAAAAAAAPg/AAAAAAAAAEAAAAAAAAAAAAAAAAAAADZAAAAAAAAAAAAAAAAAAADgPwAAAAAAAAAAAAAAAAAAAAAAAAAAAABQQAAAAAAAAAAAAAAAAAAAAAAAAAAAAAAAAAAAAAAAAD5AAAAAAAAAAAAAAAAAAAAgQAAAAAAAAAAAAAAAAAAAAAAAAAAAAAAAAAAAAAAAAAAAAAAAAAAAAAAAAAAAAAAAAAAAAAAAAAAAAAAAAAAAAAAAAAAAAADwPwAAAAAAAAAAAAAAAACAYkAAAAAAAAAAAAAAAAAAAAAAAAAAAAAAAAAAAAAAAAAAAAAAAAAAAAAAAAAAAAAAAAAAAAAAAAAAAAAAAAAAAAAAAAAAAAAAAAAAAAAAAEBdQAAAAAAAAAAAAAAAAAAAHEAAAAAAAAAAAAAAAAAAwGlAAAAAAAAAAAAAAAAAAAAAAAAAAAAAAAAAAAAAAAAAAAAAAAAAAAAAAAAAAAAAAD9AAAAAAAAAAAAAAAAAAAAcQAAAAAAAAAAAAAAAAAAAAAAAAAAAAAAAAAAAAAAAACRAAAAAAAAACEAAAAAAAAAAAAAAAAAAAPA/AAAAAAAAAAAAAAAAAAAAAAAAAAAAADRAAAAAAAAAAAAAAAAAAAAAAAAAAAAAAAAAAAAAAAAAAAAAAAAAAAAAAAAAAAAAAAAAAAAAAAAAAAAAAAAAAAAcQAAAAAAAAAAAAAAAAAAAAAAAAAAAAAAAAAAAAAAAAAAAAAAAAAAAAAAAAAAAAAAAAAAAAAAAAAAAAAAAAAAANUAAAAAAAADwPwAAAAAAADZAAAAAAAAAAAAAAAAAAAAAAAAAAAAAAAAAAAAAAAAAAAAAAAAAAAAAAAAAAAAAAAAAAAAAAAAAAAAAAAAAAAAAAAAAAAAAAPA/AAAAAAAAAAAAAAAAAAAcQAAAAAAAAAAAAAAAAAAAAAAAAAAAAAAAAAAAAAAAABRAAAAAAACAVkAAAAAAAAAAAAAAAAAAgEtAAAAAAAAAAAAAAAAAAAAAAAAAAAAAAAAAAAAAAAAAAAAAAAAAAAAUQAAAAAAAAAAAAAAAAAAAAAAAAAAAAADwPwAAAAAAAAAAAAAAAAAAAAAAAAAAAAAAAAAAAAAAAAAAAAAAAAAAAAAAAAAAAAAAAAAAAAAAAAAAAAAAAAAA8D8AAAAAAAAAAAAAAAAAAAAAAAAAAAAAAAAAAAAAAAAAAAAAAAAAAAAAAAAAAACAZEAAAAAAAAAAAAAAAAAAAEZAAAAAAAAAAAAAAAAAAAAAAAAAAAAAAAAAAAAAAAAAAAAAAAAAAAAAAAAAAAAAAAAAAAAAAAAAPkAAAAAAAAAAAAAAAAAAADVAAAAAAAAAAAAAAAAAAADwPwAAAAAAABBAAAAAAAAAAAAAAAAAAAA4QAAAAAAAAAAAAAAAAAAAAEAAAAAAAAAgQAAAAAAAAAAAAAAAAABAWUAAAAAAAEBVQAAAAAAAAAAAAAAAAAAAAAAAAAAAAAAAAAAAAAAAADRAAAAAAAAAAAAAAAAAAAAqQAAAAAAAAAAAAAAAAAAACEAAAAAAAAA0QAAAAAAAAAAAAAAAAAAAEEAAAAAAAAAAAAAAAAAAABxAAAAAAAAACEAAAAAAAAA9QAAAAAAAADRAAAAAAAAAAAAAAAAAAAAAAAAAAAAAgEpAAAAAAAAAAEAAAAAAAAAQQAAAAAAAQFtAAAAAAAAAAAAAAAAAAAAIQAAAAAAAAAAAAAAAAAAAAAAAAAAAAAAYQAAAAAAAAAAAAAAAAAAAAAAAAAAAAAAAAAAAAAAAAAAAAAAAAAAAAAAAAAAAAAAAAAAAAAAAAAAAAAAAAAAAQ0AAAAAAAAAAAAAAAAAAIG1AAAAAAAAAQEAAAAAAAOh6QAAAAAAAAChAAAAAAABAWEAAAAAAAAAYQAAAAAAAAAAAAAAAAAAAAAAAAAAAAAAAAAAAAAAAAAAAAAAAAAAAAAAAAAAAAAAAAAAAAAAAwF1AAAAAAAAANEAAAAAAAIBEQAAAAAAAAAhAAAAAAAAA8D8AAAAAAAAkQAAAAAAAAAAAAAAAAAAAAAAAAAAAAAAAAAAAAAAAAAAAAAAAAAAAAEAAAAAAAAAAAAAAAAAAAAAAAAAAAAAAAAAAAAAAAAAAAAAAAAAAAAAAAAAAAAAASEAAAAAAAMBgQAAAAAAAAPA/AAAAAAAA8D8AAAAAAAAAAAAAAAAAAPA/AAAAAAAAAAAAAAAAAAAiQAAAAAAAAAAAAAAAAAAA8D8AAAAAAAAQQAAAAAAAAABAAAAAAAAAAAAAAAAAAAAAAAAAAAAAAAAAAAAAAAAALkAAAAAAAAAgQAAAAAAAAAAAAAAAAAAAAAAAAAAAAAAAAAAAAAAAAAhAAAAAAAAAAAAAAAAAAAAAAAAAAAAAAGBAAAAAAAAAAAAAAAAAAAAAAAAAAAAAAAAAAAAAAAAAAAAAAAAAAABFQAAAAAAA4GlAAAAAAAAAAEAAAAAAAAAgQAAAAAAAQFBAAAAAAAAAAEAAAAAAAAAAAAAAAAAAAAAAAAAAAADAU0AAAAAAAAAIQAAAAAAAAAAAAAAAAAAAMEAAAAAAAADwPwAAAAAAADZAAAAAAAAAAAAAAAAAAADwPwAAAAAAAAAAAAAAAAAAAAAAAAAAAAAAAAAAAAAAAAAAAAAAAAAAAAAAAAAAAAAAAAAAAAAAAAAAAAAAAAAAAEAAAAAAAAAAAAAAAAAAUGFAAAAAAAAAAAAAAAAAAAAAAAAAAAAAABBAAAAAAAAAAAAAAAAAAAAgQAAAAAAAAAAAAAAAAAAACEAAAAAAAAAiQAAAAAAAAAAAAAAAAAAAAAAAAAAAAAA9QAAAAAAAAAAAAAAAAAAAAAAAAAAAAAAgQAAAAAAAAAAAAAAAAAAAKkAAAAAAAAAAAAAAAAAAADZAAAAAAAAAAAAAAAAAAAA8QAAAAAAAABhAAAAAAAAACEAAAAAAAAAIQAAAAAAAAAAAAAAAAAAAAAAAAAAAAAAQQAAAAAAA8HZAAAAAAAAAMEAAAAAAAAAAAAAAAAAAAAAAAAAAAADAYkAAAAAAAAAQQAAAAAAAABRAAAAAAAAAAAAAAAAAAADwPwAAAAAAADFAAAAAAAAAAAAAAAAAAEBQQAAAAAAAAAAAAAAAAAAAAAAAAAAAAAAAAAAAAAAAAPA/AAAAAAAACEAAAAAAAAAsQAAAAAAAADdAAAAAAAAAAAAAAAAAAMBhQAAAAAAAADZAAAAAAAAAAAAAAAAAAAAcQAAAAAAAAABAAAAAAAAAAAAAAAAAAAAAAAAAAAAAAAAAAAAAAAAAGEAAAAAAAMBmQAAAAAAAgEVAAAAAAAAAAEAAAAAAAAAAAAAAAAAAADJAAAAAAAAANEAAAAAAAAAAAAAAAAAAAAAAAAAAAAAAAAAAAAAAAAAAAAAAAAAAAD5AAAAAAAAAAAAAAAAAAAAYQAAAAAAAAPA/AAAAAAAAJkAAAAAAAAAsQAAAAAAAAAAAAAAAAAAAO0AAAAAAAAAQQAAAAAAAAAAAAAAAAAAAAAAAAAAAAAAQQAAAAAAAAAAAAAAAAAAAIkAAAAAAAAAAAAAAAAAAAAAAAAAAAAAAAAAAAAAAAAAAAAAAAAAAQFBAAAAAAACAZkAAAAAAAABBQAAAAAAAAPA/AAAAAAAAAAAAAAAAAAAAAAAAAAAAAAAAAAAAAADwe0AAAAAAAAAAAAAAAAAAABxAAAAAAAAAAAAAAAAAAAAIQAAAAAAAADVAAAAAAAAAAAAAAAAAAAAYQAAAAAAAAAAAAAAAAADAUUAAAAAAAAAYQAAAAAAAAAhAAAAAAAAAAAAAAAAAAAAAAAAAAAAAAAAAAAAAAAAA8D8AAAAAAABJQAAAAAAAABhAAAAAAAAAAAAAAAAAAMBSQAAAAAAAAAAAAAAAAAAAAEAAAAAAAAAAAAAAAAAAAAAAAAAAAAAA8D8AAAAAAAAAAAAAAAAAAAAAAAAAAAAAEEAAAAAAAAAAAAAAAAAA4GBAAAAAAAAAAEAAAAAAAAAcQAAAAAAAAAAAAAAAAAAAAAAAAAAAAAAAAAAAAAAAAAAAAAAAAAAAAAAAAAAAAAAAAAAAAAAAAPA/AAAAAAAAKkAAAAAAAAAAAAAAAAAAAAAAAAAAAAAAAAAAAAAAAAAYQAAAAAAAABRAAAAAAABgUUAAAAAAAADwPwAAAAAAQFpAAAAAAAAAAAAAAAAAAAAIQAAAAAAAABhAAAAAAABAXkAAAAAAAADwPwAAAAAAAAAAAAAAAAAAAAAAAAAAAADwPwAAAAAAAABAAAAAAAAAAAAAAAAAAAAAAAAAAAAAABBAAAAAAAAAEEAAAAAAAAAAAAAAAAAAAAAAAAAAAAAAKkAAAAAAAAAAAAAAAAAAABBAAAAAAAAAAAAAAAAAAAAkQAAAAAAAAOA/AAAAAAAAIEAAAAAAAAAQQAAAAAAAAAAAAAAAAAAAAAAAAAAAAAAiQAAAAAAAAAAAAAAAAAAAAAAAAAAAAABDQAAAAAAAAAhAAAAAAAAAGEAAAAAAAADwPwAAAAAAAAAAAAAAAAAAAAAAAAAAAAAAAAAAAAAAAAAAAAAAAAAAGEAAAAAAAAAAQAAAAAAAAPA/AAAAAAAAAAAAAAAAALByQAAAAAAAAAAAAAAAAAAAAAAAAAAAAAAIQAAAAAAAACBAAAAAAAAAAAAAAAAAAAAAAAAAAAAAABxAAAAAAAAAAAAAAAAAAAAAQAAAAAAAAEdAAAAAAAAAJEAAAAAAAAAAAAAAAAAAADRAAAAAAAAACEAAAAAAAGB0QAAAAAAAcHlAAAAAAAAAMUAAAAAAAAAUQAAAAAAAABRAAAAAAAAAAAAAAAAAAAA0QAAAAAAAwFhAAAAAAAAAEEAAAAAAAAAmQAAAAAAAAPA/AAAAAAAAAAAAAAAAAADwPwAAAAAAAAAAAAAAAAAAAAAAAAAAAAAAAAAAAAAAABBAAAAAAAAAIEAAAAAAAAAAAAAAAAAAADBAAAAAAACAT0AAAAAAAAAAAAAAAAAAABhAAAAAAAAARUAAAAAAAAAAAAAAAAAAAAAAAAAAAAAAAAAAAAAAAADwPwAAAAAAAAAAAAAAAAAAAAAAAAAAAAAgQAAAAAAAAAAAAAAAAAAAQ0AAAAAAAAAAAAAAAAAAAAAAAAAAAAAAAAAAAAAAAAA/QAAAAAAAAAAAAAAAAAAAJEAAAAAAAAAQQAAAAAAAAAAAAAAAAAAAKkAAAAAAAAAIQAAAAAAAAAAAAAAAAAAAAAAAAAAAAAAAAAAAAAAAAPA/AAAAAACAS0AAAAAAAAAAAAAAAAAAAAAAAAAAAAAAAAAAAAAAAAAAAAAAAAAAAChAAAAAAAAA8D8AAAAAAAAAAAAAAAAAAAAAAAAAAADAVEAAAAAAAAAAAAAAAAAAACBAAAAAAADAeUAAAAAAAAAAQAAAAAAAAAAAAAAAAAAANEAAAAAAAIBjQAAAAAAAAAAAAAAAAAAAAAAAAAAAAAAAAAAAAAAAEIRAAAAAAAAA8D8AAAAAAIBmQAAAAAAAAD9AAAAAAAAAFEAAAAAAAIBDQAAAAAAAAAAAAAAAAACATUAAAAAAAAAcQAAAAAAAAAAAAAAAAAAA8D8AAAAAAADwPwAAAAAAAAAAAAAAAAAAAAAAAAAAAAAAQAAAAAAAADJAAAAAAAAACEAAAAAAAAAAAAAAAAAAADpAAAAAAAAAJkAAAAAAAIBLQAAAAAAAADtAAAAAAAAAAAAAAAAAAAAAAAAAAAAAAAhAAAAAAAAAAAAAAAAAAAAgQAAAAAAAAAAAAAAAAAAAAAAAAAAAAAAIQAAAAAAAwFFAAAAAAAAA8D8AAAAAAAAuQAAAAAAAACRAAAAAAAAAAAAAAAAAAIBDQAAAAAAAAAAAAAAAAAAACEAAAAAAAAAIQAAAAAAAABRAAAAAAADAeUAAAAAAAAAAAAAAAAAAAChAAAAAAAAAAAAAAAAAAAAAAAAAAAAAADJAAAAAAAAAAAAAAAAAAAAYQAAAAAAAADJAAAAAAAAAGEAAAAAAAAAAAAAAAAAAAAAAAAAAAAAAAEAAAAAAAAAAAAAAAAAAAD9AAAAAAAAAAAAAAAAAAKBrQAAAAAAAACBAAAAAAAAAIkAAAAAAAAAAAAAAAAAAAAAAAAAAAAAACEAAAAAAAAAsQAAAAAAAAABAAAAAAAAAO0AAAAAAAAAAAAAAAAAAEHVAAAAAAAAAAEAAAAAAAAAAQAAAAAAAAFZAAAAAAAAAAEAAAAAAAEB9QAAAAAAAAAAAAAAAAABgYUAAAAAAAADwPwAAAAAAABBAAAAAAAAAAAAAAAAAAAAoQAAAAAAAAAAAAAAAAAAAQ0AAAAAAACBuQAAAAAAAAAAAAAAAAAAAOEAAAAAAAADwPwAAAAAAACpAAAAAAAAA8D8AAAAAAAAAAAAAAAAAADZAAAAAAAAAAEAAAAAAAAAIQAAAAAAAAAhAAAAAAAAAAAAAAAAAAAAgQAAAAAAAAAAAAAAAAAAAAAAAAAAAAAAQQAAAAAAAAE5AAAAAAAAAAAAAAAAAAAAAAAAAAAAA4GJAAAAAAAAACEAAAAAAAAA8QAAAAAAAABRAAAAAAAAAJkAAAAAAAADwPwAAAAAAABxAAAAAAACAVUAAAAAAAIBnQAAAAAAAMGBAAAAAAAAAIkAAAAAAAIBFQAAAAAAAABhAAAAAAAAAN0AAAAAAAAAAAAAAAAAAgERAAAAAAABAUEAAAAAAAAAAAAAAAAAAYGRAAAAAAAAAAAAAAAAAACBhQAAAAAAAABBAAAAAAACoiEAAAAAAAAAAAAAAAAAAAAAAAAAAAAAAEEAAAAAAAAAAAAAAAAAAABxAAAAAAAAAAAAAAAAAAAAAAAAAAAAAIG5AAAAAAAAAAAAAAAAAAIiMQAAAAAAAAD5AAAAAAAAAIkAAAAAAAOCQQAAAAAAAAPA/AAAAAAAAGEAAAAAAAJSOQAAAAAAAACpAAAAAAAAAAAAAAAAAAAAYQAAAAAAAACBAAAAAAACASEAAAAAAAMBSQAAAAAAAADNAAAAAAADAXkAAAAAAAIBBQAAAAAAAAD9AAAAAAAAAAAAAAAAAAEBTQAAAAAAAAD1AAAAAAADAV0AAAAAAAAAAAAAAAAAAAAhAAAAAAAAANUAAAAAAAKSYQAAAAAAAmJJAAAAAAACASUAAAAAAAGCMQAAAAAAAAAAAAAAAAAAAAAAAAAAAAAA2QAAAAAAAAAAAAAAAAACAXkAAAAAAAAAAAAAAAAAAAGFAAAAAAAAAUEAAAAAAALyXQAAAAAAAoGhAAAAAAAAAAAAAAAAAAAAAAAAAAAAAAAAAAAAAAAAAGEAAAAAAAAAAAAAAAAAAAAAAAAAAAAAAQUAAAAAAAAAAAAAAAAAAAAAAAAAAAACAR0AAAAAAAABUQAAAAAAAAAAAAAAAAAAAAEAAAAAAAAAAAAAAAAAAQF5AAAAAAAAAAAAAAAAAAPBxQAAAAAAAEHJAAAAAAAAAAAAAAAAAAAAAAAAAAAAAAAAAAAAAAAAAPkAAAAAAAGB4QAAAAAAAgElAAAAAAAAAAAAAAAAAAAAAAAAAAAAAAABAAAAAAACweUAAAAAAAAAAAAAAAAAAABhAAAAAAADbrkAAAAAAAIBJQAAAAAAAAAAAAAAAAAAAAAAAAAAAAIBIQAAAAAAAAAAAAAAAAAAAAAAAAAAAAAAAAAAAAAAAAElAAAAAAAAAAAAAAAAAAAA9QAAAAAAA8HVAAAAAAAAAeUAAAAAAAOCNQAAAAAAAAAAAAAAAAAAAAAAAAAAAAAAyQAAAAAAAAF5AAAAAAAAAAAAAAAAAAAA9QAAAAAAAAAAAAAAAAACAXUAAAAAAAAAAAAAAAAAAoG9AAAAAAADglUAAAAAAAABaQAAAAAAAAAAAAAAAAAAAAAAAAAAAAAAcQAAAAAAAAAAAAAAAAAAAIkAAAAAAAAA6QAAAAAAAAPA/AAAAAAC8lEAAAAAAAAA9QAAAAAAAAAAAAAAAAAAAEEAAAAAAAKBiQAAAAAAAgGFAAAAAAAAAYUAAAAAAAABHQAAAAAAApaVAAAAAAAAAFEAAAAAAAAAAAAAAAAAAgENAAAAAAACASkAAAAAAAADwPwAAAAAAAFdAAAAAAADAV0AAAAAAAAA1QAAAAAAAAPA/AAAAAAC8lUAAAAAAAHiPQAAAAAAAIGZAAAAAAACgZUAAAAAAAAAzQAAAAAAAgExAAAAAAAAgaUAAAAAAAABYQAAAAAAAAAAAAAAAAABAWkAAAAAAAAAAAAAAAAAAAGpAAAAAAAAAJEAAAAAAAABAQAAAAAAAACJAAAAAAAAAT0AAAAAAAEBkQAAAAAAAAAAAAAAAAAAAAAAAAAAAAOBuQAAAAAAAII1AAAAAAAAAY0AAAAAAACSMQAAAAAAAAChAAAAAAADAYkAAAAAAAIBOQAAAAAAAAFRAAAAAAACARUAAAAAAAIBNQAAAAAAAAAAAAAAAAAC4hUAAAAAAAAAoQAAAAAAAAABAAAAAAABAcUAAAAAAAABaQAAAAAAAAElAAAAAAAAAAEAAAAAAAFB4QAAAAAAAABhAAAAAAAAA8D8AAAAAAAAAAAAAAAAAABxAAAAAAAAAAAAAAAAAAAAUQAAAAAAAAAAAAAAAAAAAEEAAAAAAAAAoQAAAAAAAAD5AAAAAAAAAEEAAAAAAAAAAAAAAAAAA4GBA9ihcjyK9xEAK16NwPfp0QAAAAAAAACZAAAAAAACASEAAAAAAAAAAAAAAAAAAAAAAAAAAAAAAKEAAAAAAAAAAAAAAAAAAAAAAAAAAAADgdUAAAAAAAAAAAAAAAAAAAAAAAAAAAAAAAAAAAAAAAAAAAAAAAAAAABRAAAAAAAAAPkAAAAAAAAAAAAAAAAAAwFRAAAAAAAAAAAAAAAAAAAAAAAAAAAAAAABAAAAAAAAAAEAAAAAAAAAAAAAAAAAAADVAAAAAAAAAAAAAAAAAAAAIQAAAAAAAAAAAAAAAAADgeUAAAAAAAAAAAAAAAAAAAPA/AAAAAAAAAAAAAAAAAAAAAAAAAAAAAAAAAAAAAAAAOUAAAAAAAAAIQAAAAAAAAC5AAAAAAAAAAAAAAAAAAAAAAAAAAAAAAAAAAAAAAAAAAAAAAAAAAAAAAAAAAAAAgEhAAAAAAICKvkAAAAAAAAAcQAAAAAAAAAAAAAAAAAAAAAAAAAAAAAAsQAAAAAAAAAAAAAAAAAAARUAAAAAAAAAIQAAAAAAAAElAAAAAAAAAAAAAAAAAAOCNQAAAAAAAYHhAAAAAAAAAAAAAAAAAAABVQAAAAAAAAAAAAAAAAAAAAAAAAAAAAAAAAAAAAAAAAAAAAAAAAACgf0AAAAAAAAAAAAAAAAAAAAAAAAAAAAAACEAAAAAAAAAAAAAAAAAAAAAAAAAAAAAAAAAAAAAAADByQAAAAAAAAAAAAAAAAAAAAAAAAAAAAAAAAAAAAAAAAAAAAAAAAAAAAAAAAAAAAAAAAAAAAAAAAAAAAAAAAAAAAAAAAAAAAAA6QAAAAAAAQFZAAAAAAAAAAAAAAAAAAABCQAAAAAAAAAAAAAAAAAAAAAAAAAAAAAiEQAAAAAAAAAAAAAAAAABgYkAAAAAAAMBXQAAAAAAA4GJAAAAAAAAAAAAAAAAAAABRQAAAAAAAACJAAAAAAAAA8D8AAAAAAAAAAAAAAAAAAAAAAAAAAAAAAAAAAAAAAAAAAAAAAAAA4GJAAAAAAAAAMUAAAAAAAAAAAAAAAAAAQFtAAAAAAAAAAAAAAAAAAIBHQAAAAAAAAEJAAAAAAAAAAAAAAAAAAEBhQAAAAAAAADBAAAAAAAAACEAAAAAAAGBrQAAAAAAAAAAAAAAAAAAAAAAAAAAAAIBCQAAAAAAAwFBAAAAAAICNu0AAAAAAACCHQAAAAAAAAAAAAAAAAAAAAAAAAAAAAADwPwAAAAAAAAAAAAAAAAAATUAAAAAAAAAYQAAAAAAAAChAAAAAAAAAAAAAAAAAAAAUQAAAAAAAAPA/AAAAAAAAOUAAAAAAAAAAAAAAAAAAAAAAAAAAAABcrEAAAAAAAABCQAAAAAAAQFZAAAAAAAAAAAAAAAAAAAAjQAAAAAAAAAAAAAAAAAAAOEAAAAAAAAAAAAAAAAAAIHhAAAAAAAAAMkAAAAAAAAAAAAAAAAAArJtAAAAAAAAAAAAAAAAAAAAAAAAAAAAAAAAAAAAAAAAAAAAAAAAAAAAkQAAAAAAAAAAAAAAAAACgYUAAAAAAAAAAAAAAAAAAABhAAAAAAAAAN0AAAAAAAAAAAAAAAAAAAAAAAAAAAAAAAEAAAAAAAEBFQAAAAAAAlIpAAAAAAAAAAEAAAAAAAAA3QAAAAAAAAAAAAAAAAAAALkAAAAAAAAAYQAAAAAAAABhAAAAAAAAAGEAAAAAAAAAgQAAAAAAAAAAAAAAAAAAAOUAAAAAAAIBwQAAAAAAAAAAAAAAAAAAAAAAAAAAAAKCBQAAAAAAAAAAAAAAAAAAAAAAAAAAAAAAAAAAAAAAAgEdAAAAAAACAQEAAAAAAAKBtQAAAAAAAAEhAAAAAAADIeEAAAAAAALa9QAAAAAAAAAAAAAAAAACQc0AAAAAAAAAQQAAAAAAA4IZAAAAAAAAA8D8AAAAAACiRQAAAAAAAgGVAAAAAAAAAAAAAAAAAAAAAAAAAAAAAAAAAAAAAAAAAAEAAAAAAABCGQAAAAAAAAAAAAAAAAAAA8D8AAAAAACBzQAAAAAAAsHFAAAAAAABQc0AAAAAAAAiAQAAAAAAAAEdA",
          "dtype": "f8"
         }
        }
       ],
       "layout": {
        "legend": {
         "tracegroupgap": 0
        },
        "template": {
         "data": {
          "bar": [
           {
            "error_x": {
             "color": "#f2f5fa"
            },
            "error_y": {
             "color": "#f2f5fa"
            },
            "marker": {
             "line": {
              "color": "rgb(17,17,17)",
              "width": 0.5
             },
             "pattern": {
              "fillmode": "overlay",
              "size": 10,
              "solidity": 0.2
             }
            },
            "type": "bar"
           }
          ],
          "barpolar": [
           {
            "marker": {
             "line": {
              "color": "rgb(17,17,17)",
              "width": 0.5
             },
             "pattern": {
              "fillmode": "overlay",
              "size": 10,
              "solidity": 0.2
             }
            },
            "type": "barpolar"
           }
          ],
          "carpet": [
           {
            "aaxis": {
             "endlinecolor": "#A2B1C6",
             "gridcolor": "#506784",
             "linecolor": "#506784",
             "minorgridcolor": "#506784",
             "startlinecolor": "#A2B1C6"
            },
            "baxis": {
             "endlinecolor": "#A2B1C6",
             "gridcolor": "#506784",
             "linecolor": "#506784",
             "minorgridcolor": "#506784",
             "startlinecolor": "#A2B1C6"
            },
            "type": "carpet"
           }
          ],
          "choropleth": [
           {
            "colorbar": {
             "outlinewidth": 0,
             "ticks": ""
            },
            "type": "choropleth"
           }
          ],
          "contour": [
           {
            "colorbar": {
             "outlinewidth": 0,
             "ticks": ""
            },
            "colorscale": [
             [
              0,
              "#0d0887"
             ],
             [
              0.1111111111111111,
              "#46039f"
             ],
             [
              0.2222222222222222,
              "#7201a8"
             ],
             [
              0.3333333333333333,
              "#9c179e"
             ],
             [
              0.4444444444444444,
              "#bd3786"
             ],
             [
              0.5555555555555556,
              "#d8576b"
             ],
             [
              0.6666666666666666,
              "#ed7953"
             ],
             [
              0.7777777777777778,
              "#fb9f3a"
             ],
             [
              0.8888888888888888,
              "#fdca26"
             ],
             [
              1,
              "#f0f921"
             ]
            ],
            "type": "contour"
           }
          ],
          "contourcarpet": [
           {
            "colorbar": {
             "outlinewidth": 0,
             "ticks": ""
            },
            "type": "contourcarpet"
           }
          ],
          "heatmap": [
           {
            "colorbar": {
             "outlinewidth": 0,
             "ticks": ""
            },
            "colorscale": [
             [
              0,
              "#0d0887"
             ],
             [
              0.1111111111111111,
              "#46039f"
             ],
             [
              0.2222222222222222,
              "#7201a8"
             ],
             [
              0.3333333333333333,
              "#9c179e"
             ],
             [
              0.4444444444444444,
              "#bd3786"
             ],
             [
              0.5555555555555556,
              "#d8576b"
             ],
             [
              0.6666666666666666,
              "#ed7953"
             ],
             [
              0.7777777777777778,
              "#fb9f3a"
             ],
             [
              0.8888888888888888,
              "#fdca26"
             ],
             [
              1,
              "#f0f921"
             ]
            ],
            "type": "heatmap"
           }
          ],
          "histogram": [
           {
            "marker": {
             "pattern": {
              "fillmode": "overlay",
              "size": 10,
              "solidity": 0.2
             }
            },
            "type": "histogram"
           }
          ],
          "histogram2d": [
           {
            "colorbar": {
             "outlinewidth": 0,
             "ticks": ""
            },
            "colorscale": [
             [
              0,
              "#0d0887"
             ],
             [
              0.1111111111111111,
              "#46039f"
             ],
             [
              0.2222222222222222,
              "#7201a8"
             ],
             [
              0.3333333333333333,
              "#9c179e"
             ],
             [
              0.4444444444444444,
              "#bd3786"
             ],
             [
              0.5555555555555556,
              "#d8576b"
             ],
             [
              0.6666666666666666,
              "#ed7953"
             ],
             [
              0.7777777777777778,
              "#fb9f3a"
             ],
             [
              0.8888888888888888,
              "#fdca26"
             ],
             [
              1,
              "#f0f921"
             ]
            ],
            "type": "histogram2d"
           }
          ],
          "histogram2dcontour": [
           {
            "colorbar": {
             "outlinewidth": 0,
             "ticks": ""
            },
            "colorscale": [
             [
              0,
              "#0d0887"
             ],
             [
              0.1111111111111111,
              "#46039f"
             ],
             [
              0.2222222222222222,
              "#7201a8"
             ],
             [
              0.3333333333333333,
              "#9c179e"
             ],
             [
              0.4444444444444444,
              "#bd3786"
             ],
             [
              0.5555555555555556,
              "#d8576b"
             ],
             [
              0.6666666666666666,
              "#ed7953"
             ],
             [
              0.7777777777777778,
              "#fb9f3a"
             ],
             [
              0.8888888888888888,
              "#fdca26"
             ],
             [
              1,
              "#f0f921"
             ]
            ],
            "type": "histogram2dcontour"
           }
          ],
          "mesh3d": [
           {
            "colorbar": {
             "outlinewidth": 0,
             "ticks": ""
            },
            "type": "mesh3d"
           }
          ],
          "parcoords": [
           {
            "line": {
             "colorbar": {
              "outlinewidth": 0,
              "ticks": ""
             }
            },
            "type": "parcoords"
           }
          ],
          "pie": [
           {
            "automargin": true,
            "type": "pie"
           }
          ],
          "scatter": [
           {
            "marker": {
             "line": {
              "color": "#283442"
             }
            },
            "type": "scatter"
           }
          ],
          "scatter3d": [
           {
            "line": {
             "colorbar": {
              "outlinewidth": 0,
              "ticks": ""
             }
            },
            "marker": {
             "colorbar": {
              "outlinewidth": 0,
              "ticks": ""
             }
            },
            "type": "scatter3d"
           }
          ],
          "scattercarpet": [
           {
            "marker": {
             "colorbar": {
              "outlinewidth": 0,
              "ticks": ""
             }
            },
            "type": "scattercarpet"
           }
          ],
          "scattergeo": [
           {
            "marker": {
             "colorbar": {
              "outlinewidth": 0,
              "ticks": ""
             }
            },
            "type": "scattergeo"
           }
          ],
          "scattergl": [
           {
            "marker": {
             "line": {
              "color": "#283442"
             }
            },
            "type": "scattergl"
           }
          ],
          "scattermap": [
           {
            "marker": {
             "colorbar": {
              "outlinewidth": 0,
              "ticks": ""
             }
            },
            "type": "scattermap"
           }
          ],
          "scattermapbox": [
           {
            "marker": {
             "colorbar": {
              "outlinewidth": 0,
              "ticks": ""
             }
            },
            "type": "scattermapbox"
           }
          ],
          "scatterpolar": [
           {
            "marker": {
             "colorbar": {
              "outlinewidth": 0,
              "ticks": ""
             }
            },
            "type": "scatterpolar"
           }
          ],
          "scatterpolargl": [
           {
            "marker": {
             "colorbar": {
              "outlinewidth": 0,
              "ticks": ""
             }
            },
            "type": "scatterpolargl"
           }
          ],
          "scatterternary": [
           {
            "marker": {
             "colorbar": {
              "outlinewidth": 0,
              "ticks": ""
             }
            },
            "type": "scatterternary"
           }
          ],
          "surface": [
           {
            "colorbar": {
             "outlinewidth": 0,
             "ticks": ""
            },
            "colorscale": [
             [
              0,
              "#0d0887"
             ],
             [
              0.1111111111111111,
              "#46039f"
             ],
             [
              0.2222222222222222,
              "#7201a8"
             ],
             [
              0.3333333333333333,
              "#9c179e"
             ],
             [
              0.4444444444444444,
              "#bd3786"
             ],
             [
              0.5555555555555556,
              "#d8576b"
             ],
             [
              0.6666666666666666,
              "#ed7953"
             ],
             [
              0.7777777777777778,
              "#fb9f3a"
             ],
             [
              0.8888888888888888,
              "#fdca26"
             ],
             [
              1,
              "#f0f921"
             ]
            ],
            "type": "surface"
           }
          ],
          "table": [
           {
            "cells": {
             "fill": {
              "color": "#506784"
             },
             "line": {
              "color": "rgb(17,17,17)"
             }
            },
            "header": {
             "fill": {
              "color": "#2a3f5f"
             },
             "line": {
              "color": "rgb(17,17,17)"
             }
            },
            "type": "table"
           }
          ]
         },
         "layout": {
          "annotationdefaults": {
           "arrowcolor": "#f2f5fa",
           "arrowhead": 0,
           "arrowwidth": 1
          },
          "autotypenumbers": "strict",
          "coloraxis": {
           "colorbar": {
            "outlinewidth": 0,
            "ticks": ""
           }
          },
          "colorscale": {
           "diverging": [
            [
             0,
             "#8e0152"
            ],
            [
             0.1,
             "#c51b7d"
            ],
            [
             0.2,
             "#de77ae"
            ],
            [
             0.3,
             "#f1b6da"
            ],
            [
             0.4,
             "#fde0ef"
            ],
            [
             0.5,
             "#f7f7f7"
            ],
            [
             0.6,
             "#e6f5d0"
            ],
            [
             0.7,
             "#b8e186"
            ],
            [
             0.8,
             "#7fbc41"
            ],
            [
             0.9,
             "#4d9221"
            ],
            [
             1,
             "#276419"
            ]
           ],
           "sequential": [
            [
             0,
             "#0d0887"
            ],
            [
             0.1111111111111111,
             "#46039f"
            ],
            [
             0.2222222222222222,
             "#7201a8"
            ],
            [
             0.3333333333333333,
             "#9c179e"
            ],
            [
             0.4444444444444444,
             "#bd3786"
            ],
            [
             0.5555555555555556,
             "#d8576b"
            ],
            [
             0.6666666666666666,
             "#ed7953"
            ],
            [
             0.7777777777777778,
             "#fb9f3a"
            ],
            [
             0.8888888888888888,
             "#fdca26"
            ],
            [
             1,
             "#f0f921"
            ]
           ],
           "sequentialminus": [
            [
             0,
             "#0d0887"
            ],
            [
             0.1111111111111111,
             "#46039f"
            ],
            [
             0.2222222222222222,
             "#7201a8"
            ],
            [
             0.3333333333333333,
             "#9c179e"
            ],
            [
             0.4444444444444444,
             "#bd3786"
            ],
            [
             0.5555555555555556,
             "#d8576b"
            ],
            [
             0.6666666666666666,
             "#ed7953"
            ],
            [
             0.7777777777777778,
             "#fb9f3a"
            ],
            [
             0.8888888888888888,
             "#fdca26"
            ],
            [
             1,
             "#f0f921"
            ]
           ]
          },
          "colorway": [
           "#636efa",
           "#EF553B",
           "#00cc96",
           "#ab63fa",
           "#FFA15A",
           "#19d3f3",
           "#FF6692",
           "#B6E880",
           "#FF97FF",
           "#FECB52"
          ],
          "font": {
           "color": "#f2f5fa"
          },
          "geo": {
           "bgcolor": "rgb(17,17,17)",
           "lakecolor": "rgb(17,17,17)",
           "landcolor": "rgb(17,17,17)",
           "showlakes": true,
           "showland": true,
           "subunitcolor": "#506784"
          },
          "hoverlabel": {
           "align": "left"
          },
          "hovermode": "closest",
          "mapbox": {
           "style": "dark"
          },
          "paper_bgcolor": "rgb(17,17,17)",
          "plot_bgcolor": "rgb(17,17,17)",
          "polar": {
           "angularaxis": {
            "gridcolor": "#506784",
            "linecolor": "#506784",
            "ticks": ""
           },
           "bgcolor": "rgb(17,17,17)",
           "radialaxis": {
            "gridcolor": "#506784",
            "linecolor": "#506784",
            "ticks": ""
           }
          },
          "scene": {
           "xaxis": {
            "backgroundcolor": "rgb(17,17,17)",
            "gridcolor": "#506784",
            "gridwidth": 2,
            "linecolor": "#506784",
            "showbackground": true,
            "ticks": "",
            "zerolinecolor": "#C8D4E3"
           },
           "yaxis": {
            "backgroundcolor": "rgb(17,17,17)",
            "gridcolor": "#506784",
            "gridwidth": 2,
            "linecolor": "#506784",
            "showbackground": true,
            "ticks": "",
            "zerolinecolor": "#C8D4E3"
           },
           "zaxis": {
            "backgroundcolor": "rgb(17,17,17)",
            "gridcolor": "#506784",
            "gridwidth": 2,
            "linecolor": "#506784",
            "showbackground": true,
            "ticks": "",
            "zerolinecolor": "#C8D4E3"
           }
          },
          "shapedefaults": {
           "line": {
            "color": "#f2f5fa"
           }
          },
          "sliderdefaults": {
           "bgcolor": "#C8D4E3",
           "bordercolor": "rgb(17,17,17)",
           "borderwidth": 1,
           "tickwidth": 0
          },
          "ternary": {
           "aaxis": {
            "gridcolor": "#506784",
            "linecolor": "#506784",
            "ticks": ""
           },
           "baxis": {
            "gridcolor": "#506784",
            "linecolor": "#506784",
            "ticks": ""
           },
           "bgcolor": "rgb(17,17,17)",
           "caxis": {
            "gridcolor": "#506784",
            "linecolor": "#506784",
            "ticks": ""
           }
          },
          "title": {
           "x": 0.05
          },
          "updatemenudefaults": {
           "bgcolor": "#506784",
           "borderwidth": 0
          },
          "xaxis": {
           "automargin": true,
           "gridcolor": "#283442",
           "linecolor": "#506784",
           "ticks": "",
           "title": {
            "standoff": 15
           },
           "zerolinecolor": "#283442",
           "zerolinewidth": 2
          },
          "yaxis": {
           "automargin": true,
           "gridcolor": "#283442",
           "linecolor": "#506784",
           "ticks": "",
           "title": {
            "standoff": 15
           },
           "zerolinecolor": "#283442",
           "zerolinewidth": 2
          }
         }
        },
        "title": {
         "text": "Driver Contribution to Team Points"
        }
       }
      }
     },
     "metadata": {},
     "output_type": "display_data"
    }
   ],
   "source": [
    "fig = px.treemap(\n",
    "    final_standings,\n",
    "    path=['team', 'driver'],\n",
    "    values='points',\n",
    "    title='Driver Contribution to Team Points',\n",
    "    template='plotly_dark'\n",
    ")\n",
    "fig.show()"
   ]
  },
  {
   "cell_type": "markdown",
   "id": "e06f4cd0",
   "metadata": {},
   "source": [
    "### 🏆 Career Points & Season-Wise Performance of Top Drivers\n",
    "\n",
    "To analyze long-term performance, we first aggregate total points earned by each driver at the end of every season. We then identify the top 10 drivers based on their career points.\n",
    "\n",
    "These top drivers are used in subsequent analyses such as season-wise performance trends, nationality distribution, and team representation. This sets the foundation for deeper insights into F1 legends and consistent performers."
   ]
  },
  {
   "cell_type": "code",
   "execution_count": null,
   "id": "d9b76412",
   "metadata": {},
   "outputs": [],
   "source": [
    "career_points = final_standings.groupby('driver')['points'].sum().reset_index()\n",
    "career_points = career_points.sort_values(by='points', ascending=False).head(10)\n",
    "\n",
    "top_driver_names = career_points['driver'].tolist()\n",
    "driver_seasonal = final_standings[final_standings['driver'].isin(top_driver_names)]"
   ]
  },
  {
   "cell_type": "markdown",
   "id": "3dc619aa",
   "metadata": {},
   "source": [
    "### 🏁 Race Winners: Constructors and Drivers\n",
    "\n",
    "This section focuses on race-winning performances. \n",
    "\n",
    "- We start by filtering the results to only include **race winners** (i.e., position = 1).\n",
    "- Then, we merge in **constructor**, **driver**, and **race** information to build a comprehensive dataset of winners.\n",
    "- We analyze:\n",
    "  - 🛠️ **Top Constructors** based on total number of wins.\n",
    "  - 👨‍✈️ **Driver Wins by Year** to see which drivers dominated each season.\n",
    "\n",
    "This helps uncover which teams and drivers were consistently strong throughout F1 history."
   ]
  },
  {
   "cell_type": "code",
   "execution_count": 77,
   "id": "7023efba",
   "metadata": {},
   "outputs": [],
   "source": [
    "results = pd.read_csv(\"../data/raw/results.csv\")\n",
    "constructors = pd.read_csv(\"../data/raw/constructors.csv\")\n",
    "\n",
    "# Convert position to numeric\n",
    "results['position'] = pd.to_numeric(results['position'], errors='coerce')\n",
    "\n",
    "# Filter for wins\n",
    "wins = results[results['position'] == 1.0]\n",
    "\n",
    "# Merge with constructors\n",
    "wins = pd.merge(wins, constructors[['constructorId', 'constructorRef']], on='constructorId', how='left')\n",
    "\n",
    "# Count wins per constructor\n",
    "constructor_wins = wins.groupby('constructorRef').size().reset_index(name='wins')\n",
    "constructor_wins.rename(columns={'constructorRef': 'team'}, inplace=True)\n",
    "constructor_wins = constructor_wins.sort_values(by='wins', ascending=False).head(10)\n",
    "\n",
    "drivers = pd.read_csv(\"../data/raw/drivers.csv\")\n",
    "races = pd.read_csv(\"../data/raw/races.csv\")\n",
    "\n",
    "# Merge for year and surname\n",
    "wins = pd.merge(wins, drivers[['driverId', 'surname']], on='driverId', how='left')\n",
    "wins = pd.merge(wins, races[['raceId', 'year']], on='raceId', how='left')\n",
    "\n",
    "# Group wins per driver per year\n",
    "driver_wins = wins.groupby(['year', 'surname']).size().reset_index(name='wins')\n",
    "driver_wins.rename(columns={'surname': 'driver'}, inplace=True)"
   ]
  },
  {
   "cell_type": "markdown",
   "id": "279f204d",
   "metadata": {},
   "source": [
    "### 🌍 Nationality & Team Distribution of Top Drivers\n",
    "\n",
    "Using the previously identified top 10 drivers, we now analyze two categorical distributions:\n",
    "\n",
    "- 🏳️ **Driver Nationalities**: Which countries produced the most top-tier F1 talent?\n",
    "- 🏎️ **Team Representation**: How many teams did these top drivers race for across their careers?\n",
    "\n",
    "This offers a broader perspective on global talent distribution and the teams that played a key role in driver success."
   ]
  },
  {
   "cell_type": "code",
   "execution_count": 76,
   "id": "d50d62d9",
   "metadata": {},
   "outputs": [],
   "source": [
    "nationality_share = merged_df[merged_df['driver'].isin(top_driver_names)]\n",
    "nationality_share = nationality_share.groupby('nationality').size().reset_index(name='count')\n",
    "nationality_share = nationality_share.sort_values(by='count', ascending=False)\n",
    "\n",
    "team_distribution = merged_df[merged_df['driver'].isin(top_driver_names)]\n",
    "team_distribution = team_distribution.groupby('team').size().reset_index(name='count')"
   ]
  },
  {
   "cell_type": "markdown",
   "id": "97a1585f",
   "metadata": {},
   "source": [
    "### 📊 Final Interactive Dashboard: Consolidated Race & Driver Insights\n",
    "\n",
    "To conclude the exploratory analysis, we present a unified interactive dashboard using Plotly’s `make_subplots`. This visual summary combines six key perspectives:\n",
    "\n",
    "1. **Top 10 Drivers by Career Points** – Bar chart\n",
    "2. **Season-wise Points Trend for Top Drivers** – Line chart\n",
    "3. **Top 10 Constructors by Total Wins** – Bar chart\n",
    "4. **Wins Over the Years (Top Drivers)** – Line chart\n",
    "5. **Driver Nationalities (Top 10)** – Pie chart\n",
    "6. **Team Representation Among Top 10 Drivers** – Pie chart\n",
    "\n",
    "This comprehensive layout offers quick, interactive insights into both performance and diversity metrics across F1 history."
   ]
  },
  {
   "cell_type": "code",
   "execution_count": 75,
   "id": "afd4fce1",
   "metadata": {},
   "outputs": [
    {
     "data": {
      "application/vnd.plotly.v1+json": {
       "config": {
        "plotlyServerURL": "https://plot.ly"
       },
       "data": [
        {
         "name": "Career Points",
         "type": "bar",
         "x": [
          "Hamilton",
          "Vettel",
          "Verstappen",
          "Alonso",
          "Räikkönen",
          "Bottas",
          "Rosberg",
          "Pérez",
          "Schumacher",
          "Leclerc"
         ],
         "xaxis": "x",
         "y": {
          "bdata": "AAAAAID+skAAAAAAADSoQAAAAAAAwadAAAAAAABCokAAAAAAAESdQAAAAAAAFJxAAAAAAABom0AAAAAAAJiZQAAAAAAAvJhAAAAAAABYlkA=",
          "dtype": "f8"
         },
         "yaxis": "y"
        },
        {
         "line": {
          "color": "royalblue"
         },
         "mode": "lines+markers",
         "name": "Seasonal Points",
         "type": "scatter",
         "x": {
          "bdata": "nwegB6EHuge7B7wHvQe+B78HwAfBB8IHxwfIB8kHygfKB8sHywfMB8wHzQfNB84HzgfPB9AH0AfRB9EH0QfRB9IH0gfTB9MH0wfTB9QH1AfUB9UH1QfVB9YH1gfWB9YH1wfXB9cH1wfXB9cH2AfYB9gH2AfYB9kH2QfZB9kH2QfaB9oH2gfaB9oH2wfbB9sH2wfbB9sH3AfcB9wH3AfcB9wH3AfdB90H3QfdB90H3QfdB94H3gfeB94H3gfeB94H3wffB98H3wffB98H3wffB+AH4AfgB+AH4AfgB+AH4AfhB+EH4QfhB+EH4QfhB+IH4gfiB+IH4gfiB+IH4gfjB+MH4wfjB+MH4wfjB+QH5AfkB+QH5AfkB+QH5QflB+UH5QflB+UH5QflB+UH5gfmB+YH5gfmB+YH5gfmB+cH5wfnB+cH5wfnB+gH6AfoB+gH6AfoBw==",
          "dtype": "i2"
         },
         "xaxis": "x2",
         "y": {
          "bdata": "AAAAAAAAAAAAAAAAAAAAAAAAAAAAAAAAAAAAAAAAAAAAAAAAAAAAAAAAAAAAABhAAAAAAAAAAAAAAAAAAABGQAAAAAAAADtAAAAAAACANEAAAAAAAABEQAAAAAAAADZAAAAAAAAAEEAAAAAAAIBKQAAAAAAAAEpAAAAAAAAAV0AAAAAAAAAkQAAAAAAAgFlAAAAAAAAAAAAAAAAAAIBNQAAAAAAAAPA/AAAAAACAU0AAAAAAAAAAAAAAAAAAgFVAAAAAAAAAAAAAAAAAAABGQAAAAAAAAFtAAAAAAAAAFEAAAAAAAAAAAAAAAAAAACJAAAAAAADAXkAAAAAAAADwPwAAAAAAADhAAAAAAAAAYkAAAAAAAIBLQAAAAAAAwFZAAAAAAABAV0AAAAAAAAAAAAAAAAAAgE1AAAAAAACARkAAAAAAAIBiQAAAAAAAoGBAAAAAAAAAXEAAAAAAAABPQAAAAAAAwGBAAAAAAAAAEEAAAAAAAEBQQAAAAAAAQF5AAAAAAABAW0AAAAAAAEBbQAAAAAAAADRAAAAAAACAW0AAAAAAAAAUQAAAAAAAABhAAAAAAACATkAAAAAAAIBYQAAAAAAAADFAAAAAAADAUkAAAAAAAIBBQAAAAAAAADpAAAAAAACASEAAAAAAAEBBQAAAAAAAAEhAAAAAAAAAVUAAAAAAAIBvQAAAAAAAAG5AAAAAAADAYUAAAAAAAABSQAAAAAAAAHBAAAAAAAAQcEAAAAAAAGBsQAAAAAAAACxAAAAAAABAVkAAAAAAAABTQAAAAAAAgHhAAAAAAABgcUAAAAAAAMBnQAAAAAAAgFBAAAAAAABAV0AAAAAAAOBpQAAAAAAAgEhAAAAAAACQcUAAAAAAAEBuQAAAAAAAABBAAAAAAACgZ0AAAAAAAIBIQAAAAAAAYGVAAAAAAADgZkAAAAAAANB4QAAAAAAAIGRAAAAAAABAZ0AAAAAAAAB4QAAAAAAAgE1AAAAAAADQc0AAAAAAAIBLQAAAAAAA4GRAAAAAAAAAJkAAAAAAAABhQAAAAAAA0HdAAAAAAACAU0AAAAAAACB0QAAAAAAAwGJAAAAAAACASEAAAAAAAGBxQAAAAAAAAEtAAAAAAABAVUAAAAAAAMB3QAAAAAAAQFlAAAAAAAAQeEAAAAAAAEBnQAAAAAAAgGlAAAAAAACAakAAAAAAAAAxQAAAAAAAEHNAAAAAAACwdkAAAAAAAABZQAAAAAAAoGlAAAAAAAAAZUAAAAAAANBzQAAAAAAAAElAAAAAAADgbkAAAAAAAIB5QAAAAAAAgENAAAAAAAAAT0AAAAAAAGBvQAAAAAAAIG9AAAAAAAAAdEAAAAAAAGB0QAAAAAAA0HlAAAAAAACAcEAAAAAAAABKQAAAAAAAgEVAAAAAAABgcUAAAAAAAABuQAAAAAAA4GtAAAAAAACwdUAAAAAAAIBYQAAAAAAAQF9AAAAAAAAAEEAAAAAAAMBqQAAAAAAAgEBAAAAAAABAVEAAAAAAAEBsQAAAAAAAOHhAAAAAAADgY0AAAAAAAMBnQAAAAAAAACRAAAAAAAAAAAAAAAAAALh4QAAAAAAAgEVAAAAAAABAVEAAAAAAAIBIQAAAAAAAAG5AAAAAAABAc0AAAAAAABBzQAAAAAAAAChAAAAAAABgfEAAAAAAAIBCQAAAAAAAwGlAAAAAAAAAJEAAAAAAAEBtQAAAAAAAwGlAAAAAAADQcUAAAAAAAPiBQAAAAAAAgFFAAAAAAAAAAAAAAAAAAOBrQAAAAAAAQHZAAAAAAAAAY0AAAAAAAFB7QA==",
          "dtype": "f8"
         },
         "yaxis": "y2"
        },
        {
         "marker": {
          "color": "darkorange"
         },
         "name": "Constructor Wins",
         "type": "bar",
         "x": [
          "ferrari",
          "mclaren",
          "mercedes",
          "red_bull",
          "williams",
          "team_lotus",
          "renault",
          "benetton",
          "tyrrell",
          "brabham"
         ],
         "xaxis": "x3",
         "y": {
          "bdata": "+QC5AIEAegByAC0AIwAbABcAFwA=",
          "dtype": "i2"
         },
         "yaxis": "y3"
        },
        {
         "line": {
          "color": "seagreen"
         },
         "mode": "lines+markers",
         "name": "Wins Over Years",
         "type": "scatter",
         "x": {
          "bdata": "ngeeB54HnwefB58HnwefB58HoAegB6AHoQehB6EHoQehB6IHogeiB6IHowejB6MHowekB6QHpAekB6QHpQelB6UHpQemB6YHpgemB6YHpgenB6cHpwenB6cHpweoB6gHqAeoB6gHqQepB6kHqQepB6oHqgeqB6oHqwerB6sHrAesB6wHrAesB60HrQetB60HrgeuB64HrgeuB68HrwevB68HrwevB7AHsAewB7AHsAewB7AHsQexB7EHsQexB7IHsgeyB7IHsgeyB7IHswezB7MHswezB7MHtAe0B7QHtAe0B7UHtQe1B7UHtQe2B7YHtge2B7YHtge2B7cHtwe3B7cHtwe3B7cHtwe3B7gHuAe4B7gHuAe4B7gHuQe5B7kHuQe5B7kHuQe5B7oHuge6B7oHuge6B7sHuwe7B7sHuwe7B7sHvAe8B7wHvAe8B7wHvAe9B70HvQe9B70HvQe9B74Hvge+B74Hvge+B74Hvge+B74Hvge/B78Hvwe/B78Hvwe/B78HwAfAB8AHwAfAB8EHwQfBB8EHwQfBB8EHwQfCB8IHwgfCB8IHwwfDB8MHwwfDB8QHxAfEB8UHxQfFB8UHxQfFB8YHxgfGB8YHxgfGB8cHxwfHB8cHxwfIB8gHyAfIB8gHyQfJB8kHyQfKB8oHygfKB8sHywfLB8sHywfMB8wHzAfMB80HzQfNB80HzQfNB84HzgfOB84HzwfPB88HzwfPB88H0AfQB9AH0AfRB9EH0QfRB9IH0gfSB9MH0wfTB9MH0wfTB9MH1AfUB9QH1AfUB9UH1QfVB9UH1QfWB9YH1gfWB9YH1wfXB9cH1wfYB9gH2AfYB9gH2AfYB9kH2QfZB9kH2QfZB9oH2gfaB9oH2gfbB9sH2wfbB9sH3AfcB9wH3AfcB9wH3AfcB90H3QfdB90H3QfeB94H3gffB98H3wfgB+AH4AfgB+EH4QfhB+EH4QfiB+IH4gfiB+IH4wfjB+MH4wfjB+QH5AfkB+QH5AflB+UH5QflB+UH5QfmB+YH5gfmB+YH5wfnB+cH6AfoB+gH6AfoB+gH6Ac=",
          "dtype": "i2"
         },
         "xaxis": "x4",
         "y": {
          "bdata": "AwMBAgEDAQEBBgEBBQEBAQEGAQEBBAEBAQIDAQIBAQQBAwMBAQEEAQECAgECAQUBAQIBAQIBAgIDAQQBBwIBAQMCAgIGAQIBBAEBAQICBAECAQEBAwIBAQEDAQECAQYBAQMBBQEBAQEBAQEGAQUBAQQDAQQCBQMBAgMBAwIBAgEFAQEBAQEBBgUBAQEBBAMBAQMBAQMGAQICBAEBAQQCAQMDAgEFAQMBAQICAwMCAgEBAgIBAQICAQECAQEDAQMEAQEBAQUCBwECAQIBBQICAQEFBAQCAgYDAwIBBwgBAgIBBAYBAQECBQYBBQIBBwIJAQEDAwcBBQEGAQgBAQIECQgBAwQBAgEBBQcBAQgGAgIBBQQCAQMECQICAQwEAQwBAgEBAgEIAgEBDQEHAQMHAQcBAQIHBAQDBgIFAQEGAgECBgIBBAIFAgMFBAEDAwsBAwMEAQEBBQICAQIBDQsDBQoGAwoBCQEDCQECBQsCAQIFBAsCAwECAQsBAgEIAQEBCgMCAQEPAgETAgMEAgICCQ==",
          "dtype": "i1"
         },
         "yaxis": "y4"
        },
        {
         "domain": {
          "x": [
           0,
           0.46
          ],
          "y": [
           0,
           0.25333333333333335
          ]
         },
         "labels": [
          "German",
          "Finnish",
          "Spanish",
          "British",
          "Dutch",
          "Mexican",
          "Monegasque"
         ],
         "name": "Nationalities",
         "type": "pie",
         "values": {
          "bdata": "EwTZApYBcAFHAR0BlQA=",
          "dtype": "i2"
         }
        },
        {
         "domain": {
          "x": [
           0.54,
           1
          ],
          "y": [
           0,
           0.25333333333333335
          ]
         },
         "labels": [
          "alfa",
          "alpine",
          "arrows",
          "aston_martin",
          "ats",
          "benetton",
          "bmw_sauber",
          "ferrari",
          "fittipaldi",
          "footwork",
          "force_india",
          "haas",
          "hwm",
          "jordan",
          "lago",
          "lotus_f1",
          "mclaren",
          "mercedes",
          "minardi",
          "racing_point",
          "red_bull",
          "renault",
          "sauber",
          "simtek",
          "stewart",
          "theodore",
          "toro_rosso",
          "toyota",
          "tyrrell",
          "williams",
          "wolf"
         ],
         "name": "Team Distribution",
         "type": "pie",
         "values": {
          "bdata": "ZgAsACEAWAAFAE0AAQCiAhwADgBkACwAAwAdAAIAJQBEAR0CIQAkAIUBagBjAAIACQAFACwANQAQAC0BDAA=",
          "dtype": "i2"
         }
        }
       ],
       "layout": {
        "annotations": [
         {
          "font": {
           "size": 16
          },
          "showarrow": false,
          "text": "Top 10 Drivers by Career Points",
          "x": 0.23,
          "xanchor": "center",
          "xref": "paper",
          "y": 1,
          "yanchor": "bottom",
          "yref": "paper"
         },
         {
          "font": {
           "size": 16
          },
          "showarrow": false,
          "text": "Season-wise Points (Top Drivers)",
          "x": 0.77,
          "xanchor": "center",
          "xref": "paper",
          "y": 1,
          "yanchor": "bottom",
          "yref": "paper"
         },
         {
          "font": {
           "size": 16
          },
          "showarrow": false,
          "text": "Top Constructors by Wins",
          "x": 0.23,
          "xanchor": "center",
          "xref": "paper",
          "y": 0.6266666666666667,
          "yanchor": "bottom",
          "yref": "paper"
         },
         {
          "font": {
           "size": 16
          },
          "showarrow": false,
          "text": "Wins Over Years (Top Drivers)",
          "x": 0.77,
          "xanchor": "center",
          "xref": "paper",
          "y": 0.6266666666666667,
          "yanchor": "bottom",
          "yref": "paper"
         },
         {
          "font": {
           "size": 16
          },
          "showarrow": false,
          "text": "Driver Nationalities (Top 10)",
          "x": 0.23,
          "xanchor": "center",
          "xref": "paper",
          "y": 0.25333333333333335,
          "yanchor": "bottom",
          "yref": "paper"
         },
         {
          "font": {
           "size": 16
          },
          "showarrow": false,
          "text": "Team Representation (Top 10 Drivers)",
          "x": 0.77,
          "xanchor": "center",
          "xref": "paper",
          "y": 0.25333333333333335,
          "yanchor": "bottom",
          "yref": "paper"
         }
        ],
        "height": 1000,
        "showlegend": false,
        "template": {
         "data": {
          "bar": [
           {
            "error_x": {
             "color": "#f2f5fa"
            },
            "error_y": {
             "color": "#f2f5fa"
            },
            "marker": {
             "line": {
              "color": "rgb(17,17,17)",
              "width": 0.5
             },
             "pattern": {
              "fillmode": "overlay",
              "size": 10,
              "solidity": 0.2
             }
            },
            "type": "bar"
           }
          ],
          "barpolar": [
           {
            "marker": {
             "line": {
              "color": "rgb(17,17,17)",
              "width": 0.5
             },
             "pattern": {
              "fillmode": "overlay",
              "size": 10,
              "solidity": 0.2
             }
            },
            "type": "barpolar"
           }
          ],
          "carpet": [
           {
            "aaxis": {
             "endlinecolor": "#A2B1C6",
             "gridcolor": "#506784",
             "linecolor": "#506784",
             "minorgridcolor": "#506784",
             "startlinecolor": "#A2B1C6"
            },
            "baxis": {
             "endlinecolor": "#A2B1C6",
             "gridcolor": "#506784",
             "linecolor": "#506784",
             "minorgridcolor": "#506784",
             "startlinecolor": "#A2B1C6"
            },
            "type": "carpet"
           }
          ],
          "choropleth": [
           {
            "colorbar": {
             "outlinewidth": 0,
             "ticks": ""
            },
            "type": "choropleth"
           }
          ],
          "contour": [
           {
            "colorbar": {
             "outlinewidth": 0,
             "ticks": ""
            },
            "colorscale": [
             [
              0,
              "#0d0887"
             ],
             [
              0.1111111111111111,
              "#46039f"
             ],
             [
              0.2222222222222222,
              "#7201a8"
             ],
             [
              0.3333333333333333,
              "#9c179e"
             ],
             [
              0.4444444444444444,
              "#bd3786"
             ],
             [
              0.5555555555555556,
              "#d8576b"
             ],
             [
              0.6666666666666666,
              "#ed7953"
             ],
             [
              0.7777777777777778,
              "#fb9f3a"
             ],
             [
              0.8888888888888888,
              "#fdca26"
             ],
             [
              1,
              "#f0f921"
             ]
            ],
            "type": "contour"
           }
          ],
          "contourcarpet": [
           {
            "colorbar": {
             "outlinewidth": 0,
             "ticks": ""
            },
            "type": "contourcarpet"
           }
          ],
          "heatmap": [
           {
            "colorbar": {
             "outlinewidth": 0,
             "ticks": ""
            },
            "colorscale": [
             [
              0,
              "#0d0887"
             ],
             [
              0.1111111111111111,
              "#46039f"
             ],
             [
              0.2222222222222222,
              "#7201a8"
             ],
             [
              0.3333333333333333,
              "#9c179e"
             ],
             [
              0.4444444444444444,
              "#bd3786"
             ],
             [
              0.5555555555555556,
              "#d8576b"
             ],
             [
              0.6666666666666666,
              "#ed7953"
             ],
             [
              0.7777777777777778,
              "#fb9f3a"
             ],
             [
              0.8888888888888888,
              "#fdca26"
             ],
             [
              1,
              "#f0f921"
             ]
            ],
            "type": "heatmap"
           }
          ],
          "histogram": [
           {
            "marker": {
             "pattern": {
              "fillmode": "overlay",
              "size": 10,
              "solidity": 0.2
             }
            },
            "type": "histogram"
           }
          ],
          "histogram2d": [
           {
            "colorbar": {
             "outlinewidth": 0,
             "ticks": ""
            },
            "colorscale": [
             [
              0,
              "#0d0887"
             ],
             [
              0.1111111111111111,
              "#46039f"
             ],
             [
              0.2222222222222222,
              "#7201a8"
             ],
             [
              0.3333333333333333,
              "#9c179e"
             ],
             [
              0.4444444444444444,
              "#bd3786"
             ],
             [
              0.5555555555555556,
              "#d8576b"
             ],
             [
              0.6666666666666666,
              "#ed7953"
             ],
             [
              0.7777777777777778,
              "#fb9f3a"
             ],
             [
              0.8888888888888888,
              "#fdca26"
             ],
             [
              1,
              "#f0f921"
             ]
            ],
            "type": "histogram2d"
           }
          ],
          "histogram2dcontour": [
           {
            "colorbar": {
             "outlinewidth": 0,
             "ticks": ""
            },
            "colorscale": [
             [
              0,
              "#0d0887"
             ],
             [
              0.1111111111111111,
              "#46039f"
             ],
             [
              0.2222222222222222,
              "#7201a8"
             ],
             [
              0.3333333333333333,
              "#9c179e"
             ],
             [
              0.4444444444444444,
              "#bd3786"
             ],
             [
              0.5555555555555556,
              "#d8576b"
             ],
             [
              0.6666666666666666,
              "#ed7953"
             ],
             [
              0.7777777777777778,
              "#fb9f3a"
             ],
             [
              0.8888888888888888,
              "#fdca26"
             ],
             [
              1,
              "#f0f921"
             ]
            ],
            "type": "histogram2dcontour"
           }
          ],
          "mesh3d": [
           {
            "colorbar": {
             "outlinewidth": 0,
             "ticks": ""
            },
            "type": "mesh3d"
           }
          ],
          "parcoords": [
           {
            "line": {
             "colorbar": {
              "outlinewidth": 0,
              "ticks": ""
             }
            },
            "type": "parcoords"
           }
          ],
          "pie": [
           {
            "automargin": true,
            "type": "pie"
           }
          ],
          "scatter": [
           {
            "marker": {
             "line": {
              "color": "#283442"
             }
            },
            "type": "scatter"
           }
          ],
          "scatter3d": [
           {
            "line": {
             "colorbar": {
              "outlinewidth": 0,
              "ticks": ""
             }
            },
            "marker": {
             "colorbar": {
              "outlinewidth": 0,
              "ticks": ""
             }
            },
            "type": "scatter3d"
           }
          ],
          "scattercarpet": [
           {
            "marker": {
             "colorbar": {
              "outlinewidth": 0,
              "ticks": ""
             }
            },
            "type": "scattercarpet"
           }
          ],
          "scattergeo": [
           {
            "marker": {
             "colorbar": {
              "outlinewidth": 0,
              "ticks": ""
             }
            },
            "type": "scattergeo"
           }
          ],
          "scattergl": [
           {
            "marker": {
             "line": {
              "color": "#283442"
             }
            },
            "type": "scattergl"
           }
          ],
          "scattermap": [
           {
            "marker": {
             "colorbar": {
              "outlinewidth": 0,
              "ticks": ""
             }
            },
            "type": "scattermap"
           }
          ],
          "scattermapbox": [
           {
            "marker": {
             "colorbar": {
              "outlinewidth": 0,
              "ticks": ""
             }
            },
            "type": "scattermapbox"
           }
          ],
          "scatterpolar": [
           {
            "marker": {
             "colorbar": {
              "outlinewidth": 0,
              "ticks": ""
             }
            },
            "type": "scatterpolar"
           }
          ],
          "scatterpolargl": [
           {
            "marker": {
             "colorbar": {
              "outlinewidth": 0,
              "ticks": ""
             }
            },
            "type": "scatterpolargl"
           }
          ],
          "scatterternary": [
           {
            "marker": {
             "colorbar": {
              "outlinewidth": 0,
              "ticks": ""
             }
            },
            "type": "scatterternary"
           }
          ],
          "surface": [
           {
            "colorbar": {
             "outlinewidth": 0,
             "ticks": ""
            },
            "colorscale": [
             [
              0,
              "#0d0887"
             ],
             [
              0.1111111111111111,
              "#46039f"
             ],
             [
              0.2222222222222222,
              "#7201a8"
             ],
             [
              0.3333333333333333,
              "#9c179e"
             ],
             [
              0.4444444444444444,
              "#bd3786"
             ],
             [
              0.5555555555555556,
              "#d8576b"
             ],
             [
              0.6666666666666666,
              "#ed7953"
             ],
             [
              0.7777777777777778,
              "#fb9f3a"
             ],
             [
              0.8888888888888888,
              "#fdca26"
             ],
             [
              1,
              "#f0f921"
             ]
            ],
            "type": "surface"
           }
          ],
          "table": [
           {
            "cells": {
             "fill": {
              "color": "#506784"
             },
             "line": {
              "color": "rgb(17,17,17)"
             }
            },
            "header": {
             "fill": {
              "color": "#2a3f5f"
             },
             "line": {
              "color": "rgb(17,17,17)"
             }
            },
            "type": "table"
           }
          ]
         },
         "layout": {
          "annotationdefaults": {
           "arrowcolor": "#f2f5fa",
           "arrowhead": 0,
           "arrowwidth": 1
          },
          "autotypenumbers": "strict",
          "coloraxis": {
           "colorbar": {
            "outlinewidth": 0,
            "ticks": ""
           }
          },
          "colorscale": {
           "diverging": [
            [
             0,
             "#8e0152"
            ],
            [
             0.1,
             "#c51b7d"
            ],
            [
             0.2,
             "#de77ae"
            ],
            [
             0.3,
             "#f1b6da"
            ],
            [
             0.4,
             "#fde0ef"
            ],
            [
             0.5,
             "#f7f7f7"
            ],
            [
             0.6,
             "#e6f5d0"
            ],
            [
             0.7,
             "#b8e186"
            ],
            [
             0.8,
             "#7fbc41"
            ],
            [
             0.9,
             "#4d9221"
            ],
            [
             1,
             "#276419"
            ]
           ],
           "sequential": [
            [
             0,
             "#0d0887"
            ],
            [
             0.1111111111111111,
             "#46039f"
            ],
            [
             0.2222222222222222,
             "#7201a8"
            ],
            [
             0.3333333333333333,
             "#9c179e"
            ],
            [
             0.4444444444444444,
             "#bd3786"
            ],
            [
             0.5555555555555556,
             "#d8576b"
            ],
            [
             0.6666666666666666,
             "#ed7953"
            ],
            [
             0.7777777777777778,
             "#fb9f3a"
            ],
            [
             0.8888888888888888,
             "#fdca26"
            ],
            [
             1,
             "#f0f921"
            ]
           ],
           "sequentialminus": [
            [
             0,
             "#0d0887"
            ],
            [
             0.1111111111111111,
             "#46039f"
            ],
            [
             0.2222222222222222,
             "#7201a8"
            ],
            [
             0.3333333333333333,
             "#9c179e"
            ],
            [
             0.4444444444444444,
             "#bd3786"
            ],
            [
             0.5555555555555556,
             "#d8576b"
            ],
            [
             0.6666666666666666,
             "#ed7953"
            ],
            [
             0.7777777777777778,
             "#fb9f3a"
            ],
            [
             0.8888888888888888,
             "#fdca26"
            ],
            [
             1,
             "#f0f921"
            ]
           ]
          },
          "colorway": [
           "#636efa",
           "#EF553B",
           "#00cc96",
           "#ab63fa",
           "#FFA15A",
           "#19d3f3",
           "#FF6692",
           "#B6E880",
           "#FF97FF",
           "#FECB52"
          ],
          "font": {
           "color": "#f2f5fa"
          },
          "geo": {
           "bgcolor": "rgb(17,17,17)",
           "lakecolor": "rgb(17,17,17)",
           "landcolor": "rgb(17,17,17)",
           "showlakes": true,
           "showland": true,
           "subunitcolor": "#506784"
          },
          "hoverlabel": {
           "align": "left"
          },
          "hovermode": "closest",
          "mapbox": {
           "style": "dark"
          },
          "paper_bgcolor": "rgb(17,17,17)",
          "plot_bgcolor": "rgb(17,17,17)",
          "polar": {
           "angularaxis": {
            "gridcolor": "#506784",
            "linecolor": "#506784",
            "ticks": ""
           },
           "bgcolor": "rgb(17,17,17)",
           "radialaxis": {
            "gridcolor": "#506784",
            "linecolor": "#506784",
            "ticks": ""
           }
          },
          "scene": {
           "xaxis": {
            "backgroundcolor": "rgb(17,17,17)",
            "gridcolor": "#506784",
            "gridwidth": 2,
            "linecolor": "#506784",
            "showbackground": true,
            "ticks": "",
            "zerolinecolor": "#C8D4E3"
           },
           "yaxis": {
            "backgroundcolor": "rgb(17,17,17)",
            "gridcolor": "#506784",
            "gridwidth": 2,
            "linecolor": "#506784",
            "showbackground": true,
            "ticks": "",
            "zerolinecolor": "#C8D4E3"
           },
           "zaxis": {
            "backgroundcolor": "rgb(17,17,17)",
            "gridcolor": "#506784",
            "gridwidth": 2,
            "linecolor": "#506784",
            "showbackground": true,
            "ticks": "",
            "zerolinecolor": "#C8D4E3"
           }
          },
          "shapedefaults": {
           "line": {
            "color": "#f2f5fa"
           }
          },
          "sliderdefaults": {
           "bgcolor": "#C8D4E3",
           "bordercolor": "rgb(17,17,17)",
           "borderwidth": 1,
           "tickwidth": 0
          },
          "ternary": {
           "aaxis": {
            "gridcolor": "#506784",
            "linecolor": "#506784",
            "ticks": ""
           },
           "baxis": {
            "gridcolor": "#506784",
            "linecolor": "#506784",
            "ticks": ""
           },
           "bgcolor": "rgb(17,17,17)",
           "caxis": {
            "gridcolor": "#506784",
            "linecolor": "#506784",
            "ticks": ""
           }
          },
          "title": {
           "x": 0.05
          },
          "updatemenudefaults": {
           "bgcolor": "#506784",
           "borderwidth": 0
          },
          "xaxis": {
           "automargin": true,
           "gridcolor": "#283442",
           "linecolor": "#506784",
           "ticks": "",
           "title": {
            "standoff": 15
           },
           "zerolinecolor": "#283442",
           "zerolinewidth": 2
          },
          "yaxis": {
           "automargin": true,
           "gridcolor": "#283442",
           "linecolor": "#506784",
           "ticks": "",
           "title": {
            "standoff": 15
           },
           "zerolinecolor": "#283442",
           "zerolinewidth": 2
          }
         }
        },
        "title": {
         "text": "🏎️ Formula 1 Insights Dashboard"
        },
        "xaxis": {
         "anchor": "y",
         "domain": [
          0,
          0.46
         ]
        },
        "xaxis2": {
         "anchor": "y2",
         "domain": [
          0.54,
          1
         ]
        },
        "xaxis3": {
         "anchor": "y3",
         "domain": [
          0,
          0.46
         ]
        },
        "xaxis4": {
         "anchor": "y4",
         "domain": [
          0.54,
          1
         ]
        },
        "yaxis": {
         "anchor": "x",
         "domain": [
          0.7466666666666667,
          1
         ]
        },
        "yaxis2": {
         "anchor": "x2",
         "domain": [
          0.7466666666666667,
          1
         ]
        },
        "yaxis3": {
         "anchor": "x3",
         "domain": [
          0.37333333333333335,
          0.6266666666666667
         ]
        },
        "yaxis4": {
         "anchor": "x4",
         "domain": [
          0.37333333333333335,
          0.6266666666666667
         ]
        }
       }
      }
     },
     "metadata": {},
     "output_type": "display_data"
    }
   ],
   "source": [
    "from plotly.subplots import make_subplots\n",
    "import plotly.graph_objects as go\n",
    "\n",
    "# Step 1: Create subplot layout\n",
    "from plotly.subplots import make_subplots\n",
    "\n",
    "fig = make_subplots(\n",
    "    rows=3, cols=2,\n",
    "    subplot_titles=(\n",
    "        \"Top 10 Drivers by Career Points\",\n",
    "        \"Season-wise Points (Top Drivers)\",\n",
    "        \"Top Constructors by Wins\",\n",
    "        \"Wins Over Years (Top Drivers)\",\n",
    "        \"Driver Nationalities (Top 10)\",\n",
    "        \"Team Representation (Top 10 Drivers)\"\n",
    "    ),\n",
    "    vertical_spacing=0.12,\n",
    "    horizontal_spacing=0.08,\n",
    "    specs=[\n",
    "        [{\"type\": \"xy\"}, {\"type\": \"xy\"}],\n",
    "        [{\"type\": \"xy\"}, {\"type\": \"xy\"}],\n",
    "        [{\"type\": \"domain\"}, {\"type\": \"domain\"}]  # Pie charts go here\n",
    "    ]\n",
    ")\n",
    "\n",
    "\n",
    "# 1. Career Points - Top 10 Drivers\n",
    "fig.add_trace(\n",
    "    go.Bar(x=career_points['driver'], y=career_points['points'], name=\"Career Points\"),\n",
    "    row=1, col=1\n",
    ")\n",
    "\n",
    "# 2. Driver Season-wise Points Line Plot\n",
    "fig.add_trace(\n",
    "    go.Scatter(x=driver_seasonal['year'], y=driver_seasonal['points'], mode='lines+markers', name=\"Seasonal Points\", line=dict(color='royalblue')),\n",
    "    row=1, col=2\n",
    ")\n",
    "\n",
    "# 3. Constructor Wins\n",
    "fig.add_trace(\n",
    "    go.Bar(x=constructor_wins['team'], y=constructor_wins['wins'], name=\"Constructor Wins\", marker_color='darkorange'),\n",
    "    row=2, col=1\n",
    ")\n",
    "\n",
    "# 4. Driver Wins Over Years\n",
    "fig.add_trace(\n",
    "    go.Scatter(x=driver_wins['year'], y=driver_wins['wins'], mode='lines+markers', name=\"Wins Over Years\", line=dict(color='seagreen')),\n",
    "    row=2, col=2\n",
    ")\n",
    "\n",
    "# 5. Driver Nationalities Pie Chart\n",
    "fig.add_trace(\n",
    "    go.Pie(labels=nationality_share['nationality'], values=nationality_share['count'], name=\"Nationalities\"),\n",
    "    row=3, col=1\n",
    ")\n",
    "\n",
    "# 6. Team Distribution Pie Chart\n",
    "fig.add_trace(\n",
    "    go.Pie(labels=team_distribution['team'], values=team_distribution['count'], name=\"Team Distribution\"),\n",
    "    row=3, col=2\n",
    ")\n",
    "\n",
    "# Final Layout\n",
    "fig.update_layout(\n",
    "    height=1000,\n",
    "    title_text=\"🏎️ Formula 1 Insights Dashboard\",\n",
    "    showlegend=False,\n",
    "    template='plotly_dark'\n",
    ")\n",
    "\n",
    "fig.show()"
   ]
  },
  {
   "cell_type": "markdown",
   "id": "0e8d8770",
   "metadata": {},
   "source": [
    "## ✅ Summary & Next Steps\n",
    "\n",
    "This notebook explored key dynamics in Formula 1 racing using historical datasets:\n",
    "\n",
    "- Merged and cleaned race, driver, constructor, and result data\n",
    "- Analyzed top-performing drivers and teams\n",
    "- Visualized patterns over time and across nationalities\n",
    "- Built an interactive multi-panel dashboard for streamlined storytelling\n",
    "\n",
    "---\n",
    "\n",
    "### 📍 Next Steps:\n",
    "- Build a Streamlit dashboard for interactive public sharing\n",
    "- Add functionality to compare drivers head-to-head\n",
    "- Explore circuit-level race performance using maps\n",
    "- (Optional) Implement an ML-based podium prediction model\n",
    "\n",
    "Stay tuned as we shift gears into building the **F1 Insights Dashboard App** 🚀"
   ]
  }
 ],
 "metadata": {
  "kernelspec": {
   "display_name": "Python (F1 Project)",
   "language": "python",
   "name": "f1-venv"
  },
  "language_info": {
   "codemirror_mode": {
    "name": "ipython",
    "version": 3
   },
   "file_extension": ".py",
   "mimetype": "text/x-python",
   "name": "python",
   "nbconvert_exporter": "python",
   "pygments_lexer": "ipython3",
   "version": "3.13.1"
  }
 },
 "nbformat": 4,
 "nbformat_minor": 5
}
